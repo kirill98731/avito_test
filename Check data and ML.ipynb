{
 "cells": [
  {
   "cell_type": "code",
   "execution_count": 1,
   "metadata": {},
   "outputs": [],
   "source": [
    "import pandas as pd\n",
    "import numpy as np\n",
    "import scipy\n",
    "import matplotlib.pyplot as plt\n",
    "import seaborn as sns\n",
    "import datetime\n",
    "import re\n",
    "from tqdm import tqdm\n",
    "%matplotlib inline\n",
    "plt.rcParams['figure.figsize'] = (15, 8)"
   ]
  },
  {
   "cell_type": "code",
   "execution_count": 2,
   "metadata": {},
   "outputs": [],
   "source": [
    "def plot_bar(data, freq, col):\n",
    "    data = data[col].value_counts()\n",
    "    df_time = pd.DataFrame(data=data.values,index=data.index, columns=['freq'])\n",
    "    agg_df_time = df_time.resample(freq).sum()\n",
    "    g = sns.barplot(x=agg_df_time.index, y=agg_df_time['freq'])\n",
    "    g.set_xticklabels(rotation=-75, labels = agg_df_time.index)\n",
    "    g.set_title(col)\n",
    "    plt.show()"
   ]
  },
  {
   "cell_type": "code",
   "execution_count": 3,
   "metadata": {},
   "outputs": [],
   "source": [
    "def plot_gr(data, freq, col):\n",
    "    data = data[col].value_counts()\n",
    "    df_time = pd.DataFrame(data=data.values,index=data.index, columns=['freq'])\n",
    "    agg_df_time = df_time.resample(freq).sum()\n",
    "    plt.plot(agg_df_time.index, agg_df_time.values)"
   ]
  },
  {
   "cell_type": "code",
   "execution_count": 4,
   "metadata": {},
   "outputs": [],
   "source": [
    "def plot_bar_2(data, col):\n",
    "    data = data[col].value_counts()\n",
    "    axis_x = [x.days for x in data.sort_index().index]\n",
    "    axis_y = data.sort_index().values\n",
    "    g = sns.barplot(x=axis_x, y=axis_y)\n",
    "    g.set_xticklabels(rotation=-75, labels = axis_x)\n",
    "    g.set_title(col)\n",
    "    plt.show()"
   ]
  },
  {
   "cell_type": "markdown",
   "metadata": {},
   "source": [
    "# Импорт данных"
   ]
  },
  {
   "cell_type": "code",
   "execution_count": 5,
   "metadata": {},
   "outputs": [
    {
     "data": {
      "text/plain": [
       "(397530, 7)"
      ]
     },
     "execution_count": 5,
     "metadata": {},
     "output_type": "execute_result"
    }
   ],
   "source": [
    "support_tickets = pd.read_csv('support_tickets.csv')\n",
    "support_tickets.shape"
   ]
  },
  {
   "cell_type": "code",
   "execution_count": 6,
   "metadata": {},
   "outputs": [
    {
     "data": {
      "text/html": [
       "<div>\n",
       "<style scoped>\n",
       "    .dataframe tbody tr th:only-of-type {\n",
       "        vertical-align: middle;\n",
       "    }\n",
       "\n",
       "    .dataframe tbody tr th {\n",
       "        vertical-align: top;\n",
       "    }\n",
       "\n",
       "    .dataframe thead th {\n",
       "        text-align: right;\n",
       "    }\n",
       "</style>\n",
       "<table border=\"1\" class=\"dataframe\">\n",
       "  <thead>\n",
       "    <tr style=\"text-align: right;\">\n",
       "      <th></th>\n",
       "      <th>user_id</th>\n",
       "      <th>ticket_category</th>\n",
       "      <th>ticket_subcategory</th>\n",
       "      <th>current_state</th>\n",
       "      <th>request_id</th>\n",
       "      <th>activity_start_dt</th>\n",
       "      <th>fact_reaction_dt</th>\n",
       "    </tr>\n",
       "  </thead>\n",
       "  <tbody>\n",
       "    <tr>\n",
       "      <th>0</th>\n",
       "      <td>370 518 212</td>\n",
       "      <td>Технические вопросы</td>\n",
       "      <td>Доступ к сайту</td>\n",
       "      <td>Решено</td>\n",
       "      <td>045be6ac-d532-4c20-b1c9-fb82c1737464</td>\n",
       "      <td>2015-11-26 22:56:00</td>\n",
       "      <td>2015-12-03 12:11:00</td>\n",
       "    </tr>\n",
       "    <tr>\n",
       "      <th>1</th>\n",
       "      <td>2 138 799</td>\n",
       "      <td>Технические вопросы</td>\n",
       "      <td>Доступ к сайту</td>\n",
       "      <td>Решено</td>\n",
       "      <td>8ebbb8c6-7abb-4fad-a83b-35a71a83a186</td>\n",
       "      <td>2015-12-18 08:52:00</td>\n",
       "      <td>2015-12-23 06:40:00</td>\n",
       "    </tr>\n",
       "    <tr>\n",
       "      <th>2</th>\n",
       "      <td>2 033 101</td>\n",
       "      <td>Технические вопросы</td>\n",
       "      <td>Доступ к сайту</td>\n",
       "      <td>Решено</td>\n",
       "      <td>ee303751-4a21-4544-a4c3-56924c088028</td>\n",
       "      <td>2015-12-16 19:06:00</td>\n",
       "      <td>2015-12-26 07:46:00</td>\n",
       "    </tr>\n",
       "    <tr>\n",
       "      <th>3</th>\n",
       "      <td>177 122 000 003</td>\n",
       "      <td>Мобильный Avito</td>\n",
       "      <td>Android приложение</td>\n",
       "      <td>Решено</td>\n",
       "      <td>bb989fcb-277a-41bd-aaa2-f131333b629e</td>\n",
       "      <td>2015-12-01 17:08:00</td>\n",
       "      <td>2015-12-09 11:19:00</td>\n",
       "    </tr>\n",
       "    <tr>\n",
       "      <th>4</th>\n",
       "      <td>37 340 500 064</td>\n",
       "      <td>Технические вопросы</td>\n",
       "      <td>Доступ к сайту</td>\n",
       "      <td>Решено</td>\n",
       "      <td>e742d172-0ef1-47d8-b862-25be082d8bc0</td>\n",
       "      <td>2015-12-14 10:08:00</td>\n",
       "      <td>2015-12-15 16:14:00</td>\n",
       "    </tr>\n",
       "  </tbody>\n",
       "</table>\n",
       "</div>"
      ],
      "text/plain": [
       "           user_id      ticket_category  ticket_subcategory current_state  \\\n",
       "0      370 518 212  Технические вопросы      Доступ к сайту        Решено   \n",
       "1        2 138 799  Технические вопросы      Доступ к сайту        Решено   \n",
       "2        2 033 101  Технические вопросы      Доступ к сайту        Решено   \n",
       "3  177 122 000 003      Мобильный Avito  Android приложение        Решено   \n",
       "4   37 340 500 064  Технические вопросы      Доступ к сайту        Решено   \n",
       "\n",
       "                             request_id    activity_start_dt  \\\n",
       "0  045be6ac-d532-4c20-b1c9-fb82c1737464  2015-11-26 22:56:00   \n",
       "1  8ebbb8c6-7abb-4fad-a83b-35a71a83a186  2015-12-18 08:52:00   \n",
       "2  ee303751-4a21-4544-a4c3-56924c088028  2015-12-16 19:06:00   \n",
       "3  bb989fcb-277a-41bd-aaa2-f131333b629e  2015-12-01 17:08:00   \n",
       "4  e742d172-0ef1-47d8-b862-25be082d8bc0  2015-12-14 10:08:00   \n",
       "\n",
       "      fact_reaction_dt  \n",
       "0  2015-12-03 12:11:00  \n",
       "1  2015-12-23 06:40:00  \n",
       "2  2015-12-26 07:46:00  \n",
       "3  2015-12-09 11:19:00  \n",
       "4  2015-12-15 16:14:00  "
      ]
     },
     "execution_count": 6,
     "metadata": {},
     "output_type": "execute_result"
    }
   ],
   "source": [
    "support_tickets.head()"
   ]
  },
  {
   "cell_type": "code",
   "execution_count": 7,
   "metadata": {},
   "outputs": [
    {
     "data": {
      "text/plain": [
       "(18559923, 7)"
      ]
     },
     "execution_count": 7,
     "metadata": {},
     "output_type": "execute_result"
    }
   ],
   "source": [
    "new_items_by_support_users = pd.read_csv('new_items_by_support_users.csv')\n",
    "new_items_by_support_users.shape"
   ]
  },
  {
   "cell_type": "code",
   "execution_count": 8,
   "metadata": {},
   "outputs": [
    {
     "data": {
      "text/html": [
       "<div>\n",
       "<style scoped>\n",
       "    .dataframe tbody tr th:only-of-type {\n",
       "        vertical-align: middle;\n",
       "    }\n",
       "\n",
       "    .dataframe tbody tr th {\n",
       "        vertical-align: top;\n",
       "    }\n",
       "\n",
       "    .dataframe thead th {\n",
       "        text-align: right;\n",
       "    }\n",
       "</style>\n",
       "<table border=\"1\" class=\"dataframe\">\n",
       "  <thead>\n",
       "    <tr style=\"text-align: right;\">\n",
       "      <th></th>\n",
       "      <th>user_id</th>\n",
       "      <th>user_registration_time</th>\n",
       "      <th>user_first_listing_date</th>\n",
       "      <th>item_id</th>\n",
       "      <th>item_starttime</th>\n",
       "      <th>item_category</th>\n",
       "      <th>item_subcategory</th>\n",
       "    </tr>\n",
       "  </thead>\n",
       "  <tbody>\n",
       "    <tr>\n",
       "      <th>0</th>\n",
       "      <td>386 341 477</td>\n",
       "      <td>2013-05-27 14:40:09</td>\n",
       "      <td>2013-05-27 14:40:09</td>\n",
       "      <td>8 523 500 011</td>\n",
       "      <td>2014-01-01 02:22:54</td>\n",
       "      <td>Транспорт</td>\n",
       "      <td>Автомобили</td>\n",
       "    </tr>\n",
       "    <tr>\n",
       "      <th>1</th>\n",
       "      <td>6 790 750 024</td>\n",
       "      <td>2013-12-14 23:05:15</td>\n",
       "      <td>2013-12-14 23:27:04</td>\n",
       "      <td>8 525 000 013</td>\n",
       "      <td>2014-01-01 02:45:56</td>\n",
       "      <td>Транспорт</td>\n",
       "      <td>Запчасти и аксессуары</td>\n",
       "    </tr>\n",
       "    <tr>\n",
       "      <th>2</th>\n",
       "      <td>2 755 740</td>\n",
       "      <td>2011-04-14 17:54:40</td>\n",
       "      <td>2011-04-14 18:05:27</td>\n",
       "      <td>8 527 000 043</td>\n",
       "      <td>2014-01-01 03:29:44</td>\n",
       "      <td>Транспорт</td>\n",
       "      <td>Автомобили</td>\n",
       "    </tr>\n",
       "    <tr>\n",
       "      <th>3</th>\n",
       "      <td>506 779</td>\n",
       "      <td>2011-08-14 06:19:11</td>\n",
       "      <td>2011-08-14 06:50:04</td>\n",
       "      <td>8 530 000 039</td>\n",
       "      <td>2014-01-01 04:34:51</td>\n",
       "      <td>Личные вещи</td>\n",
       "      <td>Красота и здоровье</td>\n",
       "    </tr>\n",
       "    <tr>\n",
       "      <th>4</th>\n",
       "      <td>766 896</td>\n",
       "      <td>2013-05-17 11:32:13</td>\n",
       "      <td>2013-06-05 06:05:09</td>\n",
       "      <td>8 534 500 187</td>\n",
       "      <td>2014-01-01 06:07:58</td>\n",
       "      <td>Недвижимость</td>\n",
       "      <td>Дома, дачи, коттеджи</td>\n",
       "    </tr>\n",
       "  </tbody>\n",
       "</table>\n",
       "</div>"
      ],
      "text/plain": [
       "         user_id user_registration_time user_first_listing_date  \\\n",
       "0    386 341 477    2013-05-27 14:40:09     2013-05-27 14:40:09   \n",
       "1  6 790 750 024    2013-12-14 23:05:15     2013-12-14 23:27:04   \n",
       "2      2 755 740    2011-04-14 17:54:40     2011-04-14 18:05:27   \n",
       "3        506 779    2011-08-14 06:19:11     2011-08-14 06:50:04   \n",
       "4        766 896    2013-05-17 11:32:13     2013-06-05 06:05:09   \n",
       "\n",
       "         item_id       item_starttime item_category       item_subcategory  \n",
       "0  8 523 500 011  2014-01-01 02:22:54     Транспорт             Автомобили  \n",
       "1  8 525 000 013  2014-01-01 02:45:56     Транспорт  Запчасти и аксессуары  \n",
       "2  8 527 000 043  2014-01-01 03:29:44     Транспорт             Автомобили  \n",
       "3  8 530 000 039  2014-01-01 04:34:51   Личные вещи     Красота и здоровье  \n",
       "4  8 534 500 187  2014-01-01 06:07:58  Недвижимость   Дома, дачи, коттеджи  "
      ]
     },
     "execution_count": 8,
     "metadata": {},
     "output_type": "execute_result"
    }
   ],
   "source": [
    "new_items_by_support_users.head()"
   ]
  },
  {
   "cell_type": "code",
   "execution_count": 22,
   "metadata": {},
   "outputs": [
    {
     "data": {
      "text/plain": [
       "(217533, 2)"
      ]
     },
     "execution_count": 22,
     "metadata": {},
     "output_type": "execute_result"
    }
   ],
   "source": [
    "users_evaluation_of_satisfaction = pd.read_csv('users_evaluation_of_satisfaction.csv')\n",
    "users_evaluation_of_satisfaction.shape"
   ]
  },
  {
   "cell_type": "code",
   "execution_count": 23,
   "metadata": {},
   "outputs": [
    {
     "data": {
      "text/html": [
       "<div>\n",
       "<style scoped>\n",
       "    .dataframe tbody tr th:only-of-type {\n",
       "        vertical-align: middle;\n",
       "    }\n",
       "\n",
       "    .dataframe tbody tr th {\n",
       "        vertical-align: top;\n",
       "    }\n",
       "\n",
       "    .dataframe thead th {\n",
       "        text-align: right;\n",
       "    }\n",
       "</style>\n",
       "<table border=\"1\" class=\"dataframe\">\n",
       "  <thead>\n",
       "    <tr style=\"text-align: right;\">\n",
       "      <th></th>\n",
       "      <th>request_id</th>\n",
       "      <th>result_mentioned_by_user</th>\n",
       "    </tr>\n",
       "  </thead>\n",
       "  <tbody>\n",
       "    <tr>\n",
       "      <th>0</th>\n",
       "      <td>09e34912-b4df-4e91-b3e0-35b40fe6b9b8</td>\n",
       "      <td>Не удовлетворительно</td>\n",
       "    </tr>\n",
       "    <tr>\n",
       "      <th>1</th>\n",
       "      <td>76099bef-7ab3-4a01-96c3-4c06f4032a7e</td>\n",
       "      <td>Не удовлетворительно</td>\n",
       "    </tr>\n",
       "    <tr>\n",
       "      <th>2</th>\n",
       "      <td>70acfed6-8897-4e38-a407-65150e7a4395</td>\n",
       "      <td>Удовлетворительно</td>\n",
       "    </tr>\n",
       "    <tr>\n",
       "      <th>3</th>\n",
       "      <td>64c7a6c8-8bfe-4f35-b662-9091b3472e6f</td>\n",
       "      <td>Не удовлетворительно</td>\n",
       "    </tr>\n",
       "    <tr>\n",
       "      <th>4</th>\n",
       "      <td>b08d9414-7167-4f7f-9837-fe6e535f4fb6</td>\n",
       "      <td>Не удовлетворительно</td>\n",
       "    </tr>\n",
       "  </tbody>\n",
       "</table>\n",
       "</div>"
      ],
      "text/plain": [
       "                             request_id result_mentioned_by_user\n",
       "0  09e34912-b4df-4e91-b3e0-35b40fe6b9b8     Не удовлетворительно\n",
       "1  76099bef-7ab3-4a01-96c3-4c06f4032a7e     Не удовлетворительно\n",
       "2  70acfed6-8897-4e38-a407-65150e7a4395        Удовлетворительно\n",
       "3  64c7a6c8-8bfe-4f35-b662-9091b3472e6f     Не удовлетворительно\n",
       "4  b08d9414-7167-4f7f-9837-fe6e535f4fb6     Не удовлетворительно"
      ]
     },
     "execution_count": 23,
     "metadata": {},
     "output_type": "execute_result"
    }
   ],
   "source": [
    "users_evaluation_of_satisfaction.head()"
   ]
  },
  {
   "cell_type": "markdown",
   "metadata": {},
   "source": [
    "# Оценки"
   ]
  },
  {
   "cell_type": "code",
   "execution_count": 24,
   "metadata": {},
   "outputs": [
    {
     "name": "stdout",
     "output_type": "stream",
     "text": [
      "<class 'pandas.core.frame.DataFrame'>\n",
      "RangeIndex: 217533 entries, 0 to 217532\n",
      "Data columns (total 2 columns):\n",
      " #   Column                    Non-Null Count   Dtype \n",
      "---  ------                    --------------   ----- \n",
      " 0   request_id                217414 non-null  object\n",
      " 1   result_mentioned_by_user  217533 non-null  object\n",
      "dtypes: object(2)\n",
      "memory usage: 3.3+ MB\n"
     ]
    }
   ],
   "source": [
    "users_evaluation_of_satisfaction.info()"
   ]
  },
  {
   "cell_type": "code",
   "execution_count": 25,
   "metadata": {},
   "outputs": [
    {
     "data": {
      "text/html": [
       "<div>\n",
       "<style scoped>\n",
       "    .dataframe tbody tr th:only-of-type {\n",
       "        vertical-align: middle;\n",
       "    }\n",
       "\n",
       "    .dataframe tbody tr th {\n",
       "        vertical-align: top;\n",
       "    }\n",
       "\n",
       "    .dataframe thead th {\n",
       "        text-align: right;\n",
       "    }\n",
       "</style>\n",
       "<table border=\"1\" class=\"dataframe\">\n",
       "  <thead>\n",
       "    <tr style=\"text-align: right;\">\n",
       "      <th></th>\n",
       "      <th>request_id</th>\n",
       "      <th>result_mentioned_by_user</th>\n",
       "    </tr>\n",
       "  </thead>\n",
       "  <tbody>\n",
       "    <tr>\n",
       "      <th>1093</th>\n",
       "      <td>NaN</td>\n",
       "      <td>Удовлетворительно</td>\n",
       "    </tr>\n",
       "    <tr>\n",
       "      <th>2820</th>\n",
       "      <td>NaN</td>\n",
       "      <td>Не удовлетворительно</td>\n",
       "    </tr>\n",
       "    <tr>\n",
       "      <th>3474</th>\n",
       "      <td>NaN</td>\n",
       "      <td>Отлично</td>\n",
       "    </tr>\n",
       "    <tr>\n",
       "      <th>5149</th>\n",
       "      <td>NaN</td>\n",
       "      <td>Отлично</td>\n",
       "    </tr>\n",
       "    <tr>\n",
       "      <th>5491</th>\n",
       "      <td>NaN</td>\n",
       "      <td>Отлично</td>\n",
       "    </tr>\n",
       "    <tr>\n",
       "      <th>...</th>\n",
       "      <td>...</td>\n",
       "      <td>...</td>\n",
       "    </tr>\n",
       "    <tr>\n",
       "      <th>183299</th>\n",
       "      <td>NaN</td>\n",
       "      <td>Не удовлетворительно</td>\n",
       "    </tr>\n",
       "    <tr>\n",
       "      <th>186904</th>\n",
       "      <td>NaN</td>\n",
       "      <td>Удовлетворительно</td>\n",
       "    </tr>\n",
       "    <tr>\n",
       "      <th>191818</th>\n",
       "      <td>NaN</td>\n",
       "      <td>Не удовлетворительно</td>\n",
       "    </tr>\n",
       "    <tr>\n",
       "      <th>206639</th>\n",
       "      <td>NaN</td>\n",
       "      <td>Не удовлетворительно</td>\n",
       "    </tr>\n",
       "    <tr>\n",
       "      <th>209763</th>\n",
       "      <td>NaN</td>\n",
       "      <td>Отлично</td>\n",
       "    </tr>\n",
       "  </tbody>\n",
       "</table>\n",
       "<p>119 rows × 2 columns</p>\n",
       "</div>"
      ],
      "text/plain": [
       "       request_id result_mentioned_by_user\n",
       "1093          NaN        Удовлетворительно\n",
       "2820          NaN     Не удовлетворительно\n",
       "3474          NaN                  Отлично\n",
       "5149          NaN                  Отлично\n",
       "5491          NaN                  Отлично\n",
       "...           ...                      ...\n",
       "183299        NaN     Не удовлетворительно\n",
       "186904        NaN        Удовлетворительно\n",
       "191818        NaN     Не удовлетворительно\n",
       "206639        NaN     Не удовлетворительно\n",
       "209763        NaN                  Отлично\n",
       "\n",
       "[119 rows x 2 columns]"
      ]
     },
     "execution_count": 25,
     "metadata": {},
     "output_type": "execute_result"
    }
   ],
   "source": [
    "users_evaluation_of_satisfaction[users_evaluation_of_satisfaction['request_id'].isna()]"
   ]
  },
  {
   "cell_type": "code",
   "execution_count": 26,
   "metadata": {},
   "outputs": [],
   "source": [
    "users_evaluation_of_satisfaction.dropna(inplace=True)"
   ]
  },
  {
   "cell_type": "code",
   "execution_count": 27,
   "metadata": {},
   "outputs": [
    {
     "name": "stdout",
     "output_type": "stream",
     "text": [
      "<class 'pandas.core.frame.DataFrame'>\n",
      "Int64Index: 217414 entries, 0 to 217532\n",
      "Data columns (total 2 columns):\n",
      " #   Column                    Non-Null Count   Dtype \n",
      "---  ------                    --------------   ----- \n",
      " 0   request_id                217414 non-null  object\n",
      " 1   result_mentioned_by_user  217414 non-null  object\n",
      "dtypes: object(2)\n",
      "memory usage: 5.0+ MB\n"
     ]
    }
   ],
   "source": [
    "users_evaluation_of_satisfaction.info()"
   ]
  },
  {
   "cell_type": "code",
   "execution_count": 28,
   "metadata": {},
   "outputs": [
    {
     "data": {
      "text/plain": [
       "(217414, 2)"
      ]
     },
     "execution_count": 28,
     "metadata": {},
     "output_type": "execute_result"
    }
   ],
   "source": [
    "users_evaluation_of_satisfaction.shape"
   ]
  },
  {
   "cell_type": "code",
   "execution_count": 29,
   "metadata": {},
   "outputs": [
    {
     "data": {
      "text/plain": [
       "Отлично                 110097\n",
       "Не удовлетворительно     45675\n",
       "Хорошо                   31441\n",
       "Нейтрально               17988\n",
       "Удовлетворительно        12213\n",
       "Name: result_mentioned_by_user, dtype: int64"
      ]
     },
     "execution_count": 29,
     "metadata": {},
     "output_type": "execute_result"
    }
   ],
   "source": [
    "users_evaluation_of_satisfaction['result_mentioned_by_user'].value_counts()"
   ]
  },
  {
   "cell_type": "code",
   "execution_count": 31,
   "metadata": {},
   "outputs": [
    {
     "data": {
      "text/plain": [
       "4d0c91c2-a8cc-450d-8a93-b93612ee7e71    8\n",
       "aedc8ee8-6b7f-451e-bf84-361a69729f3e    7\n",
       "089dd5b2-4704-4c01-88d6-ec48871f8194    7\n",
       "f4797035-53dc-45bf-86a7-158b4b49d87e    6\n",
       "fbc8445e-9d34-4ed0-8759-df9283448057    6\n",
       "                                       ..\n",
       "7faccc82-5dac-4cd6-80eb-abed179ac1ac    2\n",
       "b3c009dc-80ec-4068-8fbb-c99953fc6870    2\n",
       "c888a016-3edc-41fe-9bc1-0aca0563cd0c    2\n",
       "f88a5f90-570b-4847-9dc6-d2b851167ccf    2\n",
       "b71f62ad-d56c-46f7-b686-f6bd9529824a    2\n",
       "Name: request_id, Length: 5803, dtype: int64"
      ]
     },
     "execution_count": 31,
     "metadata": {},
     "output_type": "execute_result"
    }
   ],
   "source": [
    "temp = users_evaluation_of_satisfaction['request_id'].value_counts()[users_evaluation_of_satisfaction['request_id'].value_counts() > 1]\n",
    "temp # ДУБЛИКАТЫ?"
   ]
  },
  {
   "cell_type": "code",
   "execution_count": 33,
   "metadata": {},
   "outputs": [
    {
     "data": {
      "text/plain": [
       "6345"
      ]
     },
     "execution_count": 33,
     "metadata": {},
     "output_type": "execute_result"
    }
   ],
   "source": [
    "temp.sum() - len(temp)"
   ]
  },
  {
   "cell_type": "code",
   "execution_count": 34,
   "metadata": {},
   "outputs": [
    {
     "data": {
      "text/html": [
       "<div>\n",
       "<style scoped>\n",
       "    .dataframe tbody tr th:only-of-type {\n",
       "        vertical-align: middle;\n",
       "    }\n",
       "\n",
       "    .dataframe tbody tr th {\n",
       "        vertical-align: top;\n",
       "    }\n",
       "\n",
       "    .dataframe thead th {\n",
       "        text-align: right;\n",
       "    }\n",
       "</style>\n",
       "<table border=\"1\" class=\"dataframe\">\n",
       "  <thead>\n",
       "    <tr style=\"text-align: right;\">\n",
       "      <th></th>\n",
       "      <th>request_id</th>\n",
       "      <th>result_mentioned_by_user</th>\n",
       "    </tr>\n",
       "  </thead>\n",
       "  <tbody>\n",
       "    <tr>\n",
       "      <th>104694</th>\n",
       "      <td>b71f62ad-d56c-46f7-b686-f6bd9529824a</td>\n",
       "      <td>Хорошо</td>\n",
       "    </tr>\n",
       "    <tr>\n",
       "      <th>113904</th>\n",
       "      <td>b71f62ad-d56c-46f7-b686-f6bd9529824a</td>\n",
       "      <td>Хорошо</td>\n",
       "    </tr>\n",
       "  </tbody>\n",
       "</table>\n",
       "</div>"
      ],
      "text/plain": [
       "                                  request_id result_mentioned_by_user\n",
       "104694  b71f62ad-d56c-46f7-b686-f6bd9529824a                   Хорошо\n",
       "113904  b71f62ad-d56c-46f7-b686-f6bd9529824a                   Хорошо"
      ]
     },
     "execution_count": 34,
     "metadata": {},
     "output_type": "execute_result"
    }
   ],
   "source": [
    "users_evaluation_of_satisfaction[users_evaluation_of_satisfaction['request_id'] == 'b71f62ad-d56c-46f7-b686-f6bd9529824a']"
   ]
  },
  {
   "cell_type": "code",
   "execution_count": 18,
   "metadata": {},
   "outputs": [
    {
     "data": {
      "text/plain": [
       "211069"
      ]
     },
     "execution_count": 18,
     "metadata": {},
     "output_type": "execute_result"
    }
   ],
   "source": [
    "un_req_rev = set(users_evaluation_of_satisfaction['request_id'].unique()) # уникальные оцененные обращения \n",
    "len(un_req_rev)"
   ]
  },
  {
   "cell_type": "code",
   "execution_count": 19,
   "metadata": {},
   "outputs": [
    {
     "data": {
      "text/plain": [
       "(211069, 2)"
      ]
     },
     "execution_count": 19,
     "metadata": {},
     "output_type": "execute_result"
    }
   ],
   "source": [
    "users_evaluation_of_satisfaction_nodulicates = users_evaluation_of_satisfaction.drop_duplicates()\n",
    "users_evaluation_of_satisfaction_nodulicates.shape"
   ]
  },
  {
   "cell_type": "markdown",
   "metadata": {},
   "source": [
    "# Обращения в поддержку"
   ]
  },
  {
   "cell_type": "code",
   "execution_count": 20,
   "metadata": {},
   "outputs": [
    {
     "data": {
      "text/html": [
       "<div>\n",
       "<style scoped>\n",
       "    .dataframe tbody tr th:only-of-type {\n",
       "        vertical-align: middle;\n",
       "    }\n",
       "\n",
       "    .dataframe tbody tr th {\n",
       "        vertical-align: top;\n",
       "    }\n",
       "\n",
       "    .dataframe thead th {\n",
       "        text-align: right;\n",
       "    }\n",
       "</style>\n",
       "<table border=\"1\" class=\"dataframe\">\n",
       "  <thead>\n",
       "    <tr style=\"text-align: right;\">\n",
       "      <th></th>\n",
       "      <th>user_id</th>\n",
       "      <th>ticket_category</th>\n",
       "      <th>ticket_subcategory</th>\n",
       "      <th>current_state</th>\n",
       "      <th>request_id</th>\n",
       "      <th>activity_start_dt</th>\n",
       "      <th>fact_reaction_dt</th>\n",
       "    </tr>\n",
       "  </thead>\n",
       "  <tbody>\n",
       "    <tr>\n",
       "      <th>0</th>\n",
       "      <td>370 518 212</td>\n",
       "      <td>Технические вопросы</td>\n",
       "      <td>Доступ к сайту</td>\n",
       "      <td>Решено</td>\n",
       "      <td>045be6ac-d532-4c20-b1c9-fb82c1737464</td>\n",
       "      <td>2015-11-26 22:56:00</td>\n",
       "      <td>2015-12-03 12:11:00</td>\n",
       "    </tr>\n",
       "    <tr>\n",
       "      <th>1</th>\n",
       "      <td>2 138 799</td>\n",
       "      <td>Технические вопросы</td>\n",
       "      <td>Доступ к сайту</td>\n",
       "      <td>Решено</td>\n",
       "      <td>8ebbb8c6-7abb-4fad-a83b-35a71a83a186</td>\n",
       "      <td>2015-12-18 08:52:00</td>\n",
       "      <td>2015-12-23 06:40:00</td>\n",
       "    </tr>\n",
       "    <tr>\n",
       "      <th>2</th>\n",
       "      <td>2 033 101</td>\n",
       "      <td>Технические вопросы</td>\n",
       "      <td>Доступ к сайту</td>\n",
       "      <td>Решено</td>\n",
       "      <td>ee303751-4a21-4544-a4c3-56924c088028</td>\n",
       "      <td>2015-12-16 19:06:00</td>\n",
       "      <td>2015-12-26 07:46:00</td>\n",
       "    </tr>\n",
       "    <tr>\n",
       "      <th>3</th>\n",
       "      <td>177 122 000 003</td>\n",
       "      <td>Мобильный Avito</td>\n",
       "      <td>Android приложение</td>\n",
       "      <td>Решено</td>\n",
       "      <td>bb989fcb-277a-41bd-aaa2-f131333b629e</td>\n",
       "      <td>2015-12-01 17:08:00</td>\n",
       "      <td>2015-12-09 11:19:00</td>\n",
       "    </tr>\n",
       "    <tr>\n",
       "      <th>4</th>\n",
       "      <td>37 340 500 064</td>\n",
       "      <td>Технические вопросы</td>\n",
       "      <td>Доступ к сайту</td>\n",
       "      <td>Решено</td>\n",
       "      <td>e742d172-0ef1-47d8-b862-25be082d8bc0</td>\n",
       "      <td>2015-12-14 10:08:00</td>\n",
       "      <td>2015-12-15 16:14:00</td>\n",
       "    </tr>\n",
       "  </tbody>\n",
       "</table>\n",
       "</div>"
      ],
      "text/plain": [
       "           user_id      ticket_category  ticket_subcategory current_state  \\\n",
       "0      370 518 212  Технические вопросы      Доступ к сайту        Решено   \n",
       "1        2 138 799  Технические вопросы      Доступ к сайту        Решено   \n",
       "2        2 033 101  Технические вопросы      Доступ к сайту        Решено   \n",
       "3  177 122 000 003      Мобильный Avito  Android приложение        Решено   \n",
       "4   37 340 500 064  Технические вопросы      Доступ к сайту        Решено   \n",
       "\n",
       "                             request_id    activity_start_dt  \\\n",
       "0  045be6ac-d532-4c20-b1c9-fb82c1737464  2015-11-26 22:56:00   \n",
       "1  8ebbb8c6-7abb-4fad-a83b-35a71a83a186  2015-12-18 08:52:00   \n",
       "2  ee303751-4a21-4544-a4c3-56924c088028  2015-12-16 19:06:00   \n",
       "3  bb989fcb-277a-41bd-aaa2-f131333b629e  2015-12-01 17:08:00   \n",
       "4  e742d172-0ef1-47d8-b862-25be082d8bc0  2015-12-14 10:08:00   \n",
       "\n",
       "      fact_reaction_dt  \n",
       "0  2015-12-03 12:11:00  \n",
       "1  2015-12-23 06:40:00  \n",
       "2  2015-12-26 07:46:00  \n",
       "3  2015-12-09 11:19:00  \n",
       "4  2015-12-15 16:14:00  "
      ]
     },
     "execution_count": 20,
     "metadata": {},
     "output_type": "execute_result"
    }
   ],
   "source": [
    "support_tickets.head()"
   ]
  },
  {
   "cell_type": "code",
   "execution_count": 21,
   "metadata": {},
   "outputs": [
    {
     "name": "stdout",
     "output_type": "stream",
     "text": [
      "<class 'pandas.core.frame.DataFrame'>\n",
      "RangeIndex: 397530 entries, 0 to 397529\n",
      "Data columns (total 7 columns):\n",
      " #   Column              Non-Null Count   Dtype \n",
      "---  ------              --------------   ----- \n",
      " 0   user_id             397530 non-null  object\n",
      " 1   ticket_category     397530 non-null  object\n",
      " 2   ticket_subcategory  397530 non-null  object\n",
      " 3   current_state       397530 non-null  object\n",
      " 4   request_id          397530 non-null  object\n",
      " 5   activity_start_dt   397530 non-null  object\n",
      " 6   fact_reaction_dt    397530 non-null  object\n",
      "dtypes: object(7)\n",
      "memory usage: 21.2+ MB\n"
     ]
    }
   ],
   "source": [
    "support_tickets.info()"
   ]
  },
  {
   "cell_type": "code",
   "execution_count": 22,
   "metadata": {},
   "outputs": [
    {
     "data": {
      "text/plain": [
       "Решено    397530\n",
       "Name: current_state, dtype: int64"
      ]
     },
     "execution_count": 22,
     "metadata": {},
     "output_type": "execute_result"
    }
   ],
   "source": [
    "support_tickets['current_state'].value_counts() # Все решены?"
   ]
  },
  {
   "cell_type": "code",
   "execution_count": 23,
   "metadata": {},
   "outputs": [
    {
     "data": {
      "text/plain": [
       "298957"
      ]
     },
     "execution_count": 23,
     "metadata": {},
     "output_type": "execute_result"
    }
   ],
   "source": [
    "len(support_tickets['user_id'].unique()) # уникальные пользователи"
   ]
  },
  {
   "cell_type": "code",
   "execution_count": 24,
   "metadata": {},
   "outputs": [
    {
     "data": {
      "text/plain": [
       "397530"
      ]
     },
     "execution_count": 24,
     "metadata": {},
     "output_type": "execute_result"
    }
   ],
   "source": [
    "un_req = set(support_tickets['request_id'].unique()) # уникальные обращения\n",
    "len(un_req)"
   ]
  },
  {
   "cell_type": "code",
   "execution_count": 25,
   "metadata": {},
   "outputs": [
    {
     "data": {
      "text/plain": [
       "120422"
      ]
     },
     "execution_count": 25,
     "metadata": {},
     "output_type": "execute_result"
    }
   ],
   "source": [
    "len(un_req_rev.intersection(un_req)) # пересечение обращений и отзывов"
   ]
  },
  {
   "cell_type": "code",
   "execution_count": 26,
   "metadata": {},
   "outputs": [
    {
     "data": {
      "text/plain": [
       "46 564 750 136     1517\n",
       "142 393 000 021     771\n",
       "109 981 250 055     440\n",
       "369 071 114         425\n",
       "383 216 519         352\n",
       "                   ... \n",
       "2 216 818             1\n",
       "16 665 500 441        1\n",
       "368 925 890           1\n",
       "383 048 026           1\n",
       "175 391 000 007       1\n",
       "Name: user_id, Length: 298957, dtype: int64"
      ]
     },
     "execution_count": 26,
     "metadata": {},
     "output_type": "execute_result"
    }
   ],
   "source": [
    "temp = support_tickets['user_id'].value_counts()\n",
    "temp # самые популярные пользователи поддержки"
   ]
  },
  {
   "cell_type": "code",
   "execution_count": 27,
   "metadata": {},
   "outputs": [
    {
     "data": {
      "text/plain": [
       "1517         1\n",
       "771          1\n",
       "440          1\n",
       "425          1\n",
       "352          1\n",
       "         ...  \n",
       "5         1620\n",
       "4         3534\n",
       "3         9780\n",
       "2        37542\n",
       "1       244151\n",
       "Name: user_id, Length: 71, dtype: int64"
      ]
     },
     "execution_count": 27,
     "metadata": {},
     "output_type": "execute_result"
    }
   ],
   "source": [
    "temp.value_counts().sort_index(ascending=False) #кол-во обращений от одного и того же пользователя"
   ]
  },
  {
   "cell_type": "markdown",
   "metadata": {},
   "source": [
    "# Join обращений и отзывов"
   ]
  },
  {
   "cell_type": "code",
   "execution_count": 28,
   "metadata": {},
   "outputs": [
    {
     "data": {
      "text/plain": [
       "(397530, 8)"
      ]
     },
     "execution_count": 28,
     "metadata": {},
     "output_type": "execute_result"
    }
   ],
   "source": [
    "tickets = support_tickets.merge(users_evaluation_of_satisfaction_nodulicates, left_on='request_id', right_on='request_id', how='left')\n",
    "tickets.shape"
   ]
  },
  {
   "cell_type": "code",
   "execution_count": 29,
   "metadata": {},
   "outputs": [
    {
     "data": {
      "text/html": [
       "<div>\n",
       "<style scoped>\n",
       "    .dataframe tbody tr th:only-of-type {\n",
       "        vertical-align: middle;\n",
       "    }\n",
       "\n",
       "    .dataframe tbody tr th {\n",
       "        vertical-align: top;\n",
       "    }\n",
       "\n",
       "    .dataframe thead th {\n",
       "        text-align: right;\n",
       "    }\n",
       "</style>\n",
       "<table border=\"1\" class=\"dataframe\">\n",
       "  <thead>\n",
       "    <tr style=\"text-align: right;\">\n",
       "      <th></th>\n",
       "      <th>user_id</th>\n",
       "      <th>ticket_category</th>\n",
       "      <th>ticket_subcategory</th>\n",
       "      <th>current_state</th>\n",
       "      <th>request_id</th>\n",
       "      <th>activity_start_dt</th>\n",
       "      <th>fact_reaction_dt</th>\n",
       "      <th>result_mentioned_by_user</th>\n",
       "    </tr>\n",
       "  </thead>\n",
       "  <tbody>\n",
       "    <tr>\n",
       "      <th>0</th>\n",
       "      <td>370 518 212</td>\n",
       "      <td>Технические вопросы</td>\n",
       "      <td>Доступ к сайту</td>\n",
       "      <td>Решено</td>\n",
       "      <td>045be6ac-d532-4c20-b1c9-fb82c1737464</td>\n",
       "      <td>2015-11-26 22:56:00</td>\n",
       "      <td>2015-12-03 12:11:00</td>\n",
       "      <td>Хорошо</td>\n",
       "    </tr>\n",
       "    <tr>\n",
       "      <th>1</th>\n",
       "      <td>2 138 799</td>\n",
       "      <td>Технические вопросы</td>\n",
       "      <td>Доступ к сайту</td>\n",
       "      <td>Решено</td>\n",
       "      <td>8ebbb8c6-7abb-4fad-a83b-35a71a83a186</td>\n",
       "      <td>2015-12-18 08:52:00</td>\n",
       "      <td>2015-12-23 06:40:00</td>\n",
       "      <td>NaN</td>\n",
       "    </tr>\n",
       "    <tr>\n",
       "      <th>2</th>\n",
       "      <td>2 033 101</td>\n",
       "      <td>Технические вопросы</td>\n",
       "      <td>Доступ к сайту</td>\n",
       "      <td>Решено</td>\n",
       "      <td>ee303751-4a21-4544-a4c3-56924c088028</td>\n",
       "      <td>2015-12-16 19:06:00</td>\n",
       "      <td>2015-12-26 07:46:00</td>\n",
       "      <td>NaN</td>\n",
       "    </tr>\n",
       "    <tr>\n",
       "      <th>3</th>\n",
       "      <td>177 122 000 003</td>\n",
       "      <td>Мобильный Avito</td>\n",
       "      <td>Android приложение</td>\n",
       "      <td>Решено</td>\n",
       "      <td>bb989fcb-277a-41bd-aaa2-f131333b629e</td>\n",
       "      <td>2015-12-01 17:08:00</td>\n",
       "      <td>2015-12-09 11:19:00</td>\n",
       "      <td>NaN</td>\n",
       "    </tr>\n",
       "    <tr>\n",
       "      <th>4</th>\n",
       "      <td>37 340 500 064</td>\n",
       "      <td>Технические вопросы</td>\n",
       "      <td>Доступ к сайту</td>\n",
       "      <td>Решено</td>\n",
       "      <td>e742d172-0ef1-47d8-b862-25be082d8bc0</td>\n",
       "      <td>2015-12-14 10:08:00</td>\n",
       "      <td>2015-12-15 16:14:00</td>\n",
       "      <td>NaN</td>\n",
       "    </tr>\n",
       "  </tbody>\n",
       "</table>\n",
       "</div>"
      ],
      "text/plain": [
       "           user_id      ticket_category  ticket_subcategory current_state  \\\n",
       "0      370 518 212  Технические вопросы      Доступ к сайту        Решено   \n",
       "1        2 138 799  Технические вопросы      Доступ к сайту        Решено   \n",
       "2        2 033 101  Технические вопросы      Доступ к сайту        Решено   \n",
       "3  177 122 000 003      Мобильный Avito  Android приложение        Решено   \n",
       "4   37 340 500 064  Технические вопросы      Доступ к сайту        Решено   \n",
       "\n",
       "                             request_id    activity_start_dt  \\\n",
       "0  045be6ac-d532-4c20-b1c9-fb82c1737464  2015-11-26 22:56:00   \n",
       "1  8ebbb8c6-7abb-4fad-a83b-35a71a83a186  2015-12-18 08:52:00   \n",
       "2  ee303751-4a21-4544-a4c3-56924c088028  2015-12-16 19:06:00   \n",
       "3  bb989fcb-277a-41bd-aaa2-f131333b629e  2015-12-01 17:08:00   \n",
       "4  e742d172-0ef1-47d8-b862-25be082d8bc0  2015-12-14 10:08:00   \n",
       "\n",
       "      fact_reaction_dt result_mentioned_by_user  \n",
       "0  2015-12-03 12:11:00                   Хорошо  \n",
       "1  2015-12-23 06:40:00                      NaN  \n",
       "2  2015-12-26 07:46:00                      NaN  \n",
       "3  2015-12-09 11:19:00                      NaN  \n",
       "4  2015-12-15 16:14:00                      NaN  "
      ]
     },
     "execution_count": 29,
     "metadata": {},
     "output_type": "execute_result"
    }
   ],
   "source": [
    "tickets.head()"
   ]
  },
  {
   "cell_type": "markdown",
   "metadata": {},
   "source": [
    "# Расчет CSAT"
   ]
  },
  {
   "cell_type": "code",
   "execution_count": 30,
   "metadata": {},
   "outputs": [
    {
     "data": {
      "text/plain": [
       "120422"
      ]
     },
     "execution_count": 30,
     "metadata": {},
     "output_type": "execute_result"
    }
   ],
   "source": [
    "tickets['result_mentioned_by_user'].notna().sum() # сошлось +"
   ]
  },
  {
   "cell_type": "code",
   "execution_count": 31,
   "metadata": {},
   "outputs": [],
   "source": [
    "tickets['result_mentioned_by_user'].fillna('Нет отзыва', inplace=True)"
   ]
  },
  {
   "cell_type": "code",
   "execution_count": 32,
   "metadata": {},
   "outputs": [
    {
     "data": {
      "text/plain": [
       "Нет отзыва              277108\n",
       "Отлично                  59750\n",
       "Не удовлетворительно     24510\n",
       "Хорошо                   18555\n",
       "Нейтрально               10578\n",
       "Удовлетворительно         7029\n",
       "Name: result_mentioned_by_user, dtype: int64"
      ]
     },
     "execution_count": 32,
     "metadata": {},
     "output_type": "execute_result"
    }
   ],
   "source": [
    "temp = tickets['result_mentioned_by_user'].value_counts()\n",
    "temp"
   ]
  },
  {
   "cell_type": "code",
   "execution_count": 33,
   "metadata": {},
   "outputs": [
    {
     "data": {
      "text/plain": [
       "120422"
      ]
     },
     "execution_count": 33,
     "metadata": {},
     "output_type": "execute_result"
    }
   ],
   "source": [
    "all_rev = temp.sum() - temp['Нет отзыва']\n",
    "all_rev # кол-во обращений с отзывами"
   ]
  },
  {
   "cell_type": "code",
   "execution_count": 34,
   "metadata": {},
   "outputs": [
    {
     "data": {
      "text/plain": [
       "78305"
      ]
     },
     "execution_count": 34,
     "metadata": {},
     "output_type": "execute_result"
    }
   ],
   "source": [
    "good_plus = temp['Хорошо'] + temp['Отлично']\n",
    "good_plus"
   ]
  },
  {
   "cell_type": "code",
   "execution_count": 35,
   "metadata": {},
   "outputs": [
    {
     "data": {
      "text/plain": [
       "65.0254936805567"
      ]
     },
     "execution_count": 35,
     "metadata": {},
     "output_type": "execute_result"
    }
   ],
   "source": [
    "CSAT = good_plus/all_rev * 100\n",
    "CSAT"
   ]
  },
  {
   "cell_type": "markdown",
   "metadata": {},
   "source": [
    "# Время ответа"
   ]
  },
  {
   "cell_type": "code",
   "execution_count": 198,
   "metadata": {},
   "outputs": [],
   "source": [
    "tickets['activity_start_dt'] = tickets['activity_start_dt'].apply(pd.Timestamp)\n",
    "tickets['fact_reaction_dt'] = tickets['fact_reaction_dt'].apply(pd.Timestamp)"
   ]
  },
  {
   "cell_type": "code",
   "execution_count": 199,
   "metadata": {},
   "outputs": [],
   "source": [
    "wrong_reaction_time_index = tickets[tickets['fact_reaction_dt'] < tickets['activity_start_dt']].index"
   ]
  },
  {
   "cell_type": "code",
   "execution_count": 200,
   "metadata": {},
   "outputs": [
    {
     "data": {
      "text/plain": [
       "(397522, 8)"
      ]
     },
     "execution_count": 200,
     "metadata": {},
     "output_type": "execute_result"
    }
   ],
   "source": [
    "tickets.drop(wrong_reaction_time_index, inplace=True)\n",
    "tickets.shape"
   ]
  },
  {
   "cell_type": "code",
   "execution_count": 201,
   "metadata": {},
   "outputs": [],
   "source": [
    "tickets['time_answer'] = tickets['fact_reaction_dt'] - tickets['activity_start_dt']"
   ]
  },
  {
   "cell_type": "code",
   "execution_count": 202,
   "metadata": {},
   "outputs": [
    {
     "data": {
      "text/html": [
       "<div>\n",
       "<style scoped>\n",
       "    .dataframe tbody tr th:only-of-type {\n",
       "        vertical-align: middle;\n",
       "    }\n",
       "\n",
       "    .dataframe tbody tr th {\n",
       "        vertical-align: top;\n",
       "    }\n",
       "\n",
       "    .dataframe thead th {\n",
       "        text-align: right;\n",
       "    }\n",
       "</style>\n",
       "<table border=\"1\" class=\"dataframe\">\n",
       "  <thead>\n",
       "    <tr style=\"text-align: right;\">\n",
       "      <th></th>\n",
       "      <th>user_id</th>\n",
       "      <th>ticket_category</th>\n",
       "      <th>ticket_subcategory</th>\n",
       "      <th>current_state</th>\n",
       "      <th>request_id</th>\n",
       "      <th>activity_start_dt</th>\n",
       "      <th>fact_reaction_dt</th>\n",
       "      <th>result_mentioned_by_user</th>\n",
       "      <th>time_answer</th>\n",
       "    </tr>\n",
       "  </thead>\n",
       "  <tbody>\n",
       "    <tr>\n",
       "      <th>0</th>\n",
       "      <td>370 518 212</td>\n",
       "      <td>Технические вопросы</td>\n",
       "      <td>Доступ к сайту</td>\n",
       "      <td>Решено</td>\n",
       "      <td>045be6ac-d532-4c20-b1c9-fb82c1737464</td>\n",
       "      <td>2015-11-26 22:56:00</td>\n",
       "      <td>2015-12-03 12:11:00</td>\n",
       "      <td>Хорошо</td>\n",
       "      <td>6 days 13:15:00</td>\n",
       "    </tr>\n",
       "    <tr>\n",
       "      <th>1</th>\n",
       "      <td>2 138 799</td>\n",
       "      <td>Технические вопросы</td>\n",
       "      <td>Доступ к сайту</td>\n",
       "      <td>Решено</td>\n",
       "      <td>8ebbb8c6-7abb-4fad-a83b-35a71a83a186</td>\n",
       "      <td>2015-12-18 08:52:00</td>\n",
       "      <td>2015-12-23 06:40:00</td>\n",
       "      <td>Нет отзыва</td>\n",
       "      <td>4 days 21:48:00</td>\n",
       "    </tr>\n",
       "    <tr>\n",
       "      <th>2</th>\n",
       "      <td>2 033 101</td>\n",
       "      <td>Технические вопросы</td>\n",
       "      <td>Доступ к сайту</td>\n",
       "      <td>Решено</td>\n",
       "      <td>ee303751-4a21-4544-a4c3-56924c088028</td>\n",
       "      <td>2015-12-16 19:06:00</td>\n",
       "      <td>2015-12-26 07:46:00</td>\n",
       "      <td>Нет отзыва</td>\n",
       "      <td>9 days 12:40:00</td>\n",
       "    </tr>\n",
       "    <tr>\n",
       "      <th>3</th>\n",
       "      <td>177 122 000 003</td>\n",
       "      <td>Мобильный Avito</td>\n",
       "      <td>Android приложение</td>\n",
       "      <td>Решено</td>\n",
       "      <td>bb989fcb-277a-41bd-aaa2-f131333b629e</td>\n",
       "      <td>2015-12-01 17:08:00</td>\n",
       "      <td>2015-12-09 11:19:00</td>\n",
       "      <td>Нет отзыва</td>\n",
       "      <td>7 days 18:11:00</td>\n",
       "    </tr>\n",
       "    <tr>\n",
       "      <th>4</th>\n",
       "      <td>37 340 500 064</td>\n",
       "      <td>Технические вопросы</td>\n",
       "      <td>Доступ к сайту</td>\n",
       "      <td>Решено</td>\n",
       "      <td>e742d172-0ef1-47d8-b862-25be082d8bc0</td>\n",
       "      <td>2015-12-14 10:08:00</td>\n",
       "      <td>2015-12-15 16:14:00</td>\n",
       "      <td>Нет отзыва</td>\n",
       "      <td>1 days 06:06:00</td>\n",
       "    </tr>\n",
       "  </tbody>\n",
       "</table>\n",
       "</div>"
      ],
      "text/plain": [
       "           user_id      ticket_category  ticket_subcategory current_state  \\\n",
       "0      370 518 212  Технические вопросы      Доступ к сайту        Решено   \n",
       "1        2 138 799  Технические вопросы      Доступ к сайту        Решено   \n",
       "2        2 033 101  Технические вопросы      Доступ к сайту        Решено   \n",
       "3  177 122 000 003      Мобильный Avito  Android приложение        Решено   \n",
       "4   37 340 500 064  Технические вопросы      Доступ к сайту        Решено   \n",
       "\n",
       "                             request_id   activity_start_dt  \\\n",
       "0  045be6ac-d532-4c20-b1c9-fb82c1737464 2015-11-26 22:56:00   \n",
       "1  8ebbb8c6-7abb-4fad-a83b-35a71a83a186 2015-12-18 08:52:00   \n",
       "2  ee303751-4a21-4544-a4c3-56924c088028 2015-12-16 19:06:00   \n",
       "3  bb989fcb-277a-41bd-aaa2-f131333b629e 2015-12-01 17:08:00   \n",
       "4  e742d172-0ef1-47d8-b862-25be082d8bc0 2015-12-14 10:08:00   \n",
       "\n",
       "     fact_reaction_dt result_mentioned_by_user     time_answer  \n",
       "0 2015-12-03 12:11:00                   Хорошо 6 days 13:15:00  \n",
       "1 2015-12-23 06:40:00               Нет отзыва 4 days 21:48:00  \n",
       "2 2015-12-26 07:46:00               Нет отзыва 9 days 12:40:00  \n",
       "3 2015-12-09 11:19:00               Нет отзыва 7 days 18:11:00  \n",
       "4 2015-12-15 16:14:00               Нет отзыва 1 days 06:06:00  "
      ]
     },
     "execution_count": 202,
     "metadata": {},
     "output_type": "execute_result"
    }
   ],
   "source": [
    "tickets.head()"
   ]
  },
  {
   "cell_type": "code",
   "execution_count": 203,
   "metadata": {},
   "outputs": [
    {
     "data": {
      "text/html": [
       "<div>\n",
       "<style scoped>\n",
       "    .dataframe tbody tr th:only-of-type {\n",
       "        vertical-align: middle;\n",
       "    }\n",
       "\n",
       "    .dataframe tbody tr th {\n",
       "        vertical-align: top;\n",
       "    }\n",
       "\n",
       "    .dataframe thead th {\n",
       "        text-align: right;\n",
       "    }\n",
       "</style>\n",
       "<table border=\"1\" class=\"dataframe\">\n",
       "  <thead>\n",
       "    <tr style=\"text-align: right;\">\n",
       "      <th></th>\n",
       "      <th>user_id</th>\n",
       "      <th>ticket_category</th>\n",
       "      <th>ticket_subcategory</th>\n",
       "      <th>current_state</th>\n",
       "      <th>request_id</th>\n",
       "      <th>activity_start_dt</th>\n",
       "      <th>fact_reaction_dt</th>\n",
       "      <th>result_mentioned_by_user</th>\n",
       "      <th>time_answer</th>\n",
       "    </tr>\n",
       "  </thead>\n",
       "  <tbody>\n",
       "    <tr>\n",
       "      <th>11409</th>\n",
       "      <td>385 723 328</td>\n",
       "      <td>Технические вопросы</td>\n",
       "      <td>Подтверждение телефонного номера</td>\n",
       "      <td>Решено</td>\n",
       "      <td>b661908c-fc53-46dd-8fb0-5460517e0e16</td>\n",
       "      <td>2015-08-28 13:33:00</td>\n",
       "      <td>2015-09-03 11:15:00</td>\n",
       "      <td>Отлично</td>\n",
       "      <td>5 days 21:42:00</td>\n",
       "    </tr>\n",
       "    <tr>\n",
       "      <th>49929</th>\n",
       "      <td>113 242 750 044</td>\n",
       "      <td>Платные услуги и сервисы</td>\n",
       "      <td>Оплата и применение услуг</td>\n",
       "      <td>Решено</td>\n",
       "      <td>8ac280d7-bd3c-4884-b277-2112a98214e0</td>\n",
       "      <td>2015-08-31 21:05:00</td>\n",
       "      <td>2015-09-04 10:20:00</td>\n",
       "      <td>Нет отзыва</td>\n",
       "      <td>3 days 13:15:00</td>\n",
       "    </tr>\n",
       "    <tr>\n",
       "      <th>82916</th>\n",
       "      <td>51 951 000 089</td>\n",
       "      <td>Магазины, Автозагрузка и юридические лица</td>\n",
       "      <td>Другие вопросы и консультации</td>\n",
       "      <td>Решено</td>\n",
       "      <td>aef69e22-f72c-4ee0-a9a3-793b66e2e98b</td>\n",
       "      <td>2015-08-31 17:19:00</td>\n",
       "      <td>2015-09-01 08:23:00</td>\n",
       "      <td>Нет отзыва</td>\n",
       "      <td>0 days 15:04:00</td>\n",
       "    </tr>\n",
       "    <tr>\n",
       "      <th>144509</th>\n",
       "      <td>1 502 913</td>\n",
       "      <td>Технические вопросы</td>\n",
       "      <td>Вход в личный кабинет</td>\n",
       "      <td>Решено</td>\n",
       "      <td>8a2bb4e6-fc44-4f35-a88a-cfef0ad4efff</td>\n",
       "      <td>2015-08-14 18:34:00</td>\n",
       "      <td>2015-09-03 14:56:00</td>\n",
       "      <td>Нет отзыва</td>\n",
       "      <td>19 days 20:22:00</td>\n",
       "    </tr>\n",
       "    <tr>\n",
       "      <th>162993</th>\n",
       "      <td>77 919 000 022</td>\n",
       "      <td>Магазины, Автозагрузка и юридические лица</td>\n",
       "      <td>Автоматическая загрузка объявлений</td>\n",
       "      <td>Решено</td>\n",
       "      <td>3c46e28a-9eb0-4464-a254-912056281e13</td>\n",
       "      <td>2015-08-31 16:02:00</td>\n",
       "      <td>2015-09-01 08:31:00</td>\n",
       "      <td>Отлично</td>\n",
       "      <td>0 days 16:29:00</td>\n",
       "    </tr>\n",
       "    <tr>\n",
       "      <th>193716</th>\n",
       "      <td>7 055 000 169</td>\n",
       "      <td>Рекламные сервисы Avito</td>\n",
       "      <td>Оплата компании Avito Промо</td>\n",
       "      <td>Решено</td>\n",
       "      <td>56c99d07-6b7e-4b0a-a220-6a7445321785</td>\n",
       "      <td>2015-08-31 17:03:00</td>\n",
       "      <td>2015-09-02 13:30:00</td>\n",
       "      <td>Нет отзыва</td>\n",
       "      <td>1 days 20:27:00</td>\n",
       "    </tr>\n",
       "    <tr>\n",
       "      <th>277210</th>\n",
       "      <td>180 250 121</td>\n",
       "      <td>Платные услуги и сервисы</td>\n",
       "      <td>Оплата и применение услуг</td>\n",
       "      <td>Решено</td>\n",
       "      <td>31430d87-cfb6-48ca-b88f-64ee6d9aa056</td>\n",
       "      <td>2015-08-18 15:50:00</td>\n",
       "      <td>2015-09-02 11:36:00</td>\n",
       "      <td>Нет отзыва</td>\n",
       "      <td>14 days 19:46:00</td>\n",
       "    </tr>\n",
       "  </tbody>\n",
       "</table>\n",
       "</div>"
      ],
      "text/plain": [
       "                user_id                            ticket_category  \\\n",
       "11409       385 723 328                        Технические вопросы   \n",
       "49929   113 242 750 044                   Платные услуги и сервисы   \n",
       "82916    51 951 000 089  Магазины, Автозагрузка и юридические лица   \n",
       "144509        1 502 913                        Технические вопросы   \n",
       "162993   77 919 000 022  Магазины, Автозагрузка и юридические лица   \n",
       "193716    7 055 000 169                    Рекламные сервисы Avito   \n",
       "277210      180 250 121                   Платные услуги и сервисы   \n",
       "\n",
       "                        ticket_subcategory current_state  \\\n",
       "11409     Подтверждение телефонного номера        Решено   \n",
       "49929            Оплата и применение услуг        Решено   \n",
       "82916        Другие вопросы и консультации        Решено   \n",
       "144509               Вход в личный кабинет        Решено   \n",
       "162993  Автоматическая загрузка объявлений        Решено   \n",
       "193716         Оплата компании Avito Промо        Решено   \n",
       "277210           Оплата и применение услуг        Решено   \n",
       "\n",
       "                                  request_id   activity_start_dt  \\\n",
       "11409   b661908c-fc53-46dd-8fb0-5460517e0e16 2015-08-28 13:33:00   \n",
       "49929   8ac280d7-bd3c-4884-b277-2112a98214e0 2015-08-31 21:05:00   \n",
       "82916   aef69e22-f72c-4ee0-a9a3-793b66e2e98b 2015-08-31 17:19:00   \n",
       "144509  8a2bb4e6-fc44-4f35-a88a-cfef0ad4efff 2015-08-14 18:34:00   \n",
       "162993  3c46e28a-9eb0-4464-a254-912056281e13 2015-08-31 16:02:00   \n",
       "193716  56c99d07-6b7e-4b0a-a220-6a7445321785 2015-08-31 17:03:00   \n",
       "277210  31430d87-cfb6-48ca-b88f-64ee6d9aa056 2015-08-18 15:50:00   \n",
       "\n",
       "          fact_reaction_dt result_mentioned_by_user      time_answer  \n",
       "11409  2015-09-03 11:15:00                  Отлично  5 days 21:42:00  \n",
       "49929  2015-09-04 10:20:00               Нет отзыва  3 days 13:15:00  \n",
       "82916  2015-09-01 08:23:00               Нет отзыва  0 days 15:04:00  \n",
       "144509 2015-09-03 14:56:00               Нет отзыва 19 days 20:22:00  \n",
       "162993 2015-09-01 08:31:00                  Отлично  0 days 16:29:00  \n",
       "193716 2015-09-02 13:30:00               Нет отзыва  1 days 20:27:00  \n",
       "277210 2015-09-02 11:36:00               Нет отзыва 14 days 19:46:00  "
      ]
     },
     "execution_count": 203,
     "metadata": {},
     "output_type": "execute_result"
    }
   ],
   "source": [
    "tickets[tickets['activity_start_dt'] < '2015-09-01'] # Ответы с сентября"
   ]
  },
  {
   "cell_type": "code",
   "execution_count": 204,
   "metadata": {},
   "outputs": [
    {
     "data": {
      "image/png": "[encoded data removed]",
      "text/plain": [
       "<Figure size 1080x576 with 1 Axes>"
      ]
     },
     "metadata": {
      "needs_background": "light"
     },
     "output_type": "display_data"
    }
   ],
   "source": [
    "plot_gr(tickets, 'D', 'activity_start_dt')"
   ]
  },
  {
   "cell_type": "code",
   "execution_count": 205,
   "metadata": {},
   "outputs": [
    {
     "data": {
      "image/png": "[encoded data removed]",
      "text/plain": [
       "<Figure size 1080x576 with 1 Axes>"
      ]
     },
     "metadata": {
      "needs_background": "light"
     },
     "output_type": "display_data"
    }
   ],
   "source": [
    "plot_gr(tickets, 'D', 'fact_reaction_dt')"
   ]
  },
  {
   "cell_type": "code",
   "execution_count": 206,
   "metadata": {},
   "outputs": [
    {
     "data": {
      "text/plain": [
       "2015-09-29    6125\n",
       "2015-09-30    4502\n",
       "2015-10-29    4479\n",
       "2015-11-24    4313\n",
       "2015-12-16    4276\n",
       "              ... \n",
       "2015-12-31    1020\n",
       "2016-01-01     158\n",
       "2015-08-15       1\n",
       "2015-08-29       1\n",
       "2015-08-19       1\n",
       "Name: activity_start_dt, Length: 126, dtype: int64"
      ]
     },
     "execution_count": 206,
     "metadata": {},
     "output_type": "execute_result"
    }
   ],
   "source": [
    "tickets['activity_start_dt'].dt.round('D').value_counts() # кол-во обращений по дням"
   ]
  },
  {
   "cell_type": "markdown",
   "metadata": {},
   "source": [
    "# Общее количество заявок в день — Number of Support Tickets"
   ]
  },
  {
   "cell_type": "code",
   "execution_count": 208,
   "metadata": {},
   "outputs": [
    {
     "data": {
      "text/plain": [
       "3154.936507936508"
      ]
     },
     "execution_count": 208,
     "metadata": {},
     "output_type": "execute_result"
    }
   ],
   "source": [
    "tickets['activity_start_dt'].dt.round('D').value_counts().mean()"
   ]
  },
  {
   "cell_type": "code",
   "execution_count": 209,
   "metadata": {},
   "outputs": [],
   "source": [
    "tickets['time_answer_days'] = tickets['fact_reaction_dt'].dt.round('D') - tickets['activity_start_dt'].dt.round('D')"
   ]
  },
  {
   "cell_type": "code",
   "execution_count": 210,
   "metadata": {},
   "outputs": [
    {
     "data": {
      "text/html": [
       "<div>\n",
       "<style scoped>\n",
       "    .dataframe tbody tr th:only-of-type {\n",
       "        vertical-align: middle;\n",
       "    }\n",
       "\n",
       "    .dataframe tbody tr th {\n",
       "        vertical-align: top;\n",
       "    }\n",
       "\n",
       "    .dataframe thead th {\n",
       "        text-align: right;\n",
       "    }\n",
       "</style>\n",
       "<table border=\"1\" class=\"dataframe\">\n",
       "  <thead>\n",
       "    <tr style=\"text-align: right;\">\n",
       "      <th></th>\n",
       "      <th>user_id</th>\n",
       "      <th>ticket_category</th>\n",
       "      <th>ticket_subcategory</th>\n",
       "      <th>current_state</th>\n",
       "      <th>request_id</th>\n",
       "      <th>activity_start_dt</th>\n",
       "      <th>fact_reaction_dt</th>\n",
       "      <th>result_mentioned_by_user</th>\n",
       "      <th>time_answer</th>\n",
       "      <th>time_answer_days</th>\n",
       "    </tr>\n",
       "  </thead>\n",
       "  <tbody>\n",
       "    <tr>\n",
       "      <th>0</th>\n",
       "      <td>370 518 212</td>\n",
       "      <td>Технические вопросы</td>\n",
       "      <td>Доступ к сайту</td>\n",
       "      <td>Решено</td>\n",
       "      <td>045be6ac-d532-4c20-b1c9-fb82c1737464</td>\n",
       "      <td>2015-11-26 22:56:00</td>\n",
       "      <td>2015-12-03 12:11:00</td>\n",
       "      <td>Хорошо</td>\n",
       "      <td>6 days 13:15:00</td>\n",
       "      <td>7 days</td>\n",
       "    </tr>\n",
       "    <tr>\n",
       "      <th>1</th>\n",
       "      <td>2 138 799</td>\n",
       "      <td>Технические вопросы</td>\n",
       "      <td>Доступ к сайту</td>\n",
       "      <td>Решено</td>\n",
       "      <td>8ebbb8c6-7abb-4fad-a83b-35a71a83a186</td>\n",
       "      <td>2015-12-18 08:52:00</td>\n",
       "      <td>2015-12-23 06:40:00</td>\n",
       "      <td>Нет отзыва</td>\n",
       "      <td>4 days 21:48:00</td>\n",
       "      <td>5 days</td>\n",
       "    </tr>\n",
       "    <tr>\n",
       "      <th>2</th>\n",
       "      <td>2 033 101</td>\n",
       "      <td>Технические вопросы</td>\n",
       "      <td>Доступ к сайту</td>\n",
       "      <td>Решено</td>\n",
       "      <td>ee303751-4a21-4544-a4c3-56924c088028</td>\n",
       "      <td>2015-12-16 19:06:00</td>\n",
       "      <td>2015-12-26 07:46:00</td>\n",
       "      <td>Нет отзыва</td>\n",
       "      <td>9 days 12:40:00</td>\n",
       "      <td>9 days</td>\n",
       "    </tr>\n",
       "    <tr>\n",
       "      <th>3</th>\n",
       "      <td>177 122 000 003</td>\n",
       "      <td>Мобильный Avito</td>\n",
       "      <td>Android приложение</td>\n",
       "      <td>Решено</td>\n",
       "      <td>bb989fcb-277a-41bd-aaa2-f131333b629e</td>\n",
       "      <td>2015-12-01 17:08:00</td>\n",
       "      <td>2015-12-09 11:19:00</td>\n",
       "      <td>Нет отзыва</td>\n",
       "      <td>7 days 18:11:00</td>\n",
       "      <td>7 days</td>\n",
       "    </tr>\n",
       "    <tr>\n",
       "      <th>4</th>\n",
       "      <td>37 340 500 064</td>\n",
       "      <td>Технические вопросы</td>\n",
       "      <td>Доступ к сайту</td>\n",
       "      <td>Решено</td>\n",
       "      <td>e742d172-0ef1-47d8-b862-25be082d8bc0</td>\n",
       "      <td>2015-12-14 10:08:00</td>\n",
       "      <td>2015-12-15 16:14:00</td>\n",
       "      <td>Нет отзыва</td>\n",
       "      <td>1 days 06:06:00</td>\n",
       "      <td>2 days</td>\n",
       "    </tr>\n",
       "    <tr>\n",
       "      <th>...</th>\n",
       "      <td>...</td>\n",
       "      <td>...</td>\n",
       "      <td>...</td>\n",
       "      <td>...</td>\n",
       "      <td>...</td>\n",
       "      <td>...</td>\n",
       "      <td>...</td>\n",
       "      <td>...</td>\n",
       "      <td>...</td>\n",
       "      <td>...</td>\n",
       "    </tr>\n",
       "    <tr>\n",
       "      <th>397525</th>\n",
       "      <td>144 011 750 056</td>\n",
       "      <td>Блокировки и отклонения</td>\n",
       "      <td>Заблокированная учетная запись</td>\n",
       "      <td>Решено</td>\n",
       "      <td>e0eb978c-282c-4b9a-9998-f1fa688a4f71</td>\n",
       "      <td>2015-09-29 07:09:00</td>\n",
       "      <td>2015-09-29 13:02:00</td>\n",
       "      <td>Нет отзыва</td>\n",
       "      <td>0 days 05:53:00</td>\n",
       "      <td>1 days</td>\n",
       "    </tr>\n",
       "    <tr>\n",
       "      <th>397526</th>\n",
       "      <td>144 011 750 056</td>\n",
       "      <td>Блокировки и отклонения</td>\n",
       "      <td>Заблокированная учетная запись</td>\n",
       "      <td>Решено</td>\n",
       "      <td>939ef980-4b59-40dc-9d29-66b47ba77fb6</td>\n",
       "      <td>2015-09-25 13:28:00</td>\n",
       "      <td>2015-09-29 16:38:00</td>\n",
       "      <td>Нет отзыва</td>\n",
       "      <td>4 days 03:10:00</td>\n",
       "      <td>4 days</td>\n",
       "    </tr>\n",
       "    <tr>\n",
       "      <th>397527</th>\n",
       "      <td>144 011 750 056</td>\n",
       "      <td>Блокировки и отклонения</td>\n",
       "      <td>Заблокированная учетная запись</td>\n",
       "      <td>Решено</td>\n",
       "      <td>f558d9eb-b278-4d74-a63a-b35674f5a672</td>\n",
       "      <td>2015-10-09 05:24:00</td>\n",
       "      <td>2015-10-09 05:29:00</td>\n",
       "      <td>Нет отзыва</td>\n",
       "      <td>0 days 00:05:00</td>\n",
       "      <td>0 days</td>\n",
       "    </tr>\n",
       "    <tr>\n",
       "      <th>397528</th>\n",
       "      <td>144 011 750 056</td>\n",
       "      <td>Блокировки и отклонения</td>\n",
       "      <td>Заблокированная учетная запись</td>\n",
       "      <td>Решено</td>\n",
       "      <td>9359f267-bc96-406d-b054-80cbdf761e11</td>\n",
       "      <td>2015-09-04 05:38:00</td>\n",
       "      <td>2015-09-04 05:43:00</td>\n",
       "      <td>Нет отзыва</td>\n",
       "      <td>0 days 00:05:00</td>\n",
       "      <td>0 days</td>\n",
       "    </tr>\n",
       "    <tr>\n",
       "      <th>397529</th>\n",
       "      <td>118 138 000 014</td>\n",
       "      <td>Блокировки и отклонения</td>\n",
       "      <td>Заблокированное объявление</td>\n",
       "      <td>Решено</td>\n",
       "      <td>359edf8e-88a3-486b-9010-e2a923d77ed0</td>\n",
       "      <td>2015-09-29 08:48:00</td>\n",
       "      <td>2015-09-30 16:32:00</td>\n",
       "      <td>Нет отзыва</td>\n",
       "      <td>1 days 07:44:00</td>\n",
       "      <td>2 days</td>\n",
       "    </tr>\n",
       "  </tbody>\n",
       "</table>\n",
       "<p>397522 rows × 10 columns</p>\n",
       "</div>"
      ],
      "text/plain": [
       "                user_id          ticket_category  \\\n",
       "0           370 518 212      Технические вопросы   \n",
       "1             2 138 799      Технические вопросы   \n",
       "2             2 033 101      Технические вопросы   \n",
       "3       177 122 000 003          Мобильный Avito   \n",
       "4        37 340 500 064      Технические вопросы   \n",
       "...                 ...                      ...   \n",
       "397525  144 011 750 056  Блокировки и отклонения   \n",
       "397526  144 011 750 056  Блокировки и отклонения   \n",
       "397527  144 011 750 056  Блокировки и отклонения   \n",
       "397528  144 011 750 056  Блокировки и отклонения   \n",
       "397529  118 138 000 014  Блокировки и отклонения   \n",
       "\n",
       "                    ticket_subcategory current_state  \\\n",
       "0                       Доступ к сайту        Решено   \n",
       "1                       Доступ к сайту        Решено   \n",
       "2                       Доступ к сайту        Решено   \n",
       "3                   Android приложение        Решено   \n",
       "4                       Доступ к сайту        Решено   \n",
       "...                                ...           ...   \n",
       "397525  Заблокированная учетная запись        Решено   \n",
       "397526  Заблокированная учетная запись        Решено   \n",
       "397527  Заблокированная учетная запись        Решено   \n",
       "397528  Заблокированная учетная запись        Решено   \n",
       "397529      Заблокированное объявление        Решено   \n",
       "\n",
       "                                  request_id   activity_start_dt  \\\n",
       "0       045be6ac-d532-4c20-b1c9-fb82c1737464 2015-11-26 22:56:00   \n",
       "1       8ebbb8c6-7abb-4fad-a83b-35a71a83a186 2015-12-18 08:52:00   \n",
       "2       ee303751-4a21-4544-a4c3-56924c088028 2015-12-16 19:06:00   \n",
       "3       bb989fcb-277a-41bd-aaa2-f131333b629e 2015-12-01 17:08:00   \n",
       "4       e742d172-0ef1-47d8-b862-25be082d8bc0 2015-12-14 10:08:00   \n",
       "...                                      ...                 ...   \n",
       "397525  e0eb978c-282c-4b9a-9998-f1fa688a4f71 2015-09-29 07:09:00   \n",
       "397526  939ef980-4b59-40dc-9d29-66b47ba77fb6 2015-09-25 13:28:00   \n",
       "397527  f558d9eb-b278-4d74-a63a-b35674f5a672 2015-10-09 05:24:00   \n",
       "397528  9359f267-bc96-406d-b054-80cbdf761e11 2015-09-04 05:38:00   \n",
       "397529  359edf8e-88a3-486b-9010-e2a923d77ed0 2015-09-29 08:48:00   \n",
       "\n",
       "          fact_reaction_dt result_mentioned_by_user     time_answer  \\\n",
       "0      2015-12-03 12:11:00                   Хорошо 6 days 13:15:00   \n",
       "1      2015-12-23 06:40:00               Нет отзыва 4 days 21:48:00   \n",
       "2      2015-12-26 07:46:00               Нет отзыва 9 days 12:40:00   \n",
       "3      2015-12-09 11:19:00               Нет отзыва 7 days 18:11:00   \n",
       "4      2015-12-15 16:14:00               Нет отзыва 1 days 06:06:00   \n",
       "...                    ...                      ...             ...   \n",
       "397525 2015-09-29 13:02:00               Нет отзыва 0 days 05:53:00   \n",
       "397526 2015-09-29 16:38:00               Нет отзыва 4 days 03:10:00   \n",
       "397527 2015-10-09 05:29:00               Нет отзыва 0 days 00:05:00   \n",
       "397528 2015-09-04 05:43:00               Нет отзыва 0 days 00:05:00   \n",
       "397529 2015-09-30 16:32:00               Нет отзыва 1 days 07:44:00   \n",
       "\n",
       "       time_answer_days  \n",
       "0                7 days  \n",
       "1                5 days  \n",
       "2                9 days  \n",
       "3                7 days  \n",
       "4                2 days  \n",
       "...                 ...  \n",
       "397525           1 days  \n",
       "397526           4 days  \n",
       "397527           0 days  \n",
       "397528           0 days  \n",
       "397529           2 days  \n",
       "\n",
       "[397522 rows x 10 columns]"
      ]
     },
     "execution_count": 210,
     "metadata": {},
     "output_type": "execute_result"
    }
   ],
   "source": [
    "tickets"
   ]
  },
  {
   "cell_type": "code",
   "execution_count": 211,
   "metadata": {},
   "outputs": [
    {
     "data": {
      "image/png": "[encoded data removed]",
      "text/plain": [
       "<Figure size 1080x576 with 1 Axes>"
      ]
     },
     "metadata": {
      "needs_background": "light"
     },
     "output_type": "display_data"
    }
   ],
   "source": [
    "plot_bar_2(tickets, 'time_answer_days')"
   ]
  },
  {
   "cell_type": "code",
   "execution_count": 212,
   "metadata": {},
   "outputs": [
    {
     "data": {
      "text/plain": [
       "0        6 days 13:15:00\n",
       "1        4 days 21:48:00\n",
       "2        9 days 12:40:00\n",
       "3        7 days 18:11:00\n",
       "4        1 days 06:06:00\n",
       "               ...      \n",
       "397525   0 days 05:53:00\n",
       "397526   4 days 03:10:00\n",
       "397527   0 days 00:05:00\n",
       "397528   0 days 00:05:00\n",
       "397529   1 days 07:44:00\n",
       "Name: time_answer, Length: 397522, dtype: timedelta64[ns]"
      ]
     },
     "execution_count": 212,
     "metadata": {},
     "output_type": "execute_result"
    }
   ],
   "source": [
    "temp = tickets['time_answer']\n",
    "temp"
   ]
  },
  {
   "cell_type": "code",
   "execution_count": 213,
   "metadata": {},
   "outputs": [
    {
     "data": {
      "text/plain": [
       "111 days 20:35:00       1\n",
       "111 days 18:36:00       1\n",
       "106 days 16:55:00       1\n",
       "106 days 10:56:00       1\n",
       "104 days 12:13:00       1\n",
       "                     ... \n",
       "0 days 00:04:00      3126\n",
       "0 days 00:03:00      3421\n",
       "0 days 00:02:00      3405\n",
       "0 days 00:01:00      2056\n",
       "0 days 00:00:00       471\n",
       "Name: time_answer, Length: 22753, dtype: int64"
      ]
     },
     "execution_count": 213,
     "metadata": {},
     "output_type": "execute_result"
    }
   ],
   "source": [
    "temp.value_counts().sort_index(ascending=False)"
   ]
  },
  {
   "cell_type": "markdown",
   "metadata": {},
   "source": [
    "# Среднее время ответа — Average Reply Time (ART)"
   ]
  },
  {
   "cell_type": "code",
   "execution_count": 214,
   "metadata": {},
   "outputs": [
    {
     "data": {
      "text/plain": [
       "count                    397522\n",
       "mean     2 days 01:53:51.223278\n",
       "std      3 days 23:08:31.221110\n",
       "min             0 days 00:00:00\n",
       "25%             0 days 01:45:00\n",
       "50%             0 days 16:52:00\n",
       "75%             2 days 13:41:00\n",
       "max           111 days 20:35:00\n",
       "Name: time_answer, dtype: object"
      ]
     },
     "execution_count": 214,
     "metadata": {},
     "output_type": "execute_result"
    }
   ],
   "source": [
    "temp.describe()"
   ]
  },
  {
   "cell_type": "markdown",
   "metadata": {},
   "source": [
    "# Чистка объявлений и приведение типов данных"
   ]
  },
  {
   "cell_type": "code",
   "execution_count": 52,
   "metadata": {},
   "outputs": [
    {
     "data": {
      "text/plain": [
       "298952"
      ]
     },
     "execution_count": 52,
     "metadata": {},
     "output_type": "execute_result"
    }
   ],
   "source": [
    "need_users = set(tickets['user_id'].unique())\n",
    "len(need_users)"
   ]
  },
  {
   "cell_type": "code",
   "execution_count": 53,
   "metadata": {},
   "outputs": [
    {
     "data": {
      "text/plain": [
       "248260"
      ]
     },
     "execution_count": 53,
     "metadata": {},
     "output_type": "execute_result"
    }
   ],
   "source": [
    "need_users_item = set(new_items_by_support_users['user_id'].unique())\n",
    "len(need_users_item)"
   ]
  },
  {
   "cell_type": "code",
   "execution_count": 54,
   "metadata": {},
   "outputs": [],
   "source": [
    "new_items_by_support_users['user_registration_time'] = new_items_by_support_users['user_registration_time'].apply(pd.Timestamp)\n",
    "new_items_by_support_users['user_first_listing_date'] = new_items_by_support_users['user_first_listing_date'].apply(pd.Timestamp)\n",
    "new_items_by_support_users['item_starttime'] = new_items_by_support_users['item_starttime'].apply(pd.Timestamp)"
   ]
  },
  {
   "cell_type": "code",
   "execution_count": 55,
   "metadata": {},
   "outputs": [
    {
     "data": {
      "text/html": [
       "<div>\n",
       "<style scoped>\n",
       "    .dataframe tbody tr th:only-of-type {\n",
       "        vertical-align: middle;\n",
       "    }\n",
       "\n",
       "    .dataframe tbody tr th {\n",
       "        vertical-align: top;\n",
       "    }\n",
       "\n",
       "    .dataframe thead th {\n",
       "        text-align: right;\n",
       "    }\n",
       "</style>\n",
       "<table border=\"1\" class=\"dataframe\">\n",
       "  <thead>\n",
       "    <tr style=\"text-align: right;\">\n",
       "      <th></th>\n",
       "      <th>user_id</th>\n",
       "      <th>user_registration_time</th>\n",
       "      <th>user_first_listing_date</th>\n",
       "      <th>item_id</th>\n",
       "      <th>item_starttime</th>\n",
       "      <th>item_category</th>\n",
       "      <th>item_subcategory</th>\n",
       "    </tr>\n",
       "  </thead>\n",
       "  <tbody>\n",
       "    <tr>\n",
       "      <th>0</th>\n",
       "      <td>386 341 477</td>\n",
       "      <td>2013-05-27 14:40:09</td>\n",
       "      <td>2013-05-27 14:40:09</td>\n",
       "      <td>8 523 500 011</td>\n",
       "      <td>2014-01-01 02:22:54</td>\n",
       "      <td>Транспорт</td>\n",
       "      <td>Автомобили</td>\n",
       "    </tr>\n",
       "    <tr>\n",
       "      <th>1</th>\n",
       "      <td>6 790 750 024</td>\n",
       "      <td>2013-12-14 23:05:15</td>\n",
       "      <td>2013-12-14 23:27:04</td>\n",
       "      <td>8 525 000 013</td>\n",
       "      <td>2014-01-01 02:45:56</td>\n",
       "      <td>Транспорт</td>\n",
       "      <td>Запчасти и аксессуары</td>\n",
       "    </tr>\n",
       "    <tr>\n",
       "      <th>2</th>\n",
       "      <td>2 755 740</td>\n",
       "      <td>2011-04-14 17:54:40</td>\n",
       "      <td>2011-04-14 18:05:27</td>\n",
       "      <td>8 527 000 043</td>\n",
       "      <td>2014-01-01 03:29:44</td>\n",
       "      <td>Транспорт</td>\n",
       "      <td>Автомобили</td>\n",
       "    </tr>\n",
       "    <tr>\n",
       "      <th>3</th>\n",
       "      <td>506 779</td>\n",
       "      <td>2011-08-14 06:19:11</td>\n",
       "      <td>2011-08-14 06:50:04</td>\n",
       "      <td>8 530 000 039</td>\n",
       "      <td>2014-01-01 04:34:51</td>\n",
       "      <td>Личные вещи</td>\n",
       "      <td>Красота и здоровье</td>\n",
       "    </tr>\n",
       "    <tr>\n",
       "      <th>4</th>\n",
       "      <td>766 896</td>\n",
       "      <td>2013-05-17 11:32:13</td>\n",
       "      <td>2013-06-05 06:05:09</td>\n",
       "      <td>8 534 500 187</td>\n",
       "      <td>2014-01-01 06:07:58</td>\n",
       "      <td>Недвижимость</td>\n",
       "      <td>Дома, дачи, коттеджи</td>\n",
       "    </tr>\n",
       "    <tr>\n",
       "      <th>...</th>\n",
       "      <td>...</td>\n",
       "      <td>...</td>\n",
       "      <td>...</td>\n",
       "      <td>...</td>\n",
       "      <td>...</td>\n",
       "      <td>...</td>\n",
       "      <td>...</td>\n",
       "    </tr>\n",
       "    <tr>\n",
       "      <th>18559918</th>\n",
       "      <td>2 182</td>\n",
       "      <td>2010-10-25 16:04:04</td>\n",
       "      <td>2010-06-25 00:34:20</td>\n",
       "      <td>282 436 000 498</td>\n",
       "      <td>2016-03-31 23:54:18</td>\n",
       "      <td>Транспорт</td>\n",
       "      <td>Запчасти и аксессуары</td>\n",
       "    </tr>\n",
       "    <tr>\n",
       "      <th>18559919</th>\n",
       "      <td>72 231 250 008</td>\n",
       "      <td>2014-12-14 15:51:02</td>\n",
       "      <td>2014-12-14 17:07:42</td>\n",
       "      <td>282 436 250 142</td>\n",
       "      <td>2016-03-31 23:34:46</td>\n",
       "      <td>Личные вещи</td>\n",
       "      <td>Детская одежда и обувь</td>\n",
       "    </tr>\n",
       "    <tr>\n",
       "      <th>18559920</th>\n",
       "      <td>72 231 250 008</td>\n",
       "      <td>2014-12-14 15:51:02</td>\n",
       "      <td>2014-12-14 17:07:42</td>\n",
       "      <td>282 438 500 028</td>\n",
       "      <td>2016-03-31 23:57:45</td>\n",
       "      <td>Личные вещи</td>\n",
       "      <td>Детская одежда и обувь</td>\n",
       "    </tr>\n",
       "    <tr>\n",
       "      <th>18559921</th>\n",
       "      <td>60 120 750 013</td>\n",
       "      <td>2014-10-29 19:25:23</td>\n",
       "      <td>2014-10-29 19:25:23</td>\n",
       "      <td>282 440 500 007</td>\n",
       "      <td>2016-03-31 23:56:36</td>\n",
       "      <td>Транспорт</td>\n",
       "      <td>Запчасти и аксессуары</td>\n",
       "    </tr>\n",
       "    <tr>\n",
       "      <th>18559922</th>\n",
       "      <td>377 509 556</td>\n",
       "      <td>2012-11-22 22:04:27</td>\n",
       "      <td>2012-11-22 22:15:49</td>\n",
       "      <td>282 443 000 019</td>\n",
       "      <td>2016-03-31 23:59:00</td>\n",
       "      <td>Личные вещи</td>\n",
       "      <td>Детская одежда и обувь</td>\n",
       "    </tr>\n",
       "  </tbody>\n",
       "</table>\n",
       "<p>18559923 rows × 7 columns</p>\n",
       "</div>"
      ],
      "text/plain": [
       "                 user_id user_registration_time user_first_listing_date  \\\n",
       "0            386 341 477    2013-05-27 14:40:09     2013-05-27 14:40:09   \n",
       "1          6 790 750 024    2013-12-14 23:05:15     2013-12-14 23:27:04   \n",
       "2              2 755 740    2011-04-14 17:54:40     2011-04-14 18:05:27   \n",
       "3                506 779    2011-08-14 06:19:11     2011-08-14 06:50:04   \n",
       "4                766 896    2013-05-17 11:32:13     2013-06-05 06:05:09   \n",
       "...                  ...                    ...                     ...   \n",
       "18559918           2 182    2010-10-25 16:04:04     2010-06-25 00:34:20   \n",
       "18559919  72 231 250 008    2014-12-14 15:51:02     2014-12-14 17:07:42   \n",
       "18559920  72 231 250 008    2014-12-14 15:51:02     2014-12-14 17:07:42   \n",
       "18559921  60 120 750 013    2014-10-29 19:25:23     2014-10-29 19:25:23   \n",
       "18559922     377 509 556    2012-11-22 22:04:27     2012-11-22 22:15:49   \n",
       "\n",
       "                  item_id      item_starttime item_category  \\\n",
       "0           8 523 500 011 2014-01-01 02:22:54     Транспорт   \n",
       "1           8 525 000 013 2014-01-01 02:45:56     Транспорт   \n",
       "2           8 527 000 043 2014-01-01 03:29:44     Транспорт   \n",
       "3           8 530 000 039 2014-01-01 04:34:51   Личные вещи   \n",
       "4           8 534 500 187 2014-01-01 06:07:58  Недвижимость   \n",
       "...                   ...                 ...           ...   \n",
       "18559918  282 436 000 498 2016-03-31 23:54:18     Транспорт   \n",
       "18559919  282 436 250 142 2016-03-31 23:34:46   Личные вещи   \n",
       "18559920  282 438 500 028 2016-03-31 23:57:45   Личные вещи   \n",
       "18559921  282 440 500 007 2016-03-31 23:56:36     Транспорт   \n",
       "18559922  282 443 000 019 2016-03-31 23:59:00   Личные вещи   \n",
       "\n",
       "                item_subcategory  \n",
       "0                     Автомобили  \n",
       "1          Запчасти и аксессуары  \n",
       "2                     Автомобили  \n",
       "3             Красота и здоровье  \n",
       "4           Дома, дачи, коттеджи  \n",
       "...                          ...  \n",
       "18559918   Запчасти и аксессуары  \n",
       "18559919  Детская одежда и обувь  \n",
       "18559920  Детская одежда и обувь  \n",
       "18559921   Запчасти и аксессуары  \n",
       "18559922  Детская одежда и обувь  \n",
       "\n",
       "[18559923 rows x 7 columns]"
      ]
     },
     "execution_count": 55,
     "metadata": {},
     "output_type": "execute_result"
    }
   ],
   "source": [
    "new_items_by_support_users"
   ]
  },
  {
   "cell_type": "code",
   "execution_count": 56,
   "metadata": {},
   "outputs": [
    {
     "data": {
      "text/plain": [
       "{'14\\xa0227\\xa0250\\xa0178',\n",
       " '14\\xa0797\\xa0000\\xa0269',\n",
       " '254\\xa0202',\n",
       " '368\\xa0798\\xa0645'}"
      ]
     },
     "execution_count": 56,
     "metadata": {},
     "output_type": "execute_result"
    }
   ],
   "source": [
    "need_users_item - need_users"
   ]
  },
  {
   "cell_type": "code",
   "execution_count": 57,
   "metadata": {},
   "outputs": [],
   "source": [
    "drop_index = set()"
   ]
  },
  {
   "cell_type": "code",
   "execution_count": 58,
   "metadata": {},
   "outputs": [
    {
     "data": {
      "text/plain": [
       "950"
      ]
     },
     "execution_count": 58,
     "metadata": {},
     "output_type": "execute_result"
    }
   ],
   "source": [
    "drop_index = drop_index.union(set(new_items_by_support_users[new_items_by_support_users['user_id'] == '14\\xa0227\\xa0250\\xa0178'].index))\n",
    "len(drop_index)"
   ]
  },
  {
   "cell_type": "code",
   "execution_count": 59,
   "metadata": {},
   "outputs": [
    {
     "data": {
      "text/plain": [
       "1022"
      ]
     },
     "execution_count": 59,
     "metadata": {},
     "output_type": "execute_result"
    }
   ],
   "source": [
    "drop_index = drop_index.union(set(new_items_by_support_users[new_items_by_support_users['user_id'] == '14\\xa0797\\xa0000\\xa0269'].index))\n",
    "len(drop_index)"
   ]
  },
  {
   "cell_type": "code",
   "execution_count": 60,
   "metadata": {},
   "outputs": [
    {
     "data": {
      "text/plain": [
       "4336"
      ]
     },
     "execution_count": 60,
     "metadata": {},
     "output_type": "execute_result"
    }
   ],
   "source": [
    "drop_index = drop_index.union(set(new_items_by_support_users[new_items_by_support_users['user_id'] == '254\\xa0202'].index))\n",
    "len(drop_index)"
   ]
  },
  {
   "cell_type": "code",
   "execution_count": 61,
   "metadata": {},
   "outputs": [
    {
     "data": {
      "text/plain": [
       "4375"
      ]
     },
     "execution_count": 61,
     "metadata": {},
     "output_type": "execute_result"
    }
   ],
   "source": [
    "drop_index = drop_index.union(set(new_items_by_support_users[new_items_by_support_users['user_id'] == '368\\xa0798\\xa0645'].index))\n",
    "len(drop_index)"
   ]
  },
  {
   "cell_type": "code",
   "execution_count": 62,
   "metadata": {},
   "outputs": [],
   "source": [
    "new_items_by_support_users.drop(drop_index, inplace = True)"
   ]
  },
  {
   "cell_type": "code",
   "execution_count": 63,
   "metadata": {},
   "outputs": [
    {
     "data": {
      "text/plain": [
       "set()"
      ]
     },
     "execution_count": 63,
     "metadata": {},
     "output_type": "execute_result"
    }
   ],
   "source": [
    "set(new_items_by_support_users['user_id']) - need_users"
   ]
  },
  {
   "cell_type": "code",
   "execution_count": 64,
   "metadata": {},
   "outputs": [
    {
     "data": {
      "text/plain": [
       "50696"
      ]
     },
     "execution_count": 64,
     "metadata": {},
     "output_type": "execute_result"
    }
   ],
   "source": [
    "len(need_users - set(new_items_by_support_users['user_id']))"
   ]
  },
  {
   "cell_type": "markdown",
   "metadata": {},
   "source": [
    "# Удалим обращения без инфы о объявлениях"
   ]
  },
  {
   "cell_type": "code",
   "execution_count": 65,
   "metadata": {},
   "outputs": [],
   "source": [
    "need_drop = need_users - set(new_items_by_support_users['user_id'])"
   ]
  },
  {
   "cell_type": "code",
   "execution_count": 66,
   "metadata": {},
   "outputs": [
    {
     "data": {
      "text/plain": [
       "50696"
      ]
     },
     "execution_count": 66,
     "metadata": {},
     "output_type": "execute_result"
    }
   ],
   "source": [
    "len(need_drop)"
   ]
  },
  {
   "cell_type": "code",
   "execution_count": 67,
   "metadata": {},
   "outputs": [
    {
     "data": {
      "text/plain": [
       "298952"
      ]
     },
     "execution_count": 67,
     "metadata": {},
     "output_type": "execute_result"
    }
   ],
   "source": [
    "len(tickets['user_id'].unique())"
   ]
  },
  {
   "cell_type": "code",
   "execution_count": 68,
   "metadata": {},
   "outputs": [],
   "source": [
    "bool_drop = tickets['user_id'].apply(lambda x: x not in need_drop)"
   ]
  },
  {
   "cell_type": "code",
   "execution_count": 69,
   "metadata": {},
   "outputs": [
    {
     "data": {
      "text/plain": [
       "(331877, 10)"
      ]
     },
     "execution_count": 69,
     "metadata": {},
     "output_type": "execute_result"
    }
   ],
   "source": [
    "tickets_hard = tickets[bool_drop]\n",
    "tickets_hard.shape"
   ]
  },
  {
   "cell_type": "code",
   "execution_count": 70,
   "metadata": {},
   "outputs": [
    {
     "data": {
      "text/plain": [
       "248256"
      ]
     },
     "execution_count": 70,
     "metadata": {},
     "output_type": "execute_result"
    }
   ],
   "source": [
    "len(tickets_hard['user_id'].unique())"
   ]
  },
  {
   "cell_type": "code",
   "execution_count": 71,
   "metadata": {},
   "outputs": [
    {
     "data": {
      "text/plain": [
       "Нет отзыва              51372\n",
       "Отлично                  6127\n",
       "Не удовлетворительно     4166\n",
       "Хорошо                   1854\n",
       "Нейтрально               1174\n",
       "Удовлетворительно         952\n",
       "Name: result_mentioned_by_user, dtype: int64"
      ]
     },
     "execution_count": 71,
     "metadata": {},
     "output_type": "execute_result"
    }
   ],
   "source": [
    "tickets[bool_drop.apply(lambda x: not x)]['result_mentioned_by_user'].value_counts()"
   ]
  },
  {
   "cell_type": "code",
   "execution_count": 72,
   "metadata": {},
   "outputs": [
    {
     "data": {
      "text/plain": [
       "Нет отзыва              277102\n",
       "Отлично                  59749\n",
       "Не удовлетворительно     24509\n",
       "Хорошо                   18555\n",
       "Нейтрально               10578\n",
       "Удовлетворительно         7029\n",
       "Name: result_mentioned_by_user, dtype: int64"
      ]
     },
     "execution_count": 72,
     "metadata": {},
     "output_type": "execute_result"
    }
   ],
   "source": [
    "tickets['result_mentioned_by_user'].value_counts()"
   ]
  },
  {
   "cell_type": "code",
   "execution_count": 73,
   "metadata": {},
   "outputs": [
    {
     "data": {
      "text/plain": [
       "True"
      ]
     },
     "execution_count": 73,
     "metadata": {},
     "output_type": "execute_result"
    }
   ],
   "source": [
    "len(tickets['user_id'].unique()) - len(tickets_hard['user_id'].unique()) == len(need_drop)"
   ]
  },
  {
   "cell_type": "markdown",
   "metadata": {},
   "source": [
    "# Метрики по клиенту (кол-во листингов за 30 дней до обращений по субкатегориям/категориям, возраст клиента на момент обращения(с момента размещения первого объявления))"
   ]
  },
  {
   "cell_type": "markdown",
   "metadata": {},
   "source": [
    "### Корректировка id и создание вспомогательных df"
   ]
  },
  {
   "cell_type": "code",
   "execution_count": 74,
   "metadata": {},
   "outputs": [],
   "source": [
    "def digits(string):\n",
    "    return re.sub(r'\\D', '', string)"
   ]
  },
  {
   "cell_type": "code",
   "execution_count": 75,
   "metadata": {},
   "outputs": [
    {
     "name": "stderr",
     "output_type": "stream",
     "text": [
      "c:\\users\\kiril\\pycharmprojects\\avito_test\\venv\\lib\\site-packages\\ipykernel_launcher.py:1: SettingWithCopyWarning: \n",
      "A value is trying to be set on a copy of a slice from a DataFrame.\n",
      "Try using .loc[row_indexer,col_indexer] = value instead\n",
      "\n",
      "See the caveats in the documentation: https://pandas.pydata.org/pandas-docs/stable/user_guide/indexing.html#returning-a-view-versus-a-copy\n",
      "  \"\"\"Entry point for launching an IPython kernel.\n"
     ]
    }
   ],
   "source": [
    "tickets_hard['correct_user_id'] = tickets_hard['user_id'].apply(lambda x: digits(x))"
   ]
  },
  {
   "cell_type": "code",
   "execution_count": 76,
   "metadata": {},
   "outputs": [
    {
     "data": {
      "text/plain": [
       "248256"
      ]
     },
     "execution_count": 76,
     "metadata": {},
     "output_type": "execute_result"
    }
   ],
   "source": [
    "len(tickets_hard['user_id'].unique())"
   ]
  },
  {
   "cell_type": "code",
   "execution_count": 77,
   "metadata": {},
   "outputs": [
    {
     "data": {
      "text/plain": [
       "248256"
      ]
     },
     "execution_count": 77,
     "metadata": {},
     "output_type": "execute_result"
    }
   ],
   "source": [
    "len(tickets_hard['correct_user_id'].unique())"
   ]
  },
  {
   "cell_type": "code",
   "execution_count": 78,
   "metadata": {},
   "outputs": [],
   "source": [
    "new_items_by_support_users['correct_user_id'] = new_items_by_support_users['user_id'].apply(lambda x: digits(x))"
   ]
  },
  {
   "cell_type": "code",
   "execution_count": 81,
   "metadata": {},
   "outputs": [
    {
     "data": {
      "text/plain": [
       "248256"
      ]
     },
     "execution_count": 81,
     "metadata": {},
     "output_type": "execute_result"
    }
   ],
   "source": [
    "len(new_items_by_support_users['user_id'].unique())"
   ]
  },
  {
   "cell_type": "code",
   "execution_count": 82,
   "metadata": {},
   "outputs": [
    {
     "data": {
      "text/plain": [
       "248256"
      ]
     },
     "execution_count": 82,
     "metadata": {},
     "output_type": "execute_result"
    }
   ],
   "source": [
    "len(new_items_by_support_users['correct_user_id'].unique())"
   ]
  },
  {
   "cell_type": "code",
   "execution_count": 83,
   "metadata": {},
   "outputs": [
    {
     "data": {
      "text/html": [
       "<div>\n",
       "<style scoped>\n",
       "    .dataframe tbody tr th:only-of-type {\n",
       "        vertical-align: middle;\n",
       "    }\n",
       "\n",
       "    .dataframe tbody tr th {\n",
       "        vertical-align: top;\n",
       "    }\n",
       "\n",
       "    .dataframe thead th {\n",
       "        text-align: right;\n",
       "    }\n",
       "</style>\n",
       "<table border=\"1\" class=\"dataframe\">\n",
       "  <thead>\n",
       "    <tr style=\"text-align: right;\">\n",
       "      <th></th>\n",
       "      <th>user_id</th>\n",
       "      <th>user_registration_time</th>\n",
       "      <th>user_first_listing_date</th>\n",
       "      <th>item_id</th>\n",
       "      <th>item_starttime</th>\n",
       "      <th>item_category</th>\n",
       "      <th>item_subcategory</th>\n",
       "      <th>correct_user_id</th>\n",
       "    </tr>\n",
       "  </thead>\n",
       "  <tbody>\n",
       "    <tr>\n",
       "      <th>0</th>\n",
       "      <td>386 341 477</td>\n",
       "      <td>2013-05-27 14:40:09</td>\n",
       "      <td>2013-05-27 14:40:09</td>\n",
       "      <td>8 523 500 011</td>\n",
       "      <td>2014-01-01 02:22:54</td>\n",
       "      <td>Транспорт</td>\n",
       "      <td>Автомобили</td>\n",
       "      <td>386341477</td>\n",
       "    </tr>\n",
       "    <tr>\n",
       "      <th>1</th>\n",
       "      <td>6 790 750 024</td>\n",
       "      <td>2013-12-14 23:05:15</td>\n",
       "      <td>2013-12-14 23:27:04</td>\n",
       "      <td>8 525 000 013</td>\n",
       "      <td>2014-01-01 02:45:56</td>\n",
       "      <td>Транспорт</td>\n",
       "      <td>Запчасти и аксессуары</td>\n",
       "      <td>6790750024</td>\n",
       "    </tr>\n",
       "    <tr>\n",
       "      <th>2</th>\n",
       "      <td>2 755 740</td>\n",
       "      <td>2011-04-14 17:54:40</td>\n",
       "      <td>2011-04-14 18:05:27</td>\n",
       "      <td>8 527 000 043</td>\n",
       "      <td>2014-01-01 03:29:44</td>\n",
       "      <td>Транспорт</td>\n",
       "      <td>Автомобили</td>\n",
       "      <td>2755740</td>\n",
       "    </tr>\n",
       "    <tr>\n",
       "      <th>3</th>\n",
       "      <td>506 779</td>\n",
       "      <td>2011-08-14 06:19:11</td>\n",
       "      <td>2011-08-14 06:50:04</td>\n",
       "      <td>8 530 000 039</td>\n",
       "      <td>2014-01-01 04:34:51</td>\n",
       "      <td>Личные вещи</td>\n",
       "      <td>Красота и здоровье</td>\n",
       "      <td>506779</td>\n",
       "    </tr>\n",
       "    <tr>\n",
       "      <th>4</th>\n",
       "      <td>766 896</td>\n",
       "      <td>2013-05-17 11:32:13</td>\n",
       "      <td>2013-06-05 06:05:09</td>\n",
       "      <td>8 534 500 187</td>\n",
       "      <td>2014-01-01 06:07:58</td>\n",
       "      <td>Недвижимость</td>\n",
       "      <td>Дома, дачи, коттеджи</td>\n",
       "      <td>766896</td>\n",
       "    </tr>\n",
       "  </tbody>\n",
       "</table>\n",
       "</div>"
      ],
      "text/plain": [
       "         user_id user_registration_time user_first_listing_date  \\\n",
       "0    386 341 477    2013-05-27 14:40:09     2013-05-27 14:40:09   \n",
       "1  6 790 750 024    2013-12-14 23:05:15     2013-12-14 23:27:04   \n",
       "2      2 755 740    2011-04-14 17:54:40     2011-04-14 18:05:27   \n",
       "3        506 779    2011-08-14 06:19:11     2011-08-14 06:50:04   \n",
       "4        766 896    2013-05-17 11:32:13     2013-06-05 06:05:09   \n",
       "\n",
       "         item_id      item_starttime item_category       item_subcategory  \\\n",
       "0  8 523 500 011 2014-01-01 02:22:54     Транспорт             Автомобили   \n",
       "1  8 525 000 013 2014-01-01 02:45:56     Транспорт  Запчасти и аксессуары   \n",
       "2  8 527 000 043 2014-01-01 03:29:44     Транспорт             Автомобили   \n",
       "3  8 530 000 039 2014-01-01 04:34:51   Личные вещи     Красота и здоровье   \n",
       "4  8 534 500 187 2014-01-01 06:07:58  Недвижимость   Дома, дачи, коттеджи   \n",
       "\n",
       "  correct_user_id  \n",
       "0       386341477  \n",
       "1      6790750024  \n",
       "2         2755740  \n",
       "3          506779  \n",
       "4          766896  "
      ]
     },
     "execution_count": 83,
     "metadata": {},
     "output_type": "execute_result"
    }
   ],
   "source": [
    "new_items_by_support_users.head()"
   ]
  },
  {
   "cell_type": "code",
   "execution_count": 84,
   "metadata": {},
   "outputs": [
    {
     "data": {
      "text/plain": [
       "53"
      ]
     },
     "execution_count": 84,
     "metadata": {},
     "output_type": "execute_result"
    }
   ],
   "source": [
    "len(new_items_by_support_users[['item_category', 'item_subcategory']].drop_duplicates())"
   ]
  },
  {
   "cell_type": "code",
   "execution_count": 85,
   "metadata": {},
   "outputs": [
    {
     "data": {
      "text/plain": [
       "53"
      ]
     },
     "execution_count": 85,
     "metadata": {},
     "output_type": "execute_result"
    }
   ],
   "source": [
    "len(new_items_by_support_users['item_subcategory'].drop_duplicates())"
   ]
  },
  {
   "cell_type": "code",
   "execution_count": 89,
   "metadata": {},
   "outputs": [],
   "source": [
    "subcategory_names = new_items_by_support_users['item_subcategory'].unique()"
   ]
  },
  {
   "cell_type": "markdown",
   "metadata": {},
   "source": [
    "One hot encoding"
   ]
  },
  {
   "cell_type": "code",
   "execution_count": 154,
   "metadata": {},
   "outputs": [
    {
     "data": {
      "text/html": [
       "<div>\n",
       "<style scoped>\n",
       "    .dataframe tbody tr th:only-of-type {\n",
       "        vertical-align: middle;\n",
       "    }\n",
       "\n",
       "    .dataframe tbody tr th {\n",
       "        vertical-align: top;\n",
       "    }\n",
       "\n",
       "    .dataframe thead th {\n",
       "        text-align: right;\n",
       "    }\n",
       "</style>\n",
       "<table border=\"1\" class=\"dataframe\">\n",
       "  <thead>\n",
       "    <tr style=\"text-align: right;\">\n",
       "      <th></th>\n",
       "      <th>Автомобили</th>\n",
       "      <th>Аквариум</th>\n",
       "      <th>Аудио и видео</th>\n",
       "      <th>Билеты и путешествия</th>\n",
       "      <th>Бытовая техника</th>\n",
       "      <th>Вакансии</th>\n",
       "      <th>Велосипеды</th>\n",
       "      <th>Водный транспорт</th>\n",
       "      <th>Гаражи и машиноместа</th>\n",
       "      <th>Готовый бизнес</th>\n",
       "      <th>...</th>\n",
       "      <th>Спорт и отдых</th>\n",
       "      <th>Телефоны</th>\n",
       "      <th>Товары для детей и игрушки</th>\n",
       "      <th>Товары для животных</th>\n",
       "      <th>Товары для компьютера</th>\n",
       "      <th>Фототехника</th>\n",
       "      <th>Часы и украшения</th>\n",
       "      <th>correct_user_id</th>\n",
       "      <th>item_starttime</th>\n",
       "      <th>user_first_listing_date</th>\n",
       "    </tr>\n",
       "  </thead>\n",
       "  <tbody>\n",
       "    <tr>\n",
       "      <th>0</th>\n",
       "      <td>1</td>\n",
       "      <td>0</td>\n",
       "      <td>0</td>\n",
       "      <td>0</td>\n",
       "      <td>0</td>\n",
       "      <td>0</td>\n",
       "      <td>0</td>\n",
       "      <td>0</td>\n",
       "      <td>0</td>\n",
       "      <td>0</td>\n",
       "      <td>...</td>\n",
       "      <td>0</td>\n",
       "      <td>0</td>\n",
       "      <td>0</td>\n",
       "      <td>0</td>\n",
       "      <td>0</td>\n",
       "      <td>0</td>\n",
       "      <td>0</td>\n",
       "      <td>386341477</td>\n",
       "      <td>2014-01-01</td>\n",
       "      <td>2013-05-28</td>\n",
       "    </tr>\n",
       "    <tr>\n",
       "      <th>1</th>\n",
       "      <td>0</td>\n",
       "      <td>0</td>\n",
       "      <td>0</td>\n",
       "      <td>0</td>\n",
       "      <td>0</td>\n",
       "      <td>0</td>\n",
       "      <td>0</td>\n",
       "      <td>0</td>\n",
       "      <td>0</td>\n",
       "      <td>0</td>\n",
       "      <td>...</td>\n",
       "      <td>0</td>\n",
       "      <td>0</td>\n",
       "      <td>0</td>\n",
       "      <td>0</td>\n",
       "      <td>0</td>\n",
       "      <td>0</td>\n",
       "      <td>0</td>\n",
       "      <td>6790750024</td>\n",
       "      <td>2014-01-01</td>\n",
       "      <td>2013-12-15</td>\n",
       "    </tr>\n",
       "    <tr>\n",
       "      <th>2</th>\n",
       "      <td>1</td>\n",
       "      <td>0</td>\n",
       "      <td>0</td>\n",
       "      <td>0</td>\n",
       "      <td>0</td>\n",
       "      <td>0</td>\n",
       "      <td>0</td>\n",
       "      <td>0</td>\n",
       "      <td>0</td>\n",
       "      <td>0</td>\n",
       "      <td>...</td>\n",
       "      <td>0</td>\n",
       "      <td>0</td>\n",
       "      <td>0</td>\n",
       "      <td>0</td>\n",
       "      <td>0</td>\n",
       "      <td>0</td>\n",
       "      <td>0</td>\n",
       "      <td>2755740</td>\n",
       "      <td>2014-01-01</td>\n",
       "      <td>2011-04-15</td>\n",
       "    </tr>\n",
       "    <tr>\n",
       "      <th>3</th>\n",
       "      <td>0</td>\n",
       "      <td>0</td>\n",
       "      <td>0</td>\n",
       "      <td>0</td>\n",
       "      <td>0</td>\n",
       "      <td>0</td>\n",
       "      <td>0</td>\n",
       "      <td>0</td>\n",
       "      <td>0</td>\n",
       "      <td>0</td>\n",
       "      <td>...</td>\n",
       "      <td>0</td>\n",
       "      <td>0</td>\n",
       "      <td>0</td>\n",
       "      <td>0</td>\n",
       "      <td>0</td>\n",
       "      <td>0</td>\n",
       "      <td>0</td>\n",
       "      <td>506779</td>\n",
       "      <td>2014-01-01</td>\n",
       "      <td>2011-08-14</td>\n",
       "    </tr>\n",
       "    <tr>\n",
       "      <th>4</th>\n",
       "      <td>0</td>\n",
       "      <td>0</td>\n",
       "      <td>0</td>\n",
       "      <td>0</td>\n",
       "      <td>0</td>\n",
       "      <td>0</td>\n",
       "      <td>0</td>\n",
       "      <td>0</td>\n",
       "      <td>0</td>\n",
       "      <td>0</td>\n",
       "      <td>...</td>\n",
       "      <td>0</td>\n",
       "      <td>0</td>\n",
       "      <td>0</td>\n",
       "      <td>0</td>\n",
       "      <td>0</td>\n",
       "      <td>0</td>\n",
       "      <td>0</td>\n",
       "      <td>766896</td>\n",
       "      <td>2014-01-01</td>\n",
       "      <td>2013-06-05</td>\n",
       "    </tr>\n",
       "  </tbody>\n",
       "</table>\n",
       "<p>5 rows × 56 columns</p>\n",
       "</div>"
      ],
      "text/plain": [
       "   Автомобили  Аквариум  Аудио и видео  Билеты и путешествия  Бытовая техника  \\\n",
       "0           1         0              0                     0                0   \n",
       "1           0         0              0                     0                0   \n",
       "2           1         0              0                     0                0   \n",
       "3           0         0              0                     0                0   \n",
       "4           0         0              0                     0                0   \n",
       "\n",
       "   Вакансии  Велосипеды  Водный транспорт  Гаражи и машиноместа  \\\n",
       "0         0           0                 0                     0   \n",
       "1         0           0                 0                     0   \n",
       "2         0           0                 0                     0   \n",
       "3         0           0                 0                     0   \n",
       "4         0           0                 0                     0   \n",
       "\n",
       "   Готовый бизнес  ...  Спорт и отдых  Телефоны  Товары для детей и игрушки  \\\n",
       "0               0  ...              0         0                           0   \n",
       "1               0  ...              0         0                           0   \n",
       "2               0  ...              0         0                           0   \n",
       "3               0  ...              0         0                           0   \n",
       "4               0  ...              0         0                           0   \n",
       "\n",
       "   Товары для животных  Товары для компьютера  Фототехника  Часы и украшения  \\\n",
       "0                    0                      0            0                 0   \n",
       "1                    0                      0            0                 0   \n",
       "2                    0                      0            0                 0   \n",
       "3                    0                      0            0                 0   \n",
       "4                    0                      0            0                 0   \n",
       "\n",
       "   correct_user_id  item_starttime  user_first_listing_date  \n",
       "0        386341477      2014-01-01               2013-05-28  \n",
       "1       6790750024      2014-01-01               2013-12-15  \n",
       "2          2755740      2014-01-01               2011-04-15  \n",
       "3           506779      2014-01-01               2011-08-14  \n",
       "4           766896      2014-01-01               2013-06-05  \n",
       "\n",
       "[5 rows x 56 columns]"
      ]
     },
     "execution_count": 154,
     "metadata": {},
     "output_type": "execute_result"
    }
   ],
   "source": [
    "new_df = pd.get_dummies(new_items_by_support_users['item_subcategory'])\n",
    "new_df['correct_user_id'] = new_items_by_support_users['correct_user_id']\n",
    "new_df['item_starttime'] = new_items_by_support_users['item_starttime'].dt.round('D')\n",
    "new_df['user_first_listing_date'] = new_items_by_support_users['user_first_listing_date'].dt.round('D')\n",
    "new_df.head()"
   ]
  },
  {
   "cell_type": "code",
   "execution_count": 155,
   "metadata": {},
   "outputs": [],
   "source": [
    "ticket_subcategories_names = tickets_hard['ticket_subcategory'].unique()"
   ]
  },
  {
   "cell_type": "code",
   "execution_count": 156,
   "metadata": {},
   "outputs": [
    {
     "data": {
      "text/html": [
       "<div>\n",
       "<style scoped>\n",
       "    .dataframe tbody tr th:only-of-type {\n",
       "        vertical-align: middle;\n",
       "    }\n",
       "\n",
       "    .dataframe tbody tr th {\n",
       "        vertical-align: top;\n",
       "    }\n",
       "\n",
       "    .dataframe thead th {\n",
       "        text-align: right;\n",
       "    }\n",
       "</style>\n",
       "<table border=\"1\" class=\"dataframe\">\n",
       "  <thead>\n",
       "    <tr style=\"text-align: right;\">\n",
       "      <th></th>\n",
       "      <th>Android приложение</th>\n",
       "      <th>Windows Phone приложение</th>\n",
       "      <th>iPhone приложение</th>\n",
       "      <th>Автоматическая загрузка объявлений</th>\n",
       "      <th>Безналичные платежи</th>\n",
       "      <th>Блокировка или отклонение объявлений</th>\n",
       "      <th>Вход в личный кабинет</th>\n",
       "      <th>Доступ к сайту</th>\n",
       "      <th>Другие вопросы и консультации</th>\n",
       "      <th>Жалобы</th>\n",
       "      <th>...</th>\n",
       "      <th>Снятие объявления с публикации</th>\n",
       "      <th>Создание кампании Avito Контекст</th>\n",
       "      <th>Создание кампании Avito Промо</th>\n",
       "      <th>Технические вопросы</th>\n",
       "      <th>Удаление учетной записи</th>\n",
       "      <th>Управление списками объявлений</th>\n",
       "      <th>correct_user_id</th>\n",
       "      <th>activity_start_dt</th>\n",
       "      <th>result_mentioned_by_user</th>\n",
       "      <th>time_answer</th>\n",
       "    </tr>\n",
       "  </thead>\n",
       "  <tbody>\n",
       "    <tr>\n",
       "      <th>0</th>\n",
       "      <td>0</td>\n",
       "      <td>0</td>\n",
       "      <td>0</td>\n",
       "      <td>0</td>\n",
       "      <td>0</td>\n",
       "      <td>0</td>\n",
       "      <td>0</td>\n",
       "      <td>1</td>\n",
       "      <td>0</td>\n",
       "      <td>0</td>\n",
       "      <td>...</td>\n",
       "      <td>0</td>\n",
       "      <td>0</td>\n",
       "      <td>0</td>\n",
       "      <td>0</td>\n",
       "      <td>0</td>\n",
       "      <td>0</td>\n",
       "      <td>370518212</td>\n",
       "      <td>2015-11-27</td>\n",
       "      <td>Хорошо</td>\n",
       "      <td>6 days 13:15:00</td>\n",
       "    </tr>\n",
       "    <tr>\n",
       "      <th>1</th>\n",
       "      <td>0</td>\n",
       "      <td>0</td>\n",
       "      <td>0</td>\n",
       "      <td>0</td>\n",
       "      <td>0</td>\n",
       "      <td>0</td>\n",
       "      <td>0</td>\n",
       "      <td>1</td>\n",
       "      <td>0</td>\n",
       "      <td>0</td>\n",
       "      <td>...</td>\n",
       "      <td>0</td>\n",
       "      <td>0</td>\n",
       "      <td>0</td>\n",
       "      <td>0</td>\n",
       "      <td>0</td>\n",
       "      <td>0</td>\n",
       "      <td>2138799</td>\n",
       "      <td>2015-12-18</td>\n",
       "      <td>Нет отзыва</td>\n",
       "      <td>4 days 21:48:00</td>\n",
       "    </tr>\n",
       "    <tr>\n",
       "      <th>2</th>\n",
       "      <td>0</td>\n",
       "      <td>0</td>\n",
       "      <td>0</td>\n",
       "      <td>0</td>\n",
       "      <td>0</td>\n",
       "      <td>0</td>\n",
       "      <td>0</td>\n",
       "      <td>1</td>\n",
       "      <td>0</td>\n",
       "      <td>0</td>\n",
       "      <td>...</td>\n",
       "      <td>0</td>\n",
       "      <td>0</td>\n",
       "      <td>0</td>\n",
       "      <td>0</td>\n",
       "      <td>0</td>\n",
       "      <td>0</td>\n",
       "      <td>2033101</td>\n",
       "      <td>2015-12-17</td>\n",
       "      <td>Нет отзыва</td>\n",
       "      <td>9 days 12:40:00</td>\n",
       "    </tr>\n",
       "    <tr>\n",
       "      <th>4</th>\n",
       "      <td>0</td>\n",
       "      <td>0</td>\n",
       "      <td>0</td>\n",
       "      <td>0</td>\n",
       "      <td>0</td>\n",
       "      <td>0</td>\n",
       "      <td>0</td>\n",
       "      <td>1</td>\n",
       "      <td>0</td>\n",
       "      <td>0</td>\n",
       "      <td>...</td>\n",
       "      <td>0</td>\n",
       "      <td>0</td>\n",
       "      <td>0</td>\n",
       "      <td>0</td>\n",
       "      <td>0</td>\n",
       "      <td>0</td>\n",
       "      <td>37340500064</td>\n",
       "      <td>2015-12-14</td>\n",
       "      <td>Нет отзыва</td>\n",
       "      <td>1 days 06:06:00</td>\n",
       "    </tr>\n",
       "    <tr>\n",
       "      <th>6</th>\n",
       "      <td>0</td>\n",
       "      <td>0</td>\n",
       "      <td>0</td>\n",
       "      <td>0</td>\n",
       "      <td>0</td>\n",
       "      <td>0</td>\n",
       "      <td>0</td>\n",
       "      <td>0</td>\n",
       "      <td>0</td>\n",
       "      <td>0</td>\n",
       "      <td>...</td>\n",
       "      <td>0</td>\n",
       "      <td>0</td>\n",
       "      <td>0</td>\n",
       "      <td>0</td>\n",
       "      <td>0</td>\n",
       "      <td>0</td>\n",
       "      <td>380618658</td>\n",
       "      <td>2015-12-15</td>\n",
       "      <td>Нет отзыва</td>\n",
       "      <td>0 days 06:04:00</td>\n",
       "    </tr>\n",
       "  </tbody>\n",
       "</table>\n",
       "<p>5 rows × 55 columns</p>\n",
       "</div>"
      ],
      "text/plain": [
       "   Android приложение  Windows Phone приложение  iPhone приложение  \\\n",
       "0                   0                         0                  0   \n",
       "1                   0                         0                  0   \n",
       "2                   0                         0                  0   \n",
       "4                   0                         0                  0   \n",
       "6                   0                         0                  0   \n",
       "\n",
       "   Автоматическая загрузка объявлений  Безналичные платежи  \\\n",
       "0                                   0                    0   \n",
       "1                                   0                    0   \n",
       "2                                   0                    0   \n",
       "4                                   0                    0   \n",
       "6                                   0                    0   \n",
       "\n",
       "   Блокировка или отклонение объявлений  Вход в личный кабинет  \\\n",
       "0                                     0                      0   \n",
       "1                                     0                      0   \n",
       "2                                     0                      0   \n",
       "4                                     0                      0   \n",
       "6                                     0                      0   \n",
       "\n",
       "   Доступ к сайту  Другие вопросы и консультации  Жалобы  ...  \\\n",
       "0               1                              0       0  ...   \n",
       "1               1                              0       0  ...   \n",
       "2               1                              0       0  ...   \n",
       "4               1                              0       0  ...   \n",
       "6               0                              0       0  ...   \n",
       "\n",
       "   Снятие объявления с публикации  Создание кампании Avito Контекст  \\\n",
       "0                               0                                 0   \n",
       "1                               0                                 0   \n",
       "2                               0                                 0   \n",
       "4                               0                                 0   \n",
       "6                               0                                 0   \n",
       "\n",
       "   Создание кампании Avito Промо  Технические вопросы  \\\n",
       "0                              0                    0   \n",
       "1                              0                    0   \n",
       "2                              0                    0   \n",
       "4                              0                    0   \n",
       "6                              0                    0   \n",
       "\n",
       "   Удаление учетной записи  Управление списками объявлений  correct_user_id  \\\n",
       "0                        0                               0        370518212   \n",
       "1                        0                               0          2138799   \n",
       "2                        0                               0          2033101   \n",
       "4                        0                               0      37340500064   \n",
       "6                        0                               0        380618658   \n",
       "\n",
       "   activity_start_dt  result_mentioned_by_user     time_answer  \n",
       "0         2015-11-27                    Хорошо 6 days 13:15:00  \n",
       "1         2015-12-18                Нет отзыва 4 days 21:48:00  \n",
       "2         2015-12-17                Нет отзыва 9 days 12:40:00  \n",
       "4         2015-12-14                Нет отзыва 1 days 06:06:00  \n",
       "6         2015-12-15                Нет отзыва 0 days 06:04:00  \n",
       "\n",
       "[5 rows x 55 columns]"
      ]
     },
     "execution_count": 156,
     "metadata": {},
     "output_type": "execute_result"
    }
   ],
   "source": [
    "new_tickets_hard = pd.get_dummies(tickets_hard['ticket_subcategory'])\n",
    "new_tickets_hard['correct_user_id'] = tickets_hard['correct_user_id']\n",
    "new_tickets_hard['activity_start_dt'] = tickets_hard['activity_start_dt'].dt.round('D')\n",
    "new_tickets_hard['result_mentioned_by_user'] = tickets_hard['result_mentioned_by_user']\n",
    "new_tickets_hard['time_answer'] = tickets_hard['time_answer']\n",
    "new_tickets_hard.head()"
   ]
  },
  {
   "cell_type": "code",
   "execution_count": 157,
   "metadata": {},
   "outputs": [
    {
     "data": {
      "text/plain": [
       "(331877, 11)"
      ]
     },
     "execution_count": 157,
     "metadata": {},
     "output_type": "execute_result"
    }
   ],
   "source": [
    "tickets_hard.shape"
   ]
  },
  {
   "cell_type": "code",
   "execution_count": 158,
   "metadata": {},
   "outputs": [
    {
     "data": {
      "text/plain": [
       "(331877, 55)"
      ]
     },
     "execution_count": 158,
     "metadata": {},
     "output_type": "execute_result"
    }
   ],
   "source": [
    "new_tickets_hard.shape"
   ]
  },
  {
   "cell_type": "code",
   "execution_count": 159,
   "metadata": {},
   "outputs": [
    {
     "data": {
      "text/plain": [
       "Index(['Android приложение', 'Windows Phone приложение', 'iPhone приложение',\n",
       "       'Автоматическая загрузка объявлений', 'Безналичные платежи',\n",
       "       'Блокировка или отклонение объявлений', 'Вход в личный кабинет',\n",
       "       'Доступ к сайту', 'Другие вопросы и консультации', 'Жалобы',\n",
       "       'Заблокированная учетная запись', 'Заблокированное объявление',\n",
       "       'Загрузка фото', 'Закрывающие документы',\n",
       "       'Измерение результатов Avito Контекст',\n",
       "       'Измерение результатов Avito Промо', 'Кошелек', 'Личный кабинет PRO',\n",
       "       'Мобильная версия сайта', 'Модерация Avito Контекст',\n",
       "       'Модерация Avito Промо', 'Мошенническое SMS, MMS или веб-сайт',\n",
       "       'Мошенническое письмо', 'Настройки Личного кабинета',\n",
       "       'Не вижу свое оплаченное объявление', 'Некорректная работа поиска',\n",
       "       'Обман при совершении сделки',\n",
       "       'Общие вопросы и консультации Avito Контекст',\n",
       "       'Общие вопросы и консультации Avito Промо', 'Оплата и применение услуг',\n",
       "       'Оплата компании Avito Контекст', 'Оплата компании Avito Промо',\n",
       "       'Отклоненное объявление', 'Ошибка при редактировании объявления',\n",
       "       'Ошибки отображения элементов сайта', 'Платные услуги',\n",
       "       'Подача объявления', 'Подозрительный пользователь',\n",
       "       'Подтверждение телефонного номера', 'Полная версия сайта',\n",
       "       'Пополнение кошелька', 'Проблема с отправкой сообщений',\n",
       "       'Регистрация учетной записи', 'Редактирование объявления',\n",
       "       'Реквизиты организации', 'Снятие объявления с публикации',\n",
       "       'Создание кампании Avito Контекст', 'Создание кампании Avito Промо',\n",
       "       'Технические вопросы', 'Удаление учетной записи',\n",
       "       'Управление списками объявлений', 'correct_user_id',\n",
       "       'activity_start_dt', 'result_mentioned_by_user', 'time_answer'],\n",
       "      dtype='object')"
      ]
     },
     "execution_count": 159,
     "metadata": {},
     "output_type": "execute_result"
    }
   ],
   "source": [
    "new_tickets_hard.columns"
   ]
  },
  {
   "cell_type": "markdown",
   "metadata": {},
   "source": [
    "Дата первого листинга и корректный id"
   ]
  },
  {
   "cell_type": "code",
   "execution_count": 160,
   "metadata": {},
   "outputs": [
    {
     "data": {
      "text/html": [
       "<div>\n",
       "<style scoped>\n",
       "    .dataframe tbody tr th:only-of-type {\n",
       "        vertical-align: middle;\n",
       "    }\n",
       "\n",
       "    .dataframe tbody tr th {\n",
       "        vertical-align: top;\n",
       "    }\n",
       "\n",
       "    .dataframe thead th {\n",
       "        text-align: right;\n",
       "    }\n",
       "</style>\n",
       "<table border=\"1\" class=\"dataframe\">\n",
       "  <thead>\n",
       "    <tr style=\"text-align: right;\">\n",
       "      <th></th>\n",
       "      <th>Автомобили</th>\n",
       "      <th>Аквариум</th>\n",
       "      <th>Аудио и видео</th>\n",
       "      <th>Билеты и путешествия</th>\n",
       "      <th>Бытовая техника</th>\n",
       "      <th>Вакансии</th>\n",
       "      <th>Велосипеды</th>\n",
       "      <th>Водный транспорт</th>\n",
       "      <th>Гаражи и машиноместа</th>\n",
       "      <th>Готовый бизнес</th>\n",
       "      <th>...</th>\n",
       "      <th>Спорт и отдых</th>\n",
       "      <th>Телефоны</th>\n",
       "      <th>Товары для детей и игрушки</th>\n",
       "      <th>Товары для животных</th>\n",
       "      <th>Товары для компьютера</th>\n",
       "      <th>Фототехника</th>\n",
       "      <th>Часы и украшения</th>\n",
       "      <th>correct_user_id</th>\n",
       "      <th>item_starttime</th>\n",
       "      <th>user_first_listing_date</th>\n",
       "    </tr>\n",
       "  </thead>\n",
       "  <tbody>\n",
       "    <tr>\n",
       "      <th>0</th>\n",
       "      <td>1</td>\n",
       "      <td>0</td>\n",
       "      <td>0</td>\n",
       "      <td>0</td>\n",
       "      <td>0</td>\n",
       "      <td>0</td>\n",
       "      <td>0</td>\n",
       "      <td>0</td>\n",
       "      <td>0</td>\n",
       "      <td>0</td>\n",
       "      <td>...</td>\n",
       "      <td>0</td>\n",
       "      <td>0</td>\n",
       "      <td>0</td>\n",
       "      <td>0</td>\n",
       "      <td>0</td>\n",
       "      <td>0</td>\n",
       "      <td>0</td>\n",
       "      <td>386341477</td>\n",
       "      <td>2014-01-01</td>\n",
       "      <td>2013-05-28</td>\n",
       "    </tr>\n",
       "    <tr>\n",
       "      <th>1</th>\n",
       "      <td>0</td>\n",
       "      <td>0</td>\n",
       "      <td>0</td>\n",
       "      <td>0</td>\n",
       "      <td>0</td>\n",
       "      <td>0</td>\n",
       "      <td>0</td>\n",
       "      <td>0</td>\n",
       "      <td>0</td>\n",
       "      <td>0</td>\n",
       "      <td>...</td>\n",
       "      <td>0</td>\n",
       "      <td>0</td>\n",
       "      <td>0</td>\n",
       "      <td>0</td>\n",
       "      <td>0</td>\n",
       "      <td>0</td>\n",
       "      <td>0</td>\n",
       "      <td>6790750024</td>\n",
       "      <td>2014-01-01</td>\n",
       "      <td>2013-12-15</td>\n",
       "    </tr>\n",
       "    <tr>\n",
       "      <th>2</th>\n",
       "      <td>1</td>\n",
       "      <td>0</td>\n",
       "      <td>0</td>\n",
       "      <td>0</td>\n",
       "      <td>0</td>\n",
       "      <td>0</td>\n",
       "      <td>0</td>\n",
       "      <td>0</td>\n",
       "      <td>0</td>\n",
       "      <td>0</td>\n",
       "      <td>...</td>\n",
       "      <td>0</td>\n",
       "      <td>0</td>\n",
       "      <td>0</td>\n",
       "      <td>0</td>\n",
       "      <td>0</td>\n",
       "      <td>0</td>\n",
       "      <td>0</td>\n",
       "      <td>2755740</td>\n",
       "      <td>2014-01-01</td>\n",
       "      <td>2011-04-15</td>\n",
       "    </tr>\n",
       "    <tr>\n",
       "      <th>3</th>\n",
       "      <td>0</td>\n",
       "      <td>0</td>\n",
       "      <td>0</td>\n",
       "      <td>0</td>\n",
       "      <td>0</td>\n",
       "      <td>0</td>\n",
       "      <td>0</td>\n",
       "      <td>0</td>\n",
       "      <td>0</td>\n",
       "      <td>0</td>\n",
       "      <td>...</td>\n",
       "      <td>0</td>\n",
       "      <td>0</td>\n",
       "      <td>0</td>\n",
       "      <td>0</td>\n",
       "      <td>0</td>\n",
       "      <td>0</td>\n",
       "      <td>0</td>\n",
       "      <td>506779</td>\n",
       "      <td>2014-01-01</td>\n",
       "      <td>2011-08-14</td>\n",
       "    </tr>\n",
       "    <tr>\n",
       "      <th>4</th>\n",
       "      <td>0</td>\n",
       "      <td>0</td>\n",
       "      <td>0</td>\n",
       "      <td>0</td>\n",
       "      <td>0</td>\n",
       "      <td>0</td>\n",
       "      <td>0</td>\n",
       "      <td>0</td>\n",
       "      <td>0</td>\n",
       "      <td>0</td>\n",
       "      <td>...</td>\n",
       "      <td>0</td>\n",
       "      <td>0</td>\n",
       "      <td>0</td>\n",
       "      <td>0</td>\n",
       "      <td>0</td>\n",
       "      <td>0</td>\n",
       "      <td>0</td>\n",
       "      <td>766896</td>\n",
       "      <td>2014-01-01</td>\n",
       "      <td>2013-06-05</td>\n",
       "    </tr>\n",
       "  </tbody>\n",
       "</table>\n",
       "<p>5 rows × 56 columns</p>\n",
       "</div>"
      ],
      "text/plain": [
       "   Автомобили  Аквариум  Аудио и видео  Билеты и путешествия  Бытовая техника  \\\n",
       "0           1         0              0                     0                0   \n",
       "1           0         0              0                     0                0   \n",
       "2           1         0              0                     0                0   \n",
       "3           0         0              0                     0                0   \n",
       "4           0         0              0                     0                0   \n",
       "\n",
       "   Вакансии  Велосипеды  Водный транспорт  Гаражи и машиноместа  \\\n",
       "0         0           0                 0                     0   \n",
       "1         0           0                 0                     0   \n",
       "2         0           0                 0                     0   \n",
       "3         0           0                 0                     0   \n",
       "4         0           0                 0                     0   \n",
       "\n",
       "   Готовый бизнес  ...  Спорт и отдых  Телефоны  Товары для детей и игрушки  \\\n",
       "0               0  ...              0         0                           0   \n",
       "1               0  ...              0         0                           0   \n",
       "2               0  ...              0         0                           0   \n",
       "3               0  ...              0         0                           0   \n",
       "4               0  ...              0         0                           0   \n",
       "\n",
       "   Товары для животных  Товары для компьютера  Фототехника  Часы и украшения  \\\n",
       "0                    0                      0            0                 0   \n",
       "1                    0                      0            0                 0   \n",
       "2                    0                      0            0                 0   \n",
       "3                    0                      0            0                 0   \n",
       "4                    0                      0            0                 0   \n",
       "\n",
       "   correct_user_id  item_starttime  user_first_listing_date  \n",
       "0        386341477      2014-01-01               2013-05-28  \n",
       "1       6790750024      2014-01-01               2013-12-15  \n",
       "2          2755740      2014-01-01               2011-04-15  \n",
       "3           506779      2014-01-01               2011-08-14  \n",
       "4           766896      2014-01-01               2013-06-05  \n",
       "\n",
       "[5 rows x 56 columns]"
      ]
     },
     "execution_count": 160,
     "metadata": {},
     "output_type": "execute_result"
    }
   ],
   "source": [
    "new_df.head()"
   ]
  },
  {
   "cell_type": "code",
   "execution_count": 161,
   "metadata": {},
   "outputs": [],
   "source": [
    "first_listing_date_df = new_df[['correct_user_id', 'user_first_listing_date']].groupby(['correct_user_id']).min()"
   ]
  },
  {
   "cell_type": "code",
   "execution_count": 162,
   "metadata": {},
   "outputs": [
    {
     "data": {
      "text/html": [
       "<div>\n",
       "<style scoped>\n",
       "    .dataframe tbody tr th:only-of-type {\n",
       "        vertical-align: middle;\n",
       "    }\n",
       "\n",
       "    .dataframe tbody tr th {\n",
       "        vertical-align: top;\n",
       "    }\n",
       "\n",
       "    .dataframe thead th {\n",
       "        text-align: right;\n",
       "    }\n",
       "</style>\n",
       "<table border=\"1\" class=\"dataframe\">\n",
       "  <thead>\n",
       "    <tr style=\"text-align: right;\">\n",
       "      <th></th>\n",
       "      <th>user_first_listing_date</th>\n",
       "    </tr>\n",
       "    <tr>\n",
       "      <th>correct_user_id</th>\n",
       "      <th></th>\n",
       "    </tr>\n",
       "  </thead>\n",
       "  <tbody>\n",
       "    <tr>\n",
       "      <th>10000000154</th>\n",
       "      <td>2014-01-27</td>\n",
       "    </tr>\n",
       "    <tr>\n",
       "      <th>10000008</th>\n",
       "      <td>2010-12-20</td>\n",
       "    </tr>\n",
       "    <tr>\n",
       "      <th>100000095</th>\n",
       "      <td>2011-02-14</td>\n",
       "    </tr>\n",
       "    <tr>\n",
       "      <th>1000001</th>\n",
       "      <td>2008-10-31</td>\n",
       "    </tr>\n",
       "    <tr>\n",
       "      <th>10000010</th>\n",
       "      <td>2008-07-24</td>\n",
       "    </tr>\n",
       "  </tbody>\n",
       "</table>\n",
       "</div>"
      ],
      "text/plain": [
       "                user_first_listing_date\n",
       "correct_user_id                        \n",
       "10000000154                  2014-01-27\n",
       "10000008                     2010-12-20\n",
       "100000095                    2011-02-14\n",
       "1000001                      2008-10-31\n",
       "10000010                     2008-07-24"
      ]
     },
     "execution_count": 162,
     "metadata": {},
     "output_type": "execute_result"
    }
   ],
   "source": [
    "first_listing_date_df.head()"
   ]
  },
  {
   "cell_type": "code",
   "execution_count": 163,
   "metadata": {},
   "outputs": [
    {
     "data": {
      "text/plain": [
       "(248256, 1)"
      ]
     },
     "execution_count": 163,
     "metadata": {},
     "output_type": "execute_result"
    }
   ],
   "source": [
    "first_listing_date_df.shape"
   ]
  },
  {
   "cell_type": "code",
   "execution_count": 164,
   "metadata": {},
   "outputs": [
    {
     "data": {
      "text/plain": [
       "Timestamp('2014-01-27 00:00:00')"
      ]
     },
     "execution_count": 164,
     "metadata": {},
     "output_type": "execute_result"
    }
   ],
   "source": [
    "first_listing_date_df.loc['10000000154']['user_first_listing_date']"
   ]
  },
  {
   "cell_type": "markdown",
   "metadata": {},
   "source": [
    "### Алгоритм вычленения необходимых данных"
   ]
  },
  {
   "cell_type": "code",
   "execution_count": null,
   "metadata": {},
   "outputs": [],
   "source": [
    "# Очень долго :(\n",
    "days_30 = datetime.timedelta(days=30)\n",
    "empty = [0]*len(subcategory_names)\n",
    "X = list()\n",
    "for row in tqdm(new_tickets_hard.values):\n",
    "    \n",
    "    age = row[52] - first_listing_date_df.loc[row[51]]['user_first_listing_date']\n",
    "    \n",
    "    data_temp = new_df['correct_user_id'] == row[51]\n",
    "    data_temp_index = (data_temp['item_starttime'].between(row[52] - days_30, row[52]))\n",
    "    \n",
    "    \n",
    "    t = list(row)\n",
    "    \n",
    "    if data_temp.empty:\n",
    "        t = t + empty + [age]\n",
    "    else:\n",
    "        t = t + list(new_df[data_temp_index][subcategory_names].sum().values) + [age]\n",
    "    X.append(t)"
   ]
  },
  {
   "cell_type": "code",
   "execution_count": 150,
   "metadata": {},
   "outputs": [],
   "source": [
    "X_all_info = pd.DataFrame(X, columns = list(new_tickets_hard.columns) + list(subcategory_names) + ['Возраст'])"
   ]
  },
  {
   "cell_type": "code",
   "execution_count": 151,
   "metadata": {},
   "outputs": [
    {
     "data": {
      "text/html": [
       "<div>\n",
       "<style scoped>\n",
       "    .dataframe tbody tr th:only-of-type {\n",
       "        vertical-align: middle;\n",
       "    }\n",
       "\n",
       "    .dataframe tbody tr th {\n",
       "        vertical-align: top;\n",
       "    }\n",
       "\n",
       "    .dataframe thead th {\n",
       "        text-align: right;\n",
       "    }\n",
       "</style>\n",
       "<table border=\"1\" class=\"dataframe\">\n",
       "  <thead>\n",
       "    <tr style=\"text-align: right;\">\n",
       "      <th></th>\n",
       "      <th>Android приложение</th>\n",
       "      <th>Windows Phone приложение</th>\n",
       "      <th>iPhone приложение</th>\n",
       "      <th>Автоматическая загрузка объявлений</th>\n",
       "      <th>Безналичные платежи</th>\n",
       "      <th>Блокировка или отклонение объявлений</th>\n",
       "      <th>Вход в личный кабинет</th>\n",
       "      <th>Доступ к сайту</th>\n",
       "      <th>Другие вопросы и консультации</th>\n",
       "      <th>Жалобы</th>\n",
       "      <th>...</th>\n",
       "      <th>Знакомства</th>\n",
       "      <th>Мотоциклы и мототехника</th>\n",
       "      <th>Товары для животных</th>\n",
       "      <th>Велосипеды</th>\n",
       "      <th>Птицы</th>\n",
       "      <th>Аквариум</th>\n",
       "      <th>Готовый бизнес</th>\n",
       "      <th>Недвижимость за рубежом</th>\n",
       "      <th>Заказ услуг</th>\n",
       "      <th>Возраст</th>\n",
       "    </tr>\n",
       "  </thead>\n",
       "  <tbody>\n",
       "    <tr>\n",
       "      <th>0</th>\n",
       "      <td>0</td>\n",
       "      <td>0</td>\n",
       "      <td>0</td>\n",
       "      <td>0</td>\n",
       "      <td>0</td>\n",
       "      <td>0</td>\n",
       "      <td>0</td>\n",
       "      <td>1</td>\n",
       "      <td>0</td>\n",
       "      <td>0</td>\n",
       "      <td>...</td>\n",
       "      <td>0</td>\n",
       "      <td>0</td>\n",
       "      <td>0</td>\n",
       "      <td>0</td>\n",
       "      <td>0</td>\n",
       "      <td>0</td>\n",
       "      <td>0</td>\n",
       "      <td>0</td>\n",
       "      <td>0</td>\n",
       "      <td>1418 days 14:40:02</td>\n",
       "    </tr>\n",
       "    <tr>\n",
       "      <th>1</th>\n",
       "      <td>0</td>\n",
       "      <td>0</td>\n",
       "      <td>0</td>\n",
       "      <td>0</td>\n",
       "      <td>0</td>\n",
       "      <td>0</td>\n",
       "      <td>0</td>\n",
       "      <td>1</td>\n",
       "      <td>0</td>\n",
       "      <td>0</td>\n",
       "      <td>...</td>\n",
       "      <td>0</td>\n",
       "      <td>0</td>\n",
       "      <td>0</td>\n",
       "      <td>0</td>\n",
       "      <td>0</td>\n",
       "      <td>0</td>\n",
       "      <td>0</td>\n",
       "      <td>0</td>\n",
       "      <td>0</td>\n",
       "      <td>1057 days 22:32:08</td>\n",
       "    </tr>\n",
       "    <tr>\n",
       "      <th>2</th>\n",
       "      <td>0</td>\n",
       "      <td>0</td>\n",
       "      <td>0</td>\n",
       "      <td>0</td>\n",
       "      <td>0</td>\n",
       "      <td>0</td>\n",
       "      <td>0</td>\n",
       "      <td>1</td>\n",
       "      <td>0</td>\n",
       "      <td>0</td>\n",
       "      <td>...</td>\n",
       "      <td>0</td>\n",
       "      <td>0</td>\n",
       "      <td>0</td>\n",
       "      <td>0</td>\n",
       "      <td>0</td>\n",
       "      <td>0</td>\n",
       "      <td>0</td>\n",
       "      <td>0</td>\n",
       "      <td>0</td>\n",
       "      <td>1753 days 07:47:23</td>\n",
       "    </tr>\n",
       "    <tr>\n",
       "      <th>3</th>\n",
       "      <td>0</td>\n",
       "      <td>0</td>\n",
       "      <td>0</td>\n",
       "      <td>0</td>\n",
       "      <td>0</td>\n",
       "      <td>0</td>\n",
       "      <td>0</td>\n",
       "      <td>1</td>\n",
       "      <td>0</td>\n",
       "      <td>0</td>\n",
       "      <td>...</td>\n",
       "      <td>0</td>\n",
       "      <td>0</td>\n",
       "      <td>0</td>\n",
       "      <td>0</td>\n",
       "      <td>0</td>\n",
       "      <td>0</td>\n",
       "      <td>0</td>\n",
       "      <td>0</td>\n",
       "      <td>0</td>\n",
       "      <td>269 days 11:59:30</td>\n",
       "    </tr>\n",
       "    <tr>\n",
       "      <th>4</th>\n",
       "      <td>0</td>\n",
       "      <td>0</td>\n",
       "      <td>0</td>\n",
       "      <td>0</td>\n",
       "      <td>0</td>\n",
       "      <td>0</td>\n",
       "      <td>0</td>\n",
       "      <td>0</td>\n",
       "      <td>0</td>\n",
       "      <td>0</td>\n",
       "      <td>...</td>\n",
       "      <td>0</td>\n",
       "      <td>0</td>\n",
       "      <td>0</td>\n",
       "      <td>0</td>\n",
       "      <td>0</td>\n",
       "      <td>0</td>\n",
       "      <td>0</td>\n",
       "      <td>0</td>\n",
       "      <td>0</td>\n",
       "      <td>1181 days 19:15:22</td>\n",
       "    </tr>\n",
       "    <tr>\n",
       "      <th>...</th>\n",
       "      <td>...</td>\n",
       "      <td>...</td>\n",
       "      <td>...</td>\n",
       "      <td>...</td>\n",
       "      <td>...</td>\n",
       "      <td>...</td>\n",
       "      <td>...</td>\n",
       "      <td>...</td>\n",
       "      <td>...</td>\n",
       "      <td>...</td>\n",
       "      <td>...</td>\n",
       "      <td>...</td>\n",
       "      <td>...</td>\n",
       "      <td>...</td>\n",
       "      <td>...</td>\n",
       "      <td>...</td>\n",
       "      <td>...</td>\n",
       "      <td>...</td>\n",
       "      <td>...</td>\n",
       "      <td>...</td>\n",
       "      <td>...</td>\n",
       "    </tr>\n",
       "    <tr>\n",
       "      <th>387</th>\n",
       "      <td>0</td>\n",
       "      <td>0</td>\n",
       "      <td>0</td>\n",
       "      <td>0</td>\n",
       "      <td>0</td>\n",
       "      <td>0</td>\n",
       "      <td>0</td>\n",
       "      <td>0</td>\n",
       "      <td>0</td>\n",
       "      <td>0</td>\n",
       "      <td>...</td>\n",
       "      <td>0</td>\n",
       "      <td>0</td>\n",
       "      <td>0</td>\n",
       "      <td>0</td>\n",
       "      <td>0</td>\n",
       "      <td>0</td>\n",
       "      <td>0</td>\n",
       "      <td>0</td>\n",
       "      <td>0</td>\n",
       "      <td>1223 days 00:13:08</td>\n",
       "    </tr>\n",
       "    <tr>\n",
       "      <th>388</th>\n",
       "      <td>0</td>\n",
       "      <td>0</td>\n",
       "      <td>0</td>\n",
       "      <td>0</td>\n",
       "      <td>0</td>\n",
       "      <td>0</td>\n",
       "      <td>0</td>\n",
       "      <td>0</td>\n",
       "      <td>0</td>\n",
       "      <td>0</td>\n",
       "      <td>...</td>\n",
       "      <td>0</td>\n",
       "      <td>0</td>\n",
       "      <td>0</td>\n",
       "      <td>0</td>\n",
       "      <td>0</td>\n",
       "      <td>0</td>\n",
       "      <td>0</td>\n",
       "      <td>0</td>\n",
       "      <td>0</td>\n",
       "      <td>483 days 11:21:50</td>\n",
       "    </tr>\n",
       "    <tr>\n",
       "      <th>389</th>\n",
       "      <td>0</td>\n",
       "      <td>0</td>\n",
       "      <td>0</td>\n",
       "      <td>0</td>\n",
       "      <td>0</td>\n",
       "      <td>0</td>\n",
       "      <td>0</td>\n",
       "      <td>0</td>\n",
       "      <td>0</td>\n",
       "      <td>0</td>\n",
       "      <td>...</td>\n",
       "      <td>0</td>\n",
       "      <td>0</td>\n",
       "      <td>0</td>\n",
       "      <td>0</td>\n",
       "      <td>0</td>\n",
       "      <td>0</td>\n",
       "      <td>0</td>\n",
       "      <td>0</td>\n",
       "      <td>0</td>\n",
       "      <td>491 days 21:39:27</td>\n",
       "    </tr>\n",
       "    <tr>\n",
       "      <th>390</th>\n",
       "      <td>0</td>\n",
       "      <td>0</td>\n",
       "      <td>1</td>\n",
       "      <td>0</td>\n",
       "      <td>0</td>\n",
       "      <td>0</td>\n",
       "      <td>0</td>\n",
       "      <td>0</td>\n",
       "      <td>0</td>\n",
       "      <td>0</td>\n",
       "      <td>...</td>\n",
       "      <td>0</td>\n",
       "      <td>0</td>\n",
       "      <td>0</td>\n",
       "      <td>0</td>\n",
       "      <td>0</td>\n",
       "      <td>0</td>\n",
       "      <td>0</td>\n",
       "      <td>0</td>\n",
       "      <td>0</td>\n",
       "      <td>534 days 07:17:53</td>\n",
       "    </tr>\n",
       "    <tr>\n",
       "      <th>391</th>\n",
       "      <td>0</td>\n",
       "      <td>0</td>\n",
       "      <td>0</td>\n",
       "      <td>0</td>\n",
       "      <td>0</td>\n",
       "      <td>0</td>\n",
       "      <td>0</td>\n",
       "      <td>0</td>\n",
       "      <td>0</td>\n",
       "      <td>0</td>\n",
       "      <td>...</td>\n",
       "      <td>0</td>\n",
       "      <td>0</td>\n",
       "      <td>0</td>\n",
       "      <td>0</td>\n",
       "      <td>0</td>\n",
       "      <td>0</td>\n",
       "      <td>0</td>\n",
       "      <td>0</td>\n",
       "      <td>0</td>\n",
       "      <td>837 days 21:30:14</td>\n",
       "    </tr>\n",
       "  </tbody>\n",
       "</table>\n",
       "<p>392 rows × 109 columns</p>\n",
       "</div>"
      ],
      "text/plain": [
       "     Android приложение  Windows Phone приложение  iPhone приложение  \\\n",
       "0                     0                         0                  0   \n",
       "1                     0                         0                  0   \n",
       "2                     0                         0                  0   \n",
       "3                     0                         0                  0   \n",
       "4                     0                         0                  0   \n",
       "..                  ...                       ...                ...   \n",
       "387                   0                         0                  0   \n",
       "388                   0                         0                  0   \n",
       "389                   0                         0                  0   \n",
       "390                   0                         0                  1   \n",
       "391                   0                         0                  0   \n",
       "\n",
       "     Автоматическая загрузка объявлений  Безналичные платежи  \\\n",
       "0                                     0                    0   \n",
       "1                                     0                    0   \n",
       "2                                     0                    0   \n",
       "3                                     0                    0   \n",
       "4                                     0                    0   \n",
       "..                                  ...                  ...   \n",
       "387                                   0                    0   \n",
       "388                                   0                    0   \n",
       "389                                   0                    0   \n",
       "390                                   0                    0   \n",
       "391                                   0                    0   \n",
       "\n",
       "     Блокировка или отклонение объявлений  Вход в личный кабинет  \\\n",
       "0                                       0                      0   \n",
       "1                                       0                      0   \n",
       "2                                       0                      0   \n",
       "3                                       0                      0   \n",
       "4                                       0                      0   \n",
       "..                                    ...                    ...   \n",
       "387                                     0                      0   \n",
       "388                                     0                      0   \n",
       "389                                     0                      0   \n",
       "390                                     0                      0   \n",
       "391                                     0                      0   \n",
       "\n",
       "     Доступ к сайту  Другие вопросы и консультации  Жалобы  ...  Знакомства  \\\n",
       "0                 1                              0       0  ...           0   \n",
       "1                 1                              0       0  ...           0   \n",
       "2                 1                              0       0  ...           0   \n",
       "3                 1                              0       0  ...           0   \n",
       "4                 0                              0       0  ...           0   \n",
       "..              ...                            ...     ...  ...         ...   \n",
       "387               0                              0       0  ...           0   \n",
       "388               0                              0       0  ...           0   \n",
       "389               0                              0       0  ...           0   \n",
       "390               0                              0       0  ...           0   \n",
       "391               0                              0       0  ...           0   \n",
       "\n",
       "     Мотоциклы и мототехника  Товары для животных  Велосипеды  Птицы  \\\n",
       "0                          0                    0           0      0   \n",
       "1                          0                    0           0      0   \n",
       "2                          0                    0           0      0   \n",
       "3                          0                    0           0      0   \n",
       "4                          0                    0           0      0   \n",
       "..                       ...                  ...         ...    ...   \n",
       "387                        0                    0           0      0   \n",
       "388                        0                    0           0      0   \n",
       "389                        0                    0           0      0   \n",
       "390                        0                    0           0      0   \n",
       "391                        0                    0           0      0   \n",
       "\n",
       "     Аквариум  Готовый бизнес  Недвижимость за рубежом  Заказ услуг  \\\n",
       "0           0               0                        0            0   \n",
       "1           0               0                        0            0   \n",
       "2           0               0                        0            0   \n",
       "3           0               0                        0            0   \n",
       "4           0               0                        0            0   \n",
       "..        ...             ...                      ...          ...   \n",
       "387         0               0                        0            0   \n",
       "388         0               0                        0            0   \n",
       "389         0               0                        0            0   \n",
       "390         0               0                        0            0   \n",
       "391         0               0                        0            0   \n",
       "\n",
       "               Возраст  \n",
       "0   1418 days 14:40:02  \n",
       "1   1057 days 22:32:08  \n",
       "2   1753 days 07:47:23  \n",
       "3    269 days 11:59:30  \n",
       "4   1181 days 19:15:22  \n",
       "..                 ...  \n",
       "387 1223 days 00:13:08  \n",
       "388  483 days 11:21:50  \n",
       "389  491 days 21:39:27  \n",
       "390  534 days 07:17:53  \n",
       "391  837 days 21:30:14  \n",
       "\n",
       "[392 rows x 109 columns]"
      ]
     },
     "execution_count": 151,
     "metadata": {},
     "output_type": "execute_result"
    }
   ],
   "source": [
    "X_all_info"
   ]
  },
  {
   "cell_type": "code",
   "execution_count": null,
   "metadata": {},
   "outputs": [],
   "source": [
    "X_all_info.to_csv('all_info.csv', index=False)"
   ]
  },
  {
   "cell_type": "code",
   "execution_count": 138,
   "metadata": {},
   "outputs": [
    {
     "data": {
      "text/plain": [
       "(331877, 55)"
      ]
     },
     "execution_count": 138,
     "metadata": {},
     "output_type": "execute_result"
    }
   ],
   "source": [
    "new_tickets_hard.shape"
   ]
  },
  {
   "cell_type": "markdown",
   "metadata": {},
   "source": [
    "# Относительно лёгкая часть"
   ]
  },
  {
   "cell_type": "markdown",
   "metadata": {},
   "source": [
    "## Метрики по клиенту: кол-во обращений до текущего обращения, время суток обращения"
   ]
  },
  {
   "cell_type": "code",
   "execution_count": 122,
   "metadata": {},
   "outputs": [],
   "source": [
    "#tickets['correct_user_id'] = tickets['user_id'].apply(lambda x: digits(x))"
   ]
  },
  {
   "cell_type": "code",
   "execution_count": 166,
   "metadata": {},
   "outputs": [
    {
     "data": {
      "text/html": [
       "<div>\n",
       "<style scoped>\n",
       "    .dataframe tbody tr th:only-of-type {\n",
       "        vertical-align: middle;\n",
       "    }\n",
       "\n",
       "    .dataframe tbody tr th {\n",
       "        vertical-align: top;\n",
       "    }\n",
       "\n",
       "    .dataframe thead th {\n",
       "        text-align: right;\n",
       "    }\n",
       "</style>\n",
       "<table border=\"1\" class=\"dataframe\">\n",
       "  <thead>\n",
       "    <tr style=\"text-align: right;\">\n",
       "      <th></th>\n",
       "      <th>user_id</th>\n",
       "      <th>ticket_category</th>\n",
       "      <th>ticket_subcategory</th>\n",
       "      <th>current_state</th>\n",
       "      <th>request_id</th>\n",
       "      <th>activity_start_dt</th>\n",
       "      <th>fact_reaction_dt</th>\n",
       "      <th>result_mentioned_by_user</th>\n",
       "      <th>time_answer</th>\n",
       "      <th>time_answer_days</th>\n",
       "    </tr>\n",
       "  </thead>\n",
       "  <tbody>\n",
       "    <tr>\n",
       "      <th>0</th>\n",
       "      <td>370 518 212</td>\n",
       "      <td>Технические вопросы</td>\n",
       "      <td>Доступ к сайту</td>\n",
       "      <td>Решено</td>\n",
       "      <td>045be6ac-d532-4c20-b1c9-fb82c1737464</td>\n",
       "      <td>2015-11-26 22:56:00</td>\n",
       "      <td>2015-12-03 12:11:00</td>\n",
       "      <td>Хорошо</td>\n",
       "      <td>6 days 13:15:00</td>\n",
       "      <td>7 days</td>\n",
       "    </tr>\n",
       "    <tr>\n",
       "      <th>1</th>\n",
       "      <td>2 138 799</td>\n",
       "      <td>Технические вопросы</td>\n",
       "      <td>Доступ к сайту</td>\n",
       "      <td>Решено</td>\n",
       "      <td>8ebbb8c6-7abb-4fad-a83b-35a71a83a186</td>\n",
       "      <td>2015-12-18 08:52:00</td>\n",
       "      <td>2015-12-23 06:40:00</td>\n",
       "      <td>Нет отзыва</td>\n",
       "      <td>4 days 21:48:00</td>\n",
       "      <td>5 days</td>\n",
       "    </tr>\n",
       "    <tr>\n",
       "      <th>2</th>\n",
       "      <td>2 033 101</td>\n",
       "      <td>Технические вопросы</td>\n",
       "      <td>Доступ к сайту</td>\n",
       "      <td>Решено</td>\n",
       "      <td>ee303751-4a21-4544-a4c3-56924c088028</td>\n",
       "      <td>2015-12-16 19:06:00</td>\n",
       "      <td>2015-12-26 07:46:00</td>\n",
       "      <td>Нет отзыва</td>\n",
       "      <td>9 days 12:40:00</td>\n",
       "      <td>9 days</td>\n",
       "    </tr>\n",
       "    <tr>\n",
       "      <th>3</th>\n",
       "      <td>177 122 000 003</td>\n",
       "      <td>Мобильный Avito</td>\n",
       "      <td>Android приложение</td>\n",
       "      <td>Решено</td>\n",
       "      <td>bb989fcb-277a-41bd-aaa2-f131333b629e</td>\n",
       "      <td>2015-12-01 17:08:00</td>\n",
       "      <td>2015-12-09 11:19:00</td>\n",
       "      <td>Нет отзыва</td>\n",
       "      <td>7 days 18:11:00</td>\n",
       "      <td>7 days</td>\n",
       "    </tr>\n",
       "    <tr>\n",
       "      <th>4</th>\n",
       "      <td>37 340 500 064</td>\n",
       "      <td>Технические вопросы</td>\n",
       "      <td>Доступ к сайту</td>\n",
       "      <td>Решено</td>\n",
       "      <td>e742d172-0ef1-47d8-b862-25be082d8bc0</td>\n",
       "      <td>2015-12-14 10:08:00</td>\n",
       "      <td>2015-12-15 16:14:00</td>\n",
       "      <td>Нет отзыва</td>\n",
       "      <td>1 days 06:06:00</td>\n",
       "      <td>2 days</td>\n",
       "    </tr>\n",
       "  </tbody>\n",
       "</table>\n",
       "</div>"
      ],
      "text/plain": [
       "           user_id      ticket_category  ticket_subcategory current_state  \\\n",
       "0      370 518 212  Технические вопросы      Доступ к сайту        Решено   \n",
       "1        2 138 799  Технические вопросы      Доступ к сайту        Решено   \n",
       "2        2 033 101  Технические вопросы      Доступ к сайту        Решено   \n",
       "3  177 122 000 003      Мобильный Avito  Android приложение        Решено   \n",
       "4   37 340 500 064  Технические вопросы      Доступ к сайту        Решено   \n",
       "\n",
       "                             request_id   activity_start_dt  \\\n",
       "0  045be6ac-d532-4c20-b1c9-fb82c1737464 2015-11-26 22:56:00   \n",
       "1  8ebbb8c6-7abb-4fad-a83b-35a71a83a186 2015-12-18 08:52:00   \n",
       "2  ee303751-4a21-4544-a4c3-56924c088028 2015-12-16 19:06:00   \n",
       "3  bb989fcb-277a-41bd-aaa2-f131333b629e 2015-12-01 17:08:00   \n",
       "4  e742d172-0ef1-47d8-b862-25be082d8bc0 2015-12-14 10:08:00   \n",
       "\n",
       "     fact_reaction_dt result_mentioned_by_user     time_answer  \\\n",
       "0 2015-12-03 12:11:00                   Хорошо 6 days 13:15:00   \n",
       "1 2015-12-23 06:40:00               Нет отзыва 4 days 21:48:00   \n",
       "2 2015-12-26 07:46:00               Нет отзыва 9 days 12:40:00   \n",
       "3 2015-12-09 11:19:00               Нет отзыва 7 days 18:11:00   \n",
       "4 2015-12-15 16:14:00               Нет отзыва 1 days 06:06:00   \n",
       "\n",
       "  time_answer_days  \n",
       "0           7 days  \n",
       "1           5 days  \n",
       "2           9 days  \n",
       "3           7 days  \n",
       "4           2 days  "
      ]
     },
     "execution_count": 166,
     "metadata": {},
     "output_type": "execute_result"
    }
   ],
   "source": [
    "tickets.head()"
   ]
  },
  {
   "cell_type": "code",
   "execution_count": 170,
   "metadata": {},
   "outputs": [
    {
     "data": {
      "text/html": [
       "<div>\n",
       "<style scoped>\n",
       "    .dataframe tbody tr th:only-of-type {\n",
       "        vertical-align: middle;\n",
       "    }\n",
       "\n",
       "    .dataframe tbody tr th {\n",
       "        vertical-align: top;\n",
       "    }\n",
       "\n",
       "    .dataframe thead th {\n",
       "        text-align: right;\n",
       "    }\n",
       "</style>\n",
       "<table border=\"1\" class=\"dataframe\">\n",
       "  <thead>\n",
       "    <tr style=\"text-align: right;\">\n",
       "      <th></th>\n",
       "      <th>user_id</th>\n",
       "      <th>ticket_category</th>\n",
       "      <th>ticket_subcategory</th>\n",
       "      <th>current_state</th>\n",
       "      <th>request_id</th>\n",
       "      <th>activity_start_dt</th>\n",
       "      <th>fact_reaction_dt</th>\n",
       "      <th>result_mentioned_by_user</th>\n",
       "      <th>time_answer</th>\n",
       "      <th>time_answer_days</th>\n",
       "      <th>hour_of_start</th>\n",
       "    </tr>\n",
       "  </thead>\n",
       "  <tbody>\n",
       "    <tr>\n",
       "      <th>0</th>\n",
       "      <td>370 518 212</td>\n",
       "      <td>Технические вопросы</td>\n",
       "      <td>Доступ к сайту</td>\n",
       "      <td>Решено</td>\n",
       "      <td>045be6ac-d532-4c20-b1c9-fb82c1737464</td>\n",
       "      <td>2015-11-26 22:56:00</td>\n",
       "      <td>2015-12-03 12:11:00</td>\n",
       "      <td>Хорошо</td>\n",
       "      <td>6 days 13:15:00</td>\n",
       "      <td>7 days</td>\n",
       "      <td>22</td>\n",
       "    </tr>\n",
       "    <tr>\n",
       "      <th>1</th>\n",
       "      <td>2 138 799</td>\n",
       "      <td>Технические вопросы</td>\n",
       "      <td>Доступ к сайту</td>\n",
       "      <td>Решено</td>\n",
       "      <td>8ebbb8c6-7abb-4fad-a83b-35a71a83a186</td>\n",
       "      <td>2015-12-18 08:52:00</td>\n",
       "      <td>2015-12-23 06:40:00</td>\n",
       "      <td>Нет отзыва</td>\n",
       "      <td>4 days 21:48:00</td>\n",
       "      <td>5 days</td>\n",
       "      <td>8</td>\n",
       "    </tr>\n",
       "    <tr>\n",
       "      <th>2</th>\n",
       "      <td>2 033 101</td>\n",
       "      <td>Технические вопросы</td>\n",
       "      <td>Доступ к сайту</td>\n",
       "      <td>Решено</td>\n",
       "      <td>ee303751-4a21-4544-a4c3-56924c088028</td>\n",
       "      <td>2015-12-16 19:06:00</td>\n",
       "      <td>2015-12-26 07:46:00</td>\n",
       "      <td>Нет отзыва</td>\n",
       "      <td>9 days 12:40:00</td>\n",
       "      <td>9 days</td>\n",
       "      <td>19</td>\n",
       "    </tr>\n",
       "    <tr>\n",
       "      <th>3</th>\n",
       "      <td>177 122 000 003</td>\n",
       "      <td>Мобильный Avito</td>\n",
       "      <td>Android приложение</td>\n",
       "      <td>Решено</td>\n",
       "      <td>bb989fcb-277a-41bd-aaa2-f131333b629e</td>\n",
       "      <td>2015-12-01 17:08:00</td>\n",
       "      <td>2015-12-09 11:19:00</td>\n",
       "      <td>Нет отзыва</td>\n",
       "      <td>7 days 18:11:00</td>\n",
       "      <td>7 days</td>\n",
       "      <td>17</td>\n",
       "    </tr>\n",
       "    <tr>\n",
       "      <th>4</th>\n",
       "      <td>37 340 500 064</td>\n",
       "      <td>Технические вопросы</td>\n",
       "      <td>Доступ к сайту</td>\n",
       "      <td>Решено</td>\n",
       "      <td>e742d172-0ef1-47d8-b862-25be082d8bc0</td>\n",
       "      <td>2015-12-14 10:08:00</td>\n",
       "      <td>2015-12-15 16:14:00</td>\n",
       "      <td>Нет отзыва</td>\n",
       "      <td>1 days 06:06:00</td>\n",
       "      <td>2 days</td>\n",
       "      <td>10</td>\n",
       "    </tr>\n",
       "  </tbody>\n",
       "</table>\n",
       "</div>"
      ],
      "text/plain": [
       "           user_id      ticket_category  ticket_subcategory current_state  \\\n",
       "0      370 518 212  Технические вопросы      Доступ к сайту        Решено   \n",
       "1        2 138 799  Технические вопросы      Доступ к сайту        Решено   \n",
       "2        2 033 101  Технические вопросы      Доступ к сайту        Решено   \n",
       "3  177 122 000 003      Мобильный Avito  Android приложение        Решено   \n",
       "4   37 340 500 064  Технические вопросы      Доступ к сайту        Решено   \n",
       "\n",
       "                             request_id   activity_start_dt  \\\n",
       "0  045be6ac-d532-4c20-b1c9-fb82c1737464 2015-11-26 22:56:00   \n",
       "1  8ebbb8c6-7abb-4fad-a83b-35a71a83a186 2015-12-18 08:52:00   \n",
       "2  ee303751-4a21-4544-a4c3-56924c088028 2015-12-16 19:06:00   \n",
       "3  bb989fcb-277a-41bd-aaa2-f131333b629e 2015-12-01 17:08:00   \n",
       "4  e742d172-0ef1-47d8-b862-25be082d8bc0 2015-12-14 10:08:00   \n",
       "\n",
       "     fact_reaction_dt result_mentioned_by_user     time_answer  \\\n",
       "0 2015-12-03 12:11:00                   Хорошо 6 days 13:15:00   \n",
       "1 2015-12-23 06:40:00               Нет отзыва 4 days 21:48:00   \n",
       "2 2015-12-26 07:46:00               Нет отзыва 9 days 12:40:00   \n",
       "3 2015-12-09 11:19:00               Нет отзыва 7 days 18:11:00   \n",
       "4 2015-12-15 16:14:00               Нет отзыва 1 days 06:06:00   \n",
       "\n",
       "  time_answer_days  hour_of_start  \n",
       "0           7 days             22  \n",
       "1           5 days              8  \n",
       "2           9 days             19  \n",
       "3           7 days             17  \n",
       "4           2 days             10  "
      ]
     },
     "execution_count": 170,
     "metadata": {},
     "output_type": "execute_result"
    }
   ],
   "source": [
    "tickets['hour_of_start']=tickets['activity_start_dt'].apply(lambda x: x.hour)\n",
    "tickets.head()"
   ]
  },
  {
   "cell_type": "code",
   "execution_count": 176,
   "metadata": {},
   "outputs": [
    {
     "name": "stderr",
     "output_type": "stream",
     "text": [
      "100%|█████████████████████████████████████████████████████████████████████████████████████████████████████████████████████████████████| 397522/397522 [2:56:18<00:00, 37.58it/s]\n"
     ]
    }
   ],
   "source": [
    "array_count_tickets = []\n",
    "for row in tqdm(tickets.values):\n",
    "    temp = len(tickets[(tickets['user_id'] == row[0]) & (tickets['activity_start_dt'] <= row[5])])\n",
    "    array_count_tickets.append(temp)"
   ]
  },
  {
   "cell_type": "code",
   "execution_count": 177,
   "metadata": {},
   "outputs": [
    {
     "data": {
      "text/plain": [
       "397522"
      ]
     },
     "execution_count": 177,
     "metadata": {},
     "output_type": "execute_result"
    }
   ],
   "source": [
    "len(array_count_tickets)"
   ]
  },
  {
   "cell_type": "code",
   "execution_count": 178,
   "metadata": {},
   "outputs": [],
   "source": [
    "tickets['array_count_tickets'] = array_count_tickets"
   ]
  },
  {
   "cell_type": "code",
   "execution_count": 179,
   "metadata": {},
   "outputs": [],
   "source": [
    "#tickets.to_csv('tickets.csv', index=False)"
   ]
  },
  {
   "cell_type": "code",
   "execution_count": 68,
   "metadata": {},
   "outputs": [
    {
     "data": {
      "text/plain": [
       "(397522, 12)"
      ]
     },
     "execution_count": 68,
     "metadata": {},
     "output_type": "execute_result"
    }
   ],
   "source": [
    "#tickets = pd.read_csv('tickets.csv')\n",
    "#tickets.shape"
   ]
  },
  {
   "cell_type": "code",
   "execution_count": 69,
   "metadata": {},
   "outputs": [
    {
     "data": {
      "text/html": [
       "<div>\n",
       "<style scoped>\n",
       "    .dataframe tbody tr th:only-of-type {\n",
       "        vertical-align: middle;\n",
       "    }\n",
       "\n",
       "    .dataframe tbody tr th {\n",
       "        vertical-align: top;\n",
       "    }\n",
       "\n",
       "    .dataframe thead th {\n",
       "        text-align: right;\n",
       "    }\n",
       "</style>\n",
       "<table border=\"1\" class=\"dataframe\">\n",
       "  <thead>\n",
       "    <tr style=\"text-align: right;\">\n",
       "      <th></th>\n",
       "      <th>user_id</th>\n",
       "      <th>ticket_category</th>\n",
       "      <th>ticket_subcategory</th>\n",
       "      <th>current_state</th>\n",
       "      <th>request_id</th>\n",
       "      <th>activity_start_dt</th>\n",
       "      <th>fact_reaction_dt</th>\n",
       "      <th>result_mentioned_by_user</th>\n",
       "      <th>time_answer</th>\n",
       "      <th>time_answer_days</th>\n",
       "      <th>hour_of_start</th>\n",
       "      <th>array_count_tickets</th>\n",
       "    </tr>\n",
       "  </thead>\n",
       "  <tbody>\n",
       "    <tr>\n",
       "      <th>0</th>\n",
       "      <td>370 518 212</td>\n",
       "      <td>Технические вопросы</td>\n",
       "      <td>Доступ к сайту</td>\n",
       "      <td>Решено</td>\n",
       "      <td>045be6ac-d532-4c20-b1c9-fb82c1737464</td>\n",
       "      <td>2015-11-26 22:56:00</td>\n",
       "      <td>2015-12-03 12:11:00</td>\n",
       "      <td>Хорошо</td>\n",
       "      <td>6 days 13:15:00.000000000</td>\n",
       "      <td>7 days 00:00:00.000000000</td>\n",
       "      <td>22</td>\n",
       "      <td>2</td>\n",
       "    </tr>\n",
       "    <tr>\n",
       "      <th>1</th>\n",
       "      <td>2 138 799</td>\n",
       "      <td>Технические вопросы</td>\n",
       "      <td>Доступ к сайту</td>\n",
       "      <td>Решено</td>\n",
       "      <td>8ebbb8c6-7abb-4fad-a83b-35a71a83a186</td>\n",
       "      <td>2015-12-18 08:52:00</td>\n",
       "      <td>2015-12-23 06:40:00</td>\n",
       "      <td>Нет отзыва</td>\n",
       "      <td>4 days 21:48:00.000000000</td>\n",
       "      <td>5 days 00:00:00.000000000</td>\n",
       "      <td>8</td>\n",
       "      <td>1</td>\n",
       "    </tr>\n",
       "    <tr>\n",
       "      <th>2</th>\n",
       "      <td>2 033 101</td>\n",
       "      <td>Технические вопросы</td>\n",
       "      <td>Доступ к сайту</td>\n",
       "      <td>Решено</td>\n",
       "      <td>ee303751-4a21-4544-a4c3-56924c088028</td>\n",
       "      <td>2015-12-16 19:06:00</td>\n",
       "      <td>2015-12-26 07:46:00</td>\n",
       "      <td>Нет отзыва</td>\n",
       "      <td>9 days 12:40:00.000000000</td>\n",
       "      <td>9 days 00:00:00.000000000</td>\n",
       "      <td>19</td>\n",
       "      <td>1</td>\n",
       "    </tr>\n",
       "    <tr>\n",
       "      <th>3</th>\n",
       "      <td>177 122 000 003</td>\n",
       "      <td>Мобильный Avito</td>\n",
       "      <td>Android приложение</td>\n",
       "      <td>Решено</td>\n",
       "      <td>bb989fcb-277a-41bd-aaa2-f131333b629e</td>\n",
       "      <td>2015-12-01 17:08:00</td>\n",
       "      <td>2015-12-09 11:19:00</td>\n",
       "      <td>Нет отзыва</td>\n",
       "      <td>7 days 18:11:00.000000000</td>\n",
       "      <td>7 days 00:00:00.000000000</td>\n",
       "      <td>17</td>\n",
       "      <td>1</td>\n",
       "    </tr>\n",
       "    <tr>\n",
       "      <th>4</th>\n",
       "      <td>37 340 500 064</td>\n",
       "      <td>Технические вопросы</td>\n",
       "      <td>Доступ к сайту</td>\n",
       "      <td>Решено</td>\n",
       "      <td>e742d172-0ef1-47d8-b862-25be082d8bc0</td>\n",
       "      <td>2015-12-14 10:08:00</td>\n",
       "      <td>2015-12-15 16:14:00</td>\n",
       "      <td>Нет отзыва</td>\n",
       "      <td>1 days 06:06:00.000000000</td>\n",
       "      <td>2 days 00:00:00.000000000</td>\n",
       "      <td>10</td>\n",
       "      <td>1</td>\n",
       "    </tr>\n",
       "  </tbody>\n",
       "</table>\n",
       "</div>"
      ],
      "text/plain": [
       "           user_id      ticket_category  ticket_subcategory current_state  \\\n",
       "0      370 518 212  Технические вопросы      Доступ к сайту        Решено   \n",
       "1        2 138 799  Технические вопросы      Доступ к сайту        Решено   \n",
       "2        2 033 101  Технические вопросы      Доступ к сайту        Решено   \n",
       "3  177 122 000 003      Мобильный Avito  Android приложение        Решено   \n",
       "4   37 340 500 064  Технические вопросы      Доступ к сайту        Решено   \n",
       "\n",
       "                             request_id    activity_start_dt  \\\n",
       "0  045be6ac-d532-4c20-b1c9-fb82c1737464  2015-11-26 22:56:00   \n",
       "1  8ebbb8c6-7abb-4fad-a83b-35a71a83a186  2015-12-18 08:52:00   \n",
       "2  ee303751-4a21-4544-a4c3-56924c088028  2015-12-16 19:06:00   \n",
       "3  bb989fcb-277a-41bd-aaa2-f131333b629e  2015-12-01 17:08:00   \n",
       "4  e742d172-0ef1-47d8-b862-25be082d8bc0  2015-12-14 10:08:00   \n",
       "\n",
       "      fact_reaction_dt result_mentioned_by_user                time_answer  \\\n",
       "0  2015-12-03 12:11:00                   Хорошо  6 days 13:15:00.000000000   \n",
       "1  2015-12-23 06:40:00               Нет отзыва  4 days 21:48:00.000000000   \n",
       "2  2015-12-26 07:46:00               Нет отзыва  9 days 12:40:00.000000000   \n",
       "3  2015-12-09 11:19:00               Нет отзыва  7 days 18:11:00.000000000   \n",
       "4  2015-12-15 16:14:00               Нет отзыва  1 days 06:06:00.000000000   \n",
       "\n",
       "            time_answer_days  hour_of_start  array_count_tickets  \n",
       "0  7 days 00:00:00.000000000             22                    2  \n",
       "1  5 days 00:00:00.000000000              8                    1  \n",
       "2  9 days 00:00:00.000000000             19                    1  \n",
       "3  7 days 00:00:00.000000000             17                    1  \n",
       "4  2 days 00:00:00.000000000             10                    1  "
      ]
     },
     "execution_count": 69,
     "metadata": {},
     "output_type": "execute_result"
    }
   ],
   "source": [
    "tickets.head()"
   ]
  },
  {
   "cell_type": "code",
   "execution_count": 70,
   "metadata": {},
   "outputs": [
    {
     "name": "stdout",
     "output_type": "stream",
     "text": [
      "<class 'pandas.core.frame.DataFrame'>\n",
      "RangeIndex: 397522 entries, 0 to 397521\n",
      "Data columns (total 12 columns):\n",
      " #   Column                    Non-Null Count   Dtype \n",
      "---  ------                    --------------   ----- \n",
      " 0   user_id                   397522 non-null  object\n",
      " 1   ticket_category           397522 non-null  object\n",
      " 2   ticket_subcategory        397522 non-null  object\n",
      " 3   current_state             397522 non-null  object\n",
      " 4   request_id                397522 non-null  object\n",
      " 5   activity_start_dt         397522 non-null  object\n",
      " 6   fact_reaction_dt          397522 non-null  object\n",
      " 7   result_mentioned_by_user  397522 non-null  object\n",
      " 8   time_answer               397522 non-null  object\n",
      " 9   time_answer_days          397522 non-null  object\n",
      " 10  hour_of_start             397522 non-null  int64 \n",
      " 11  array_count_tickets       397522 non-null  int64 \n",
      "dtypes: int64(2), object(10)\n",
      "memory usage: 36.4+ MB\n"
     ]
    }
   ],
   "source": [
    "tickets.info()"
   ]
  },
  {
   "cell_type": "markdown",
   "metadata": {},
   "source": [
    "# Кол-во отзывов с разбивкой по оценке"
   ]
  },
  {
   "cell_type": "code",
   "execution_count": 31,
   "metadata": {},
   "outputs": [],
   "source": [
    "from collections import Counter"
   ]
  },
  {
   "cell_type": "code",
   "execution_count": 52,
   "metadata": {},
   "outputs": [],
   "source": [
    "a = Counter()"
   ]
  },
  {
   "cell_type": "code",
   "execution_count": 53,
   "metadata": {},
   "outputs": [
    {
     "data": {
      "text/plain": [
       "Counter({'Хорошо': 1})"
      ]
     },
     "execution_count": 53,
     "metadata": {},
     "output_type": "execute_result"
    }
   ],
   "source": [
    "a += Counter(['Хорошо'])\n",
    "a"
   ]
  },
  {
   "cell_type": "code",
   "execution_count": 73,
   "metadata": {},
   "outputs": [
    {
     "name": "stderr",
     "output_type": "stream",
     "text": [
      "100%|█████████████████████████████████████████████████████████████████████████████████████████████████████████████████████████████████| 397522/397522 [4:44:15<00:00, 23.31it/s]\n"
     ]
    }
   ],
   "source": [
    "array_count_counters = []\n",
    "for row in tqdm(tickets.values):\n",
    "    temp = Counter(tickets[(tickets['user_id'] == row[0]) & (tickets['activity_start_dt'] < row[5])]['result_mentioned_by_user'])\n",
    "    temp = [temp['Не удовлетворительно'], temp['Удовлетворительно'], temp['Нейтрально'], temp['Хорошо'], \n",
    "     temp['Отлично'],temp['Нет отзыва']]\n",
    "    array_count_counters.append(temp)"
   ]
  },
  {
   "cell_type": "code",
   "execution_count": 75,
   "metadata": {},
   "outputs": [],
   "source": [
    "count_score = pd.DataFrame(array_count_counters, columns=['Не удовлетворительно', 'Удовлетворительно', 'Нейтрально', 'Хорошо', \n",
    "     'Отлично', 'Нет отзыва'])"
   ]
  },
  {
   "cell_type": "code",
   "execution_count": 76,
   "metadata": {},
   "outputs": [
    {
     "data": {
      "text/html": [
       "<div>\n",
       "<style scoped>\n",
       "    .dataframe tbody tr th:only-of-type {\n",
       "        vertical-align: middle;\n",
       "    }\n",
       "\n",
       "    .dataframe tbody tr th {\n",
       "        vertical-align: top;\n",
       "    }\n",
       "\n",
       "    .dataframe thead th {\n",
       "        text-align: right;\n",
       "    }\n",
       "</style>\n",
       "<table border=\"1\" class=\"dataframe\">\n",
       "  <thead>\n",
       "    <tr style=\"text-align: right;\">\n",
       "      <th></th>\n",
       "      <th>Не удовлетворительно</th>\n",
       "      <th>Удовлетворительно</th>\n",
       "      <th>Нейтрально</th>\n",
       "      <th>Хорошо</th>\n",
       "      <th>Отлично</th>\n",
       "      <th>Нет отзыва</th>\n",
       "    </tr>\n",
       "  </thead>\n",
       "  <tbody>\n",
       "    <tr>\n",
       "      <th>0</th>\n",
       "      <td>0</td>\n",
       "      <td>0</td>\n",
       "      <td>0</td>\n",
       "      <td>0</td>\n",
       "      <td>0</td>\n",
       "      <td>1</td>\n",
       "    </tr>\n",
       "    <tr>\n",
       "      <th>1</th>\n",
       "      <td>0</td>\n",
       "      <td>0</td>\n",
       "      <td>0</td>\n",
       "      <td>0</td>\n",
       "      <td>0</td>\n",
       "      <td>0</td>\n",
       "    </tr>\n",
       "    <tr>\n",
       "      <th>2</th>\n",
       "      <td>0</td>\n",
       "      <td>0</td>\n",
       "      <td>0</td>\n",
       "      <td>0</td>\n",
       "      <td>0</td>\n",
       "      <td>0</td>\n",
       "    </tr>\n",
       "    <tr>\n",
       "      <th>3</th>\n",
       "      <td>0</td>\n",
       "      <td>0</td>\n",
       "      <td>0</td>\n",
       "      <td>0</td>\n",
       "      <td>0</td>\n",
       "      <td>0</td>\n",
       "    </tr>\n",
       "    <tr>\n",
       "      <th>4</th>\n",
       "      <td>0</td>\n",
       "      <td>0</td>\n",
       "      <td>0</td>\n",
       "      <td>0</td>\n",
       "      <td>0</td>\n",
       "      <td>0</td>\n",
       "    </tr>\n",
       "  </tbody>\n",
       "</table>\n",
       "</div>"
      ],
      "text/plain": [
       "   Не удовлетворительно  Удовлетворительно  Нейтрально  Хорошо  Отлично  \\\n",
       "0                     0                  0           0       0        0   \n",
       "1                     0                  0           0       0        0   \n",
       "2                     0                  0           0       0        0   \n",
       "3                     0                  0           0       0        0   \n",
       "4                     0                  0           0       0        0   \n",
       "\n",
       "   Нет отзыва  \n",
       "0           1  \n",
       "1           0  \n",
       "2           0  \n",
       "3           0  \n",
       "4           0  "
      ]
     },
     "execution_count": 76,
     "metadata": {},
     "output_type": "execute_result"
    }
   ],
   "source": [
    "count_score.head()"
   ]
  },
  {
   "cell_type": "code",
   "execution_count": 78,
   "metadata": {},
   "outputs": [],
   "source": [
    "count_score.index = tickets.index"
   ]
  },
  {
   "cell_type": "code",
   "execution_count": 81,
   "metadata": {},
   "outputs": [],
   "source": [
    "#count_score.to_csv('count_score.csv', index=False)"
   ]
  },
  {
   "cell_type": "markdown",
   "metadata": {},
   "source": [
    "# Выходной или нет (праздники лень искать как учитывать)"
   ]
  },
  {
   "cell_type": "code",
   "execution_count": 71,
   "metadata": {},
   "outputs": [],
   "source": [
    "tickets['activity_start_dt'] = tickets['activity_start_dt'].apply(lambda x: pd.Timestamp(x))"
   ]
  },
  {
   "cell_type": "code",
   "execution_count": 72,
   "metadata": {},
   "outputs": [],
   "source": [
    "tickets['is_holyday'] = tickets['activity_start_dt'].apply(lambda x: x.dayofweek > 5)"
   ]
  },
  {
   "cell_type": "markdown",
   "metadata": {},
   "source": [
    "# Препроцессинг"
   ]
  },
  {
   "cell_type": "code",
   "execution_count": 73,
   "metadata": {},
   "outputs": [],
   "source": [
    "tickets['time_answer'] = tickets['time_answer'].apply(lambda x: pd.Timedelta(x))"
   ]
  },
  {
   "cell_type": "code",
   "execution_count": 74,
   "metadata": {},
   "outputs": [],
   "source": [
    "from sklearn.preprocessing import StandardScaler"
   ]
  },
  {
   "cell_type": "code",
   "execution_count": 75,
   "metadata": {},
   "outputs": [],
   "source": [
    "scaler = StandardScaler()\n",
    "seconds = np.array(tickets['time_answer'].apply(lambda x: x.total_seconds())).reshape(-1,1)\n",
    "scaler.fit(seconds)\n",
    "standart_feature = scaler.transform(seconds)"
   ]
  },
  {
   "cell_type": "code",
   "execution_count": 76,
   "metadata": {},
   "outputs": [
    {
     "data": {
      "text/plain": [
       "Index(['user_id', 'ticket_category', 'ticket_subcategory', 'current_state',\n",
       "       'request_id', 'activity_start_dt', 'fact_reaction_dt',\n",
       "       'result_mentioned_by_user', 'time_answer', 'time_answer_days',\n",
       "       'hour_of_start', 'array_count_tickets', 'is_holyday'],\n",
       "      dtype='object')"
      ]
     },
     "execution_count": 76,
     "metadata": {},
     "output_type": "execute_result"
    }
   ],
   "source": [
    "tickets.columns"
   ]
  },
  {
   "cell_type": "code",
   "execution_count": 77,
   "metadata": {},
   "outputs": [
    {
     "data": {
      "text/plain": [
       "Index(['Не удовлетворительно', 'Удовлетворительно', 'Нейтрально', 'Хорошо',\n",
       "       'Отлично', 'Нет отзыва'],\n",
       "      dtype='object')"
      ]
     },
     "execution_count": 77,
     "metadata": {},
     "output_type": "execute_result"
    }
   ],
   "source": [
    "#count_score = pd.read_csv('count_score.csv')\n",
    "count_score.columns"
   ]
  },
  {
   "cell_type": "code",
   "execution_count": 78,
   "metadata": {},
   "outputs": [
    {
     "data": {
      "text/plain": [
       "array(['Технические вопросы', 'Мобильный Avito',\n",
       "       'Рекламные сервисы Avito', 'Платные услуги и сервисы',\n",
       "       'Блокировки и отклонения',\n",
       "       'Работа с объявлениями и личным кабинетом',\n",
       "       'Магазины, Автозагрузка и юридические лица',\n",
       "       'Безопасность на Avito'], dtype=object)"
      ]
     },
     "execution_count": 78,
     "metadata": {},
     "output_type": "execute_result"
    }
   ],
   "source": [
    "tickets['ticket_category'].unique()"
   ]
  },
  {
   "cell_type": "code",
   "execution_count": 91,
   "metadata": {},
   "outputs": [
    {
     "data": {
      "text/html": [
       "<div>\n",
       "<style scoped>\n",
       "    .dataframe tbody tr th:only-of-type {\n",
       "        vertical-align: middle;\n",
       "    }\n",
       "\n",
       "    .dataframe tbody tr th {\n",
       "        vertical-align: top;\n",
       "    }\n",
       "\n",
       "    .dataframe thead th {\n",
       "        text-align: right;\n",
       "    }\n",
       "</style>\n",
       "<table border=\"1\" class=\"dataframe\">\n",
       "  <thead>\n",
       "    <tr style=\"text-align: right;\">\n",
       "      <th></th>\n",
       "      <th>Не удовлетворительно</th>\n",
       "      <th>Удовлетворительно</th>\n",
       "      <th>Нейтрально</th>\n",
       "      <th>Хорошо</th>\n",
       "      <th>Отлично</th>\n",
       "      <th>Нет отзыва</th>\n",
       "    </tr>\n",
       "  </thead>\n",
       "  <tbody>\n",
       "    <tr>\n",
       "      <th>0</th>\n",
       "      <td>0</td>\n",
       "      <td>0</td>\n",
       "      <td>0</td>\n",
       "      <td>0</td>\n",
       "      <td>0</td>\n",
       "      <td>1</td>\n",
       "    </tr>\n",
       "    <tr>\n",
       "      <th>1</th>\n",
       "      <td>0</td>\n",
       "      <td>0</td>\n",
       "      <td>0</td>\n",
       "      <td>0</td>\n",
       "      <td>0</td>\n",
       "      <td>0</td>\n",
       "    </tr>\n",
       "    <tr>\n",
       "      <th>2</th>\n",
       "      <td>0</td>\n",
       "      <td>0</td>\n",
       "      <td>0</td>\n",
       "      <td>0</td>\n",
       "      <td>0</td>\n",
       "      <td>0</td>\n",
       "    </tr>\n",
       "    <tr>\n",
       "      <th>3</th>\n",
       "      <td>0</td>\n",
       "      <td>0</td>\n",
       "      <td>0</td>\n",
       "      <td>0</td>\n",
       "      <td>0</td>\n",
       "      <td>0</td>\n",
       "    </tr>\n",
       "    <tr>\n",
       "      <th>4</th>\n",
       "      <td>0</td>\n",
       "      <td>0</td>\n",
       "      <td>0</td>\n",
       "      <td>0</td>\n",
       "      <td>0</td>\n",
       "      <td>0</td>\n",
       "    </tr>\n",
       "    <tr>\n",
       "      <th>...</th>\n",
       "      <td>...</td>\n",
       "      <td>...</td>\n",
       "      <td>...</td>\n",
       "      <td>...</td>\n",
       "      <td>...</td>\n",
       "      <td>...</td>\n",
       "    </tr>\n",
       "    <tr>\n",
       "      <th>397517</th>\n",
       "      <td>0</td>\n",
       "      <td>0</td>\n",
       "      <td>0</td>\n",
       "      <td>0</td>\n",
       "      <td>0</td>\n",
       "      <td>3</td>\n",
       "    </tr>\n",
       "    <tr>\n",
       "      <th>397518</th>\n",
       "      <td>0</td>\n",
       "      <td>0</td>\n",
       "      <td>0</td>\n",
       "      <td>0</td>\n",
       "      <td>0</td>\n",
       "      <td>2</td>\n",
       "    </tr>\n",
       "    <tr>\n",
       "      <th>397519</th>\n",
       "      <td>0</td>\n",
       "      <td>0</td>\n",
       "      <td>0</td>\n",
       "      <td>0</td>\n",
       "      <td>0</td>\n",
       "      <td>4</td>\n",
       "    </tr>\n",
       "    <tr>\n",
       "      <th>397520</th>\n",
       "      <td>0</td>\n",
       "      <td>0</td>\n",
       "      <td>0</td>\n",
       "      <td>0</td>\n",
       "      <td>0</td>\n",
       "      <td>0</td>\n",
       "    </tr>\n",
       "    <tr>\n",
       "      <th>397521</th>\n",
       "      <td>0</td>\n",
       "      <td>0</td>\n",
       "      <td>0</td>\n",
       "      <td>0</td>\n",
       "      <td>0</td>\n",
       "      <td>0</td>\n",
       "    </tr>\n",
       "  </tbody>\n",
       "</table>\n",
       "<p>397522 rows × 6 columns</p>\n",
       "</div>"
      ],
      "text/plain": [
       "        Не удовлетворительно  Удовлетворительно  Нейтрально  Хорошо  Отлично  \\\n",
       "0                          0                  0           0       0        0   \n",
       "1                          0                  0           0       0        0   \n",
       "2                          0                  0           0       0        0   \n",
       "3                          0                  0           0       0        0   \n",
       "4                          0                  0           0       0        0   \n",
       "...                      ...                ...         ...     ...      ...   \n",
       "397517                     0                  0           0       0        0   \n",
       "397518                     0                  0           0       0        0   \n",
       "397519                     0                  0           0       0        0   \n",
       "397520                     0                  0           0       0        0   \n",
       "397521                     0                  0           0       0        0   \n",
       "\n",
       "        Нет отзыва  \n",
       "0                1  \n",
       "1                0  \n",
       "2                0  \n",
       "3                0  \n",
       "4                0  \n",
       "...            ...  \n",
       "397517           3  \n",
       "397518           2  \n",
       "397519           4  \n",
       "397520           0  \n",
       "397521           0  \n",
       "\n",
       "[397522 rows x 6 columns]"
      ]
     },
     "execution_count": 91,
     "metadata": {},
     "output_type": "execute_result"
    }
   ],
   "source": [
    "count_score"
   ]
  },
  {
   "cell_type": "code",
   "execution_count": 47,
   "metadata": {},
   "outputs": [
    {
     "data": {
      "text/html": [
       "<div>\n",
       "<style scoped>\n",
       "    .dataframe tbody tr th:only-of-type {\n",
       "        vertical-align: middle;\n",
       "    }\n",
       "\n",
       "    .dataframe tbody tr th {\n",
       "        vertical-align: top;\n",
       "    }\n",
       "\n",
       "    .dataframe thead th {\n",
       "        text-align: right;\n",
       "    }\n",
       "</style>\n",
       "<table border=\"1\" class=\"dataframe\">\n",
       "  <thead>\n",
       "    <tr style=\"text-align: right;\">\n",
       "      <th></th>\n",
       "      <th>Безопасность на Avito</th>\n",
       "      <th>Блокировки и отклонения</th>\n",
       "      <th>Магазины, Автозагрузка и юридические лица</th>\n",
       "      <th>Мобильный Avito</th>\n",
       "      <th>Платные услуги и сервисы</th>\n",
       "      <th>Работа с объявлениями и личным кабинетом</th>\n",
       "      <th>Рекламные сервисы Avito</th>\n",
       "      <th>Технические вопросы</th>\n",
       "      <th>result_mentioned_by_user</th>\n",
       "      <th>time_answer</th>\n",
       "      <th>hour_of_start</th>\n",
       "      <th>Не удовлетворительно</th>\n",
       "      <th>Удовлетворительно</th>\n",
       "      <th>Нейтрально</th>\n",
       "      <th>Хорошо</th>\n",
       "      <th>Отлично</th>\n",
       "      <th>Нет отзыва</th>\n",
       "    </tr>\n",
       "  </thead>\n",
       "  <tbody>\n",
       "    <tr>\n",
       "      <th>0</th>\n",
       "      <td>0</td>\n",
       "      <td>0</td>\n",
       "      <td>0</td>\n",
       "      <td>0</td>\n",
       "      <td>0</td>\n",
       "      <td>0</td>\n",
       "      <td>0</td>\n",
       "      <td>1</td>\n",
       "      <td>Хорошо</td>\n",
       "      <td>1.128340</td>\n",
       "      <td>22</td>\n",
       "      <td>0</td>\n",
       "      <td>0</td>\n",
       "      <td>0</td>\n",
       "      <td>0</td>\n",
       "      <td>0</td>\n",
       "      <td>1</td>\n",
       "    </tr>\n",
       "    <tr>\n",
       "      <th>1</th>\n",
       "      <td>0</td>\n",
       "      <td>0</td>\n",
       "      <td>0</td>\n",
       "      <td>0</td>\n",
       "      <td>0</td>\n",
       "      <td>0</td>\n",
       "      <td>0</td>\n",
       "      <td>1</td>\n",
       "      <td>Нет отзыва</td>\n",
       "      <td>0.713697</td>\n",
       "      <td>8</td>\n",
       "      <td>0</td>\n",
       "      <td>0</td>\n",
       "      <td>0</td>\n",
       "      <td>0</td>\n",
       "      <td>0</td>\n",
       "      <td>0</td>\n",
       "    </tr>\n",
       "    <tr>\n",
       "      <th>2</th>\n",
       "      <td>0</td>\n",
       "      <td>0</td>\n",
       "      <td>0</td>\n",
       "      <td>0</td>\n",
       "      <td>0</td>\n",
       "      <td>0</td>\n",
       "      <td>0</td>\n",
       "      <td>1</td>\n",
       "      <td>Нет отзыва</td>\n",
       "      <td>1.878974</td>\n",
       "      <td>19</td>\n",
       "      <td>0</td>\n",
       "      <td>0</td>\n",
       "      <td>0</td>\n",
       "      <td>0</td>\n",
       "      <td>0</td>\n",
       "      <td>0</td>\n",
       "    </tr>\n",
       "    <tr>\n",
       "      <th>3</th>\n",
       "      <td>0</td>\n",
       "      <td>0</td>\n",
       "      <td>0</td>\n",
       "      <td>1</td>\n",
       "      <td>0</td>\n",
       "      <td>0</td>\n",
       "      <td>0</td>\n",
       "      <td>0</td>\n",
       "      <td>Нет отзыва</td>\n",
       "      <td>1.432448</td>\n",
       "      <td>17</td>\n",
       "      <td>0</td>\n",
       "      <td>0</td>\n",
       "      <td>0</td>\n",
       "      <td>0</td>\n",
       "      <td>0</td>\n",
       "      <td>0</td>\n",
       "    </tr>\n",
       "    <tr>\n",
       "      <th>4</th>\n",
       "      <td>0</td>\n",
       "      <td>0</td>\n",
       "      <td>0</td>\n",
       "      <td>0</td>\n",
       "      <td>0</td>\n",
       "      <td>0</td>\n",
       "      <td>0</td>\n",
       "      <td>1</td>\n",
       "      <td>Нет отзыва</td>\n",
       "      <td>-0.208085</td>\n",
       "      <td>10</td>\n",
       "      <td>0</td>\n",
       "      <td>0</td>\n",
       "      <td>0</td>\n",
       "      <td>0</td>\n",
       "      <td>0</td>\n",
       "      <td>0</td>\n",
       "    </tr>\n",
       "  </tbody>\n",
       "</table>\n",
       "</div>"
      ],
      "text/plain": [
       "   Безопасность на Avito  Блокировки и отклонения  \\\n",
       "0                      0                        0   \n",
       "1                      0                        0   \n",
       "2                      0                        0   \n",
       "3                      0                        0   \n",
       "4                      0                        0   \n",
       "\n",
       "   Магазины, Автозагрузка и юридические лица  Мобильный Avito  \\\n",
       "0                                          0                0   \n",
       "1                                          0                0   \n",
       "2                                          0                0   \n",
       "3                                          0                1   \n",
       "4                                          0                0   \n",
       "\n",
       "   Платные услуги и сервисы  Работа с объявлениями и личным кабинетом  \\\n",
       "0                         0                                         0   \n",
       "1                         0                                         0   \n",
       "2                         0                                         0   \n",
       "3                         0                                         0   \n",
       "4                         0                                         0   \n",
       "\n",
       "   Рекламные сервисы Avito  Технические вопросы result_mentioned_by_user  \\\n",
       "0                        0                    1                   Хорошо   \n",
       "1                        0                    1               Нет отзыва   \n",
       "2                        0                    1               Нет отзыва   \n",
       "3                        0                    0               Нет отзыва   \n",
       "4                        0                    1               Нет отзыва   \n",
       "\n",
       "   time_answer  hour_of_start  Не удовлетворительно  Удовлетворительно  \\\n",
       "0     1.128340             22                     0                  0   \n",
       "1     0.713697              8                     0                  0   \n",
       "2     1.878974             19                     0                  0   \n",
       "3     1.432448             17                     0                  0   \n",
       "4    -0.208085             10                     0                  0   \n",
       "\n",
       "   Нейтрально  Хорошо  Отлично  Нет отзыва  \n",
       "0           0       0        0           1  \n",
       "1           0       0        0           0  \n",
       "2           0       0        0           0  \n",
       "3           0       0        0           0  \n",
       "4           0       0        0           0  "
      ]
     },
     "execution_count": 47,
     "metadata": {},
     "output_type": "execute_result"
    }
   ],
   "source": [
    "new_tickets = pd.DataFrame()\n",
    "new_tickets = pd.get_dummies(tickets['ticket_category']) \n",
    "new_tickets['result_mentioned_by_user'] = tickets['result_mentioned_by_user']\n",
    "new_tickets['time_answer'] = standart_feature\n",
    "new_tickets['hour_of_start'] = tickets['hour_of_start']\n",
    "#new_tickets['array_count_tickets'] = tickets['array_count_tickets']\n",
    "new_tickets[count_score.columns] = count_score\n",
    "new_tickets.head()"
   ]
  },
  {
   "cell_type": "code",
   "execution_count": 48,
   "metadata": {},
   "outputs": [],
   "source": [
    "control_X = new_tickets[new_tickets['result_mentioned_by_user'] == 'Нет отзыва'].drop('result_mentioned_by_user', axis=1)\n",
    "train = new_tickets[new_tickets['result_mentioned_by_user'] != 'Нет отзыва']"
   ]
  },
  {
   "cell_type": "code",
   "execution_count": 49,
   "metadata": {},
   "outputs": [],
   "source": [
    "#X = np.array(train['time_answer']).reshape(-1,1)\n",
    "X = train.drop('result_mentioned_by_user', axis=1)\n",
    "y = train['result_mentioned_by_user']"
   ]
  },
  {
   "cell_type": "code",
   "execution_count": 50,
   "metadata": {},
   "outputs": [
    {
     "data": {
      "text/plain": [
       "(120420, 16)"
      ]
     },
     "execution_count": 50,
     "metadata": {},
     "output_type": "execute_result"
    }
   ],
   "source": [
    "X.shape"
   ]
  },
  {
   "cell_type": "markdown",
   "metadata": {},
   "source": [
    "# Обучение"
   ]
  },
  {
   "cell_type": "code",
   "execution_count": 36,
   "metadata": {},
   "outputs": [],
   "source": [
    "from sklearn.model_selection import GridSearchCV\n",
    "from sklearn.model_selection import train_test_split\n",
    "from sklearn.ensemble import RandomForestClassifier\n",
    "from sklearn.metrics import accuracy_score"
   ]
  },
  {
   "cell_type": "code",
   "execution_count": 116,
   "metadata": {},
   "outputs": [],
   "source": [
    "X_train, X_test, y_train, y_test = train_test_split(X, y, test_size=0.2, random_state=1234)\n",
    "\n",
    "param = {\n",
    "    'max_depth': [5, 10, 15],\n",
    "    'n_estimators':[100, 200, 250, 300]\n",
    "}\n",
    "\n",
    "grid_random_forest = GridSearchCV(estimator=RandomForestClassifier()\n",
    "                            , cv=3\n",
    "                            , param_grid = param\n",
    "                            , n_jobs = -1\n",
    "                           )"
   ]
  },
  {
   "cell_type": "code",
   "execution_count": 117,
   "metadata": {},
   "outputs": [
    {
     "name": "stdout",
     "output_type": "stream",
     "text": [
      "Wall time: 2min 43s\n"
     ]
    },
    {
     "data": {
      "text/plain": [
       "GridSearchCV(cv=5, estimator=RandomForestClassifier(), n_jobs=-1,\n",
       "             param_grid={'max_depth': [5, 10, 25],\n",
       "                         'n_estimators': [100, 200, 300]})"
      ]
     },
     "execution_count": 117,
     "metadata": {},
     "output_type": "execute_result"
    }
   ],
   "source": [
    "%%time\n",
    "grid_random_forest.fit(X_train, y_train)"
   ]
  },
  {
   "cell_type": "code",
   "execution_count": 118,
   "metadata": {},
   "outputs": [
    {
     "name": "stdout",
     "output_type": "stream",
     "text": [
      "RandomForestClassifier(max_depth=10, n_estimators=200)\n"
     ]
    }
   ],
   "source": [
    "print(grid_random_forest.best_estimator_)"
   ]
  },
  {
   "cell_type": "code",
   "execution_count": 119,
   "metadata": {},
   "outputs": [
    {
     "data": {
      "text/plain": [
       "array([0.00564535, 0.05326296, 0.00243842, 0.00045765, 0.01326967,\n",
       "       0.02291306, 0.00263391, 0.04515996, 0.19865579, 0.04143103,\n",
       "       0.27085145, 0.04510381, 0.05931614, 0.06754519, 0.09806461,\n",
       "       0.073251  ])"
      ]
     },
     "execution_count": 119,
     "metadata": {},
     "output_type": "execute_result"
    }
   ],
   "source": [
    "grid_random_forest.best_estimator_.feature_importances_"
   ]
  },
  {
   "cell_type": "code",
   "execution_count": 120,
   "metadata": {},
   "outputs": [
    {
     "name": "stdout",
     "output_type": "stream",
     "text": [
      "Accurancy:  0.5367048663012789\n"
     ]
    }
   ],
   "source": [
    "y_pred = grid_random_forest.predict(X_test)\n",
    "\n",
    "print(\"Accurancy: \", accuracy_score(y_test, y_pred))"
   ]
  },
  {
   "cell_type": "code",
   "execution_count": 121,
   "metadata": {},
   "outputs": [
    {
     "data": {
      "text/plain": [
       "294621       Отлично\n",
       "350630       Отлично\n",
       "136234    Нейтрально\n",
       "64448        Отлично\n",
       "26833        Отлично\n",
       "             ...    \n",
       "200052       Отлично\n",
       "149213       Отлично\n",
       "51659         Хорошо\n",
       "77211        Отлично\n",
       "20193        Отлично\n",
       "Name: result_mentioned_by_user, Length: 24084, dtype: object"
      ]
     },
     "execution_count": 121,
     "metadata": {},
     "output_type": "execute_result"
    }
   ],
   "source": [
    "y_test"
   ]
  },
  {
   "cell_type": "code",
   "execution_count": 122,
   "metadata": {},
   "outputs": [
    {
     "data": {
      "text/plain": [
       "Отлично                 21239\n",
       "Не удовлетворительно     2071\n",
       "Хорошо                    423\n",
       "Нейтрально                242\n",
       "Удовлетворительно         109\n",
       "dtype: int64"
      ]
     },
     "execution_count": 122,
     "metadata": {},
     "output_type": "execute_result"
    }
   ],
   "source": [
    "pd.Series(y_pred).value_counts()"
   ]
  },
  {
   "cell_type": "code",
   "execution_count": 123,
   "metadata": {},
   "outputs": [
    {
     "data": {
      "text/plain": [
       "Отлично                 11956\n",
       "Не удовлетворительно     4872\n",
       "Хорошо                   3657\n",
       "Нейтрально               2151\n",
       "Удовлетворительно        1448\n",
       "Name: result_mentioned_by_user, dtype: int64"
      ]
     },
     "execution_count": 123,
     "metadata": {},
     "output_type": "execute_result"
    }
   ],
   "source": [
    "y_test.value_counts()"
   ]
  },
  {
   "cell_type": "code",
   "execution_count": 106,
   "metadata": {},
   "outputs": [
    {
     "data": {
      "text/plain": [
       "Отлично                 47793\n",
       "Не удовлетворительно    19637\n",
       "Хорошо                  14898\n",
       "Нейтрально               8427\n",
       "Удовлетворительно        5581\n",
       "Name: result_mentioned_by_user, dtype: int64"
      ]
     },
     "execution_count": 106,
     "metadata": {},
     "output_type": "execute_result"
    }
   ],
   "source": [
    "y_train.value_counts()"
   ]
  },
  {
   "cell_type": "markdown",
   "metadata": {},
   "source": [
    "# Только критики и сторонники"
   ]
  },
  {
   "cell_type": "code",
   "execution_count": 54,
   "metadata": {},
   "outputs": [
    {
     "data": {
      "text/html": [
       "<div>\n",
       "<style scoped>\n",
       "    .dataframe tbody tr th:only-of-type {\n",
       "        vertical-align: middle;\n",
       "    }\n",
       "\n",
       "    .dataframe tbody tr th {\n",
       "        vertical-align: top;\n",
       "    }\n",
       "\n",
       "    .dataframe thead th {\n",
       "        text-align: right;\n",
       "    }\n",
       "</style>\n",
       "<table border=\"1\" class=\"dataframe\">\n",
       "  <thead>\n",
       "    <tr style=\"text-align: right;\">\n",
       "      <th></th>\n",
       "      <th>Безопасность на Avito</th>\n",
       "      <th>Блокировки и отклонения</th>\n",
       "      <th>Магазины, Автозагрузка и юридические лица</th>\n",
       "      <th>Мобильный Avito</th>\n",
       "      <th>Платные услуги и сервисы</th>\n",
       "      <th>Работа с объявлениями и личным кабинетом</th>\n",
       "      <th>Рекламные сервисы Avito</th>\n",
       "      <th>Технические вопросы</th>\n",
       "      <th>result_mentioned_by_user</th>\n",
       "      <th>time_answer</th>\n",
       "      <th>hour_of_start</th>\n",
       "      <th>Не удовлетворительно</th>\n",
       "      <th>Удовлетворительно</th>\n",
       "      <th>Нейтрально</th>\n",
       "      <th>Хорошо</th>\n",
       "      <th>Отлично</th>\n",
       "      <th>Нет отзыва</th>\n",
       "    </tr>\n",
       "  </thead>\n",
       "  <tbody>\n",
       "    <tr>\n",
       "      <th>0</th>\n",
       "      <td>0</td>\n",
       "      <td>0</td>\n",
       "      <td>0</td>\n",
       "      <td>0</td>\n",
       "      <td>0</td>\n",
       "      <td>0</td>\n",
       "      <td>0</td>\n",
       "      <td>1</td>\n",
       "      <td>Хорошо</td>\n",
       "      <td>1.128340</td>\n",
       "      <td>22</td>\n",
       "      <td>0</td>\n",
       "      <td>0</td>\n",
       "      <td>0</td>\n",
       "      <td>0</td>\n",
       "      <td>0</td>\n",
       "      <td>1</td>\n",
       "    </tr>\n",
       "    <tr>\n",
       "      <th>1</th>\n",
       "      <td>0</td>\n",
       "      <td>0</td>\n",
       "      <td>0</td>\n",
       "      <td>0</td>\n",
       "      <td>0</td>\n",
       "      <td>0</td>\n",
       "      <td>0</td>\n",
       "      <td>1</td>\n",
       "      <td>Нет отзыва</td>\n",
       "      <td>0.713697</td>\n",
       "      <td>8</td>\n",
       "      <td>0</td>\n",
       "      <td>0</td>\n",
       "      <td>0</td>\n",
       "      <td>0</td>\n",
       "      <td>0</td>\n",
       "      <td>0</td>\n",
       "    </tr>\n",
       "    <tr>\n",
       "      <th>2</th>\n",
       "      <td>0</td>\n",
       "      <td>0</td>\n",
       "      <td>0</td>\n",
       "      <td>0</td>\n",
       "      <td>0</td>\n",
       "      <td>0</td>\n",
       "      <td>0</td>\n",
       "      <td>1</td>\n",
       "      <td>Нет отзыва</td>\n",
       "      <td>1.878974</td>\n",
       "      <td>19</td>\n",
       "      <td>0</td>\n",
       "      <td>0</td>\n",
       "      <td>0</td>\n",
       "      <td>0</td>\n",
       "      <td>0</td>\n",
       "      <td>0</td>\n",
       "    </tr>\n",
       "    <tr>\n",
       "      <th>3</th>\n",
       "      <td>0</td>\n",
       "      <td>0</td>\n",
       "      <td>0</td>\n",
       "      <td>1</td>\n",
       "      <td>0</td>\n",
       "      <td>0</td>\n",
       "      <td>0</td>\n",
       "      <td>0</td>\n",
       "      <td>Нет отзыва</td>\n",
       "      <td>1.432448</td>\n",
       "      <td>17</td>\n",
       "      <td>0</td>\n",
       "      <td>0</td>\n",
       "      <td>0</td>\n",
       "      <td>0</td>\n",
       "      <td>0</td>\n",
       "      <td>0</td>\n",
       "    </tr>\n",
       "    <tr>\n",
       "      <th>4</th>\n",
       "      <td>0</td>\n",
       "      <td>0</td>\n",
       "      <td>0</td>\n",
       "      <td>0</td>\n",
       "      <td>0</td>\n",
       "      <td>0</td>\n",
       "      <td>0</td>\n",
       "      <td>1</td>\n",
       "      <td>Нет отзыва</td>\n",
       "      <td>-0.208085</td>\n",
       "      <td>10</td>\n",
       "      <td>0</td>\n",
       "      <td>0</td>\n",
       "      <td>0</td>\n",
       "      <td>0</td>\n",
       "      <td>0</td>\n",
       "      <td>0</td>\n",
       "    </tr>\n",
       "  </tbody>\n",
       "</table>\n",
       "</div>"
      ],
      "text/plain": [
       "   Безопасность на Avito  Блокировки и отклонения  \\\n",
       "0                      0                        0   \n",
       "1                      0                        0   \n",
       "2                      0                        0   \n",
       "3                      0                        0   \n",
       "4                      0                        0   \n",
       "\n",
       "   Магазины, Автозагрузка и юридические лица  Мобильный Avito  \\\n",
       "0                                          0                0   \n",
       "1                                          0                0   \n",
       "2                                          0                0   \n",
       "3                                          0                1   \n",
       "4                                          0                0   \n",
       "\n",
       "   Платные услуги и сервисы  Работа с объявлениями и личным кабинетом  \\\n",
       "0                         0                                         0   \n",
       "1                         0                                         0   \n",
       "2                         0                                         0   \n",
       "3                         0                                         0   \n",
       "4                         0                                         0   \n",
       "\n",
       "   Рекламные сервисы Avito  Технические вопросы result_mentioned_by_user  \\\n",
       "0                        0                    1                   Хорошо   \n",
       "1                        0                    1               Нет отзыва   \n",
       "2                        0                    1               Нет отзыва   \n",
       "3                        0                    0               Нет отзыва   \n",
       "4                        0                    1               Нет отзыва   \n",
       "\n",
       "   time_answer  hour_of_start  Не удовлетворительно  Удовлетворительно  \\\n",
       "0     1.128340             22                     0                  0   \n",
       "1     0.713697              8                     0                  0   \n",
       "2     1.878974             19                     0                  0   \n",
       "3     1.432448             17                     0                  0   \n",
       "4    -0.208085             10                     0                  0   \n",
       "\n",
       "   Нейтрально  Хорошо  Отлично  Нет отзыва  \n",
       "0           0       0        0           1  \n",
       "1           0       0        0           0  \n",
       "2           0       0        0           0  \n",
       "3           0       0        0           0  \n",
       "4           0       0        0           0  "
      ]
     },
     "execution_count": 54,
     "metadata": {},
     "output_type": "execute_result"
    }
   ],
   "source": [
    "new_tickets.head()"
   ]
  },
  {
   "cell_type": "code",
   "execution_count": 55,
   "metadata": {},
   "outputs": [],
   "source": [
    "to_short ={'Хорошо': 'сторонник', 'Нет отзыва': 'инкогнито', 'Отлично': 'сторонник', 'Нейтрально': 'нейтрал',\n",
    "       'Не удовлетворительно': 'критик', 'Удовлетворительно': 'критик'}"
   ]
  },
  {
   "cell_type": "code",
   "execution_count": 56,
   "metadata": {},
   "outputs": [],
   "source": [
    "answer = tickets['result_mentioned_by_user'].apply(lambda x: to_short[x])"
   ]
  },
  {
   "cell_type": "code",
   "execution_count": 57,
   "metadata": {},
   "outputs": [
    {
     "data": {
      "text/html": [
       "<div>\n",
       "<style scoped>\n",
       "    .dataframe tbody tr th:only-of-type {\n",
       "        vertical-align: middle;\n",
       "    }\n",
       "\n",
       "    .dataframe tbody tr th {\n",
       "        vertical-align: top;\n",
       "    }\n",
       "\n",
       "    .dataframe thead th {\n",
       "        text-align: right;\n",
       "    }\n",
       "</style>\n",
       "<table border=\"1\" class=\"dataframe\">\n",
       "  <thead>\n",
       "    <tr style=\"text-align: right;\">\n",
       "      <th></th>\n",
       "      <th>Безопасность на Avito</th>\n",
       "      <th>Блокировки и отклонения</th>\n",
       "      <th>Магазины, Автозагрузка и юридические лица</th>\n",
       "      <th>Мобильный Avito</th>\n",
       "      <th>Платные услуги и сервисы</th>\n",
       "      <th>Работа с объявлениями и личным кабинетом</th>\n",
       "      <th>Рекламные сервисы Avito</th>\n",
       "      <th>Технические вопросы</th>\n",
       "      <th>result_mentioned_by_user</th>\n",
       "      <th>time_answer</th>\n",
       "      <th>hour_of_start</th>\n",
       "      <th>негативные</th>\n",
       "      <th>нейтральные</th>\n",
       "      <th>положительные</th>\n",
       "      <th>неизвестные</th>\n",
       "      <th>is_holyday</th>\n",
       "    </tr>\n",
       "  </thead>\n",
       "  <tbody>\n",
       "    <tr>\n",
       "      <th>0</th>\n",
       "      <td>0</td>\n",
       "      <td>0</td>\n",
       "      <td>0</td>\n",
       "      <td>0</td>\n",
       "      <td>0</td>\n",
       "      <td>0</td>\n",
       "      <td>0</td>\n",
       "      <td>1</td>\n",
       "      <td>сторонник</td>\n",
       "      <td>1.128340</td>\n",
       "      <td>22</td>\n",
       "      <td>0</td>\n",
       "      <td>0</td>\n",
       "      <td>0</td>\n",
       "      <td>1</td>\n",
       "      <td>False</td>\n",
       "    </tr>\n",
       "    <tr>\n",
       "      <th>1</th>\n",
       "      <td>0</td>\n",
       "      <td>0</td>\n",
       "      <td>0</td>\n",
       "      <td>0</td>\n",
       "      <td>0</td>\n",
       "      <td>0</td>\n",
       "      <td>0</td>\n",
       "      <td>1</td>\n",
       "      <td>инкогнито</td>\n",
       "      <td>0.713697</td>\n",
       "      <td>8</td>\n",
       "      <td>0</td>\n",
       "      <td>0</td>\n",
       "      <td>0</td>\n",
       "      <td>0</td>\n",
       "      <td>False</td>\n",
       "    </tr>\n",
       "    <tr>\n",
       "      <th>2</th>\n",
       "      <td>0</td>\n",
       "      <td>0</td>\n",
       "      <td>0</td>\n",
       "      <td>0</td>\n",
       "      <td>0</td>\n",
       "      <td>0</td>\n",
       "      <td>0</td>\n",
       "      <td>1</td>\n",
       "      <td>инкогнито</td>\n",
       "      <td>1.878974</td>\n",
       "      <td>19</td>\n",
       "      <td>0</td>\n",
       "      <td>0</td>\n",
       "      <td>0</td>\n",
       "      <td>0</td>\n",
       "      <td>False</td>\n",
       "    </tr>\n",
       "    <tr>\n",
       "      <th>3</th>\n",
       "      <td>0</td>\n",
       "      <td>0</td>\n",
       "      <td>0</td>\n",
       "      <td>1</td>\n",
       "      <td>0</td>\n",
       "      <td>0</td>\n",
       "      <td>0</td>\n",
       "      <td>0</td>\n",
       "      <td>инкогнито</td>\n",
       "      <td>1.432448</td>\n",
       "      <td>17</td>\n",
       "      <td>0</td>\n",
       "      <td>0</td>\n",
       "      <td>0</td>\n",
       "      <td>0</td>\n",
       "      <td>False</td>\n",
       "    </tr>\n",
       "    <tr>\n",
       "      <th>4</th>\n",
       "      <td>0</td>\n",
       "      <td>0</td>\n",
       "      <td>0</td>\n",
       "      <td>0</td>\n",
       "      <td>0</td>\n",
       "      <td>0</td>\n",
       "      <td>0</td>\n",
       "      <td>1</td>\n",
       "      <td>инкогнито</td>\n",
       "      <td>-0.208085</td>\n",
       "      <td>10</td>\n",
       "      <td>0</td>\n",
       "      <td>0</td>\n",
       "      <td>0</td>\n",
       "      <td>0</td>\n",
       "      <td>False</td>\n",
       "    </tr>\n",
       "  </tbody>\n",
       "</table>\n",
       "</div>"
      ],
      "text/plain": [
       "   Безопасность на Avito  Блокировки и отклонения  \\\n",
       "0                      0                        0   \n",
       "1                      0                        0   \n",
       "2                      0                        0   \n",
       "3                      0                        0   \n",
       "4                      0                        0   \n",
       "\n",
       "   Магазины, Автозагрузка и юридические лица  Мобильный Avito  \\\n",
       "0                                          0                0   \n",
       "1                                          0                0   \n",
       "2                                          0                0   \n",
       "3                                          0                1   \n",
       "4                                          0                0   \n",
       "\n",
       "   Платные услуги и сервисы  Работа с объявлениями и личным кабинетом  \\\n",
       "0                         0                                         0   \n",
       "1                         0                                         0   \n",
       "2                         0                                         0   \n",
       "3                         0                                         0   \n",
       "4                         0                                         0   \n",
       "\n",
       "   Рекламные сервисы Avito  Технические вопросы result_mentioned_by_user  \\\n",
       "0                        0                    1                сторонник   \n",
       "1                        0                    1                инкогнито   \n",
       "2                        0                    1                инкогнито   \n",
       "3                        0                    0                инкогнито   \n",
       "4                        0                    1                инкогнито   \n",
       "\n",
       "   time_answer  hour_of_start  негативные  нейтральные  положительные  \\\n",
       "0     1.128340             22           0            0              0   \n",
       "1     0.713697              8           0            0              0   \n",
       "2     1.878974             19           0            0              0   \n",
       "3     1.432448             17           0            0              0   \n",
       "4    -0.208085             10           0            0              0   \n",
       "\n",
       "   неизвестные  is_holyday  \n",
       "0            1       False  \n",
       "1            0       False  \n",
       "2            0       False  \n",
       "3            0       False  \n",
       "4            0       False  "
      ]
     },
     "execution_count": 57,
     "metadata": {},
     "output_type": "execute_result"
    }
   ],
   "source": [
    "tickets_short = pd.DataFrame()\n",
    "tickets_short = pd.get_dummies(tickets['ticket_category']) \n",
    "tickets_short['result_mentioned_by_user'] = answer\n",
    "tickets_short['time_answer'] = standart_feature\n",
    "tickets_short['hour_of_start'] = tickets['hour_of_start']\n",
    "\n",
    "tickets_short['негативные'] = new_tickets['Не удовлетворительно'] + new_tickets['Удовлетворительно']\n",
    "tickets_short['нейтральные'] = new_tickets['Нейтрально']\n",
    "tickets_short['положительные'] = new_tickets['Хорошо'] + new_tickets['Отлично']\n",
    "tickets_short['неизвестные'] = new_tickets['Нет отзыва']\n",
    "tickets_short['is_holyday'] = tickets['is_holyday']\n",
    "\n",
    "\n",
    "tickets_short.head()"
   ]
  },
  {
   "cell_type": "code",
   "execution_count": 58,
   "metadata": {},
   "outputs": [
    {
     "data": {
      "text/plain": [
       "(397522, 16)"
      ]
     },
     "execution_count": 58,
     "metadata": {},
     "output_type": "execute_result"
    }
   ],
   "source": [
    "tickets_short.shape"
   ]
  },
  {
   "cell_type": "code",
   "execution_count": 59,
   "metadata": {},
   "outputs": [],
   "source": [
    "control_X_short = tickets_short[tickets_short['result_mentioned_by_user'] == 'инкогнито'].drop('result_mentioned_by_user', axis=1)\n",
    "train_short = tickets_short[tickets_short['result_mentioned_by_user'] != 'инкогнито']"
   ]
  },
  {
   "cell_type": "code",
   "execution_count": 60,
   "metadata": {},
   "outputs": [],
   "source": [
    "#X = np.array(train['time_answer']).reshape(-1,1)\n",
    "X_short = train_short.drop('result_mentioned_by_user', axis=1)\n",
    "y_short = train_short['result_mentioned_by_user']"
   ]
  },
  {
   "cell_type": "code",
   "execution_count": 61,
   "metadata": {},
   "outputs": [
    {
     "data": {
      "text/plain": [
       "(120420, 15)"
      ]
     },
     "execution_count": 61,
     "metadata": {},
     "output_type": "execute_result"
    }
   ],
   "source": [
    "X_short.shape"
   ]
  },
  {
   "cell_type": "code",
   "execution_count": 241,
   "metadata": {},
   "outputs": [],
   "source": [
    "X_train, X_test, y_train, y_test = train_test_split(X_short, y_short, test_size=0.2, random_state=1234)\n",
    "\n",
    "param = {\n",
    "    'max_depth': [5, 10, 15],\n",
    "    'n_estimators':[100, 200, 250, 300]\n",
    "}\n",
    "\n",
    "grid_random_forest = GridSearchCV(estimator=RandomForestClassifier()\n",
    "                            , cv=3\n",
    "                            , param_grid = param\n",
    "                            , n_jobs = -1\n",
    "                           )"
   ]
  },
  {
   "cell_type": "code",
   "execution_count": 242,
   "metadata": {},
   "outputs": [
    {
     "name": "stdout",
     "output_type": "stream",
     "text": [
      "Wall time: 1min 27s\n"
     ]
    },
    {
     "data": {
      "text/plain": [
       "GridSearchCV(cv=3, estimator=RandomForestClassifier(), n_jobs=-1,\n",
       "             param_grid={'max_depth': [5, 10, 15],\n",
       "                         'n_estimators': [100, 200, 250, 300]})"
      ]
     },
     "execution_count": 242,
     "metadata": {},
     "output_type": "execute_result"
    }
   ],
   "source": [
    "%%time\n",
    "grid_random_forest.fit(X_train, y_train)"
   ]
  },
  {
   "cell_type": "code",
   "execution_count": 243,
   "metadata": {},
   "outputs": [
    {
     "name": "stdout",
     "output_type": "stream",
     "text": [
      "RandomForestClassifier(max_depth=10, n_estimators=250)\n"
     ]
    }
   ],
   "source": [
    "print(grid_random_forest.best_estimator_)"
   ]
  },
  {
   "cell_type": "code",
   "execution_count": 256,
   "metadata": {},
   "outputs": [
    {
     "data": {
      "text/plain": [
       "[(0.3452453457517379, 'негативные'),\n",
       " (0.21292438306593509, 'time_answer'),\n",
       " (0.0759993855806492, 'неизвестные'),\n",
       " (0.07507439272375328, 'положительные'),\n",
       " (0.06935313249837285, 'Блокировки и отклонения'),\n",
       " (0.06040275871142811, 'Технические вопросы'),\n",
       " (0.0535260163790691, 'нейтральные'),\n",
       " (0.04695564500916806, 'hour_of_start'),\n",
       " (0.027701082103151184, 'Работа с объявлениями и личным кабинетом'),\n",
       " (0.013185028231565563, 'Платные услуги и сервисы'),\n",
       " (0.006372448167709727, 'is_holyday'),\n",
       " (0.006191220901905759, 'Безопасность на Avito'),\n",
       " (0.0036983935441010584, 'Рекламные сервисы Avito'),\n",
       " (0.0026633488012936263, 'Магазины, Автозагрузка и юридические лица'),\n",
       " (0.0007074185301594362, 'Мобильный Avito')]"
      ]
     },
     "execution_count": 256,
     "metadata": {},
     "output_type": "execute_result"
    }
   ],
   "source": [
    "features = list(zip(grid_random_forest.best_estimator_.feature_importances_, X_short.columns))\n",
    "features.sort(key=lambda x: x[0], reverse=True)\n",
    "features"
   ]
  },
  {
   "cell_type": "code",
   "execution_count": 315,
   "metadata": {},
   "outputs": [
    {
     "name": "stdout",
     "output_type": "stream",
     "text": [
      "Accurancy:  0.6822786912473011\n"
     ]
    }
   ],
   "source": [
    "y_pred = grid_random_forest.predict(X_test)\n",
    "\n",
    "print(\"Accurancy: \", accuracy_score(y_test, y_pred))"
   ]
  },
  {
   "cell_type": "code",
   "execution_count": 317,
   "metadata": {},
   "outputs": [
    {
     "data": {
      "text/plain": [
       "array([[ 1094,    31,  5195],\n",
       "       [  108,    48,  1995],\n",
       "       [  308,    15, 15290]], dtype=int64)"
      ]
     },
     "execution_count": 317,
     "metadata": {},
     "output_type": "execute_result"
    }
   ],
   "source": [
    "from sklearn.metrics import confusion_matrix\n",
    "confusion_matrix(y_test, y_pred)"
   ]
  },
  {
   "cell_type": "code",
   "execution_count": 318,
   "metadata": {},
   "outputs": [
    {
     "data": {
      "text/plain": [
       "сторонник    15613\n",
       "критик        6320\n",
       "нейтрал       2151\n",
       "Name: result_mentioned_by_user, dtype: int64"
      ]
     },
     "execution_count": 318,
     "metadata": {},
     "output_type": "execute_result"
    }
   ],
   "source": [
    "y_test.value_counts()"
   ]
  },
  {
   "cell_type": "code",
   "execution_count": 319,
   "metadata": {},
   "outputs": [
    {
     "data": {
      "text/plain": [
       "сторонник    22480\n",
       "критик        1510\n",
       "нейтрал         94\n",
       "dtype: int64"
      ]
     },
     "execution_count": 319,
     "metadata": {},
     "output_type": "execute_result"
    }
   ],
   "source": [
    "pd.Series(y_pred).value_counts()"
   ]
  },
  {
   "cell_type": "code",
   "execution_count": 260,
   "metadata": {},
   "outputs": [
    {
     "data": {
      "text/plain": [
       "сторонник    62691\n",
       "критик       25218\n",
       "нейтрал       8427\n",
       "Name: result_mentioned_by_user, dtype: int64"
      ]
     },
     "execution_count": 260,
     "metadata": {},
     "output_type": "execute_result"
    }
   ],
   "source": [
    "y_train.value_counts()"
   ]
  },
  {
   "cell_type": "markdown",
   "metadata": {},
   "source": [
    "# Подсчёт предсказанного SCAT"
   ]
  },
  {
   "cell_type": "code",
   "execution_count": 263,
   "metadata": {},
   "outputs": [],
   "source": [
    "y_control_pred = grid_random_forest.predict(control_X_short)"
   ]
  },
  {
   "cell_type": "code",
   "execution_count": 268,
   "metadata": {},
   "outputs": [
    {
     "data": {
      "text/plain": [
       "сторонник    265248\n",
       "критик        11303\n",
       "нейтрал         551\n",
       "dtype: int64"
      ]
     },
     "execution_count": 268,
     "metadata": {},
     "output_type": "execute_result"
    }
   ],
   "source": [
    "temp = pd.Series(y_control_pred).value_counts()\n",
    "temp"
   ]
  },
  {
   "cell_type": "code",
   "execution_count": 269,
   "metadata": {},
   "outputs": [
    {
     "data": {
      "text/plain": [
       "86.42320966784396"
      ]
     },
     "execution_count": 269,
     "metadata": {},
     "output_type": "execute_result"
    }
   ],
   "source": [
    "CSAT_predicted = (good_plus + temp['сторонник'])/(all_rev + temp.sum())  * 100\n",
    "CSAT_predicted"
   ]
  },
  {
   "cell_type": "markdown",
   "metadata": {},
   "source": [
    "# Визуализация отзывов"
   ]
  },
  {
   "cell_type": "code",
   "execution_count": 62,
   "metadata": {},
   "outputs": [
    {
     "data": {
      "text/plain": [
       "<matplotlib.axes._subplots.AxesSubplot at 0x2279b4c8c88>"
      ]
     },
     "execution_count": 62,
     "metadata": {},
     "output_type": "execute_result"
    },
    {
     "data": {
      "image/png": "[encoded data removed]",
      "text/plain": [
       "<Figure size 1080x576 with 1 Axes>"
      ]
     },
     "metadata": {
      "needs_background": "light"
     },
     "output_type": "display_data"
    }
   ],
   "source": [
    "sns.scatterplot(x=train_short['time_answer'], y=train_short['негативные'], hue=train_short['result_mentioned_by_user'])"
   ]
  },
  {
   "cell_type": "code",
   "execution_count": 63,
   "metadata": {},
   "outputs": [
    {
     "data": {
      "text/plain": [
       "<matplotlib.axes._subplots.AxesSubplot at 0x227de695848>"
      ]
     },
     "execution_count": 63,
     "metadata": {},
     "output_type": "execute_result"
    },
    {
     "data": {
      "image/png": "[encoded data removed]",
      "text/plain": [
       "<Figure size 1080x576 with 1 Axes>"
      ]
     },
     "metadata": {
      "needs_background": "light"
     },
     "output_type": "display_data"
    }
   ],
   "source": [
    "sns.barplot(x=train_short['result_mentioned_by_user'], y=train_short['time_answer'])"
   ]
  },
  {
   "cell_type": "code",
   "execution_count": 64,
   "metadata": {},
   "outputs": [
    {
     "data": {
      "text/html": [
       "<div>\n",
       "<style scoped>\n",
       "    .dataframe tbody tr th:only-of-type {\n",
       "        vertical-align: middle;\n",
       "    }\n",
       "\n",
       "    .dataframe tbody tr th {\n",
       "        vertical-align: top;\n",
       "    }\n",
       "\n",
       "    .dataframe thead th {\n",
       "        text-align: right;\n",
       "    }\n",
       "</style>\n",
       "<table border=\"1\" class=\"dataframe\">\n",
       "  <thead>\n",
       "    <tr style=\"text-align: right;\">\n",
       "      <th></th>\n",
       "      <th>time_answer</th>\n",
       "    </tr>\n",
       "    <tr>\n",
       "      <th>result_mentioned_by_user</th>\n",
       "      <th></th>\n",
       "    </tr>\n",
       "  </thead>\n",
       "  <tbody>\n",
       "    <tr>\n",
       "      <th>критик</th>\n",
       "      <td>0.285650</td>\n",
       "    </tr>\n",
       "    <tr>\n",
       "      <th>нейтрал</th>\n",
       "      <td>0.236395</td>\n",
       "    </tr>\n",
       "    <tr>\n",
       "      <th>сторонник</th>\n",
       "      <td>0.019290</td>\n",
       "    </tr>\n",
       "  </tbody>\n",
       "</table>\n",
       "</div>"
      ],
      "text/plain": [
       "                          time_answer\n",
       "result_mentioned_by_user             \n",
       "критик                       0.285650\n",
       "нейтрал                      0.236395\n",
       "сторонник                    0.019290"
      ]
     },
     "execution_count": 64,
     "metadata": {},
     "output_type": "execute_result"
    }
   ],
   "source": [
    "train_short[['result_mentioned_by_user', 'time_answer']].groupby('result_mentioned_by_user').mean()"
   ]
  },
  {
   "cell_type": "markdown",
   "metadata": {},
   "source": [
    "# Переход к бинарной классификации"
   ]
  },
  {
   "cell_type": "code",
   "execution_count": 65,
   "metadata": {},
   "outputs": [],
   "source": [
    "to_binary ={'Хорошо': 0, 'Нет отзыва': -1, 'Отлично': 0, 'Нейтрально': 1,\n",
    "       'Не удовлетворительно': 1, 'Удовлетворительно': 1}"
   ]
  },
  {
   "cell_type": "code",
   "execution_count": 66,
   "metadata": {},
   "outputs": [],
   "source": [
    "answer_binary = tickets['result_mentioned_by_user'].apply(lambda x: to_binary[x])"
   ]
  },
  {
   "cell_type": "code",
   "execution_count": 67,
   "metadata": {},
   "outputs": [
    {
     "data": {
      "text/html": [
       "<div>\n",
       "<style scoped>\n",
       "    .dataframe tbody tr th:only-of-type {\n",
       "        vertical-align: middle;\n",
       "    }\n",
       "\n",
       "    .dataframe tbody tr th {\n",
       "        vertical-align: top;\n",
       "    }\n",
       "\n",
       "    .dataframe thead th {\n",
       "        text-align: right;\n",
       "    }\n",
       "</style>\n",
       "<table border=\"1\" class=\"dataframe\">\n",
       "  <thead>\n",
       "    <tr style=\"text-align: right;\">\n",
       "      <th></th>\n",
       "      <th>Безопасность на Avito</th>\n",
       "      <th>Блокировки и отклонения</th>\n",
       "      <th>Магазины, Автозагрузка и юридические лица</th>\n",
       "      <th>Мобильный Avito</th>\n",
       "      <th>Платные услуги и сервисы</th>\n",
       "      <th>Работа с объявлениями и личным кабинетом</th>\n",
       "      <th>Рекламные сервисы Avito</th>\n",
       "      <th>Технические вопросы</th>\n",
       "      <th>result_mentioned_by_user</th>\n",
       "      <th>time_answer</th>\n",
       "      <th>hour_of_start</th>\n",
       "      <th>неположительные</th>\n",
       "      <th>положительные</th>\n",
       "      <th>is_holyday</th>\n",
       "    </tr>\n",
       "  </thead>\n",
       "  <tbody>\n",
       "    <tr>\n",
       "      <th>0</th>\n",
       "      <td>0</td>\n",
       "      <td>0</td>\n",
       "      <td>0</td>\n",
       "      <td>0</td>\n",
       "      <td>0</td>\n",
       "      <td>0</td>\n",
       "      <td>0</td>\n",
       "      <td>1</td>\n",
       "      <td>0</td>\n",
       "      <td>1.128340</td>\n",
       "      <td>22</td>\n",
       "      <td>0</td>\n",
       "      <td>0</td>\n",
       "      <td>False</td>\n",
       "    </tr>\n",
       "    <tr>\n",
       "      <th>1</th>\n",
       "      <td>0</td>\n",
       "      <td>0</td>\n",
       "      <td>0</td>\n",
       "      <td>0</td>\n",
       "      <td>0</td>\n",
       "      <td>0</td>\n",
       "      <td>0</td>\n",
       "      <td>1</td>\n",
       "      <td>-1</td>\n",
       "      <td>0.713697</td>\n",
       "      <td>8</td>\n",
       "      <td>0</td>\n",
       "      <td>0</td>\n",
       "      <td>False</td>\n",
       "    </tr>\n",
       "    <tr>\n",
       "      <th>2</th>\n",
       "      <td>0</td>\n",
       "      <td>0</td>\n",
       "      <td>0</td>\n",
       "      <td>0</td>\n",
       "      <td>0</td>\n",
       "      <td>0</td>\n",
       "      <td>0</td>\n",
       "      <td>1</td>\n",
       "      <td>-1</td>\n",
       "      <td>1.878974</td>\n",
       "      <td>19</td>\n",
       "      <td>0</td>\n",
       "      <td>0</td>\n",
       "      <td>False</td>\n",
       "    </tr>\n",
       "    <tr>\n",
       "      <th>3</th>\n",
       "      <td>0</td>\n",
       "      <td>0</td>\n",
       "      <td>0</td>\n",
       "      <td>1</td>\n",
       "      <td>0</td>\n",
       "      <td>0</td>\n",
       "      <td>0</td>\n",
       "      <td>0</td>\n",
       "      <td>-1</td>\n",
       "      <td>1.432448</td>\n",
       "      <td>17</td>\n",
       "      <td>0</td>\n",
       "      <td>0</td>\n",
       "      <td>False</td>\n",
       "    </tr>\n",
       "    <tr>\n",
       "      <th>4</th>\n",
       "      <td>0</td>\n",
       "      <td>0</td>\n",
       "      <td>0</td>\n",
       "      <td>0</td>\n",
       "      <td>0</td>\n",
       "      <td>0</td>\n",
       "      <td>0</td>\n",
       "      <td>1</td>\n",
       "      <td>-1</td>\n",
       "      <td>-0.208085</td>\n",
       "      <td>10</td>\n",
       "      <td>0</td>\n",
       "      <td>0</td>\n",
       "      <td>False</td>\n",
       "    </tr>\n",
       "  </tbody>\n",
       "</table>\n",
       "</div>"
      ],
      "text/plain": [
       "   Безопасность на Avito  Блокировки и отклонения  \\\n",
       "0                      0                        0   \n",
       "1                      0                        0   \n",
       "2                      0                        0   \n",
       "3                      0                        0   \n",
       "4                      0                        0   \n",
       "\n",
       "   Магазины, Автозагрузка и юридические лица  Мобильный Avito  \\\n",
       "0                                          0                0   \n",
       "1                                          0                0   \n",
       "2                                          0                0   \n",
       "3                                          0                1   \n",
       "4                                          0                0   \n",
       "\n",
       "   Платные услуги и сервисы  Работа с объявлениями и личным кабинетом  \\\n",
       "0                         0                                         0   \n",
       "1                         0                                         0   \n",
       "2                         0                                         0   \n",
       "3                         0                                         0   \n",
       "4                         0                                         0   \n",
       "\n",
       "   Рекламные сервисы Avito  Технические вопросы  result_mentioned_by_user  \\\n",
       "0                        0                    1                         0   \n",
       "1                        0                    1                        -1   \n",
       "2                        0                    1                        -1   \n",
       "3                        0                    0                        -1   \n",
       "4                        0                    1                        -1   \n",
       "\n",
       "   time_answer  hour_of_start  неположительные  положительные  is_holyday  \n",
       "0     1.128340             22                0              0       False  \n",
       "1     0.713697              8                0              0       False  \n",
       "2     1.878974             19                0              0       False  \n",
       "3     1.432448             17                0              0       False  \n",
       "4    -0.208085             10                0              0       False  "
      ]
     },
     "execution_count": 67,
     "metadata": {},
     "output_type": "execute_result"
    }
   ],
   "source": [
    "tickets_binary = pd.DataFrame()\n",
    "tickets_binary = pd.get_dummies(tickets['ticket_category']) \n",
    "tickets_binary['result_mentioned_by_user'] = answer_binary\n",
    "tickets_binary['time_answer'] = standart_feature\n",
    "tickets_binary['hour_of_start'] = tickets['hour_of_start']\n",
    "\n",
    "tickets_binary['неположительные']=new_tickets['Не удовлетворительно']+new_tickets['Удовлетворительно']+new_tickets['Нейтрально']\n",
    "tickets_binary['положительные'] = new_tickets['Хорошо'] + new_tickets['Отлично']\n",
    "#tickets_binary['неизвестные'] = new_tickets['Нет отзыва']\n",
    "tickets_binary['is_holyday'] = tickets['is_holyday']\n",
    "\n",
    "\n",
    "tickets_binary.head()"
   ]
  },
  {
   "cell_type": "code",
   "execution_count": 68,
   "metadata": {},
   "outputs": [
    {
     "data": {
      "text/plain": [
       "(397522, 14)"
      ]
     },
     "execution_count": 68,
     "metadata": {},
     "output_type": "execute_result"
    }
   ],
   "source": [
    "tickets_binary.shape"
   ]
  },
  {
   "cell_type": "code",
   "execution_count": 132,
   "metadata": {},
   "outputs": [],
   "source": [
    "#tickets_binary.to_csv('tickets_binary.csv', index=False)"
   ]
  },
  {
   "cell_type": "code",
   "execution_count": 81,
   "metadata": {},
   "outputs": [],
   "source": [
    "#tickets['fact_reaction_dt'] = tickets['fact_reaction_dt'].apply(lambda x: pd.Timestamp(x))"
   ]
  },
  {
   "cell_type": "code",
   "execution_count": 82,
   "metadata": {},
   "outputs": [
    {
     "data": {
      "text/html": [
       "<div>\n",
       "<style scoped>\n",
       "    .dataframe tbody tr th:only-of-type {\n",
       "        vertical-align: middle;\n",
       "    }\n",
       "\n",
       "    .dataframe tbody tr th {\n",
       "        vertical-align: top;\n",
       "    }\n",
       "\n",
       "    .dataframe thead th {\n",
       "        text-align: right;\n",
       "    }\n",
       "</style>\n",
       "<table border=\"1\" class=\"dataframe\">\n",
       "  <thead>\n",
       "    <tr style=\"text-align: right;\">\n",
       "      <th></th>\n",
       "      <th>user_id</th>\n",
       "      <th>ticket_category</th>\n",
       "      <th>ticket_subcategory</th>\n",
       "      <th>current_state</th>\n",
       "      <th>request_id</th>\n",
       "      <th>activity_start_dt</th>\n",
       "      <th>fact_reaction_dt</th>\n",
       "      <th>result_mentioned_by_user</th>\n",
       "      <th>time_answer</th>\n",
       "      <th>time_answer_days</th>\n",
       "      <th>hour_of_start</th>\n",
       "      <th>array_count_tickets</th>\n",
       "      <th>is_holyday</th>\n",
       "    </tr>\n",
       "  </thead>\n",
       "  <tbody>\n",
       "    <tr>\n",
       "      <th>0</th>\n",
       "      <td>370 518 212</td>\n",
       "      <td>Технические вопросы</td>\n",
       "      <td>Доступ к сайту</td>\n",
       "      <td>Решено</td>\n",
       "      <td>045be6ac-d532-4c20-b1c9-fb82c1737464</td>\n",
       "      <td>2015-11-26 22:56:00</td>\n",
       "      <td>2015-12-03 12:11:00</td>\n",
       "      <td>Хорошо</td>\n",
       "      <td>6 days 13:15:00</td>\n",
       "      <td>7 days 00:00:00.000000000</td>\n",
       "      <td>22</td>\n",
       "      <td>2</td>\n",
       "      <td>False</td>\n",
       "    </tr>\n",
       "    <tr>\n",
       "      <th>1</th>\n",
       "      <td>2 138 799</td>\n",
       "      <td>Технические вопросы</td>\n",
       "      <td>Доступ к сайту</td>\n",
       "      <td>Решено</td>\n",
       "      <td>8ebbb8c6-7abb-4fad-a83b-35a71a83a186</td>\n",
       "      <td>2015-12-18 08:52:00</td>\n",
       "      <td>2015-12-23 06:40:00</td>\n",
       "      <td>Нет отзыва</td>\n",
       "      <td>4 days 21:48:00</td>\n",
       "      <td>5 days 00:00:00.000000000</td>\n",
       "      <td>8</td>\n",
       "      <td>1</td>\n",
       "      <td>False</td>\n",
       "    </tr>\n",
       "    <tr>\n",
       "      <th>2</th>\n",
       "      <td>2 033 101</td>\n",
       "      <td>Технические вопросы</td>\n",
       "      <td>Доступ к сайту</td>\n",
       "      <td>Решено</td>\n",
       "      <td>ee303751-4a21-4544-a4c3-56924c088028</td>\n",
       "      <td>2015-12-16 19:06:00</td>\n",
       "      <td>2015-12-26 07:46:00</td>\n",
       "      <td>Нет отзыва</td>\n",
       "      <td>9 days 12:40:00</td>\n",
       "      <td>9 days 00:00:00.000000000</td>\n",
       "      <td>19</td>\n",
       "      <td>1</td>\n",
       "      <td>False</td>\n",
       "    </tr>\n",
       "    <tr>\n",
       "      <th>3</th>\n",
       "      <td>177 122 000 003</td>\n",
       "      <td>Мобильный Avito</td>\n",
       "      <td>Android приложение</td>\n",
       "      <td>Решено</td>\n",
       "      <td>bb989fcb-277a-41bd-aaa2-f131333b629e</td>\n",
       "      <td>2015-12-01 17:08:00</td>\n",
       "      <td>2015-12-09 11:19:00</td>\n",
       "      <td>Нет отзыва</td>\n",
       "      <td>7 days 18:11:00</td>\n",
       "      <td>7 days 00:00:00.000000000</td>\n",
       "      <td>17</td>\n",
       "      <td>1</td>\n",
       "      <td>False</td>\n",
       "    </tr>\n",
       "    <tr>\n",
       "      <th>4</th>\n",
       "      <td>37 340 500 064</td>\n",
       "      <td>Технические вопросы</td>\n",
       "      <td>Доступ к сайту</td>\n",
       "      <td>Решено</td>\n",
       "      <td>e742d172-0ef1-47d8-b862-25be082d8bc0</td>\n",
       "      <td>2015-12-14 10:08:00</td>\n",
       "      <td>2015-12-15 16:14:00</td>\n",
       "      <td>Нет отзыва</td>\n",
       "      <td>1 days 06:06:00</td>\n",
       "      <td>2 days 00:00:00.000000000</td>\n",
       "      <td>10</td>\n",
       "      <td>1</td>\n",
       "      <td>False</td>\n",
       "    </tr>\n",
       "  </tbody>\n",
       "</table>\n",
       "</div>"
      ],
      "text/plain": [
       "           user_id      ticket_category  ticket_subcategory current_state  \\\n",
       "0      370 518 212  Технические вопросы      Доступ к сайту        Решено   \n",
       "1        2 138 799  Технические вопросы      Доступ к сайту        Решено   \n",
       "2        2 033 101  Технические вопросы      Доступ к сайту        Решено   \n",
       "3  177 122 000 003      Мобильный Avito  Android приложение        Решено   \n",
       "4   37 340 500 064  Технические вопросы      Доступ к сайту        Решено   \n",
       "\n",
       "                             request_id   activity_start_dt  \\\n",
       "0  045be6ac-d532-4c20-b1c9-fb82c1737464 2015-11-26 22:56:00   \n",
       "1  8ebbb8c6-7abb-4fad-a83b-35a71a83a186 2015-12-18 08:52:00   \n",
       "2  ee303751-4a21-4544-a4c3-56924c088028 2015-12-16 19:06:00   \n",
       "3  bb989fcb-277a-41bd-aaa2-f131333b629e 2015-12-01 17:08:00   \n",
       "4  e742d172-0ef1-47d8-b862-25be082d8bc0 2015-12-14 10:08:00   \n",
       "\n",
       "     fact_reaction_dt result_mentioned_by_user     time_answer  \\\n",
       "0 2015-12-03 12:11:00                   Хорошо 6 days 13:15:00   \n",
       "1 2015-12-23 06:40:00               Нет отзыва 4 days 21:48:00   \n",
       "2 2015-12-26 07:46:00               Нет отзыва 9 days 12:40:00   \n",
       "3 2015-12-09 11:19:00               Нет отзыва 7 days 18:11:00   \n",
       "4 2015-12-15 16:14:00               Нет отзыва 1 days 06:06:00   \n",
       "\n",
       "            time_answer_days  hour_of_start  array_count_tickets  is_holyday  \n",
       "0  7 days 00:00:00.000000000             22                    2       False  \n",
       "1  5 days 00:00:00.000000000              8                    1       False  \n",
       "2  9 days 00:00:00.000000000             19                    1       False  \n",
       "3  7 days 00:00:00.000000000             17                    1       False  \n",
       "4  2 days 00:00:00.000000000             10                    1       False  "
      ]
     },
     "execution_count": 82,
     "metadata": {},
     "output_type": "execute_result"
    }
   ],
   "source": [
    "tickets.head()"
   ]
  },
  {
   "cell_type": "code",
   "execution_count": null,
   "metadata": {},
   "outputs": [],
   "source": []
  },
  {
   "cell_type": "code",
   "execution_count": null,
   "metadata": {},
   "outputs": [],
   "source": []
  },
  {
   "cell_type": "code",
   "execution_count": 83,
   "metadata": {},
   "outputs": [],
   "source": [
    "#tickets['hour_of_answer']=tickets['fact_reaction_dt'].apply(lambda x: x.hour)"
   ]
  },
  {
   "cell_type": "code",
   "execution_count": 94,
   "metadata": {},
   "outputs": [],
   "source": [
    "#tickets_binary[pd.get_dummies(tickets['ticket_subcategory']).columns] = pd.get_dummies(tickets['ticket_subcategory'])"
   ]
  },
  {
   "cell_type": "code",
   "execution_count": 97,
   "metadata": {},
   "outputs": [],
   "source": [
    "#tickets_binary.to_csv('tickets_binary_full.csv',index=False)"
   ]
  },
  {
   "cell_type": "code",
   "execution_count": 8,
   "metadata": {},
   "outputs": [
    {
     "data": {
      "text/plain": [
       "(397522, 14)"
      ]
     },
     "execution_count": 8,
     "metadata": {},
     "output_type": "execute_result"
    }
   ],
   "source": [
    "tickets_binary = pd.read_csv('tickets_binary.csv')\n",
    "tickets_binary.shape"
   ]
  },
  {
   "cell_type": "code",
   "execution_count": 85,
   "metadata": {},
   "outputs": [],
   "source": [
    "tickets_binary['hour_of_answer'] = tickets['hour_of_answer']"
   ]
  },
  {
   "cell_type": "code",
   "execution_count": 120,
   "metadata": {},
   "outputs": [
    {
     "data": {
      "text/html": [
       "<div>\n",
       "<style scoped>\n",
       "    .dataframe tbody tr th:only-of-type {\n",
       "        vertical-align: middle;\n",
       "    }\n",
       "\n",
       "    .dataframe tbody tr th {\n",
       "        vertical-align: top;\n",
       "    }\n",
       "\n",
       "    .dataframe thead th {\n",
       "        text-align: right;\n",
       "    }\n",
       "</style>\n",
       "<table border=\"1\" class=\"dataframe\">\n",
       "  <thead>\n",
       "    <tr style=\"text-align: right;\">\n",
       "      <th></th>\n",
       "      <th>Безопасность на Avito</th>\n",
       "      <th>Блокировки и отклонения</th>\n",
       "      <th>Магазины, Автозагрузка и юридические лица</th>\n",
       "      <th>Мобильный Avito</th>\n",
       "      <th>Платные услуги и сервисы</th>\n",
       "      <th>Работа с объявлениями и личным кабинетом</th>\n",
       "      <th>Рекламные сервисы Avito</th>\n",
       "      <th>Технические вопросы</th>\n",
       "      <th>result_mentioned_by_user</th>\n",
       "      <th>time_answer</th>\n",
       "      <th>...</th>\n",
       "      <th>Пополнение кошелька</th>\n",
       "      <th>Проблема с отправкой сообщений</th>\n",
       "      <th>Регистрация учетной записи</th>\n",
       "      <th>Редактирование объявления</th>\n",
       "      <th>Реквизиты организации</th>\n",
       "      <th>Снятие объявления с публикации</th>\n",
       "      <th>Создание кампании Avito Контекст</th>\n",
       "      <th>Создание кампании Avito Промо</th>\n",
       "      <th>Удаление учетной записи</th>\n",
       "      <th>Управление списками объявлений</th>\n",
       "    </tr>\n",
       "  </thead>\n",
       "  <tbody>\n",
       "    <tr>\n",
       "      <th>0</th>\n",
       "      <td>0</td>\n",
       "      <td>0</td>\n",
       "      <td>0</td>\n",
       "      <td>0</td>\n",
       "      <td>0</td>\n",
       "      <td>0</td>\n",
       "      <td>0</td>\n",
       "      <td>0</td>\n",
       "      <td>0</td>\n",
       "      <td>1.128340</td>\n",
       "      <td>...</td>\n",
       "      <td>0</td>\n",
       "      <td>0</td>\n",
       "      <td>0</td>\n",
       "      <td>0</td>\n",
       "      <td>0</td>\n",
       "      <td>0</td>\n",
       "      <td>0</td>\n",
       "      <td>0</td>\n",
       "      <td>0</td>\n",
       "      <td>0</td>\n",
       "    </tr>\n",
       "    <tr>\n",
       "      <th>1</th>\n",
       "      <td>0</td>\n",
       "      <td>0</td>\n",
       "      <td>0</td>\n",
       "      <td>0</td>\n",
       "      <td>0</td>\n",
       "      <td>0</td>\n",
       "      <td>0</td>\n",
       "      <td>0</td>\n",
       "      <td>-1</td>\n",
       "      <td>0.713697</td>\n",
       "      <td>...</td>\n",
       "      <td>0</td>\n",
       "      <td>0</td>\n",
       "      <td>0</td>\n",
       "      <td>0</td>\n",
       "      <td>0</td>\n",
       "      <td>0</td>\n",
       "      <td>0</td>\n",
       "      <td>0</td>\n",
       "      <td>0</td>\n",
       "      <td>0</td>\n",
       "    </tr>\n",
       "    <tr>\n",
       "      <th>2</th>\n",
       "      <td>0</td>\n",
       "      <td>0</td>\n",
       "      <td>0</td>\n",
       "      <td>0</td>\n",
       "      <td>0</td>\n",
       "      <td>0</td>\n",
       "      <td>0</td>\n",
       "      <td>0</td>\n",
       "      <td>-1</td>\n",
       "      <td>1.878974</td>\n",
       "      <td>...</td>\n",
       "      <td>0</td>\n",
       "      <td>0</td>\n",
       "      <td>0</td>\n",
       "      <td>0</td>\n",
       "      <td>0</td>\n",
       "      <td>0</td>\n",
       "      <td>0</td>\n",
       "      <td>0</td>\n",
       "      <td>0</td>\n",
       "      <td>0</td>\n",
       "    </tr>\n",
       "    <tr>\n",
       "      <th>3</th>\n",
       "      <td>0</td>\n",
       "      <td>0</td>\n",
       "      <td>0</td>\n",
       "      <td>1</td>\n",
       "      <td>0</td>\n",
       "      <td>0</td>\n",
       "      <td>0</td>\n",
       "      <td>0</td>\n",
       "      <td>-1</td>\n",
       "      <td>1.432448</td>\n",
       "      <td>...</td>\n",
       "      <td>0</td>\n",
       "      <td>0</td>\n",
       "      <td>0</td>\n",
       "      <td>0</td>\n",
       "      <td>0</td>\n",
       "      <td>0</td>\n",
       "      <td>0</td>\n",
       "      <td>0</td>\n",
       "      <td>0</td>\n",
       "      <td>0</td>\n",
       "    </tr>\n",
       "    <tr>\n",
       "      <th>4</th>\n",
       "      <td>0</td>\n",
       "      <td>0</td>\n",
       "      <td>0</td>\n",
       "      <td>0</td>\n",
       "      <td>0</td>\n",
       "      <td>0</td>\n",
       "      <td>0</td>\n",
       "      <td>0</td>\n",
       "      <td>-1</td>\n",
       "      <td>-0.208085</td>\n",
       "      <td>...</td>\n",
       "      <td>0</td>\n",
       "      <td>0</td>\n",
       "      <td>0</td>\n",
       "      <td>0</td>\n",
       "      <td>0</td>\n",
       "      <td>0</td>\n",
       "      <td>0</td>\n",
       "      <td>0</td>\n",
       "      <td>0</td>\n",
       "      <td>0</td>\n",
       "    </tr>\n",
       "  </tbody>\n",
       "</table>\n",
       "<p>5 rows × 65 columns</p>\n",
       "</div>"
      ],
      "text/plain": [
       "   Безопасность на Avito  Блокировки и отклонения  \\\n",
       "0                      0                        0   \n",
       "1                      0                        0   \n",
       "2                      0                        0   \n",
       "3                      0                        0   \n",
       "4                      0                        0   \n",
       "\n",
       "   Магазины, Автозагрузка и юридические лица  Мобильный Avito  \\\n",
       "0                                          0                0   \n",
       "1                                          0                0   \n",
       "2                                          0                0   \n",
       "3                                          0                1   \n",
       "4                                          0                0   \n",
       "\n",
       "   Платные услуги и сервисы  Работа с объявлениями и личным кабинетом  \\\n",
       "0                         0                                         0   \n",
       "1                         0                                         0   \n",
       "2                         0                                         0   \n",
       "3                         0                                         0   \n",
       "4                         0                                         0   \n",
       "\n",
       "   Рекламные сервисы Avito  Технические вопросы  result_mentioned_by_user  \\\n",
       "0                        0                    0                         0   \n",
       "1                        0                    0                        -1   \n",
       "2                        0                    0                        -1   \n",
       "3                        0                    0                        -1   \n",
       "4                        0                    0                        -1   \n",
       "\n",
       "   time_answer  ...  Пополнение кошелька  Проблема с отправкой сообщений  \\\n",
       "0     1.128340  ...                    0                               0   \n",
       "1     0.713697  ...                    0                               0   \n",
       "2     1.878974  ...                    0                               0   \n",
       "3     1.432448  ...                    0                               0   \n",
       "4    -0.208085  ...                    0                               0   \n",
       "\n",
       "   Регистрация учетной записи  Редактирование объявления  \\\n",
       "0                           0                          0   \n",
       "1                           0                          0   \n",
       "2                           0                          0   \n",
       "3                           0                          0   \n",
       "4                           0                          0   \n",
       "\n",
       "   Реквизиты организации  Снятие объявления с публикации  \\\n",
       "0                      0                               0   \n",
       "1                      0                               0   \n",
       "2                      0                               0   \n",
       "3                      0                               0   \n",
       "4                      0                               0   \n",
       "\n",
       "   Создание кампании Avito Контекст  Создание кампании Avito Промо  \\\n",
       "0                                 0                              0   \n",
       "1                                 0                              0   \n",
       "2                                 0                              0   \n",
       "3                                 0                              0   \n",
       "4                                 0                              0   \n",
       "\n",
       "   Удаление учетной записи  Управление списками объявлений  \n",
       "0                        0                               0  \n",
       "1                        0                               0  \n",
       "2                        0                               0  \n",
       "3                        0                               0  \n",
       "4                        0                               0  \n",
       "\n",
       "[5 rows x 65 columns]"
      ]
     },
     "execution_count": 120,
     "metadata": {},
     "output_type": "execute_result"
    }
   ],
   "source": [
    "tickets_binary.head()"
   ]
  },
  {
   "cell_type": "code",
   "execution_count": 359,
   "metadata": {},
   "outputs": [],
   "source": [
    "#tickets_binary.to_csv('tickets_binary_full_another.csv', index=False)"
   ]
  },
  {
   "cell_type": "code",
   "execution_count": 37,
   "metadata": {},
   "outputs": [
    {
     "data": {
      "text/plain": [
       "(397522, 65)"
      ]
     },
     "execution_count": 37,
     "metadata": {},
     "output_type": "execute_result"
    }
   ],
   "source": [
    "tickets_binary = pd.read_csv('tickets_binary_full.csv')\n",
    "tickets_binary.shape"
   ]
  },
  {
   "cell_type": "code",
   "execution_count": 283,
   "metadata": {},
   "outputs": [],
   "source": [
    "to_another_binary ={0: 1, 1: 0, -1: -1}\n",
    "tickets_binary['result_mentioned_by_user'] = tickets_binary['result_mentioned_by_user'].apply(lambda x: to_another_binary[x])"
   ]
  },
  {
   "cell_type": "code",
   "execution_count": 285,
   "metadata": {},
   "outputs": [],
   "source": [
    "control_X_binary = tickets_binary[tickets_binary['result_mentioned_by_user'] == -1].drop('result_mentioned_by_user', axis=1)\n",
    "train_binary = tickets_binary[tickets_binary['result_mentioned_by_user'] != -1]"
   ]
  },
  {
   "cell_type": "code",
   "execution_count": 286,
   "metadata": {},
   "outputs": [],
   "source": [
    "#X = np.array(train['time_answer']).reshape(-1,1)\n",
    "X_binary = train_binary.drop('result_mentioned_by_user', axis=1)\n",
    "y_binary = train_binary['result_mentioned_by_user']"
   ]
  },
  {
   "cell_type": "code",
   "execution_count": 287,
   "metadata": {},
   "outputs": [
    {
     "data": {
      "text/plain": [
       "(120420, 64)"
      ]
     },
     "execution_count": 287,
     "metadata": {},
     "output_type": "execute_result"
    }
   ],
   "source": [
    "X_binary.shape"
   ]
  },
  {
   "cell_type": "code",
   "execution_count": 288,
   "metadata": {},
   "outputs": [],
   "source": [
    "def scorer(y_true, y_predicted):\n",
    "    true_metric = y_true.value_counts()[0]\n",
    "    predicted_metric = pd.Series(y_predicted).value_counts()[0]\n",
    "    error = (true_metric - predicted_metric)**2\n",
    "    return error"
   ]
  },
  {
   "cell_type": "code",
   "execution_count": 289,
   "metadata": {},
   "outputs": [],
   "source": [
    "from sklearn.metrics import make_scorer\n",
    "import math\n",
    "my_scorer = make_scorer(scorer, greater_is_better=False)"
   ]
  },
  {
   "cell_type": "markdown",
   "metadata": {},
   "source": [
    "# Random forest"
   ]
  },
  {
   "cell_type": "code",
   "execution_count": 291,
   "metadata": {},
   "outputs": [],
   "source": [
    "X_train, X_test, y_train, y_test = train_test_split(X_binary, y_binary, test_size=0.2)\n",
    "\n",
    "param = {\n",
    "#    'max_depth': [5, 10, 15],\n",
    "    'n_estimators': [300, 400]\n",
    "}\n",
    "\n",
    "grid_random_forest = GridSearchCV(estimator=RandomForestClassifier()\n",
    "                            , cv=3\n",
    "                            , param_grid = param\n",
    "                            , scoring='precision'\n",
    "                            , n_jobs = -1\n",
    "                           )"
   ]
  },
  {
   "cell_type": "code",
   "execution_count": 292,
   "metadata": {},
   "outputs": [
    {
     "name": "stdout",
     "output_type": "stream",
     "text": [
      "Wall time: 1min 52s\n"
     ]
    },
    {
     "data": {
      "text/plain": [
       "GridSearchCV(cv=3, estimator=RandomForestClassifier(), n_jobs=-1,\n",
       "             param_grid={'n_estimators': [300, 400]}, scoring='precision')"
      ]
     },
     "execution_count": 292,
     "metadata": {},
     "output_type": "execute_result"
    }
   ],
   "source": [
    "%%time\n",
    "grid_random_forest.fit(X_train, y_train)"
   ]
  },
  {
   "cell_type": "code",
   "execution_count": 293,
   "metadata": {},
   "outputs": [
    {
     "name": "stdout",
     "output_type": "stream",
     "text": [
      "RandomForestClassifier(n_estimators=300)\n"
     ]
    }
   ],
   "source": [
    "print(grid_random_forest.best_estimator_)"
   ]
  },
  {
   "cell_type": "code",
   "execution_count": 294,
   "metadata": {},
   "outputs": [
    {
     "data": {
      "text/plain": [
       "nan"
      ]
     },
     "execution_count": 294,
     "metadata": {},
     "output_type": "execute_result"
    }
   ],
   "source": [
    "grid_random_forest.best_score_"
   ]
  },
  {
   "cell_type": "code",
   "execution_count": 295,
   "metadata": {},
   "outputs": [
    {
     "data": {
      "text/plain": [
       "{'mean_fit_time': array([36.67622399, 37.54202318]),\n",
       " 'std_fit_time': array([ 8.77796368, 12.43828021]),\n",
       " 'mean_score_time': array([2.23036846, 1.38773831]),\n",
       " 'std_score_time': array([1.57711754, 1.96255834]),\n",
       " 'param_n_estimators': masked_array(data=[300, 400],\n",
       "              mask=[False, False],\n",
       "        fill_value='?',\n",
       "             dtype=object),\n",
       " 'params': [{'n_estimators': 300}, {'n_estimators': 400}],\n",
       " 'split0_test_score': array([nan, nan]),\n",
       " 'split1_test_score': array([0.72164716, 0.72200477]),\n",
       " 'split2_test_score': array([0.72269594,        nan]),\n",
       " 'mean_test_score': array([nan, nan]),\n",
       " 'std_test_score': array([nan, nan]),\n",
       " 'rank_test_score': array([1, 2])}"
      ]
     },
     "execution_count": 295,
     "metadata": {},
     "output_type": "execute_result"
    }
   ],
   "source": [
    "grid_random_forest.cv_results_"
   ]
  },
  {
   "cell_type": "code",
   "execution_count": 296,
   "metadata": {},
   "outputs": [
    {
     "data": {
      "text/plain": [
       "make_scorer(precision_score, average=binary)"
      ]
     },
     "execution_count": 296,
     "metadata": {},
     "output_type": "execute_result"
    }
   ],
   "source": [
    "grid_random_forest.scorer_"
   ]
  },
  {
   "cell_type": "code",
   "execution_count": 297,
   "metadata": {},
   "outputs": [
    {
     "data": {
      "text/plain": [
       "[(0.5607898324571569, 'time_answer'),\n",
       " (0.13793269395305366, 'hour_of_answer'),\n",
       " (0.1355684684639347, 'hour_of_start'),\n",
       " (0.056577599199635877, 'неположительные'),\n",
       " (0.02184009743966234, 'положительные')]"
      ]
     },
     "execution_count": 297,
     "metadata": {},
     "output_type": "execute_result"
    }
   ],
   "source": [
    "features = list(zip(grid_random_forest.best_estimator_.feature_importances_, X_binary.columns))\n",
    "features.sort(key=lambda x: x[0], reverse=True)\n",
    "features[:5]"
   ]
  },
  {
   "cell_type": "code",
   "execution_count": 298,
   "metadata": {},
   "outputs": [
    {
     "data": {
      "image/png": "[encoded data removed]",
      "text/plain": [
       "<Figure size 1080x576 with 1 Axes>"
      ]
     },
     "metadata": {
      "needs_background": "light"
     },
     "output_type": "display_data"
    }
   ],
   "source": [
    "fig, ax = plt.subplots()\n",
    "ax.bar(list(map(lambda x: x[1],list(features[:6]))), list(map(lambda x: x[0],list(features[:6]))))\n",
    "ax.set_xlabel('Признаки')\n",
    "ax.set_ylabel('Важность признака')\n",
    "#plt.xticks(list(map(str,list(good_df.index))))\n",
    "plt.show()"
   ]
  },
  {
   "cell_type": "code",
   "execution_count": 299,
   "metadata": {},
   "outputs": [
    {
     "name": "stdout",
     "output_type": "stream",
     "text": [
      "F1:  0.741702472134006\n",
      "Accurancy:  0.6555389470187677\n",
      "              precision    recall  f1-score   support\n",
      "\n",
      "           0       0.51      0.46      0.48      8471\n",
      "           1       0.72      0.76      0.74     15613\n",
      "\n",
      "    accuracy                           0.66     24084\n",
      "   macro avg       0.62      0.61      0.61     24084\n",
      "weighted avg       0.65      0.66      0.65     24084\n",
      "\n"
     ]
    }
   ],
   "source": [
    "from sklearn.metrics import f1_score, classification_report\n",
    "from joblib import dump, load\n",
    "#clf = load('rf.joblib')\n",
    "\n",
    "#y_pred = clf.predict(X_test)\n",
    "y_pred = grid_random_forest.predict(X_test)\n",
    "\n",
    "print(\"F1: \", f1_score(y_test, y_pred))\n",
    "print(\"Accurancy: \", accuracy_score(y_test, y_pred))\n",
    "print(classification_report(y_test, y_pred))"
   ]
  },
  {
   "cell_type": "code",
   "execution_count": 300,
   "metadata": {},
   "outputs": [],
   "source": [
    "y_proba = grid_random_forest.predict_proba(X_test)"
   ]
  },
  {
   "cell_type": "code",
   "execution_count": 338,
   "metadata": {},
   "outputs": [
    {
     "name": "stderr",
     "output_type": "stream",
     "text": [
      "c:\\users\\kiril\\pycharmprojects\\avito_test\\venv\\lib\\site-packages\\ipykernel_launcher.py:6: FutureWarning: Using a non-tuple sequence for multidimensional indexing is deprecated; use `arr[tuple(seq)]` instead of `arr[seq]`. In the future this will be interpreted as an array index, `arr[np.array(seq)]`, which will result either in an error or a different result.\n",
      "  \n"
     ]
    }
   ],
   "source": [
    "temp = [i for i in zip(y_proba[:,0], y_proba[:,1], y_test, y_pred)]\n",
    "treshholds = [0.8,0.85,0.9,0.95, 0.96, 0.97, 0.98, 0.99]\n",
    "accurancy_array = []\n",
    "count_array = []\n",
    "for i in treshholds:\n",
    "    temp_1 = np.array(temp)[[list(map(lambda x: abs(x[0] - x[1]) >= i and abs(x[0] - x[1]) < 1, temp))]]\n",
    "    accurancy_array.append(accuracy_score(temp_1[:,2], temp_1[:,3]))\n",
    "    count_array.append(len(temp_1))"
   ]
  },
  {
   "cell_type": "code",
   "execution_count": 339,
   "metadata": {},
   "outputs": [
    {
     "data": {
      "image/png": "[encoded data removed]",
      "text/plain": [
       "<Figure size 1080x576 with 1 Axes>"
      ]
     },
     "metadata": {
      "needs_background": "light"
     },
     "output_type": "display_data"
    }
   ],
   "source": [
    "plt.plot(treshholds, accurancy_array)\n",
    "plt.show()"
   ]
  },
  {
   "cell_type": "code",
   "execution_count": 340,
   "metadata": {},
   "outputs": [
    {
     "data": {
      "image/png": "[encoded data removed]",
      "text/plain": [
       "<Figure size 1080x576 with 1 Axes>"
      ]
     },
     "metadata": {
      "needs_background": "light"
     },
     "output_type": "display_data"
    }
   ],
   "source": [
    "plt.plot(treshholds, count_array)\n",
    "plt.show()"
   ]
  },
  {
   "cell_type": "code",
   "execution_count": 341,
   "metadata": {},
   "outputs": [
    {
     "data": {
      "text/plain": [
       "[0.7669508729192043,\n",
       " 0.7797150041911148,\n",
       " 0.7851633393829401,\n",
       " 0.7971595047341588,\n",
       " 0.7940323249067551,\n",
       " 0.7951002227171492,\n",
       " 0.7906647807637907,\n",
       " 0.801948051948052]"
      ]
     },
     "execution_count": 341,
     "metadata": {},
     "output_type": "execute_result"
    }
   ],
   "source": [
    "accurancy_array"
   ]
  },
  {
   "cell_type": "code",
   "execution_count": 342,
   "metadata": {},
   "outputs": [
    {
     "data": {
      "text/plain": [
       "[7389, 5965, 4408, 2746, 2413, 1796, 1414, 616]"
      ]
     },
     "execution_count": 342,
     "metadata": {},
     "output_type": "execute_result"
    }
   ],
   "source": [
    "count_array"
   ]
  },
  {
   "cell_type": "code",
   "execution_count": 360,
   "metadata": {},
   "outputs": [
    {
     "name": "stderr",
     "output_type": "stream",
     "text": [
      "c:\\users\\kiril\\pycharmprojects\\avito_test\\venv\\lib\\site-packages\\ipykernel_launcher.py:1: FutureWarning: Using a non-tuple sequence for multidimensional indexing is deprecated; use `arr[tuple(seq)]` instead of `arr[seq]`. In the future this will be interpreted as an array index, `arr[np.array(seq)]`, which will result either in an error or a different result.\n",
      "  \"\"\"Entry point for launching an IPython kernel.\n"
     ]
    }
   ],
   "source": [
    "temp_1 = np.array(temp)[[list(map(lambda x: abs(x[0] - x[1]) >= 0.95, temp))]]"
   ]
  },
  {
   "cell_type": "code",
   "execution_count": 361,
   "metadata": {},
   "outputs": [
    {
     "data": {
      "text/plain": [
       "array([[ 272,  611],\n",
       "       [  95, 2505]], dtype=int64)"
      ]
     },
     "execution_count": 361,
     "metadata": {},
     "output_type": "execute_result"
    }
   ],
   "source": [
    "confusion_matrix(temp_1[:,2], temp_1[:,3])"
   ]
  },
  {
   "cell_type": "code",
   "execution_count": 362,
   "metadata": {},
   "outputs": [
    {
     "name": "stdout",
     "output_type": "stream",
     "text": [
      "              precision    recall  f1-score   support\n",
      "\n",
      "         0.0       0.74      0.31      0.44       883\n",
      "         1.0       0.80      0.96      0.88      2600\n",
      "\n",
      "    accuracy                           0.80      3483\n",
      "   macro avg       0.77      0.64      0.66      3483\n",
      "weighted avg       0.79      0.80      0.76      3483\n",
      "\n"
     ]
    }
   ],
   "source": [
    "print(classification_report(temp_1[:,2], temp_1[:,3]))"
   ]
  },
  {
   "cell_type": "code",
   "execution_count": 363,
   "metadata": {},
   "outputs": [
    {
     "data": {
      "text/plain": [
       "0.7464829170255527"
      ]
     },
     "execution_count": 363,
     "metadata": {},
     "output_type": "execute_result"
    }
   ],
   "source": [
    "pd.Series(temp_1[:,2]).value_counts()[1]/pd.Series(temp_1[:,2]).value_counts().sum()"
   ]
  },
  {
   "cell_type": "code",
   "execution_count": 364,
   "metadata": {},
   "outputs": [
    {
     "data": {
      "text/plain": [
       "0.8946310651737008"
      ]
     },
     "execution_count": 364,
     "metadata": {},
     "output_type": "execute_result"
    }
   ],
   "source": [
    "pd.Series(temp_1[:,3]).value_counts()[1]/pd.Series(temp_1[:,3]).value_counts().sum()"
   ]
  },
  {
   "cell_type": "code",
   "execution_count": 28,
   "metadata": {},
   "outputs": [],
   "source": [
    "#X_test.to_csv('test_data.csv')"
   ]
  },
  {
   "cell_type": "code",
   "execution_count": 350,
   "metadata": {},
   "outputs": [
    {
     "data": {
      "text/plain": [
       "array([[ 3877,  4594],\n",
       "       [ 3702, 11911]], dtype=int64)"
      ]
     },
     "execution_count": 350,
     "metadata": {},
     "output_type": "execute_result"
    }
   ],
   "source": [
    "from sklearn.metrics import confusion_matrix, precision_score\n",
    "confusion_matrix(y_test, y_pred)"
   ]
  },
  {
   "cell_type": "code",
   "execution_count": 353,
   "metadata": {},
   "outputs": [
    {
     "data": {
      "text/plain": [
       "0.6482727121740575"
      ]
     },
     "execution_count": 353,
     "metadata": {},
     "output_type": "execute_result"
    }
   ],
   "source": [
    "y_test.value_counts()[1]/(y_test.value_counts().sum())"
   ]
  },
  {
   "cell_type": "code",
   "execution_count": 354,
   "metadata": {},
   "outputs": [
    {
     "data": {
      "text/plain": [
       "0.6853097492110946"
      ]
     },
     "execution_count": 354,
     "metadata": {},
     "output_type": "execute_result"
    }
   ],
   "source": [
    "pd.Series(y_pred).value_counts()[1]/pd.Series(y_pred).value_counts().sum()"
   ]
  },
  {
   "cell_type": "code",
   "execution_count": 355,
   "metadata": {},
   "outputs": [
    {
     "name": "stdout",
     "output_type": "stream",
     "text": [
      "F1:  0.9792579700973024\n",
      "Accurancy:  0.9727827603388142\n",
      "              precision    recall  f1-score   support\n",
      "\n",
      "           0       0.98      0.95      0.96     33645\n",
      "           1       0.97      0.99      0.98     62691\n",
      "\n",
      "    accuracy                           0.97     96336\n",
      "   macro avg       0.97      0.97      0.97     96336\n",
      "weighted avg       0.97      0.97      0.97     96336\n",
      "\n"
     ]
    }
   ],
   "source": [
    "from sklearn.metrics import f1_score, classification_report\n",
    "\n",
    "y_pred = grid_random_forest.predict(X_train)\n",
    "#y_pred = clf.predict(X_train)\n",
    "\n",
    "print(\"F1: \", f1_score(y_train, y_pred))\n",
    "print(\"Accurancy: \", accuracy_score(y_train, y_pred))\n",
    "print(classification_report(y_train, y_pred))"
   ]
  },
  {
   "cell_type": "code",
   "execution_count": 356,
   "metadata": {},
   "outputs": [
    {
     "data": {
      "text/plain": [
       "0.6507536123567513"
      ]
     },
     "execution_count": 356,
     "metadata": {},
     "output_type": "execute_result"
    }
   ],
   "source": [
    "y_train.value_counts()[1]/(y_train.value_counts().sum())"
   ]
  },
  {
   "cell_type": "code",
   "execution_count": 357,
   "metadata": {},
   "outputs": [
    {
     "data": {
      "text/plain": [
       "0.6614245972429829"
      ]
     },
     "execution_count": 357,
     "metadata": {},
     "output_type": "execute_result"
    }
   ],
   "source": [
    "pd.Series(y_pred).value_counts()[1]/pd.Series(y_pred).value_counts().sum()"
   ]
  },
  {
   "cell_type": "code",
   "execution_count": 358,
   "metadata": {},
   "outputs": [
    {
     "data": {
      "text/plain": [
       "['rf4.joblib']"
      ]
     },
     "execution_count": 358,
     "metadata": {},
     "output_type": "execute_result"
    }
   ],
   "source": [
    "from joblib import dump, load\n",
    "#dump(grid_random_forest.best_estimator_, 'rf4.joblib')"
   ]
  },
  {
   "cell_type": "code",
   "execution_count": 174,
   "metadata": {},
   "outputs": [],
   "source": [
    "tree_0 = grid_random_forest.best_estimator_.estimators_[0]"
   ]
  },
  {
   "cell_type": "code",
   "execution_count": 175,
   "metadata": {},
   "outputs": [
    {
     "data": {
      "text/plain": [
       "Index(['Безопасность на Avito', 'Блокировки и отклонения',\n",
       "       'Магазины, Автозагрузка и юридические лица', 'Мобильный Avito',\n",
       "       'Платные услуги и сервисы', 'Работа с объявлениями и личным кабинетом',\n",
       "       'Рекламные сервисы Avito', 'Технические вопросы', 'time_answer',\n",
       "       'hour_of_start', 'неположительные', 'положительные', 'is_holyday'],\n",
       "      dtype='object')"
      ]
     },
     "execution_count": 175,
     "metadata": {},
     "output_type": "execute_result"
    }
   ],
   "source": [
    "tickets_binary.drop('result_mentioned_by_user', axis=1).columns"
   ]
  },
  {
   "cell_type": "code",
   "execution_count": 176,
   "metadata": {},
   "outputs": [],
   "source": [
    "from sklearn.tree import export_graphviz\n",
    "export_graphviz(tree_0, out_file='tree.dot', \n",
    "                feature_names = tickets_binary.drop('result_mentioned_by_user', axis=1).columns,\n",
    "                class_names = ['Положительный','Не положительный'],\n",
    "                rounded = True, proportion = False, \n",
    "                precision = 2, filled = True)"
   ]
  },
  {
   "cell_type": "code",
   "execution_count": 30,
   "metadata": {},
   "outputs": [
    {
     "data": {
      "text/plain": [
       "RandomForestClassifier(n_estimators=475)"
      ]
     },
     "execution_count": 30,
     "metadata": {},
     "output_type": "execute_result"
    }
   ],
   "source": [
    "#clf"
   ]
  },
  {
   "cell_type": "markdown",
   "metadata": {},
   "source": [
    "# LogisticRegression"
   ]
  },
  {
   "cell_type": "code",
   "execution_count": 89,
   "metadata": {},
   "outputs": [],
   "source": [
    "from sklearn.linear_model import LogisticRegression"
   ]
  },
  {
   "cell_type": "code",
   "execution_count": 90,
   "metadata": {},
   "outputs": [],
   "source": [
    "param = {'C':[1,1.5,2]}\n",
    "grid_LogisticRegression = GridSearchCV(estimator=LogisticRegression()\n",
    "                            , cv=3\n",
    "                            , param_grid = param\n",
    "                            , scoring=my_scorer\n",
    "                            , n_jobs = -1\n",
    "                           )"
   ]
  },
  {
   "cell_type": "code",
   "execution_count": 91,
   "metadata": {},
   "outputs": [
    {
     "name": "stdout",
     "output_type": "stream",
     "text": [
      "Wall time: 3.51 s\n"
     ]
    },
    {
     "name": "stderr",
     "output_type": "stream",
     "text": [
      "c:\\users\\kiril\\pycharmprojects\\avito_test\\venv\\lib\\site-packages\\sklearn\\linear_model\\_logistic.py:764: ConvergenceWarning: lbfgs failed to converge (status=1):\n",
      "STOP: TOTAL NO. of ITERATIONS REACHED LIMIT.\n",
      "\n",
      "Increase the number of iterations (max_iter) or scale the data as shown in:\n",
      "    https://scikit-learn.org/stable/modules/preprocessing.html\n",
      "Please also refer to the documentation for alternative solver options:\n",
      "    https://scikit-learn.org/stable/modules/linear_model.html#logistic-regression\n",
      "  extra_warning_msg=_LOGISTIC_SOLVER_CONVERGENCE_MSG)\n"
     ]
    },
    {
     "data": {
      "text/plain": [
       "GridSearchCV(cv=3, estimator=LogisticRegression(), n_jobs=-1,\n",
       "             param_grid={'C': [1, 1.5, 2]},\n",
       "             scoring=make_scorer(scorer, greater_is_better=False))"
      ]
     },
     "execution_count": 91,
     "metadata": {},
     "output_type": "execute_result"
    }
   ],
   "source": [
    "%%time\n",
    "grid_LogisticRegression.fit(X_train, y_train)"
   ]
  },
  {
   "cell_type": "code",
   "execution_count": 92,
   "metadata": {},
   "outputs": [
    {
     "name": "stdout",
     "output_type": "stream",
     "text": [
      "F1:  0.2095788271646403\n",
      "Accurancy:  0.6742789126944583\n",
      "              precision    recall  f1-score   support\n",
      "\n",
      "           0       0.67      0.97      0.79     23483\n",
      "           1       0.70      0.12      0.21     12643\n",
      "\n",
      "    accuracy                           0.67     36126\n",
      "   macro avg       0.68      0.55      0.50     36126\n",
      "weighted avg       0.68      0.67      0.59     36126\n",
      "\n"
     ]
    }
   ],
   "source": [
    "from sklearn.metrics import f1_score, classification_report\n",
    "\n",
    "y_pred = grid_LogisticRegression.predict(X_test)\n",
    "\n",
    "print(\"F1: \", f1_score(y_test, y_pred))\n",
    "print(\"Accurancy: \", accuracy_score(y_test, y_pred))\n",
    "print(classification_report(y_test, y_pred))"
   ]
  },
  {
   "cell_type": "code",
   "execution_count": 93,
   "metadata": {},
   "outputs": [
    {
     "data": {
      "text/plain": [
       "array([[22799,   684],\n",
       "       [11083,  1560]], dtype=int64)"
      ]
     },
     "execution_count": 93,
     "metadata": {},
     "output_type": "execute_result"
    }
   ],
   "source": [
    "from sklearn.metrics import confusion_matrix\n",
    "confusion_matrix(y_test, y_pred)"
   ]
  },
  {
   "cell_type": "code",
   "execution_count": 94,
   "metadata": {},
   "outputs": [
    {
     "data": {
      "text/plain": [
       "0.6500304489841112"
      ]
     },
     "execution_count": 94,
     "metadata": {},
     "output_type": "execute_result"
    }
   ],
   "source": [
    "y_test.value_counts()[0]/(y_test.value_counts().sum())"
   ]
  },
  {
   "cell_type": "code",
   "execution_count": 95,
   "metadata": {},
   "outputs": [
    {
     "data": {
      "text/plain": [
       "0.9378840724132204"
      ]
     },
     "execution_count": 95,
     "metadata": {},
     "output_type": "execute_result"
    }
   ],
   "source": [
    "pd.Series(y_pred).value_counts()[0]/(pd.Series(y_pred).value_counts().sum())"
   ]
  },
  {
   "cell_type": "markdown",
   "metadata": {},
   "source": [
    "# GB"
   ]
  },
  {
   "cell_type": "code",
   "execution_count": 94,
   "metadata": {},
   "outputs": [],
   "source": [
    "from sklearn.ensemble import GradientBoostingClassifier"
   ]
  },
  {
   "cell_type": "code",
   "execution_count": 102,
   "metadata": {},
   "outputs": [],
   "source": [
    "X_train, X_test, y_train, y_test = train_test_split(X_binary, y_binary, test_size=0.3)\n",
    "\n",
    "param = {\n",
    "    'max_depth': [10, 15],\n",
    "    'n_estimators': [400, 500, 600]\n",
    "}\n",
    "\n",
    "grid_gb = GridSearchCV(estimator=GradientBoostingClassifier()\n",
    "                            , cv=3\n",
    "                            , param_grid = param\n",
    "                            , scoring=my_scorer\n",
    "                            , n_jobs = -1\n",
    "                           )"
   ]
  },
  {
   "cell_type": "code",
   "execution_count": 103,
   "metadata": {},
   "outputs": [
    {
     "name": "stdout",
     "output_type": "stream",
     "text": [
      "Wall time: 21min 57s\n"
     ]
    },
    {
     "data": {
      "text/plain": [
       "GridSearchCV(cv=3, estimator=GradientBoostingClassifier(), n_jobs=-1,\n",
       "             param_grid={'max_depth': [10, 15],\n",
       "                         'n_estimators': [400, 500, 600]},\n",
       "             scoring=make_scorer(scorer, greater_is_better=False))"
      ]
     },
     "execution_count": 103,
     "metadata": {},
     "output_type": "execute_result"
    }
   ],
   "source": [
    "%%time\n",
    "grid_gb.fit(X_train, y_train)"
   ]
  },
  {
   "cell_type": "code",
   "execution_count": 104,
   "metadata": {},
   "outputs": [
    {
     "name": "stdout",
     "output_type": "stream",
     "text": [
      "GradientBoostingClassifier(max_depth=15, n_estimators=600)\n"
     ]
    }
   ],
   "source": [
    "print(grid_gb.best_estimator_)"
   ]
  },
  {
   "cell_type": "code",
   "execution_count": 105,
   "metadata": {},
   "outputs": [
    {
     "name": "stdout",
     "output_type": "stream",
     "text": [
      "F1:  0.4328759871178365\n",
      "Accurancy:  0.64416209931905\n",
      "              precision    recall  f1-score   support\n",
      "\n",
      "           0       0.70      0.78      0.74     23399\n",
      "           1       0.49      0.39      0.43     12727\n",
      "\n",
      "    accuracy                           0.64     36126\n",
      "   macro avg       0.60      0.59      0.59     36126\n",
      "weighted avg       0.63      0.64      0.63     36126\n",
      "\n"
     ]
    }
   ],
   "source": [
    "from sklearn.metrics import f1_score, classification_report\n",
    "\n",
    "y_pred = grid_gb.predict(X_test)\n",
    "\n",
    "print(\"F1: \", f1_score(y_test, y_pred))\n",
    "print(\"Accurancy: \", accuracy_score(y_test, y_pred))\n",
    "print(classification_report(y_test, y_pred))"
   ]
  },
  {
   "cell_type": "code",
   "execution_count": 106,
   "metadata": {},
   "outputs": [
    {
     "data": {
      "text/plain": [
       "array([[18365,  5034],\n",
       "       [ 7821,  4906]], dtype=int64)"
      ]
     },
     "execution_count": 106,
     "metadata": {},
     "output_type": "execute_result"
    }
   ],
   "source": [
    "from sklearn.metrics import confusion_matrix\n",
    "confusion_matrix(y_test, y_pred)"
   ]
  },
  {
   "cell_type": "code",
   "execution_count": 107,
   "metadata": {},
   "outputs": [
    {
     "data": {
      "text/plain": [
       "0.647705253833804"
      ]
     },
     "execution_count": 107,
     "metadata": {},
     "output_type": "execute_result"
    }
   ],
   "source": [
    "y_test.value_counts()[0]/(y_test.value_counts().sum())"
   ]
  },
  {
   "cell_type": "code",
   "execution_count": 109,
   "metadata": {},
   "outputs": [
    {
     "data": {
      "text/plain": [
       "0.7248519072136411"
      ]
     },
     "execution_count": 109,
     "metadata": {},
     "output_type": "execute_result"
    }
   ],
   "source": [
    "pd.Series(y_pred).value_counts()[0]/(pd.Series(y_pred).value_counts().sum())"
   ]
  }
 ],
 "metadata": {
  "kernelspec": {
   "display_name": "Python 3",
   "language": "python",
   "name": "python3"
  },
  "language_info": {
   "codemirror_mode": {
    "name": "ipython",
    "version": 3
   },
   "file_extension": ".py",
   "mimetype": "text/x-python",
   "name": "python",
   "nbconvert_exporter": "python",
   "pygments_lexer": "ipython3",
   "version": "3.7.6"
  }
 },
 "nbformat": 4,
 "nbformat_minor": 4
}
