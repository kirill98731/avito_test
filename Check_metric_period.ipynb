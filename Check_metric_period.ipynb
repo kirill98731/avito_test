{
 "cells": [
  {
   "cell_type": "code",
   "execution_count": 1,
   "metadata": {},
   "outputs": [],
   "source": [
    "import pandas as pd\n",
    "import numpy as np\n",
    "import scipy\n",
    "import matplotlib.pyplot as plt\n",
    "import seaborn as sns\n",
    "import datetime\n",
    "import re\n",
    "from tqdm import tqdm\n",
    "%matplotlib inline\n",
    "plt.rcParams['figure.figsize'] = (15, 8)"
   ]
  },
  {
   "cell_type": "code",
   "execution_count": 2,
   "metadata": {},
   "outputs": [],
   "source": [
    "def plot_bar(data, freq, col):\n",
    "    data = data[col].value_counts()\n",
    "    df_time = pd.DataFrame(data=data.values,index=data.index, columns=['freq'])\n",
    "    agg_df_time = df_time.resample(freq).sum()\n",
    "    g = sns.barplot(x=agg_df_time.index, y=agg_df_time['freq'])\n",
    "    g.set_xticklabels(rotation=-75, labels = agg_df_time.index)\n",
    "    g.set_title(col)\n",
    "    plt.show()"
   ]
  },
  {
   "cell_type": "code",
   "execution_count": 3,
   "metadata": {},
   "outputs": [],
   "source": [
    "def plot_gr(data, freq, col):\n",
    "    data = data[col].value_counts()\n",
    "    df_time = pd.DataFrame(data=data.values,index=data.index, columns=['freq'])\n",
    "    agg_df_time = df_time.resample(freq).sum()\n",
    "    plt.plot(agg_df_time.index, agg_df_time.values)"
   ]
  },
  {
   "cell_type": "code",
   "execution_count": 4,
   "metadata": {},
   "outputs": [],
   "source": [
    "def plot_bar_2(data, col):\n",
    "    data = data[col].value_counts()\n",
    "    axis_x = [x.days for x in data.sort_index().index]\n",
    "    axis_y = data.sort_index().values\n",
    "    g = sns.barplot(x=axis_x, y=axis_y)\n",
    "    g.set_xticklabels(rotation=-75, labels = axis_x)\n",
    "    g.set_title(col)\n",
    "    plt.show()"
   ]
  },
  {
   "cell_type": "markdown",
   "metadata": {},
   "source": [
    "# Импорт данных"
   ]
  },
  {
   "cell_type": "code",
   "execution_count": 5,
   "metadata": {},
   "outputs": [
    {
     "data": {
      "text/plain": [
       "(397530, 7)"
      ]
     },
     "execution_count": 5,
     "metadata": {},
     "output_type": "execute_result"
    }
   ],
   "source": [
    "support_tickets = pd.read_csv('support_tickets.csv')\n",
    "support_tickets.shape"
   ]
  },
  {
   "cell_type": "code",
   "execution_count": 6,
   "metadata": {},
   "outputs": [
    {
     "data": {
      "text/html": [
       "<div>\n",
       "<style scoped>\n",
       "    .dataframe tbody tr th:only-of-type {\n",
       "        vertical-align: middle;\n",
       "    }\n",
       "\n",
       "    .dataframe tbody tr th {\n",
       "        vertical-align: top;\n",
       "    }\n",
       "\n",
       "    .dataframe thead th {\n",
       "        text-align: right;\n",
       "    }\n",
       "</style>\n",
       "<table border=\"1\" class=\"dataframe\">\n",
       "  <thead>\n",
       "    <tr style=\"text-align: right;\">\n",
       "      <th></th>\n",
       "      <th>user_id</th>\n",
       "      <th>ticket_category</th>\n",
       "      <th>ticket_subcategory</th>\n",
       "      <th>current_state</th>\n",
       "      <th>request_id</th>\n",
       "      <th>activity_start_dt</th>\n",
       "      <th>fact_reaction_dt</th>\n",
       "    </tr>\n",
       "  </thead>\n",
       "  <tbody>\n",
       "    <tr>\n",
       "      <th>0</th>\n",
       "      <td>370 518 212</td>\n",
       "      <td>Технические вопросы</td>\n",
       "      <td>Доступ к сайту</td>\n",
       "      <td>Решено</td>\n",
       "      <td>045be6ac-d532-4c20-b1c9-fb82c1737464</td>\n",
       "      <td>2015-11-26 22:56:00</td>\n",
       "      <td>2015-12-03 12:11:00</td>\n",
       "    </tr>\n",
       "    <tr>\n",
       "      <th>1</th>\n",
       "      <td>2 138 799</td>\n",
       "      <td>Технические вопросы</td>\n",
       "      <td>Доступ к сайту</td>\n",
       "      <td>Решено</td>\n",
       "      <td>8ebbb8c6-7abb-4fad-a83b-35a71a83a186</td>\n",
       "      <td>2015-12-18 08:52:00</td>\n",
       "      <td>2015-12-23 06:40:00</td>\n",
       "    </tr>\n",
       "    <tr>\n",
       "      <th>2</th>\n",
       "      <td>2 033 101</td>\n",
       "      <td>Технические вопросы</td>\n",
       "      <td>Доступ к сайту</td>\n",
       "      <td>Решено</td>\n",
       "      <td>ee303751-4a21-4544-a4c3-56924c088028</td>\n",
       "      <td>2015-12-16 19:06:00</td>\n",
       "      <td>2015-12-26 07:46:00</td>\n",
       "    </tr>\n",
       "    <tr>\n",
       "      <th>3</th>\n",
       "      <td>177 122 000 003</td>\n",
       "      <td>Мобильный Avito</td>\n",
       "      <td>Android приложение</td>\n",
       "      <td>Решено</td>\n",
       "      <td>bb989fcb-277a-41bd-aaa2-f131333b629e</td>\n",
       "      <td>2015-12-01 17:08:00</td>\n",
       "      <td>2015-12-09 11:19:00</td>\n",
       "    </tr>\n",
       "    <tr>\n",
       "      <th>4</th>\n",
       "      <td>37 340 500 064</td>\n",
       "      <td>Технические вопросы</td>\n",
       "      <td>Доступ к сайту</td>\n",
       "      <td>Решено</td>\n",
       "      <td>e742d172-0ef1-47d8-b862-25be082d8bc0</td>\n",
       "      <td>2015-12-14 10:08:00</td>\n",
       "      <td>2015-12-15 16:14:00</td>\n",
       "    </tr>\n",
       "  </tbody>\n",
       "</table>\n",
       "</div>"
      ],
      "text/plain": [
       "           user_id      ticket_category  ticket_subcategory current_state  \\\n",
       "0      370 518 212  Технические вопросы      Доступ к сайту        Решено   \n",
       "1        2 138 799  Технические вопросы      Доступ к сайту        Решено   \n",
       "2        2 033 101  Технические вопросы      Доступ к сайту        Решено   \n",
       "3  177 122 000 003      Мобильный Avito  Android приложение        Решено   \n",
       "4   37 340 500 064  Технические вопросы      Доступ к сайту        Решено   \n",
       "\n",
       "                             request_id    activity_start_dt  \\\n",
       "0  045be6ac-d532-4c20-b1c9-fb82c1737464  2015-11-26 22:56:00   \n",
       "1  8ebbb8c6-7abb-4fad-a83b-35a71a83a186  2015-12-18 08:52:00   \n",
       "2  ee303751-4a21-4544-a4c3-56924c088028  2015-12-16 19:06:00   \n",
       "3  bb989fcb-277a-41bd-aaa2-f131333b629e  2015-12-01 17:08:00   \n",
       "4  e742d172-0ef1-47d8-b862-25be082d8bc0  2015-12-14 10:08:00   \n",
       "\n",
       "      fact_reaction_dt  \n",
       "0  2015-12-03 12:11:00  \n",
       "1  2015-12-23 06:40:00  \n",
       "2  2015-12-26 07:46:00  \n",
       "3  2015-12-09 11:19:00  \n",
       "4  2015-12-15 16:14:00  "
      ]
     },
     "execution_count": 6,
     "metadata": {},
     "output_type": "execute_result"
    }
   ],
   "source": [
    "support_tickets.head()"
   ]
  },
  {
   "cell_type": "code",
   "execution_count": 7,
   "metadata": {},
   "outputs": [
    {
     "data": {
      "text/plain": [
       "(18559923, 7)"
      ]
     },
     "execution_count": 7,
     "metadata": {},
     "output_type": "execute_result"
    }
   ],
   "source": [
    "new_items_by_support_users = pd.read_csv('new_items_by_support_users.csv')\n",
    "new_items_by_support_users.shape"
   ]
  },
  {
   "cell_type": "code",
   "execution_count": 8,
   "metadata": {},
   "outputs": [
    {
     "data": {
      "text/html": [
       "<div>\n",
       "<style scoped>\n",
       "    .dataframe tbody tr th:only-of-type {\n",
       "        vertical-align: middle;\n",
       "    }\n",
       "\n",
       "    .dataframe tbody tr th {\n",
       "        vertical-align: top;\n",
       "    }\n",
       "\n",
       "    .dataframe thead th {\n",
       "        text-align: right;\n",
       "    }\n",
       "</style>\n",
       "<table border=\"1\" class=\"dataframe\">\n",
       "  <thead>\n",
       "    <tr style=\"text-align: right;\">\n",
       "      <th></th>\n",
       "      <th>user_id</th>\n",
       "      <th>user_registration_time</th>\n",
       "      <th>user_first_listing_date</th>\n",
       "      <th>item_id</th>\n",
       "      <th>item_starttime</th>\n",
       "      <th>item_category</th>\n",
       "      <th>item_subcategory</th>\n",
       "    </tr>\n",
       "  </thead>\n",
       "  <tbody>\n",
       "    <tr>\n",
       "      <th>0</th>\n",
       "      <td>386 341 477</td>\n",
       "      <td>2013-05-27 14:40:09</td>\n",
       "      <td>2013-05-27 14:40:09</td>\n",
       "      <td>8 523 500 011</td>\n",
       "      <td>2014-01-01 02:22:54</td>\n",
       "      <td>Транспорт</td>\n",
       "      <td>Автомобили</td>\n",
       "    </tr>\n",
       "    <tr>\n",
       "      <th>1</th>\n",
       "      <td>6 790 750 024</td>\n",
       "      <td>2013-12-14 23:05:15</td>\n",
       "      <td>2013-12-14 23:27:04</td>\n",
       "      <td>8 525 000 013</td>\n",
       "      <td>2014-01-01 02:45:56</td>\n",
       "      <td>Транспорт</td>\n",
       "      <td>Запчасти и аксессуары</td>\n",
       "    </tr>\n",
       "    <tr>\n",
       "      <th>2</th>\n",
       "      <td>2 755 740</td>\n",
       "      <td>2011-04-14 17:54:40</td>\n",
       "      <td>2011-04-14 18:05:27</td>\n",
       "      <td>8 527 000 043</td>\n",
       "      <td>2014-01-01 03:29:44</td>\n",
       "      <td>Транспорт</td>\n",
       "      <td>Автомобили</td>\n",
       "    </tr>\n",
       "    <tr>\n",
       "      <th>3</th>\n",
       "      <td>506 779</td>\n",
       "      <td>2011-08-14 06:19:11</td>\n",
       "      <td>2011-08-14 06:50:04</td>\n",
       "      <td>8 530 000 039</td>\n",
       "      <td>2014-01-01 04:34:51</td>\n",
       "      <td>Личные вещи</td>\n",
       "      <td>Красота и здоровье</td>\n",
       "    </tr>\n",
       "    <tr>\n",
       "      <th>4</th>\n",
       "      <td>766 896</td>\n",
       "      <td>2013-05-17 11:32:13</td>\n",
       "      <td>2013-06-05 06:05:09</td>\n",
       "      <td>8 534 500 187</td>\n",
       "      <td>2014-01-01 06:07:58</td>\n",
       "      <td>Недвижимость</td>\n",
       "      <td>Дома, дачи, коттеджи</td>\n",
       "    </tr>\n",
       "  </tbody>\n",
       "</table>\n",
       "</div>"
      ],
      "text/plain": [
       "         user_id user_registration_time user_first_listing_date  \\\n",
       "0    386 341 477    2013-05-27 14:40:09     2013-05-27 14:40:09   \n",
       "1  6 790 750 024    2013-12-14 23:05:15     2013-12-14 23:27:04   \n",
       "2      2 755 740    2011-04-14 17:54:40     2011-04-14 18:05:27   \n",
       "3        506 779    2011-08-14 06:19:11     2011-08-14 06:50:04   \n",
       "4        766 896    2013-05-17 11:32:13     2013-06-05 06:05:09   \n",
       "\n",
       "         item_id       item_starttime item_category       item_subcategory  \n",
       "0  8 523 500 011  2014-01-01 02:22:54     Транспорт             Автомобили  \n",
       "1  8 525 000 013  2014-01-01 02:45:56     Транспорт  Запчасти и аксессуары  \n",
       "2  8 527 000 043  2014-01-01 03:29:44     Транспорт             Автомобили  \n",
       "3  8 530 000 039  2014-01-01 04:34:51   Личные вещи     Красота и здоровье  \n",
       "4  8 534 500 187  2014-01-01 06:07:58  Недвижимость   Дома, дачи, коттеджи  "
      ]
     },
     "execution_count": 8,
     "metadata": {},
     "output_type": "execute_result"
    }
   ],
   "source": [
    "new_items_by_support_users.head()"
   ]
  },
  {
   "cell_type": "code",
   "execution_count": 8,
   "metadata": {},
   "outputs": [
    {
     "data": {
      "text/plain": [
       "(217533, 2)"
      ]
     },
     "execution_count": 8,
     "metadata": {},
     "output_type": "execute_result"
    }
   ],
   "source": [
    "users_evaluation_of_satisfaction = pd.read_csv('users_evaluation_of_satisfaction.csv')\n",
    "users_evaluation_of_satisfaction.shape"
   ]
  },
  {
   "cell_type": "code",
   "execution_count": 9,
   "metadata": {},
   "outputs": [
    {
     "data": {
      "text/html": [
       "<div>\n",
       "<style scoped>\n",
       "    .dataframe tbody tr th:only-of-type {\n",
       "        vertical-align: middle;\n",
       "    }\n",
       "\n",
       "    .dataframe tbody tr th {\n",
       "        vertical-align: top;\n",
       "    }\n",
       "\n",
       "    .dataframe thead th {\n",
       "        text-align: right;\n",
       "    }\n",
       "</style>\n",
       "<table border=\"1\" class=\"dataframe\">\n",
       "  <thead>\n",
       "    <tr style=\"text-align: right;\">\n",
       "      <th></th>\n",
       "      <th>request_id</th>\n",
       "      <th>result_mentioned_by_user</th>\n",
       "    </tr>\n",
       "  </thead>\n",
       "  <tbody>\n",
       "    <tr>\n",
       "      <th>0</th>\n",
       "      <td>09e34912-b4df-4e91-b3e0-35b40fe6b9b8</td>\n",
       "      <td>Не удовлетворительно</td>\n",
       "    </tr>\n",
       "    <tr>\n",
       "      <th>1</th>\n",
       "      <td>76099bef-7ab3-4a01-96c3-4c06f4032a7e</td>\n",
       "      <td>Не удовлетворительно</td>\n",
       "    </tr>\n",
       "    <tr>\n",
       "      <th>2</th>\n",
       "      <td>70acfed6-8897-4e38-a407-65150e7a4395</td>\n",
       "      <td>Удовлетворительно</td>\n",
       "    </tr>\n",
       "    <tr>\n",
       "      <th>3</th>\n",
       "      <td>64c7a6c8-8bfe-4f35-b662-9091b3472e6f</td>\n",
       "      <td>Не удовлетворительно</td>\n",
       "    </tr>\n",
       "    <tr>\n",
       "      <th>4</th>\n",
       "      <td>b08d9414-7167-4f7f-9837-fe6e535f4fb6</td>\n",
       "      <td>Не удовлетворительно</td>\n",
       "    </tr>\n",
       "  </tbody>\n",
       "</table>\n",
       "</div>"
      ],
      "text/plain": [
       "                             request_id result_mentioned_by_user\n",
       "0  09e34912-b4df-4e91-b3e0-35b40fe6b9b8     Не удовлетворительно\n",
       "1  76099bef-7ab3-4a01-96c3-4c06f4032a7e     Не удовлетворительно\n",
       "2  70acfed6-8897-4e38-a407-65150e7a4395        Удовлетворительно\n",
       "3  64c7a6c8-8bfe-4f35-b662-9091b3472e6f     Не удовлетворительно\n",
       "4  b08d9414-7167-4f7f-9837-fe6e535f4fb6     Не удовлетворительно"
      ]
     },
     "execution_count": 9,
     "metadata": {},
     "output_type": "execute_result"
    }
   ],
   "source": [
    "users_evaluation_of_satisfaction.head()"
   ]
  },
  {
   "cell_type": "markdown",
   "metadata": {},
   "source": [
    "# Оценки"
   ]
  },
  {
   "cell_type": "code",
   "execution_count": 10,
   "metadata": {},
   "outputs": [
    {
     "name": "stdout",
     "output_type": "stream",
     "text": [
      "<class 'pandas.core.frame.DataFrame'>\n",
      "RangeIndex: 217533 entries, 0 to 217532\n",
      "Data columns (total 2 columns):\n",
      " #   Column                    Non-Null Count   Dtype \n",
      "---  ------                    --------------   ----- \n",
      " 0   request_id                217414 non-null  object\n",
      " 1   result_mentioned_by_user  217533 non-null  object\n",
      "dtypes: object(2)\n",
      "memory usage: 3.3+ MB\n"
     ]
    }
   ],
   "source": [
    "users_evaluation_of_satisfaction.info()"
   ]
  },
  {
   "cell_type": "code",
   "execution_count": 11,
   "metadata": {},
   "outputs": [],
   "source": [
    "users_evaluation_of_satisfaction.dropna(inplace=True)"
   ]
  },
  {
   "cell_type": "code",
   "execution_count": 12,
   "metadata": {},
   "outputs": [
    {
     "name": "stdout",
     "output_type": "stream",
     "text": [
      "<class 'pandas.core.frame.DataFrame'>\n",
      "Int64Index: 217414 entries, 0 to 217532\n",
      "Data columns (total 2 columns):\n",
      " #   Column                    Non-Null Count   Dtype \n",
      "---  ------                    --------------   ----- \n",
      " 0   request_id                217414 non-null  object\n",
      " 1   result_mentioned_by_user  217414 non-null  object\n",
      "dtypes: object(2)\n",
      "memory usage: 5.0+ MB\n"
     ]
    }
   ],
   "source": [
    "users_evaluation_of_satisfaction.info()"
   ]
  },
  {
   "cell_type": "code",
   "execution_count": 13,
   "metadata": {},
   "outputs": [
    {
     "data": {
      "text/plain": [
       "(217414, 2)"
      ]
     },
     "execution_count": 13,
     "metadata": {},
     "output_type": "execute_result"
    }
   ],
   "source": [
    "users_evaluation_of_satisfaction.shape"
   ]
  },
  {
   "cell_type": "code",
   "execution_count": 14,
   "metadata": {},
   "outputs": [
    {
     "data": {
      "text/plain": [
       "Отлично                 110097\n",
       "Не удовлетворительно     45675\n",
       "Хорошо                   31441\n",
       "Нейтрально               17988\n",
       "Удовлетворительно        12213\n",
       "Name: result_mentioned_by_user, dtype: int64"
      ]
     },
     "execution_count": 14,
     "metadata": {},
     "output_type": "execute_result"
    }
   ],
   "source": [
    "users_evaluation_of_satisfaction['result_mentioned_by_user'].value_counts()"
   ]
  },
  {
   "cell_type": "code",
   "execution_count": 15,
   "metadata": {},
   "outputs": [
    {
     "data": {
      "text/plain": [
       "4d0c91c2-a8cc-450d-8a93-b93612ee7e71    8\n",
       "aedc8ee8-6b7f-451e-bf84-361a69729f3e    7\n",
       "089dd5b2-4704-4c01-88d6-ec48871f8194    7\n",
       "425444b4-5a20-47e0-a259-99769a39aeb7    6\n",
       "f4797035-53dc-45bf-86a7-158b4b49d87e    6\n",
       "                                       ..\n",
       "56094b1b-59d4-4b8b-b281-1d5e06661864    1\n",
       "061d30d3-503b-48e8-8ef3-83bb3d33047c    1\n",
       "2e3701dc-3f81-4128-8c5a-38cd61ba8ed2    1\n",
       "6a7184ea-b2d2-4fa4-848a-c7b75724db93    1\n",
       "66f04d82-67ca-4ae8-a5dc-cd3bc30fd1ca    1\n",
       "Name: request_id, Length: 211069, dtype: int64"
      ]
     },
     "execution_count": 15,
     "metadata": {},
     "output_type": "execute_result"
    }
   ],
   "source": [
    "temp = users_evaluation_of_satisfaction['request_id'].value_counts()\n",
    "temp # ДУБЛИКАТЫ?"
   ]
  },
  {
   "cell_type": "code",
   "execution_count": 16,
   "metadata": {},
   "outputs": [
    {
     "data": {
      "text/html": [
       "<div>\n",
       "<style scoped>\n",
       "    .dataframe tbody tr th:only-of-type {\n",
       "        vertical-align: middle;\n",
       "    }\n",
       "\n",
       "    .dataframe tbody tr th {\n",
       "        vertical-align: top;\n",
       "    }\n",
       "\n",
       "    .dataframe thead th {\n",
       "        text-align: right;\n",
       "    }\n",
       "</style>\n",
       "<table border=\"1\" class=\"dataframe\">\n",
       "  <thead>\n",
       "    <tr style=\"text-align: right;\">\n",
       "      <th></th>\n",
       "      <th>request_id</th>\n",
       "      <th>result_mentioned_by_user</th>\n",
       "    </tr>\n",
       "  </thead>\n",
       "  <tbody>\n",
       "    <tr>\n",
       "      <th>54605</th>\n",
       "      <td>089dd5b2-4704-4c01-88d6-ec48871f8194</td>\n",
       "      <td>Не удовлетворительно</td>\n",
       "    </tr>\n",
       "    <tr>\n",
       "      <th>94419</th>\n",
       "      <td>089dd5b2-4704-4c01-88d6-ec48871f8194</td>\n",
       "      <td>Не удовлетворительно</td>\n",
       "    </tr>\n",
       "    <tr>\n",
       "      <th>124150</th>\n",
       "      <td>089dd5b2-4704-4c01-88d6-ec48871f8194</td>\n",
       "      <td>Не удовлетворительно</td>\n",
       "    </tr>\n",
       "    <tr>\n",
       "      <th>146503</th>\n",
       "      <td>089dd5b2-4704-4c01-88d6-ec48871f8194</td>\n",
       "      <td>Не удовлетворительно</td>\n",
       "    </tr>\n",
       "    <tr>\n",
       "      <th>155521</th>\n",
       "      <td>089dd5b2-4704-4c01-88d6-ec48871f8194</td>\n",
       "      <td>Не удовлетворительно</td>\n",
       "    </tr>\n",
       "    <tr>\n",
       "      <th>184331</th>\n",
       "      <td>089dd5b2-4704-4c01-88d6-ec48871f8194</td>\n",
       "      <td>Не удовлетворительно</td>\n",
       "    </tr>\n",
       "    <tr>\n",
       "      <th>206758</th>\n",
       "      <td>089dd5b2-4704-4c01-88d6-ec48871f8194</td>\n",
       "      <td>Не удовлетворительно</td>\n",
       "    </tr>\n",
       "  </tbody>\n",
       "</table>\n",
       "</div>"
      ],
      "text/plain": [
       "                                  request_id result_mentioned_by_user\n",
       "54605   089dd5b2-4704-4c01-88d6-ec48871f8194     Не удовлетворительно\n",
       "94419   089dd5b2-4704-4c01-88d6-ec48871f8194     Не удовлетворительно\n",
       "124150  089dd5b2-4704-4c01-88d6-ec48871f8194     Не удовлетворительно\n",
       "146503  089dd5b2-4704-4c01-88d6-ec48871f8194     Не удовлетворительно\n",
       "155521  089dd5b2-4704-4c01-88d6-ec48871f8194     Не удовлетворительно\n",
       "184331  089dd5b2-4704-4c01-88d6-ec48871f8194     Не удовлетворительно\n",
       "206758  089dd5b2-4704-4c01-88d6-ec48871f8194     Не удовлетворительно"
      ]
     },
     "execution_count": 16,
     "metadata": {},
     "output_type": "execute_result"
    }
   ],
   "source": [
    "users_evaluation_of_satisfaction[users_evaluation_of_satisfaction['request_id'] == '089dd5b2-4704-4c01-88d6-ec48871f8194']"
   ]
  },
  {
   "cell_type": "code",
   "execution_count": 17,
   "metadata": {},
   "outputs": [
    {
     "data": {
      "text/plain": [
       "211069"
      ]
     },
     "execution_count": 17,
     "metadata": {},
     "output_type": "execute_result"
    }
   ],
   "source": [
    "un_req_rev = set(users_evaluation_of_satisfaction['request_id'].unique()) # уникальные оцененные обращения \n",
    "len(un_req_rev)"
   ]
  },
  {
   "cell_type": "code",
   "execution_count": 18,
   "metadata": {},
   "outputs": [
    {
     "data": {
      "text/plain": [
       "(211069, 2)"
      ]
     },
     "execution_count": 18,
     "metadata": {},
     "output_type": "execute_result"
    }
   ],
   "source": [
    "users_evaluation_of_satisfaction_nodulicates = users_evaluation_of_satisfaction.drop_duplicates()\n",
    "users_evaluation_of_satisfaction_nodulicates.shape"
   ]
  },
  {
   "cell_type": "markdown",
   "metadata": {},
   "source": [
    "# Обращения в поддержку"
   ]
  },
  {
   "cell_type": "code",
   "execution_count": 19,
   "metadata": {},
   "outputs": [
    {
     "data": {
      "text/html": [
       "<div>\n",
       "<style scoped>\n",
       "    .dataframe tbody tr th:only-of-type {\n",
       "        vertical-align: middle;\n",
       "    }\n",
       "\n",
       "    .dataframe tbody tr th {\n",
       "        vertical-align: top;\n",
       "    }\n",
       "\n",
       "    .dataframe thead th {\n",
       "        text-align: right;\n",
       "    }\n",
       "</style>\n",
       "<table border=\"1\" class=\"dataframe\">\n",
       "  <thead>\n",
       "    <tr style=\"text-align: right;\">\n",
       "      <th></th>\n",
       "      <th>user_id</th>\n",
       "      <th>ticket_category</th>\n",
       "      <th>ticket_subcategory</th>\n",
       "      <th>current_state</th>\n",
       "      <th>request_id</th>\n",
       "      <th>activity_start_dt</th>\n",
       "      <th>fact_reaction_dt</th>\n",
       "    </tr>\n",
       "  </thead>\n",
       "  <tbody>\n",
       "    <tr>\n",
       "      <th>0</th>\n",
       "      <td>370 518 212</td>\n",
       "      <td>Технические вопросы</td>\n",
       "      <td>Доступ к сайту</td>\n",
       "      <td>Решено</td>\n",
       "      <td>045be6ac-d532-4c20-b1c9-fb82c1737464</td>\n",
       "      <td>2015-11-26 22:56:00</td>\n",
       "      <td>2015-12-03 12:11:00</td>\n",
       "    </tr>\n",
       "    <tr>\n",
       "      <th>1</th>\n",
       "      <td>2 138 799</td>\n",
       "      <td>Технические вопросы</td>\n",
       "      <td>Доступ к сайту</td>\n",
       "      <td>Решено</td>\n",
       "      <td>8ebbb8c6-7abb-4fad-a83b-35a71a83a186</td>\n",
       "      <td>2015-12-18 08:52:00</td>\n",
       "      <td>2015-12-23 06:40:00</td>\n",
       "    </tr>\n",
       "    <tr>\n",
       "      <th>2</th>\n",
       "      <td>2 033 101</td>\n",
       "      <td>Технические вопросы</td>\n",
       "      <td>Доступ к сайту</td>\n",
       "      <td>Решено</td>\n",
       "      <td>ee303751-4a21-4544-a4c3-56924c088028</td>\n",
       "      <td>2015-12-16 19:06:00</td>\n",
       "      <td>2015-12-26 07:46:00</td>\n",
       "    </tr>\n",
       "    <tr>\n",
       "      <th>3</th>\n",
       "      <td>177 122 000 003</td>\n",
       "      <td>Мобильный Avito</td>\n",
       "      <td>Android приложение</td>\n",
       "      <td>Решено</td>\n",
       "      <td>bb989fcb-277a-41bd-aaa2-f131333b629e</td>\n",
       "      <td>2015-12-01 17:08:00</td>\n",
       "      <td>2015-12-09 11:19:00</td>\n",
       "    </tr>\n",
       "    <tr>\n",
       "      <th>4</th>\n",
       "      <td>37 340 500 064</td>\n",
       "      <td>Технические вопросы</td>\n",
       "      <td>Доступ к сайту</td>\n",
       "      <td>Решено</td>\n",
       "      <td>e742d172-0ef1-47d8-b862-25be082d8bc0</td>\n",
       "      <td>2015-12-14 10:08:00</td>\n",
       "      <td>2015-12-15 16:14:00</td>\n",
       "    </tr>\n",
       "  </tbody>\n",
       "</table>\n",
       "</div>"
      ],
      "text/plain": [
       "           user_id      ticket_category  ticket_subcategory current_state  \\\n",
       "0      370 518 212  Технические вопросы      Доступ к сайту        Решено   \n",
       "1        2 138 799  Технические вопросы      Доступ к сайту        Решено   \n",
       "2        2 033 101  Технические вопросы      Доступ к сайту        Решено   \n",
       "3  177 122 000 003      Мобильный Avito  Android приложение        Решено   \n",
       "4   37 340 500 064  Технические вопросы      Доступ к сайту        Решено   \n",
       "\n",
       "                             request_id    activity_start_dt  \\\n",
       "0  045be6ac-d532-4c20-b1c9-fb82c1737464  2015-11-26 22:56:00   \n",
       "1  8ebbb8c6-7abb-4fad-a83b-35a71a83a186  2015-12-18 08:52:00   \n",
       "2  ee303751-4a21-4544-a4c3-56924c088028  2015-12-16 19:06:00   \n",
       "3  bb989fcb-277a-41bd-aaa2-f131333b629e  2015-12-01 17:08:00   \n",
       "4  e742d172-0ef1-47d8-b862-25be082d8bc0  2015-12-14 10:08:00   \n",
       "\n",
       "      fact_reaction_dt  \n",
       "0  2015-12-03 12:11:00  \n",
       "1  2015-12-23 06:40:00  \n",
       "2  2015-12-26 07:46:00  \n",
       "3  2015-12-09 11:19:00  \n",
       "4  2015-12-15 16:14:00  "
      ]
     },
     "execution_count": 19,
     "metadata": {},
     "output_type": "execute_result"
    }
   ],
   "source": [
    "support_tickets.head()"
   ]
  },
  {
   "cell_type": "code",
   "execution_count": 20,
   "metadata": {},
   "outputs": [
    {
     "name": "stdout",
     "output_type": "stream",
     "text": [
      "<class 'pandas.core.frame.DataFrame'>\n",
      "RangeIndex: 397530 entries, 0 to 397529\n",
      "Data columns (total 7 columns):\n",
      " #   Column              Non-Null Count   Dtype \n",
      "---  ------              --------------   ----- \n",
      " 0   user_id             397530 non-null  object\n",
      " 1   ticket_category     397530 non-null  object\n",
      " 2   ticket_subcategory  397530 non-null  object\n",
      " 3   current_state       397530 non-null  object\n",
      " 4   request_id          397530 non-null  object\n",
      " 5   activity_start_dt   397530 non-null  object\n",
      " 6   fact_reaction_dt    397530 non-null  object\n",
      "dtypes: object(7)\n",
      "memory usage: 21.2+ MB\n"
     ]
    }
   ],
   "source": [
    "support_tickets.info()"
   ]
  },
  {
   "cell_type": "code",
   "execution_count": 22,
   "metadata": {},
   "outputs": [
    {
     "data": {
      "text/plain": [
       "Решено    397530\n",
       "Name: current_state, dtype: int64"
      ]
     },
     "execution_count": 22,
     "metadata": {},
     "output_type": "execute_result"
    }
   ],
   "source": [
    "support_tickets['current_state'].value_counts() # Все решены?"
   ]
  },
  {
   "cell_type": "code",
   "execution_count": 23,
   "metadata": {},
   "outputs": [
    {
     "data": {
      "text/plain": [
       "298957"
      ]
     },
     "execution_count": 23,
     "metadata": {},
     "output_type": "execute_result"
    }
   ],
   "source": [
    "len(support_tickets['user_id'].unique()) # уникальные пользователи"
   ]
  },
  {
   "cell_type": "code",
   "execution_count": 24,
   "metadata": {},
   "outputs": [
    {
     "data": {
      "text/plain": [
       "397530"
      ]
     },
     "execution_count": 24,
     "metadata": {},
     "output_type": "execute_result"
    }
   ],
   "source": [
    "un_req = set(support_tickets['request_id'].unique()) # уникальные обращения\n",
    "len(un_req)"
   ]
  },
  {
   "cell_type": "code",
   "execution_count": 25,
   "metadata": {},
   "outputs": [
    {
     "data": {
      "text/plain": [
       "120422"
      ]
     },
     "execution_count": 25,
     "metadata": {},
     "output_type": "execute_result"
    }
   ],
   "source": [
    "len(un_req_rev.intersection(un_req)) # пересечение обращений и отзывов"
   ]
  },
  {
   "cell_type": "code",
   "execution_count": 26,
   "metadata": {},
   "outputs": [
    {
     "data": {
      "text/plain": [
       "46 564 750 136     1517\n",
       "142 393 000 021     771\n",
       "109 981 250 055     440\n",
       "369 071 114         425\n",
       "383 216 519         352\n",
       "                   ... \n",
       "196 000 096           1\n",
       "954 000 070           1\n",
       "155 533 250 014       1\n",
       "378 448 610           1\n",
       "390 555 235           1\n",
       "Name: user_id, Length: 298957, dtype: int64"
      ]
     },
     "execution_count": 26,
     "metadata": {},
     "output_type": "execute_result"
    }
   ],
   "source": [
    "temp = support_tickets['user_id'].value_counts()\n",
    "temp # самые популярные пользователи поддержки"
   ]
  },
  {
   "cell_type": "code",
   "execution_count": 27,
   "metadata": {},
   "outputs": [
    {
     "data": {
      "text/plain": [
       "1517         1\n",
       "771          1\n",
       "440          1\n",
       "425          1\n",
       "352          1\n",
       "         ...  \n",
       "5         1620\n",
       "4         3534\n",
       "3         9780\n",
       "2        37542\n",
       "1       244151\n",
       "Name: user_id, Length: 71, dtype: int64"
      ]
     },
     "execution_count": 27,
     "metadata": {},
     "output_type": "execute_result"
    }
   ],
   "source": [
    "temp.value_counts().sort_index(ascending=False) #кол-во обращений от одного и того же пользователя"
   ]
  },
  {
   "cell_type": "markdown",
   "metadata": {},
   "source": [
    "# Join обращений и отзывов"
   ]
  },
  {
   "cell_type": "code",
   "execution_count": 28,
   "metadata": {},
   "outputs": [
    {
     "data": {
      "text/plain": [
       "(397530, 8)"
      ]
     },
     "execution_count": 28,
     "metadata": {},
     "output_type": "execute_result"
    }
   ],
   "source": [
    "tickets = support_tickets.merge(users_evaluation_of_satisfaction_nodulicates, left_on='request_id', right_on='request_id', how='left')\n",
    "tickets.shape"
   ]
  },
  {
   "cell_type": "code",
   "execution_count": 29,
   "metadata": {},
   "outputs": [
    {
     "data": {
      "text/html": [
       "<div>\n",
       "<style scoped>\n",
       "    .dataframe tbody tr th:only-of-type {\n",
       "        vertical-align: middle;\n",
       "    }\n",
       "\n",
       "    .dataframe tbody tr th {\n",
       "        vertical-align: top;\n",
       "    }\n",
       "\n",
       "    .dataframe thead th {\n",
       "        text-align: right;\n",
       "    }\n",
       "</style>\n",
       "<table border=\"1\" class=\"dataframe\">\n",
       "  <thead>\n",
       "    <tr style=\"text-align: right;\">\n",
       "      <th></th>\n",
       "      <th>user_id</th>\n",
       "      <th>ticket_category</th>\n",
       "      <th>ticket_subcategory</th>\n",
       "      <th>current_state</th>\n",
       "      <th>request_id</th>\n",
       "      <th>activity_start_dt</th>\n",
       "      <th>fact_reaction_dt</th>\n",
       "      <th>result_mentioned_by_user</th>\n",
       "    </tr>\n",
       "  </thead>\n",
       "  <tbody>\n",
       "    <tr>\n",
       "      <th>0</th>\n",
       "      <td>370 518 212</td>\n",
       "      <td>Технические вопросы</td>\n",
       "      <td>Доступ к сайту</td>\n",
       "      <td>Решено</td>\n",
       "      <td>045be6ac-d532-4c20-b1c9-fb82c1737464</td>\n",
       "      <td>2015-11-26 22:56:00</td>\n",
       "      <td>2015-12-03 12:11:00</td>\n",
       "      <td>Хорошо</td>\n",
       "    </tr>\n",
       "    <tr>\n",
       "      <th>1</th>\n",
       "      <td>2 138 799</td>\n",
       "      <td>Технические вопросы</td>\n",
       "      <td>Доступ к сайту</td>\n",
       "      <td>Решено</td>\n",
       "      <td>8ebbb8c6-7abb-4fad-a83b-35a71a83a186</td>\n",
       "      <td>2015-12-18 08:52:00</td>\n",
       "      <td>2015-12-23 06:40:00</td>\n",
       "      <td>NaN</td>\n",
       "    </tr>\n",
       "    <tr>\n",
       "      <th>2</th>\n",
       "      <td>2 033 101</td>\n",
       "      <td>Технические вопросы</td>\n",
       "      <td>Доступ к сайту</td>\n",
       "      <td>Решено</td>\n",
       "      <td>ee303751-4a21-4544-a4c3-56924c088028</td>\n",
       "      <td>2015-12-16 19:06:00</td>\n",
       "      <td>2015-12-26 07:46:00</td>\n",
       "      <td>NaN</td>\n",
       "    </tr>\n",
       "    <tr>\n",
       "      <th>3</th>\n",
       "      <td>177 122 000 003</td>\n",
       "      <td>Мобильный Avito</td>\n",
       "      <td>Android приложение</td>\n",
       "      <td>Решено</td>\n",
       "      <td>bb989fcb-277a-41bd-aaa2-f131333b629e</td>\n",
       "      <td>2015-12-01 17:08:00</td>\n",
       "      <td>2015-12-09 11:19:00</td>\n",
       "      <td>NaN</td>\n",
       "    </tr>\n",
       "    <tr>\n",
       "      <th>4</th>\n",
       "      <td>37 340 500 064</td>\n",
       "      <td>Технические вопросы</td>\n",
       "      <td>Доступ к сайту</td>\n",
       "      <td>Решено</td>\n",
       "      <td>e742d172-0ef1-47d8-b862-25be082d8bc0</td>\n",
       "      <td>2015-12-14 10:08:00</td>\n",
       "      <td>2015-12-15 16:14:00</td>\n",
       "      <td>NaN</td>\n",
       "    </tr>\n",
       "  </tbody>\n",
       "</table>\n",
       "</div>"
      ],
      "text/plain": [
       "           user_id      ticket_category  ticket_subcategory current_state  \\\n",
       "0      370 518 212  Технические вопросы      Доступ к сайту        Решено   \n",
       "1        2 138 799  Технические вопросы      Доступ к сайту        Решено   \n",
       "2        2 033 101  Технические вопросы      Доступ к сайту        Решено   \n",
       "3  177 122 000 003      Мобильный Avito  Android приложение        Решено   \n",
       "4   37 340 500 064  Технические вопросы      Доступ к сайту        Решено   \n",
       "\n",
       "                             request_id    activity_start_dt  \\\n",
       "0  045be6ac-d532-4c20-b1c9-fb82c1737464  2015-11-26 22:56:00   \n",
       "1  8ebbb8c6-7abb-4fad-a83b-35a71a83a186  2015-12-18 08:52:00   \n",
       "2  ee303751-4a21-4544-a4c3-56924c088028  2015-12-16 19:06:00   \n",
       "3  bb989fcb-277a-41bd-aaa2-f131333b629e  2015-12-01 17:08:00   \n",
       "4  e742d172-0ef1-47d8-b862-25be082d8bc0  2015-12-14 10:08:00   \n",
       "\n",
       "      fact_reaction_dt result_mentioned_by_user  \n",
       "0  2015-12-03 12:11:00                   Хорошо  \n",
       "1  2015-12-23 06:40:00                      NaN  \n",
       "2  2015-12-26 07:46:00                      NaN  \n",
       "3  2015-12-09 11:19:00                      NaN  \n",
       "4  2015-12-15 16:14:00                      NaN  "
      ]
     },
     "execution_count": 29,
     "metadata": {},
     "output_type": "execute_result"
    }
   ],
   "source": [
    "tickets.head()"
   ]
  },
  {
   "cell_type": "markdown",
   "metadata": {},
   "source": [
    "# Расчет CSAT"
   ]
  },
  {
   "cell_type": "code",
   "execution_count": 30,
   "metadata": {},
   "outputs": [
    {
     "data": {
      "text/plain": [
       "120422"
      ]
     },
     "execution_count": 30,
     "metadata": {},
     "output_type": "execute_result"
    }
   ],
   "source": [
    "tickets['result_mentioned_by_user'].notna().sum() # сошлось +"
   ]
  },
  {
   "cell_type": "code",
   "execution_count": 31,
   "metadata": {},
   "outputs": [],
   "source": [
    "tickets['result_mentioned_by_user'].fillna('Нет отзыва', inplace=True)"
   ]
  },
  {
   "cell_type": "code",
   "execution_count": 32,
   "metadata": {},
   "outputs": [
    {
     "data": {
      "text/plain": [
       "Нет отзыва              277108\n",
       "Отлично                  59750\n",
       "Не удовлетворительно     24510\n",
       "Хорошо                   18555\n",
       "Нейтрально               10578\n",
       "Удовлетворительно         7029\n",
       "Name: result_mentioned_by_user, dtype: int64"
      ]
     },
     "execution_count": 32,
     "metadata": {},
     "output_type": "execute_result"
    }
   ],
   "source": [
    "temp = tickets['result_mentioned_by_user'].value_counts()\n",
    "temp"
   ]
  },
  {
   "cell_type": "code",
   "execution_count": 33,
   "metadata": {},
   "outputs": [
    {
     "data": {
      "text/plain": [
       "120422"
      ]
     },
     "execution_count": 33,
     "metadata": {},
     "output_type": "execute_result"
    }
   ],
   "source": [
    "all_rev = temp.sum() - temp['Нет отзыва']\n",
    "all_rev # кол-во обращений с отзывами"
   ]
  },
  {
   "cell_type": "code",
   "execution_count": 34,
   "metadata": {},
   "outputs": [
    {
     "data": {
      "text/plain": [
       "78305"
      ]
     },
     "execution_count": 34,
     "metadata": {},
     "output_type": "execute_result"
    }
   ],
   "source": [
    "good_plus = temp['Хорошо'] + temp['Отлично']\n",
    "good_plus"
   ]
  },
  {
   "cell_type": "code",
   "execution_count": 35,
   "metadata": {},
   "outputs": [
    {
     "data": {
      "text/plain": [
       "65.0254936805567"
      ]
     },
     "execution_count": 35,
     "metadata": {},
     "output_type": "execute_result"
    }
   ],
   "source": [
    "CSAT = good_plus/all_rev * 100\n",
    "CSAT"
   ]
  },
  {
   "cell_type": "markdown",
   "metadata": {},
   "source": [
    "# Время ответа"
   ]
  },
  {
   "cell_type": "code",
   "execution_count": 36,
   "metadata": {},
   "outputs": [],
   "source": [
    "tickets['activity_start_dt'] = tickets['activity_start_dt'].apply(pd.Timestamp)\n",
    "tickets['fact_reaction_dt'] = tickets['fact_reaction_dt'].apply(pd.Timestamp)"
   ]
  },
  {
   "cell_type": "code",
   "execution_count": 37,
   "metadata": {},
   "outputs": [],
   "source": [
    "wrong_reaction_time_index = tickets[tickets['fact_reaction_dt'] < tickets['activity_start_dt']].index"
   ]
  },
  {
   "cell_type": "code",
   "execution_count": 38,
   "metadata": {},
   "outputs": [
    {
     "data": {
      "text/plain": [
       "(397522, 8)"
      ]
     },
     "execution_count": 38,
     "metadata": {},
     "output_type": "execute_result"
    }
   ],
   "source": [
    "tickets.drop(wrong_reaction_time_index, inplace=True)\n",
    "tickets.shape"
   ]
  },
  {
   "cell_type": "code",
   "execution_count": 39,
   "metadata": {},
   "outputs": [],
   "source": [
    "tickets['time_answer'] = tickets['fact_reaction_dt'] - tickets['activity_start_dt']"
   ]
  },
  {
   "cell_type": "code",
   "execution_count": 40,
   "metadata": {},
   "outputs": [
    {
     "data": {
      "text/html": [
       "<div>\n",
       "<style scoped>\n",
       "    .dataframe tbody tr th:only-of-type {\n",
       "        vertical-align: middle;\n",
       "    }\n",
       "\n",
       "    .dataframe tbody tr th {\n",
       "        vertical-align: top;\n",
       "    }\n",
       "\n",
       "    .dataframe thead th {\n",
       "        text-align: right;\n",
       "    }\n",
       "</style>\n",
       "<table border=\"1\" class=\"dataframe\">\n",
       "  <thead>\n",
       "    <tr style=\"text-align: right;\">\n",
       "      <th></th>\n",
       "      <th>user_id</th>\n",
       "      <th>ticket_category</th>\n",
       "      <th>ticket_subcategory</th>\n",
       "      <th>current_state</th>\n",
       "      <th>request_id</th>\n",
       "      <th>activity_start_dt</th>\n",
       "      <th>fact_reaction_dt</th>\n",
       "      <th>result_mentioned_by_user</th>\n",
       "      <th>time_answer</th>\n",
       "    </tr>\n",
       "  </thead>\n",
       "  <tbody>\n",
       "    <tr>\n",
       "      <th>0</th>\n",
       "      <td>370 518 212</td>\n",
       "      <td>Технические вопросы</td>\n",
       "      <td>Доступ к сайту</td>\n",
       "      <td>Решено</td>\n",
       "      <td>045be6ac-d532-4c20-b1c9-fb82c1737464</td>\n",
       "      <td>2015-11-26 22:56:00</td>\n",
       "      <td>2015-12-03 12:11:00</td>\n",
       "      <td>Хорошо</td>\n",
       "      <td>6 days 13:15:00</td>\n",
       "    </tr>\n",
       "    <tr>\n",
       "      <th>1</th>\n",
       "      <td>2 138 799</td>\n",
       "      <td>Технические вопросы</td>\n",
       "      <td>Доступ к сайту</td>\n",
       "      <td>Решено</td>\n",
       "      <td>8ebbb8c6-7abb-4fad-a83b-35a71a83a186</td>\n",
       "      <td>2015-12-18 08:52:00</td>\n",
       "      <td>2015-12-23 06:40:00</td>\n",
       "      <td>Нет отзыва</td>\n",
       "      <td>4 days 21:48:00</td>\n",
       "    </tr>\n",
       "    <tr>\n",
       "      <th>2</th>\n",
       "      <td>2 033 101</td>\n",
       "      <td>Технические вопросы</td>\n",
       "      <td>Доступ к сайту</td>\n",
       "      <td>Решено</td>\n",
       "      <td>ee303751-4a21-4544-a4c3-56924c088028</td>\n",
       "      <td>2015-12-16 19:06:00</td>\n",
       "      <td>2015-12-26 07:46:00</td>\n",
       "      <td>Нет отзыва</td>\n",
       "      <td>9 days 12:40:00</td>\n",
       "    </tr>\n",
       "    <tr>\n",
       "      <th>3</th>\n",
       "      <td>177 122 000 003</td>\n",
       "      <td>Мобильный Avito</td>\n",
       "      <td>Android приложение</td>\n",
       "      <td>Решено</td>\n",
       "      <td>bb989fcb-277a-41bd-aaa2-f131333b629e</td>\n",
       "      <td>2015-12-01 17:08:00</td>\n",
       "      <td>2015-12-09 11:19:00</td>\n",
       "      <td>Нет отзыва</td>\n",
       "      <td>7 days 18:11:00</td>\n",
       "    </tr>\n",
       "    <tr>\n",
       "      <th>4</th>\n",
       "      <td>37 340 500 064</td>\n",
       "      <td>Технические вопросы</td>\n",
       "      <td>Доступ к сайту</td>\n",
       "      <td>Решено</td>\n",
       "      <td>e742d172-0ef1-47d8-b862-25be082d8bc0</td>\n",
       "      <td>2015-12-14 10:08:00</td>\n",
       "      <td>2015-12-15 16:14:00</td>\n",
       "      <td>Нет отзыва</td>\n",
       "      <td>1 days 06:06:00</td>\n",
       "    </tr>\n",
       "  </tbody>\n",
       "</table>\n",
       "</div>"
      ],
      "text/plain": [
       "           user_id      ticket_category  ticket_subcategory current_state  \\\n",
       "0      370 518 212  Технические вопросы      Доступ к сайту        Решено   \n",
       "1        2 138 799  Технические вопросы      Доступ к сайту        Решено   \n",
       "2        2 033 101  Технические вопросы      Доступ к сайту        Решено   \n",
       "3  177 122 000 003      Мобильный Avito  Android приложение        Решено   \n",
       "4   37 340 500 064  Технические вопросы      Доступ к сайту        Решено   \n",
       "\n",
       "                             request_id   activity_start_dt  \\\n",
       "0  045be6ac-d532-4c20-b1c9-fb82c1737464 2015-11-26 22:56:00   \n",
       "1  8ebbb8c6-7abb-4fad-a83b-35a71a83a186 2015-12-18 08:52:00   \n",
       "2  ee303751-4a21-4544-a4c3-56924c088028 2015-12-16 19:06:00   \n",
       "3  bb989fcb-277a-41bd-aaa2-f131333b629e 2015-12-01 17:08:00   \n",
       "4  e742d172-0ef1-47d8-b862-25be082d8bc0 2015-12-14 10:08:00   \n",
       "\n",
       "     fact_reaction_dt result_mentioned_by_user     time_answer  \n",
       "0 2015-12-03 12:11:00                   Хорошо 6 days 13:15:00  \n",
       "1 2015-12-23 06:40:00               Нет отзыва 4 days 21:48:00  \n",
       "2 2015-12-26 07:46:00               Нет отзыва 9 days 12:40:00  \n",
       "3 2015-12-09 11:19:00               Нет отзыва 7 days 18:11:00  \n",
       "4 2015-12-15 16:14:00               Нет отзыва 1 days 06:06:00  "
      ]
     },
     "execution_count": 40,
     "metadata": {},
     "output_type": "execute_result"
    }
   ],
   "source": [
    "tickets.head()"
   ]
  },
  {
   "cell_type": "code",
   "execution_count": 41,
   "metadata": {},
   "outputs": [
    {
     "data": {
      "text/html": [
       "<div>\n",
       "<style scoped>\n",
       "    .dataframe tbody tr th:only-of-type {\n",
       "        vertical-align: middle;\n",
       "    }\n",
       "\n",
       "    .dataframe tbody tr th {\n",
       "        vertical-align: top;\n",
       "    }\n",
       "\n",
       "    .dataframe thead th {\n",
       "        text-align: right;\n",
       "    }\n",
       "</style>\n",
       "<table border=\"1\" class=\"dataframe\">\n",
       "  <thead>\n",
       "    <tr style=\"text-align: right;\">\n",
       "      <th></th>\n",
       "      <th>user_id</th>\n",
       "      <th>ticket_category</th>\n",
       "      <th>ticket_subcategory</th>\n",
       "      <th>current_state</th>\n",
       "      <th>request_id</th>\n",
       "      <th>activity_start_dt</th>\n",
       "      <th>fact_reaction_dt</th>\n",
       "      <th>result_mentioned_by_user</th>\n",
       "      <th>time_answer</th>\n",
       "    </tr>\n",
       "  </thead>\n",
       "  <tbody>\n",
       "    <tr>\n",
       "      <th>11409</th>\n",
       "      <td>385 723 328</td>\n",
       "      <td>Технические вопросы</td>\n",
       "      <td>Подтверждение телефонного номера</td>\n",
       "      <td>Решено</td>\n",
       "      <td>b661908c-fc53-46dd-8fb0-5460517e0e16</td>\n",
       "      <td>2015-08-28 13:33:00</td>\n",
       "      <td>2015-09-03 11:15:00</td>\n",
       "      <td>Отлично</td>\n",
       "      <td>5 days 21:42:00</td>\n",
       "    </tr>\n",
       "    <tr>\n",
       "      <th>49929</th>\n",
       "      <td>113 242 750 044</td>\n",
       "      <td>Платные услуги и сервисы</td>\n",
       "      <td>Оплата и применение услуг</td>\n",
       "      <td>Решено</td>\n",
       "      <td>8ac280d7-bd3c-4884-b277-2112a98214e0</td>\n",
       "      <td>2015-08-31 21:05:00</td>\n",
       "      <td>2015-09-04 10:20:00</td>\n",
       "      <td>Нет отзыва</td>\n",
       "      <td>3 days 13:15:00</td>\n",
       "    </tr>\n",
       "    <tr>\n",
       "      <th>82916</th>\n",
       "      <td>51 951 000 089</td>\n",
       "      <td>Магазины, Автозагрузка и юридические лица</td>\n",
       "      <td>Другие вопросы и консультации</td>\n",
       "      <td>Решено</td>\n",
       "      <td>aef69e22-f72c-4ee0-a9a3-793b66e2e98b</td>\n",
       "      <td>2015-08-31 17:19:00</td>\n",
       "      <td>2015-09-01 08:23:00</td>\n",
       "      <td>Нет отзыва</td>\n",
       "      <td>0 days 15:04:00</td>\n",
       "    </tr>\n",
       "    <tr>\n",
       "      <th>144509</th>\n",
       "      <td>1 502 913</td>\n",
       "      <td>Технические вопросы</td>\n",
       "      <td>Вход в личный кабинет</td>\n",
       "      <td>Решено</td>\n",
       "      <td>8a2bb4e6-fc44-4f35-a88a-cfef0ad4efff</td>\n",
       "      <td>2015-08-14 18:34:00</td>\n",
       "      <td>2015-09-03 14:56:00</td>\n",
       "      <td>Нет отзыва</td>\n",
       "      <td>19 days 20:22:00</td>\n",
       "    </tr>\n",
       "    <tr>\n",
       "      <th>162993</th>\n",
       "      <td>77 919 000 022</td>\n",
       "      <td>Магазины, Автозагрузка и юридические лица</td>\n",
       "      <td>Автоматическая загрузка объявлений</td>\n",
       "      <td>Решено</td>\n",
       "      <td>3c46e28a-9eb0-4464-a254-912056281e13</td>\n",
       "      <td>2015-08-31 16:02:00</td>\n",
       "      <td>2015-09-01 08:31:00</td>\n",
       "      <td>Отлично</td>\n",
       "      <td>0 days 16:29:00</td>\n",
       "    </tr>\n",
       "    <tr>\n",
       "      <th>193716</th>\n",
       "      <td>7 055 000 169</td>\n",
       "      <td>Рекламные сервисы Avito</td>\n",
       "      <td>Оплата компании Avito Промо</td>\n",
       "      <td>Решено</td>\n",
       "      <td>56c99d07-6b7e-4b0a-a220-6a7445321785</td>\n",
       "      <td>2015-08-31 17:03:00</td>\n",
       "      <td>2015-09-02 13:30:00</td>\n",
       "      <td>Нет отзыва</td>\n",
       "      <td>1 days 20:27:00</td>\n",
       "    </tr>\n",
       "    <tr>\n",
       "      <th>277210</th>\n",
       "      <td>180 250 121</td>\n",
       "      <td>Платные услуги и сервисы</td>\n",
       "      <td>Оплата и применение услуг</td>\n",
       "      <td>Решено</td>\n",
       "      <td>31430d87-cfb6-48ca-b88f-64ee6d9aa056</td>\n",
       "      <td>2015-08-18 15:50:00</td>\n",
       "      <td>2015-09-02 11:36:00</td>\n",
       "      <td>Нет отзыва</td>\n",
       "      <td>14 days 19:46:00</td>\n",
       "    </tr>\n",
       "  </tbody>\n",
       "</table>\n",
       "</div>"
      ],
      "text/plain": [
       "                user_id                            ticket_category  \\\n",
       "11409       385 723 328                        Технические вопросы   \n",
       "49929   113 242 750 044                   Платные услуги и сервисы   \n",
       "82916    51 951 000 089  Магазины, Автозагрузка и юридические лица   \n",
       "144509        1 502 913                        Технические вопросы   \n",
       "162993   77 919 000 022  Магазины, Автозагрузка и юридические лица   \n",
       "193716    7 055 000 169                    Рекламные сервисы Avito   \n",
       "277210      180 250 121                   Платные услуги и сервисы   \n",
       "\n",
       "                        ticket_subcategory current_state  \\\n",
       "11409     Подтверждение телефонного номера        Решено   \n",
       "49929            Оплата и применение услуг        Решено   \n",
       "82916        Другие вопросы и консультации        Решено   \n",
       "144509               Вход в личный кабинет        Решено   \n",
       "162993  Автоматическая загрузка объявлений        Решено   \n",
       "193716         Оплата компании Avito Промо        Решено   \n",
       "277210           Оплата и применение услуг        Решено   \n",
       "\n",
       "                                  request_id   activity_start_dt  \\\n",
       "11409   b661908c-fc53-46dd-8fb0-5460517e0e16 2015-08-28 13:33:00   \n",
       "49929   8ac280d7-bd3c-4884-b277-2112a98214e0 2015-08-31 21:05:00   \n",
       "82916   aef69e22-f72c-4ee0-a9a3-793b66e2e98b 2015-08-31 17:19:00   \n",
       "144509  8a2bb4e6-fc44-4f35-a88a-cfef0ad4efff 2015-08-14 18:34:00   \n",
       "162993  3c46e28a-9eb0-4464-a254-912056281e13 2015-08-31 16:02:00   \n",
       "193716  56c99d07-6b7e-4b0a-a220-6a7445321785 2015-08-31 17:03:00   \n",
       "277210  31430d87-cfb6-48ca-b88f-64ee6d9aa056 2015-08-18 15:50:00   \n",
       "\n",
       "          fact_reaction_dt result_mentioned_by_user      time_answer  \n",
       "11409  2015-09-03 11:15:00                  Отлично  5 days 21:42:00  \n",
       "49929  2015-09-04 10:20:00               Нет отзыва  3 days 13:15:00  \n",
       "82916  2015-09-01 08:23:00               Нет отзыва  0 days 15:04:00  \n",
       "144509 2015-09-03 14:56:00               Нет отзыва 19 days 20:22:00  \n",
       "162993 2015-09-01 08:31:00                  Отлично  0 days 16:29:00  \n",
       "193716 2015-09-02 13:30:00               Нет отзыва  1 days 20:27:00  \n",
       "277210 2015-09-02 11:36:00               Нет отзыва 14 days 19:46:00  "
      ]
     },
     "execution_count": 41,
     "metadata": {},
     "output_type": "execute_result"
    }
   ],
   "source": [
    "tickets[tickets['activity_start_dt'] < '2015-09-01'] # Ответы с сентября"
   ]
  },
  {
   "cell_type": "code",
   "execution_count": 63,
   "metadata": {},
   "outputs": [
    {
     "data": {
      "image/png": "[encoded data removed]",
      "text/plain": [
       "<Figure size 1080x576 with 1 Axes>"
      ]
     },
     "metadata": {
      "needs_background": "light"
     },
     "output_type": "display_data"
    }
   ],
   "source": [
    "data = tickets[tickets['activity_start_dt']>='2015-09-01']['activity_start_dt'].value_counts()\n",
    "df_time = pd.DataFrame(data=data.values,index=data.index, columns=['freq'])\n",
    "agg_df_time = df_time.resample('D').sum()\n",
    "fig, ax = plt.subplots()\n",
    "ax.plot(agg_df_time.index, agg_df_time.values)\n",
    "ax.set_xlabel('Дата')\n",
    "ax.set_ylabel('Число обращений в техподдержку')\n",
    "plt.yticks([1000, 2000, 3000, 4000, 5000, 6000, 7000])\n",
    "plt.show()"
   ]
  },
  {
   "cell_type": "code",
   "execution_count": 118,
   "metadata": {},
   "outputs": [],
   "source": [
    "data = tickets[tickets['fact_reaction_dt']>='2015-09-01']['fact_reaction_dt'].value_counts()\n",
    "df_time = pd.DataFrame(data=data.values,index=data.index, columns=['freq'])\n",
    "first_part = df_time.resample('M').sum()"
   ]
  },
  {
   "cell_type": "code",
   "execution_count": 119,
   "metadata": {},
   "outputs": [
    {
     "data": {
      "text/html": [
       "<div>\n",
       "<style scoped>\n",
       "    .dataframe tbody tr th:only-of-type {\n",
       "        vertical-align: middle;\n",
       "    }\n",
       "\n",
       "    .dataframe tbody tr th {\n",
       "        vertical-align: top;\n",
       "    }\n",
       "\n",
       "    .dataframe thead th {\n",
       "        text-align: right;\n",
       "    }\n",
       "</style>\n",
       "<table border=\"1\" class=\"dataframe\">\n",
       "  <thead>\n",
       "    <tr style=\"text-align: right;\">\n",
       "      <th></th>\n",
       "      <th>count</th>\n",
       "    </tr>\n",
       "  </thead>\n",
       "  <tbody>\n",
       "    <tr>\n",
       "      <th>2015-09-30</th>\n",
       "      <td>30</td>\n",
       "    </tr>\n",
       "    <tr>\n",
       "      <th>2015-10-31</th>\n",
       "      <td>31</td>\n",
       "    </tr>\n",
       "    <tr>\n",
       "      <th>2015-11-30</th>\n",
       "      <td>30</td>\n",
       "    </tr>\n",
       "    <tr>\n",
       "      <th>2015-12-31</th>\n",
       "      <td>31</td>\n",
       "    </tr>\n",
       "    <tr>\n",
       "      <th>2016-01-31</th>\n",
       "      <td>1</td>\n",
       "    </tr>\n",
       "  </tbody>\n",
       "</table>\n",
       "</div>"
      ],
      "text/plain": [
       "            count\n",
       "2015-09-30     30\n",
       "2015-10-31     31\n",
       "2015-11-30     30\n",
       "2015-12-31     31\n",
       "2016-01-31      1"
      ]
     },
     "execution_count": 119,
     "metadata": {},
     "output_type": "execute_result"
    }
   ],
   "source": [
    "#count_days = pd.read_csv('count_days.csv')\n",
    "count_days"
   ]
  },
  {
   "cell_type": "code",
   "execution_count": 124,
   "metadata": {},
   "outputs": [],
   "source": [
    "need_coef =[]\n",
    "for i in zip(first_part.values,count_days.values):\n",
    "    need_coef.append(i[0][0]/i[1][0])"
   ]
  },
  {
   "cell_type": "code",
   "execution_count": 137,
   "metadata": {},
   "outputs": [
    {
     "data": {
      "text/plain": [
       "[3139.7, 3276.548387096774, 3201.3, 3410.2903225806454]"
      ]
     },
     "execution_count": 137,
     "metadata": {},
     "output_type": "execute_result"
    }
   ],
   "source": [
    "need_coef"
   ]
  },
  {
   "cell_type": "code",
   "execution_count": 243,
   "metadata": {},
   "outputs": [
    {
     "data": {
      "image/png": "[encoded data removed]",
      "text/plain": [
       "<Figure size 1080x576 with 1 Axes>"
      ]
     },
     "metadata": {
      "needs_background": "light"
     },
     "output_type": "display_data"
    }
   ],
   "source": [
    "fig, ax = plt.subplots()\n",
    "ax.bar(first_part.index, need_coef, width=20)\n",
    "ax.set_xlabel('Месяц')\n",
    "ax.set_ylabel('Среднее число окончательных ответов на заявки в день')\n",
    "plt.xticks(first_part.index)\n",
    "plt.show()"
   ]
  },
  {
   "cell_type": "code",
   "execution_count": 253,
   "metadata": {},
   "outputs": [
    {
     "data": {
      "text/html": [
       "<div>\n",
       "<style scoped>\n",
       "    .dataframe tbody tr th:only-of-type {\n",
       "        vertical-align: middle;\n",
       "    }\n",
       "\n",
       "    .dataframe tbody tr th {\n",
       "        vertical-align: top;\n",
       "    }\n",
       "\n",
       "    .dataframe thead th {\n",
       "        text-align: right;\n",
       "    }\n",
       "</style>\n",
       "<table border=\"1\" class=\"dataframe\">\n",
       "  <thead>\n",
       "    <tr style=\"text-align: right;\">\n",
       "      <th></th>\n",
       "      <th>count_avg</th>\n",
       "    </tr>\n",
       "  </thead>\n",
       "  <tbody>\n",
       "    <tr>\n",
       "      <th>2015-09</th>\n",
       "      <td>3139.700000</td>\n",
       "    </tr>\n",
       "    <tr>\n",
       "      <th>2015-10</th>\n",
       "      <td>3276.548387</td>\n",
       "    </tr>\n",
       "    <tr>\n",
       "      <th>2015-11</th>\n",
       "      <td>3201.300000</td>\n",
       "    </tr>\n",
       "    <tr>\n",
       "      <th>2015-12</th>\n",
       "      <td>3410.290323</td>\n",
       "    </tr>\n",
       "  </tbody>\n",
       "</table>\n",
       "</div>"
      ],
      "text/plain": [
       "           count_avg\n",
       "2015-09  3139.700000\n",
       "2015-10  3276.548387\n",
       "2015-11  3201.300000\n",
       "2015-12  3410.290323"
      ]
     },
     "execution_count": 253,
     "metadata": {},
     "output_type": "execute_result"
    }
   ],
   "source": [
    "pd.DataFrame(data=need_coef, index=list(map(str,list(good_df.index))), columns=['count_avg'])"
   ]
  },
  {
   "cell_type": "markdown",
   "metadata": {},
   "source": [
    "# Общее количество заявок в день — Number of Support Tickets"
   ]
  },
  {
   "cell_type": "code",
   "execution_count": 138,
   "metadata": {},
   "outputs": [
    {
     "data": {
      "text/plain": [
       "3154.936507936508"
      ]
     },
     "execution_count": 138,
     "metadata": {},
     "output_type": "execute_result"
    }
   ],
   "source": [
    "tickets['activity_start_dt'].dt.round('D').value_counts().mean()"
   ]
  },
  {
   "cell_type": "code",
   "execution_count": 139,
   "metadata": {},
   "outputs": [],
   "source": [
    "tickets['time_answer_days'] = tickets['fact_reaction_dt'].dt.round('D') - tickets['activity_start_dt'].dt.round('D')"
   ]
  },
  {
   "cell_type": "code",
   "execution_count": 140,
   "metadata": {},
   "outputs": [
    {
     "data": {
      "text/html": [
       "<div>\n",
       "<style scoped>\n",
       "    .dataframe tbody tr th:only-of-type {\n",
       "        vertical-align: middle;\n",
       "    }\n",
       "\n",
       "    .dataframe tbody tr th {\n",
       "        vertical-align: top;\n",
       "    }\n",
       "\n",
       "    .dataframe thead th {\n",
       "        text-align: right;\n",
       "    }\n",
       "</style>\n",
       "<table border=\"1\" class=\"dataframe\">\n",
       "  <thead>\n",
       "    <tr style=\"text-align: right;\">\n",
       "      <th></th>\n",
       "      <th>user_id</th>\n",
       "      <th>ticket_category</th>\n",
       "      <th>ticket_subcategory</th>\n",
       "      <th>current_state</th>\n",
       "      <th>request_id</th>\n",
       "      <th>activity_start_dt</th>\n",
       "      <th>fact_reaction_dt</th>\n",
       "      <th>result_mentioned_by_user</th>\n",
       "      <th>time_answer</th>\n",
       "      <th>time_answer_days</th>\n",
       "      <th>hour_of_start</th>\n",
       "      <th>array_count_tickets</th>\n",
       "      <th>is_holyday</th>\n",
       "      <th>Не удовлетворительно</th>\n",
       "      <th>Удовлетворительно</th>\n",
       "      <th>Нейтрально</th>\n",
       "      <th>Хорошо</th>\n",
       "      <th>Отлично</th>\n",
       "      <th>Нет отзыва</th>\n",
       "      <th>time_answer_standart</th>\n",
       "    </tr>\n",
       "  </thead>\n",
       "  <tbody>\n",
       "    <tr>\n",
       "      <th>0</th>\n",
       "      <td>370 518 212</td>\n",
       "      <td>Технические вопросы</td>\n",
       "      <td>Доступ к сайту</td>\n",
       "      <td>Решено</td>\n",
       "      <td>045be6ac-d532-4c20-b1c9-fb82c1737464</td>\n",
       "      <td>2015-11-26 22:56:00</td>\n",
       "      <td>2015-12-03 12:11:00</td>\n",
       "      <td>Хорошо</td>\n",
       "      <td>6 days 13:15:00</td>\n",
       "      <td>7 days</td>\n",
       "      <td>22</td>\n",
       "      <td>2</td>\n",
       "      <td>False</td>\n",
       "      <td>0</td>\n",
       "      <td>0</td>\n",
       "      <td>0</td>\n",
       "      <td>0</td>\n",
       "      <td>0</td>\n",
       "      <td>1</td>\n",
       "      <td>1.128340</td>\n",
       "    </tr>\n",
       "    <tr>\n",
       "      <th>1</th>\n",
       "      <td>2 138 799</td>\n",
       "      <td>Технические вопросы</td>\n",
       "      <td>Доступ к сайту</td>\n",
       "      <td>Решено</td>\n",
       "      <td>8ebbb8c6-7abb-4fad-a83b-35a71a83a186</td>\n",
       "      <td>2015-12-18 08:52:00</td>\n",
       "      <td>2015-12-23 06:40:00</td>\n",
       "      <td>Нет отзыва</td>\n",
       "      <td>4 days 21:48:00</td>\n",
       "      <td>5 days</td>\n",
       "      <td>8</td>\n",
       "      <td>1</td>\n",
       "      <td>False</td>\n",
       "      <td>0</td>\n",
       "      <td>0</td>\n",
       "      <td>0</td>\n",
       "      <td>0</td>\n",
       "      <td>0</td>\n",
       "      <td>0</td>\n",
       "      <td>0.713697</td>\n",
       "    </tr>\n",
       "    <tr>\n",
       "      <th>2</th>\n",
       "      <td>2 033 101</td>\n",
       "      <td>Технические вопросы</td>\n",
       "      <td>Доступ к сайту</td>\n",
       "      <td>Решено</td>\n",
       "      <td>ee303751-4a21-4544-a4c3-56924c088028</td>\n",
       "      <td>2015-12-16 19:06:00</td>\n",
       "      <td>2015-12-26 07:46:00</td>\n",
       "      <td>Нет отзыва</td>\n",
       "      <td>9 days 12:40:00</td>\n",
       "      <td>9 days</td>\n",
       "      <td>19</td>\n",
       "      <td>1</td>\n",
       "      <td>False</td>\n",
       "      <td>0</td>\n",
       "      <td>0</td>\n",
       "      <td>0</td>\n",
       "      <td>0</td>\n",
       "      <td>0</td>\n",
       "      <td>0</td>\n",
       "      <td>1.878974</td>\n",
       "    </tr>\n",
       "    <tr>\n",
       "      <th>3</th>\n",
       "      <td>177 122 000 003</td>\n",
       "      <td>Мобильный Avito</td>\n",
       "      <td>Android приложение</td>\n",
       "      <td>Решено</td>\n",
       "      <td>bb989fcb-277a-41bd-aaa2-f131333b629e</td>\n",
       "      <td>2015-12-01 17:08:00</td>\n",
       "      <td>2015-12-09 11:19:00</td>\n",
       "      <td>Нет отзыва</td>\n",
       "      <td>7 days 18:11:00</td>\n",
       "      <td>7 days</td>\n",
       "      <td>17</td>\n",
       "      <td>1</td>\n",
       "      <td>False</td>\n",
       "      <td>0</td>\n",
       "      <td>0</td>\n",
       "      <td>0</td>\n",
       "      <td>0</td>\n",
       "      <td>0</td>\n",
       "      <td>0</td>\n",
       "      <td>1.432448</td>\n",
       "    </tr>\n",
       "    <tr>\n",
       "      <th>4</th>\n",
       "      <td>37 340 500 064</td>\n",
       "      <td>Технические вопросы</td>\n",
       "      <td>Доступ к сайту</td>\n",
       "      <td>Решено</td>\n",
       "      <td>e742d172-0ef1-47d8-b862-25be082d8bc0</td>\n",
       "      <td>2015-12-14 10:08:00</td>\n",
       "      <td>2015-12-15 16:14:00</td>\n",
       "      <td>Нет отзыва</td>\n",
       "      <td>1 days 06:06:00</td>\n",
       "      <td>2 days</td>\n",
       "      <td>10</td>\n",
       "      <td>1</td>\n",
       "      <td>False</td>\n",
       "      <td>0</td>\n",
       "      <td>0</td>\n",
       "      <td>0</td>\n",
       "      <td>0</td>\n",
       "      <td>0</td>\n",
       "      <td>0</td>\n",
       "      <td>-0.208085</td>\n",
       "    </tr>\n",
       "    <tr>\n",
       "      <th>...</th>\n",
       "      <td>...</td>\n",
       "      <td>...</td>\n",
       "      <td>...</td>\n",
       "      <td>...</td>\n",
       "      <td>...</td>\n",
       "      <td>...</td>\n",
       "      <td>...</td>\n",
       "      <td>...</td>\n",
       "      <td>...</td>\n",
       "      <td>...</td>\n",
       "      <td>...</td>\n",
       "      <td>...</td>\n",
       "      <td>...</td>\n",
       "      <td>...</td>\n",
       "      <td>...</td>\n",
       "      <td>...</td>\n",
       "      <td>...</td>\n",
       "      <td>...</td>\n",
       "      <td>...</td>\n",
       "      <td>...</td>\n",
       "    </tr>\n",
       "    <tr>\n",
       "      <th>397517</th>\n",
       "      <td>144 011 750 056</td>\n",
       "      <td>Блокировки и отклонения</td>\n",
       "      <td>Заблокированная учетная запись</td>\n",
       "      <td>Решено</td>\n",
       "      <td>e0eb978c-282c-4b9a-9998-f1fa688a4f71</td>\n",
       "      <td>2015-09-29 07:09:00</td>\n",
       "      <td>2015-09-29 13:02:00</td>\n",
       "      <td>Нет отзыва</td>\n",
       "      <td>0 days 05:53:00</td>\n",
       "      <td>1 days</td>\n",
       "      <td>7</td>\n",
       "      <td>4</td>\n",
       "      <td>False</td>\n",
       "      <td>0</td>\n",
       "      <td>0</td>\n",
       "      <td>0</td>\n",
       "      <td>0</td>\n",
       "      <td>0</td>\n",
       "      <td>3</td>\n",
       "      <td>-0.462617</td>\n",
       "    </tr>\n",
       "    <tr>\n",
       "      <th>397518</th>\n",
       "      <td>144 011 750 056</td>\n",
       "      <td>Блокировки и отклонения</td>\n",
       "      <td>Заблокированная учетная запись</td>\n",
       "      <td>Решено</td>\n",
       "      <td>939ef980-4b59-40dc-9d29-66b47ba77fb6</td>\n",
       "      <td>2015-09-25 13:28:00</td>\n",
       "      <td>2015-09-29 16:38:00</td>\n",
       "      <td>Нет отзыва</td>\n",
       "      <td>4 days 03:10:00</td>\n",
       "      <td>4 days</td>\n",
       "      <td>13</td>\n",
       "      <td>3</td>\n",
       "      <td>False</td>\n",
       "      <td>0</td>\n",
       "      <td>0</td>\n",
       "      <td>0</td>\n",
       "      <td>0</td>\n",
       "      <td>0</td>\n",
       "      <td>2</td>\n",
       "      <td>0.517849</td>\n",
       "    </tr>\n",
       "    <tr>\n",
       "      <th>397519</th>\n",
       "      <td>144 011 750 056</td>\n",
       "      <td>Блокировки и отклонения</td>\n",
       "      <td>Заблокированная учетная запись</td>\n",
       "      <td>Решено</td>\n",
       "      <td>f558d9eb-b278-4d74-a63a-b35674f5a672</td>\n",
       "      <td>2015-10-09 05:24:00</td>\n",
       "      <td>2015-10-09 05:29:00</td>\n",
       "      <td>Нет отзыва</td>\n",
       "      <td>0 days 00:05:00</td>\n",
       "      <td>0 days</td>\n",
       "      <td>5</td>\n",
       "      <td>5</td>\n",
       "      <td>False</td>\n",
       "      <td>0</td>\n",
       "      <td>0</td>\n",
       "      <td>0</td>\n",
       "      <td>0</td>\n",
       "      <td>0</td>\n",
       "      <td>4</td>\n",
       "      <td>-0.523578</td>\n",
       "    </tr>\n",
       "    <tr>\n",
       "      <th>397520</th>\n",
       "      <td>144 011 750 056</td>\n",
       "      <td>Блокировки и отклонения</td>\n",
       "      <td>Заблокированная учетная запись</td>\n",
       "      <td>Решено</td>\n",
       "      <td>9359f267-bc96-406d-b054-80cbdf761e11</td>\n",
       "      <td>2015-09-04 05:38:00</td>\n",
       "      <td>2015-09-04 05:43:00</td>\n",
       "      <td>Нет отзыва</td>\n",
       "      <td>0 days 00:05:00</td>\n",
       "      <td>0 days</td>\n",
       "      <td>5</td>\n",
       "      <td>1</td>\n",
       "      <td>False</td>\n",
       "      <td>0</td>\n",
       "      <td>0</td>\n",
       "      <td>0</td>\n",
       "      <td>0</td>\n",
       "      <td>0</td>\n",
       "      <td>0</td>\n",
       "      <td>-0.523578</td>\n",
       "    </tr>\n",
       "    <tr>\n",
       "      <th>397521</th>\n",
       "      <td>118 138 000 014</td>\n",
       "      <td>Блокировки и отклонения</td>\n",
       "      <td>Заблокированное объявление</td>\n",
       "      <td>Решено</td>\n",
       "      <td>359edf8e-88a3-486b-9010-e2a923d77ed0</td>\n",
       "      <td>2015-09-29 08:48:00</td>\n",
       "      <td>2015-09-30 16:32:00</td>\n",
       "      <td>Нет отзыва</td>\n",
       "      <td>1 days 07:44:00</td>\n",
       "      <td>2 days</td>\n",
       "      <td>8</td>\n",
       "      <td>1</td>\n",
       "      <td>False</td>\n",
       "      <td>0</td>\n",
       "      <td>0</td>\n",
       "      <td>0</td>\n",
       "      <td>0</td>\n",
       "      <td>0</td>\n",
       "      <td>0</td>\n",
       "      <td>-0.190917</td>\n",
       "    </tr>\n",
       "  </tbody>\n",
       "</table>\n",
       "<p>397522 rows × 20 columns</p>\n",
       "</div>"
      ],
      "text/plain": [
       "                user_id          ticket_category  \\\n",
       "0           370 518 212      Технические вопросы   \n",
       "1             2 138 799      Технические вопросы   \n",
       "2             2 033 101      Технические вопросы   \n",
       "3       177 122 000 003          Мобильный Avito   \n",
       "4        37 340 500 064      Технические вопросы   \n",
       "...                 ...                      ...   \n",
       "397517  144 011 750 056  Блокировки и отклонения   \n",
       "397518  144 011 750 056  Блокировки и отклонения   \n",
       "397519  144 011 750 056  Блокировки и отклонения   \n",
       "397520  144 011 750 056  Блокировки и отклонения   \n",
       "397521  118 138 000 014  Блокировки и отклонения   \n",
       "\n",
       "                    ticket_subcategory current_state  \\\n",
       "0                       Доступ к сайту        Решено   \n",
       "1                       Доступ к сайту        Решено   \n",
       "2                       Доступ к сайту        Решено   \n",
       "3                   Android приложение        Решено   \n",
       "4                       Доступ к сайту        Решено   \n",
       "...                                ...           ...   \n",
       "397517  Заблокированная учетная запись        Решено   \n",
       "397518  Заблокированная учетная запись        Решено   \n",
       "397519  Заблокированная учетная запись        Решено   \n",
       "397520  Заблокированная учетная запись        Решено   \n",
       "397521      Заблокированное объявление        Решено   \n",
       "\n",
       "                                  request_id   activity_start_dt  \\\n",
       "0       045be6ac-d532-4c20-b1c9-fb82c1737464 2015-11-26 22:56:00   \n",
       "1       8ebbb8c6-7abb-4fad-a83b-35a71a83a186 2015-12-18 08:52:00   \n",
       "2       ee303751-4a21-4544-a4c3-56924c088028 2015-12-16 19:06:00   \n",
       "3       bb989fcb-277a-41bd-aaa2-f131333b629e 2015-12-01 17:08:00   \n",
       "4       e742d172-0ef1-47d8-b862-25be082d8bc0 2015-12-14 10:08:00   \n",
       "...                                      ...                 ...   \n",
       "397517  e0eb978c-282c-4b9a-9998-f1fa688a4f71 2015-09-29 07:09:00   \n",
       "397518  939ef980-4b59-40dc-9d29-66b47ba77fb6 2015-09-25 13:28:00   \n",
       "397519  f558d9eb-b278-4d74-a63a-b35674f5a672 2015-10-09 05:24:00   \n",
       "397520  9359f267-bc96-406d-b054-80cbdf761e11 2015-09-04 05:38:00   \n",
       "397521  359edf8e-88a3-486b-9010-e2a923d77ed0 2015-09-29 08:48:00   \n",
       "\n",
       "          fact_reaction_dt result_mentioned_by_user     time_answer  \\\n",
       "0      2015-12-03 12:11:00                   Хорошо 6 days 13:15:00   \n",
       "1      2015-12-23 06:40:00               Нет отзыва 4 days 21:48:00   \n",
       "2      2015-12-26 07:46:00               Нет отзыва 9 days 12:40:00   \n",
       "3      2015-12-09 11:19:00               Нет отзыва 7 days 18:11:00   \n",
       "4      2015-12-15 16:14:00               Нет отзыва 1 days 06:06:00   \n",
       "...                    ...                      ...             ...   \n",
       "397517 2015-09-29 13:02:00               Нет отзыва 0 days 05:53:00   \n",
       "397518 2015-09-29 16:38:00               Нет отзыва 4 days 03:10:00   \n",
       "397519 2015-10-09 05:29:00               Нет отзыва 0 days 00:05:00   \n",
       "397520 2015-09-04 05:43:00               Нет отзыва 0 days 00:05:00   \n",
       "397521 2015-09-30 16:32:00               Нет отзыва 1 days 07:44:00   \n",
       "\n",
       "       time_answer_days  hour_of_start  array_count_tickets  is_holyday  \\\n",
       "0                7 days             22                    2       False   \n",
       "1                5 days              8                    1       False   \n",
       "2                9 days             19                    1       False   \n",
       "3                7 days             17                    1       False   \n",
       "4                2 days             10                    1       False   \n",
       "...                 ...            ...                  ...         ...   \n",
       "397517           1 days              7                    4       False   \n",
       "397518           4 days             13                    3       False   \n",
       "397519           0 days              5                    5       False   \n",
       "397520           0 days              5                    1       False   \n",
       "397521           2 days              8                    1       False   \n",
       "\n",
       "        Не удовлетворительно  Удовлетворительно  Нейтрально  Хорошо  Отлично  \\\n",
       "0                          0                  0           0       0        0   \n",
       "1                          0                  0           0       0        0   \n",
       "2                          0                  0           0       0        0   \n",
       "3                          0                  0           0       0        0   \n",
       "4                          0                  0           0       0        0   \n",
       "...                      ...                ...         ...     ...      ...   \n",
       "397517                     0                  0           0       0        0   \n",
       "397518                     0                  0           0       0        0   \n",
       "397519                     0                  0           0       0        0   \n",
       "397520                     0                  0           0       0        0   \n",
       "397521                     0                  0           0       0        0   \n",
       "\n",
       "        Нет отзыва  time_answer_standart  \n",
       "0                1              1.128340  \n",
       "1                0              0.713697  \n",
       "2                0              1.878974  \n",
       "3                0              1.432448  \n",
       "4                0             -0.208085  \n",
       "...            ...                   ...  \n",
       "397517           3             -0.462617  \n",
       "397518           2              0.517849  \n",
       "397519           4             -0.523578  \n",
       "397520           0             -0.523578  \n",
       "397521           0             -0.190917  \n",
       "\n",
       "[397522 rows x 20 columns]"
      ]
     },
     "execution_count": 140,
     "metadata": {},
     "output_type": "execute_result"
    }
   ],
   "source": [
    "tickets"
   ]
  },
  {
   "cell_type": "code",
   "execution_count": 141,
   "metadata": {},
   "outputs": [
    {
     "data": {
      "image/png": "[encoded data removed]",
      "text/plain": [
       "<Figure size 1080x576 with 1 Axes>"
      ]
     },
     "metadata": {
      "needs_background": "light"
     },
     "output_type": "display_data"
    }
   ],
   "source": [
    "plot_bar_2(tickets, 'time_answer_days')"
   ]
  },
  {
   "cell_type": "code",
   "execution_count": 142,
   "metadata": {},
   "outputs": [
    {
     "data": {
      "text/plain": [
       "0        6 days 13:15:00\n",
       "1        4 days 21:48:00\n",
       "2        9 days 12:40:00\n",
       "3        7 days 18:11:00\n",
       "4        1 days 06:06:00\n",
       "               ...      \n",
       "397517   0 days 05:53:00\n",
       "397518   4 days 03:10:00\n",
       "397519   0 days 00:05:00\n",
       "397520   0 days 00:05:00\n",
       "397521   1 days 07:44:00\n",
       "Name: time_answer, Length: 397522, dtype: timedelta64[ns]"
      ]
     },
     "execution_count": 142,
     "metadata": {},
     "output_type": "execute_result"
    }
   ],
   "source": [
    "temp = tickets['time_answer']\n",
    "temp"
   ]
  },
  {
   "cell_type": "code",
   "execution_count": 143,
   "metadata": {},
   "outputs": [
    {
     "data": {
      "text/plain": [
       "111 days 20:35:00       1\n",
       "111 days 18:36:00       1\n",
       "106 days 16:55:00       1\n",
       "106 days 10:56:00       1\n",
       "104 days 12:13:00       1\n",
       "                     ... \n",
       "0 days 00:04:00      3126\n",
       "0 days 00:03:00      3421\n",
       "0 days 00:02:00      3405\n",
       "0 days 00:01:00      2056\n",
       "0 days 00:00:00       471\n",
       "Name: time_answer, Length: 22753, dtype: int64"
      ]
     },
     "execution_count": 143,
     "metadata": {},
     "output_type": "execute_result"
    }
   ],
   "source": [
    "temp.value_counts().sort_index(ascending=False)"
   ]
  },
  {
   "cell_type": "markdown",
   "metadata": {},
   "source": [
    "# Среднее время ответа — Average Reply Time (ART)"
   ]
  },
  {
   "cell_type": "code",
   "execution_count": 144,
   "metadata": {},
   "outputs": [
    {
     "data": {
      "text/plain": [
       "count                    397522\n",
       "mean     2 days 01:53:51.223278\n",
       "std      3 days 23:08:31.221110\n",
       "min             0 days 00:00:00\n",
       "25%             0 days 01:45:00\n",
       "50%             0 days 16:52:00\n",
       "75%             2 days 13:41:00\n",
       "max           111 days 20:35:00\n",
       "Name: time_answer, dtype: object"
      ]
     },
     "execution_count": 144,
     "metadata": {},
     "output_type": "execute_result"
    }
   ],
   "source": [
    "temp.describe()"
   ]
  },
  {
   "cell_type": "markdown",
   "metadata": {},
   "source": [
    "# Периоды"
   ]
  },
  {
   "cell_type": "code",
   "execution_count": 21,
   "metadata": {},
   "outputs": [
    {
     "data": {
      "text/plain": [
       "(397522, 19)"
      ]
     },
     "execution_count": 21,
     "metadata": {},
     "output_type": "execute_result"
    }
   ],
   "source": [
    "tickets = pd.read_csv('tickets.csv')\n",
    "\n",
    "tickets['activity_start_dt'] = tickets['activity_start_dt'].apply(lambda x: pd.Timestamp(x))\n",
    "tickets['fact_reaction_dt'] = tickets['fact_reaction_dt'].apply(lambda x: pd.Timestamp(x))\n",
    "tickets['time_answer'] = tickets['time_answer'].apply(lambda x: pd.Timedelta(x))\n",
    "tickets['time_answer_days'] = tickets['time_answer_days'].apply(lambda x: pd.Timedelta(x).days)\n",
    "tickets['activity_start_dt'] = tickets['activity_start_dt'].apply(lambda x: pd.Timestamp(x))\n",
    "tickets['is_holyday'] = tickets['activity_start_dt'].apply(lambda x: x.dayofweek > 5)\n",
    "count_score = pd.read_csv('count_score.csv')\n",
    "tickets[count_score.columns] = count_score\n",
    "tickets.shape"
   ]
  },
  {
   "cell_type": "code",
   "execution_count": 22,
   "metadata": {},
   "outputs": [],
   "source": [
    "from sklearn.preprocessing import StandardScaler\n",
    "scaler = StandardScaler()\n",
    "seconds = np.array(tickets['time_answer'].apply(lambda x: x.total_seconds())).reshape(-1,1)\n",
    "scaler.fit(seconds)\n",
    "standart_feature = scaler.transform(seconds)\n",
    "tickets['time_answer_standart'] = standart_feature"
   ]
  },
  {
   "cell_type": "code",
   "execution_count": 23,
   "metadata": {},
   "outputs": [
    {
     "data": {
      "text/html": [
       "<div>\n",
       "<style scoped>\n",
       "    .dataframe tbody tr th:only-of-type {\n",
       "        vertical-align: middle;\n",
       "    }\n",
       "\n",
       "    .dataframe tbody tr th {\n",
       "        vertical-align: top;\n",
       "    }\n",
       "\n",
       "    .dataframe thead th {\n",
       "        text-align: right;\n",
       "    }\n",
       "</style>\n",
       "<table border=\"1\" class=\"dataframe\">\n",
       "  <thead>\n",
       "    <tr style=\"text-align: right;\">\n",
       "      <th></th>\n",
       "      <th>user_id</th>\n",
       "      <th>ticket_category</th>\n",
       "      <th>ticket_subcategory</th>\n",
       "      <th>current_state</th>\n",
       "      <th>request_id</th>\n",
       "      <th>activity_start_dt</th>\n",
       "      <th>fact_reaction_dt</th>\n",
       "      <th>result_mentioned_by_user</th>\n",
       "      <th>time_answer</th>\n",
       "      <th>time_answer_days</th>\n",
       "      <th>hour_of_start</th>\n",
       "      <th>array_count_tickets</th>\n",
       "      <th>is_holyday</th>\n",
       "      <th>Не удовлетворительно</th>\n",
       "      <th>Удовлетворительно</th>\n",
       "      <th>Нейтрально</th>\n",
       "      <th>Хорошо</th>\n",
       "      <th>Отлично</th>\n",
       "      <th>Нет отзыва</th>\n",
       "      <th>time_answer_standart</th>\n",
       "    </tr>\n",
       "  </thead>\n",
       "  <tbody>\n",
       "    <tr>\n",
       "      <th>0</th>\n",
       "      <td>370 518 212</td>\n",
       "      <td>Технические вопросы</td>\n",
       "      <td>Доступ к сайту</td>\n",
       "      <td>Решено</td>\n",
       "      <td>045be6ac-d532-4c20-b1c9-fb82c1737464</td>\n",
       "      <td>2015-11-26 22:56:00</td>\n",
       "      <td>2015-12-03 12:11:00</td>\n",
       "      <td>Хорошо</td>\n",
       "      <td>6 days 13:15:00</td>\n",
       "      <td>7</td>\n",
       "      <td>22</td>\n",
       "      <td>2</td>\n",
       "      <td>False</td>\n",
       "      <td>0</td>\n",
       "      <td>0</td>\n",
       "      <td>0</td>\n",
       "      <td>0</td>\n",
       "      <td>0</td>\n",
       "      <td>1</td>\n",
       "      <td>1.128340</td>\n",
       "    </tr>\n",
       "    <tr>\n",
       "      <th>1</th>\n",
       "      <td>2 138 799</td>\n",
       "      <td>Технические вопросы</td>\n",
       "      <td>Доступ к сайту</td>\n",
       "      <td>Решено</td>\n",
       "      <td>8ebbb8c6-7abb-4fad-a83b-35a71a83a186</td>\n",
       "      <td>2015-12-18 08:52:00</td>\n",
       "      <td>2015-12-23 06:40:00</td>\n",
       "      <td>Нет отзыва</td>\n",
       "      <td>4 days 21:48:00</td>\n",
       "      <td>5</td>\n",
       "      <td>8</td>\n",
       "      <td>1</td>\n",
       "      <td>False</td>\n",
       "      <td>0</td>\n",
       "      <td>0</td>\n",
       "      <td>0</td>\n",
       "      <td>0</td>\n",
       "      <td>0</td>\n",
       "      <td>0</td>\n",
       "      <td>0.713697</td>\n",
       "    </tr>\n",
       "    <tr>\n",
       "      <th>2</th>\n",
       "      <td>2 033 101</td>\n",
       "      <td>Технические вопросы</td>\n",
       "      <td>Доступ к сайту</td>\n",
       "      <td>Решено</td>\n",
       "      <td>ee303751-4a21-4544-a4c3-56924c088028</td>\n",
       "      <td>2015-12-16 19:06:00</td>\n",
       "      <td>2015-12-26 07:46:00</td>\n",
       "      <td>Нет отзыва</td>\n",
       "      <td>9 days 12:40:00</td>\n",
       "      <td>9</td>\n",
       "      <td>19</td>\n",
       "      <td>1</td>\n",
       "      <td>False</td>\n",
       "      <td>0</td>\n",
       "      <td>0</td>\n",
       "      <td>0</td>\n",
       "      <td>0</td>\n",
       "      <td>0</td>\n",
       "      <td>0</td>\n",
       "      <td>1.878974</td>\n",
       "    </tr>\n",
       "    <tr>\n",
       "      <th>3</th>\n",
       "      <td>177 122 000 003</td>\n",
       "      <td>Мобильный Avito</td>\n",
       "      <td>Android приложение</td>\n",
       "      <td>Решено</td>\n",
       "      <td>bb989fcb-277a-41bd-aaa2-f131333b629e</td>\n",
       "      <td>2015-12-01 17:08:00</td>\n",
       "      <td>2015-12-09 11:19:00</td>\n",
       "      <td>Нет отзыва</td>\n",
       "      <td>7 days 18:11:00</td>\n",
       "      <td>7</td>\n",
       "      <td>17</td>\n",
       "      <td>1</td>\n",
       "      <td>False</td>\n",
       "      <td>0</td>\n",
       "      <td>0</td>\n",
       "      <td>0</td>\n",
       "      <td>0</td>\n",
       "      <td>0</td>\n",
       "      <td>0</td>\n",
       "      <td>1.432448</td>\n",
       "    </tr>\n",
       "    <tr>\n",
       "      <th>4</th>\n",
       "      <td>37 340 500 064</td>\n",
       "      <td>Технические вопросы</td>\n",
       "      <td>Доступ к сайту</td>\n",
       "      <td>Решено</td>\n",
       "      <td>e742d172-0ef1-47d8-b862-25be082d8bc0</td>\n",
       "      <td>2015-12-14 10:08:00</td>\n",
       "      <td>2015-12-15 16:14:00</td>\n",
       "      <td>Нет отзыва</td>\n",
       "      <td>1 days 06:06:00</td>\n",
       "      <td>2</td>\n",
       "      <td>10</td>\n",
       "      <td>1</td>\n",
       "      <td>False</td>\n",
       "      <td>0</td>\n",
       "      <td>0</td>\n",
       "      <td>0</td>\n",
       "      <td>0</td>\n",
       "      <td>0</td>\n",
       "      <td>0</td>\n",
       "      <td>-0.208085</td>\n",
       "    </tr>\n",
       "  </tbody>\n",
       "</table>\n",
       "</div>"
      ],
      "text/plain": [
       "           user_id      ticket_category  ticket_subcategory current_state  \\\n",
       "0      370 518 212  Технические вопросы      Доступ к сайту        Решено   \n",
       "1        2 138 799  Технические вопросы      Доступ к сайту        Решено   \n",
       "2        2 033 101  Технические вопросы      Доступ к сайту        Решено   \n",
       "3  177 122 000 003      Мобильный Avito  Android приложение        Решено   \n",
       "4   37 340 500 064  Технические вопросы      Доступ к сайту        Решено   \n",
       "\n",
       "                             request_id   activity_start_dt  \\\n",
       "0  045be6ac-d532-4c20-b1c9-fb82c1737464 2015-11-26 22:56:00   \n",
       "1  8ebbb8c6-7abb-4fad-a83b-35a71a83a186 2015-12-18 08:52:00   \n",
       "2  ee303751-4a21-4544-a4c3-56924c088028 2015-12-16 19:06:00   \n",
       "3  bb989fcb-277a-41bd-aaa2-f131333b629e 2015-12-01 17:08:00   \n",
       "4  e742d172-0ef1-47d8-b862-25be082d8bc0 2015-12-14 10:08:00   \n",
       "\n",
       "     fact_reaction_dt result_mentioned_by_user     time_answer  \\\n",
       "0 2015-12-03 12:11:00                   Хорошо 6 days 13:15:00   \n",
       "1 2015-12-23 06:40:00               Нет отзыва 4 days 21:48:00   \n",
       "2 2015-12-26 07:46:00               Нет отзыва 9 days 12:40:00   \n",
       "3 2015-12-09 11:19:00               Нет отзыва 7 days 18:11:00   \n",
       "4 2015-12-15 16:14:00               Нет отзыва 1 days 06:06:00   \n",
       "\n",
       "   time_answer_days  hour_of_start  array_count_tickets  is_holyday  \\\n",
       "0                 7             22                    2       False   \n",
       "1                 5              8                    1       False   \n",
       "2                 9             19                    1       False   \n",
       "3                 7             17                    1       False   \n",
       "4                 2             10                    1       False   \n",
       "\n",
       "   Не удовлетворительно  Удовлетворительно  Нейтрально  Хорошо  Отлично  \\\n",
       "0                     0                  0           0       0        0   \n",
       "1                     0                  0           0       0        0   \n",
       "2                     0                  0           0       0        0   \n",
       "3                     0                  0           0       0        0   \n",
       "4                     0                  0           0       0        0   \n",
       "\n",
       "   Нет отзыва  time_answer_standart  \n",
       "0           1              1.128340  \n",
       "1           0              0.713697  \n",
       "2           0              1.878974  \n",
       "3           0              1.432448  \n",
       "4           0             -0.208085  "
      ]
     },
     "execution_count": 23,
     "metadata": {},
     "output_type": "execute_result"
    }
   ],
   "source": [
    "tickets.head()"
   ]
  },
  {
   "cell_type": "code",
   "execution_count": 24,
   "metadata": {},
   "outputs": [],
   "source": [
    "tickets['month_year']=tickets['activity_start_dt'].dt.to_period('M')"
   ]
  },
  {
   "cell_type": "code",
   "execution_count": 25,
   "metadata": {},
   "outputs": [
    {
     "data": {
      "text/html": [
       "<div>\n",
       "<style scoped>\n",
       "    .dataframe tbody tr th:only-of-type {\n",
       "        vertical-align: middle;\n",
       "    }\n",
       "\n",
       "    .dataframe tbody tr th {\n",
       "        vertical-align: top;\n",
       "    }\n",
       "\n",
       "    .dataframe thead th {\n",
       "        text-align: right;\n",
       "    }\n",
       "</style>\n",
       "<table border=\"1\" class=\"dataframe\">\n",
       "  <thead>\n",
       "    <tr style=\"text-align: right;\">\n",
       "      <th></th>\n",
       "      <th>user_id</th>\n",
       "      <th>ticket_category</th>\n",
       "      <th>ticket_subcategory</th>\n",
       "      <th>current_state</th>\n",
       "      <th>request_id</th>\n",
       "      <th>activity_start_dt</th>\n",
       "      <th>fact_reaction_dt</th>\n",
       "      <th>result_mentioned_by_user</th>\n",
       "      <th>time_answer</th>\n",
       "      <th>time_answer_days</th>\n",
       "      <th>...</th>\n",
       "      <th>array_count_tickets</th>\n",
       "      <th>is_holyday</th>\n",
       "      <th>Не удовлетворительно</th>\n",
       "      <th>Удовлетворительно</th>\n",
       "      <th>Нейтрально</th>\n",
       "      <th>Хорошо</th>\n",
       "      <th>Отлично</th>\n",
       "      <th>Нет отзыва</th>\n",
       "      <th>time_answer_standart</th>\n",
       "      <th>month_year</th>\n",
       "    </tr>\n",
       "  </thead>\n",
       "  <tbody>\n",
       "    <tr>\n",
       "      <th>0</th>\n",
       "      <td>370 518 212</td>\n",
       "      <td>Технические вопросы</td>\n",
       "      <td>Доступ к сайту</td>\n",
       "      <td>Решено</td>\n",
       "      <td>045be6ac-d532-4c20-b1c9-fb82c1737464</td>\n",
       "      <td>2015-11-26 22:56:00</td>\n",
       "      <td>2015-12-03 12:11:00</td>\n",
       "      <td>Хорошо</td>\n",
       "      <td>6 days 13:15:00</td>\n",
       "      <td>7</td>\n",
       "      <td>...</td>\n",
       "      <td>2</td>\n",
       "      <td>False</td>\n",
       "      <td>0</td>\n",
       "      <td>0</td>\n",
       "      <td>0</td>\n",
       "      <td>0</td>\n",
       "      <td>0</td>\n",
       "      <td>1</td>\n",
       "      <td>1.128340</td>\n",
       "      <td>2015-11</td>\n",
       "    </tr>\n",
       "    <tr>\n",
       "      <th>1</th>\n",
       "      <td>2 138 799</td>\n",
       "      <td>Технические вопросы</td>\n",
       "      <td>Доступ к сайту</td>\n",
       "      <td>Решено</td>\n",
       "      <td>8ebbb8c6-7abb-4fad-a83b-35a71a83a186</td>\n",
       "      <td>2015-12-18 08:52:00</td>\n",
       "      <td>2015-12-23 06:40:00</td>\n",
       "      <td>Нет отзыва</td>\n",
       "      <td>4 days 21:48:00</td>\n",
       "      <td>5</td>\n",
       "      <td>...</td>\n",
       "      <td>1</td>\n",
       "      <td>False</td>\n",
       "      <td>0</td>\n",
       "      <td>0</td>\n",
       "      <td>0</td>\n",
       "      <td>0</td>\n",
       "      <td>0</td>\n",
       "      <td>0</td>\n",
       "      <td>0.713697</td>\n",
       "      <td>2015-12</td>\n",
       "    </tr>\n",
       "    <tr>\n",
       "      <th>2</th>\n",
       "      <td>2 033 101</td>\n",
       "      <td>Технические вопросы</td>\n",
       "      <td>Доступ к сайту</td>\n",
       "      <td>Решено</td>\n",
       "      <td>ee303751-4a21-4544-a4c3-56924c088028</td>\n",
       "      <td>2015-12-16 19:06:00</td>\n",
       "      <td>2015-12-26 07:46:00</td>\n",
       "      <td>Нет отзыва</td>\n",
       "      <td>9 days 12:40:00</td>\n",
       "      <td>9</td>\n",
       "      <td>...</td>\n",
       "      <td>1</td>\n",
       "      <td>False</td>\n",
       "      <td>0</td>\n",
       "      <td>0</td>\n",
       "      <td>0</td>\n",
       "      <td>0</td>\n",
       "      <td>0</td>\n",
       "      <td>0</td>\n",
       "      <td>1.878974</td>\n",
       "      <td>2015-12</td>\n",
       "    </tr>\n",
       "    <tr>\n",
       "      <th>3</th>\n",
       "      <td>177 122 000 003</td>\n",
       "      <td>Мобильный Avito</td>\n",
       "      <td>Android приложение</td>\n",
       "      <td>Решено</td>\n",
       "      <td>bb989fcb-277a-41bd-aaa2-f131333b629e</td>\n",
       "      <td>2015-12-01 17:08:00</td>\n",
       "      <td>2015-12-09 11:19:00</td>\n",
       "      <td>Нет отзыва</td>\n",
       "      <td>7 days 18:11:00</td>\n",
       "      <td>7</td>\n",
       "      <td>...</td>\n",
       "      <td>1</td>\n",
       "      <td>False</td>\n",
       "      <td>0</td>\n",
       "      <td>0</td>\n",
       "      <td>0</td>\n",
       "      <td>0</td>\n",
       "      <td>0</td>\n",
       "      <td>0</td>\n",
       "      <td>1.432448</td>\n",
       "      <td>2015-12</td>\n",
       "    </tr>\n",
       "    <tr>\n",
       "      <th>4</th>\n",
       "      <td>37 340 500 064</td>\n",
       "      <td>Технические вопросы</td>\n",
       "      <td>Доступ к сайту</td>\n",
       "      <td>Решено</td>\n",
       "      <td>e742d172-0ef1-47d8-b862-25be082d8bc0</td>\n",
       "      <td>2015-12-14 10:08:00</td>\n",
       "      <td>2015-12-15 16:14:00</td>\n",
       "      <td>Нет отзыва</td>\n",
       "      <td>1 days 06:06:00</td>\n",
       "      <td>2</td>\n",
       "      <td>...</td>\n",
       "      <td>1</td>\n",
       "      <td>False</td>\n",
       "      <td>0</td>\n",
       "      <td>0</td>\n",
       "      <td>0</td>\n",
       "      <td>0</td>\n",
       "      <td>0</td>\n",
       "      <td>0</td>\n",
       "      <td>-0.208085</td>\n",
       "      <td>2015-12</td>\n",
       "    </tr>\n",
       "  </tbody>\n",
       "</table>\n",
       "<p>5 rows × 21 columns</p>\n",
       "</div>"
      ],
      "text/plain": [
       "           user_id      ticket_category  ticket_subcategory current_state  \\\n",
       "0      370 518 212  Технические вопросы      Доступ к сайту        Решено   \n",
       "1        2 138 799  Технические вопросы      Доступ к сайту        Решено   \n",
       "2        2 033 101  Технические вопросы      Доступ к сайту        Решено   \n",
       "3  177 122 000 003      Мобильный Avito  Android приложение        Решено   \n",
       "4   37 340 500 064  Технические вопросы      Доступ к сайту        Решено   \n",
       "\n",
       "                             request_id   activity_start_dt  \\\n",
       "0  045be6ac-d532-4c20-b1c9-fb82c1737464 2015-11-26 22:56:00   \n",
       "1  8ebbb8c6-7abb-4fad-a83b-35a71a83a186 2015-12-18 08:52:00   \n",
       "2  ee303751-4a21-4544-a4c3-56924c088028 2015-12-16 19:06:00   \n",
       "3  bb989fcb-277a-41bd-aaa2-f131333b629e 2015-12-01 17:08:00   \n",
       "4  e742d172-0ef1-47d8-b862-25be082d8bc0 2015-12-14 10:08:00   \n",
       "\n",
       "     fact_reaction_dt result_mentioned_by_user     time_answer  \\\n",
       "0 2015-12-03 12:11:00                   Хорошо 6 days 13:15:00   \n",
       "1 2015-12-23 06:40:00               Нет отзыва 4 days 21:48:00   \n",
       "2 2015-12-26 07:46:00               Нет отзыва 9 days 12:40:00   \n",
       "3 2015-12-09 11:19:00               Нет отзыва 7 days 18:11:00   \n",
       "4 2015-12-15 16:14:00               Нет отзыва 1 days 06:06:00   \n",
       "\n",
       "   time_answer_days  ...  array_count_tickets  is_holyday  \\\n",
       "0                 7  ...                    2       False   \n",
       "1                 5  ...                    1       False   \n",
       "2                 9  ...                    1       False   \n",
       "3                 7  ...                    1       False   \n",
       "4                 2  ...                    1       False   \n",
       "\n",
       "   Не удовлетворительно  Удовлетворительно  Нейтрально  Хорошо  Отлично  \\\n",
       "0                     0                  0           0       0        0   \n",
       "1                     0                  0           0       0        0   \n",
       "2                     0                  0           0       0        0   \n",
       "3                     0                  0           0       0        0   \n",
       "4                     0                  0           0       0        0   \n",
       "\n",
       "   Нет отзыва  time_answer_standart  month_year  \n",
       "0           1              1.128340     2015-11  \n",
       "1           0              0.713697     2015-12  \n",
       "2           0              1.878974     2015-12  \n",
       "3           0              1.432448     2015-12  \n",
       "4           0             -0.208085     2015-12  \n",
       "\n",
       "[5 rows x 21 columns]"
      ]
     },
     "execution_count": 25,
     "metadata": {},
     "output_type": "execute_result"
    }
   ],
   "source": [
    "tickets.head()"
   ]
  },
  {
   "cell_type": "code",
   "execution_count": 26,
   "metadata": {},
   "outputs": [
    {
     "data": {
      "text/html": [
       "<div>\n",
       "<style scoped>\n",
       "    .dataframe tbody tr th:only-of-type {\n",
       "        vertical-align: middle;\n",
       "    }\n",
       "\n",
       "    .dataframe tbody tr th {\n",
       "        vertical-align: top;\n",
       "    }\n",
       "\n",
       "    .dataframe thead th {\n",
       "        text-align: right;\n",
       "    }\n",
       "</style>\n",
       "<table border=\"1\" class=\"dataframe\">\n",
       "  <thead>\n",
       "    <tr style=\"text-align: right;\">\n",
       "      <th></th>\n",
       "      <th>time_answer_standart</th>\n",
       "    </tr>\n",
       "    <tr>\n",
       "      <th>month_year</th>\n",
       "      <th></th>\n",
       "    </tr>\n",
       "  </thead>\n",
       "  <tbody>\n",
       "    <tr>\n",
       "      <th>2015-09</th>\n",
       "      <td>-0.216363</td>\n",
       "    </tr>\n",
       "    <tr>\n",
       "      <th>2015-10</th>\n",
       "      <td>0.083962</td>\n",
       "    </tr>\n",
       "    <tr>\n",
       "      <th>2015-11</th>\n",
       "      <td>0.122551</td>\n",
       "    </tr>\n",
       "    <tr>\n",
       "      <th>2015-12</th>\n",
       "      <td>0.008252</td>\n",
       "    </tr>\n",
       "  </tbody>\n",
       "</table>\n",
       "</div>"
      ],
      "text/plain": [
       "            time_answer_standart\n",
       "month_year                      \n",
       "2015-09                -0.216363\n",
       "2015-10                 0.083962\n",
       "2015-11                 0.122551\n",
       "2015-12                 0.008252"
      ]
     },
     "execution_count": 26,
     "metadata": {},
     "output_type": "execute_result"
    }
   ],
   "source": [
    "temp = tickets[tickets['activity_start_dt']>='2015-09-01'][['time_answer_standart', 'month_year']].groupby('month_year').mean()\n",
    "temp"
   ]
  },
  {
   "cell_type": "code",
   "execution_count": 27,
   "metadata": {},
   "outputs": [],
   "source": [
    "temp['time_answer_avg']=temp['time_answer_standart'].apply(lambda x: pd.Timedelta(seconds=scaler.inverse_transform([x])[0]))"
   ]
  },
  {
   "cell_type": "code",
   "execution_count": 28,
   "metadata": {},
   "outputs": [
    {
     "data": {
      "text/html": [
       "<div>\n",
       "<style scoped>\n",
       "    .dataframe tbody tr th:only-of-type {\n",
       "        vertical-align: middle;\n",
       "    }\n",
       "\n",
       "    .dataframe tbody tr th {\n",
       "        vertical-align: top;\n",
       "    }\n",
       "\n",
       "    .dataframe thead th {\n",
       "        text-align: right;\n",
       "    }\n",
       "</style>\n",
       "<table border=\"1\" class=\"dataframe\">\n",
       "  <thead>\n",
       "    <tr style=\"text-align: right;\">\n",
       "      <th></th>\n",
       "      <th>time_answer_standart</th>\n",
       "      <th>time_answer_avg</th>\n",
       "    </tr>\n",
       "    <tr>\n",
       "      <th>month_year</th>\n",
       "      <th></th>\n",
       "      <th></th>\n",
       "    </tr>\n",
       "  </thead>\n",
       "  <tbody>\n",
       "    <tr>\n",
       "      <th>2015-09</th>\n",
       "      <td>-0.216363</td>\n",
       "      <td>1 days 05:18:44.703729</td>\n",
       "    </tr>\n",
       "    <tr>\n",
       "      <th>2015-10</th>\n",
       "      <td>0.083962</td>\n",
       "      <td>2 days 09:53:09.128449</td>\n",
       "    </tr>\n",
       "    <tr>\n",
       "      <th>2015-11</th>\n",
       "      <td>0.122551</td>\n",
       "      <td>2 days 13:33:26.434034</td>\n",
       "    </tr>\n",
       "    <tr>\n",
       "      <th>2015-12</th>\n",
       "      <td>0.008252</td>\n",
       "      <td>2 days 02:40:57.590022</td>\n",
       "    </tr>\n",
       "  </tbody>\n",
       "</table>\n",
       "</div>"
      ],
      "text/plain": [
       "            time_answer_standart        time_answer_avg\n",
       "month_year                                             \n",
       "2015-09                -0.216363 1 days 05:18:44.703729\n",
       "2015-10                 0.083962 2 days 09:53:09.128449\n",
       "2015-11                 0.122551 2 days 13:33:26.434034\n",
       "2015-12                 0.008252 2 days 02:40:57.590022"
      ]
     },
     "execution_count": 28,
     "metadata": {},
     "output_type": "execute_result"
    }
   ],
   "source": [
    "temp"
   ]
  },
  {
   "cell_type": "code",
   "execution_count": 29,
   "metadata": {},
   "outputs": [
    {
     "data": {
      "text/plain": [
       "array([105524703729000, 208389128449000, 221606434034000, 182457590022000],\n",
       "      dtype='timedelta64[ns]')"
      ]
     },
     "execution_count": 29,
     "metadata": {},
     "output_type": "execute_result"
    }
   ],
   "source": [
    "temp['time_answer_avg'].values"
   ]
  },
  {
   "cell_type": "code",
   "execution_count": 30,
   "metadata": {},
   "outputs": [
    {
     "data": {
      "text/html": [
       "<div>\n",
       "<style scoped>\n",
       "    .dataframe tbody tr th:only-of-type {\n",
       "        vertical-align: middle;\n",
       "    }\n",
       "\n",
       "    .dataframe tbody tr th {\n",
       "        vertical-align: top;\n",
       "    }\n",
       "\n",
       "    .dataframe thead th {\n",
       "        text-align: right;\n",
       "    }\n",
       "</style>\n",
       "<table border=\"1\" class=\"dataframe\">\n",
       "  <thead>\n",
       "    <tr style=\"text-align: right;\">\n",
       "      <th></th>\n",
       "      <th>time_answer_standart</th>\n",
       "      <th>time_answer_avg</th>\n",
       "    </tr>\n",
       "    <tr>\n",
       "      <th>month_year</th>\n",
       "      <th></th>\n",
       "      <th></th>\n",
       "    </tr>\n",
       "  </thead>\n",
       "  <tbody>\n",
       "    <tr>\n",
       "      <th>2015-09</th>\n",
       "      <td>-0.216363</td>\n",
       "      <td>1 days 05:18:44.703729</td>\n",
       "    </tr>\n",
       "    <tr>\n",
       "      <th>2015-10</th>\n",
       "      <td>0.083962</td>\n",
       "      <td>2 days 09:53:09.128449</td>\n",
       "    </tr>\n",
       "    <tr>\n",
       "      <th>2015-11</th>\n",
       "      <td>0.122551</td>\n",
       "      <td>2 days 13:33:26.434034</td>\n",
       "    </tr>\n",
       "    <tr>\n",
       "      <th>2015-12</th>\n",
       "      <td>0.008252</td>\n",
       "      <td>2 days 02:40:57.590022</td>\n",
       "    </tr>\n",
       "  </tbody>\n",
       "</table>\n",
       "</div>"
      ],
      "text/plain": [
       "            time_answer_standart        time_answer_avg\n",
       "month_year                                             \n",
       "2015-09                -0.216363 1 days 05:18:44.703729\n",
       "2015-10                 0.083962 2 days 09:53:09.128449\n",
       "2015-11                 0.122551 2 days 13:33:26.434034\n",
       "2015-12                 0.008252 2 days 02:40:57.590022"
      ]
     },
     "execution_count": 30,
     "metadata": {},
     "output_type": "execute_result"
    }
   ],
   "source": [
    "temp"
   ]
  },
  {
   "cell_type": "code",
   "execution_count": 31,
   "metadata": {},
   "outputs": [],
   "source": [
    "temp['total_hour']=temp['time_answer_avg'].apply(lambda x: x.total_seconds()/60/60)"
   ]
  },
  {
   "cell_type": "code",
   "execution_count": 32,
   "metadata": {},
   "outputs": [
    {
     "data": {
      "text/plain": [
       "array([29.3124177 , 57.88586901, 61.55734279, 50.68266389])"
      ]
     },
     "execution_count": 32,
     "metadata": {},
     "output_type": "execute_result"
    }
   ],
   "source": [
    "temp['total_hour'].values"
   ]
  },
  {
   "cell_type": "code",
   "execution_count": 33,
   "metadata": {
    "scrolled": false
   },
   "outputs": [
    {
     "data": {
      "image/png": "[encoded data removed]",
      "text/plain": [
       "<Figure size 1080x576 with 1 Axes>"
      ]
     },
     "metadata": {
      "needs_background": "light"
     },
     "output_type": "display_data"
    }
   ],
   "source": [
    "fig, ax = plt.subplots()\n",
    "ax.bar(list(map(str,list(temp.index))), temp['total_hour'].values)\n",
    "ax.set_xlabel('Месяц')\n",
    "ax.set_ylabel('Среднее время ответов на заявки в часах')\n",
    "plt.xticks(list(map(str,list(temp.index))))\n",
    "plt.show()"
   ]
  },
  {
   "cell_type": "code",
   "execution_count": 252,
   "metadata": {},
   "outputs": [
    {
     "data": {
      "text/html": [
       "<div>\n",
       "<style scoped>\n",
       "    .dataframe tbody tr th:only-of-type {\n",
       "        vertical-align: middle;\n",
       "    }\n",
       "\n",
       "    .dataframe tbody tr th {\n",
       "        vertical-align: top;\n",
       "    }\n",
       "\n",
       "    .dataframe thead th {\n",
       "        text-align: right;\n",
       "    }\n",
       "</style>\n",
       "<table border=\"1\" class=\"dataframe\">\n",
       "  <thead>\n",
       "    <tr style=\"text-align: right;\">\n",
       "      <th></th>\n",
       "      <th>total_hour</th>\n",
       "    </tr>\n",
       "    <tr>\n",
       "      <th>month_year</th>\n",
       "      <th></th>\n",
       "    </tr>\n",
       "  </thead>\n",
       "  <tbody>\n",
       "    <tr>\n",
       "      <th>2015-09</th>\n",
       "      <td>29.312418</td>\n",
       "    </tr>\n",
       "    <tr>\n",
       "      <th>2015-10</th>\n",
       "      <td>57.885869</td>\n",
       "    </tr>\n",
       "    <tr>\n",
       "      <th>2015-11</th>\n",
       "      <td>61.557343</td>\n",
       "    </tr>\n",
       "    <tr>\n",
       "      <th>2015-12</th>\n",
       "      <td>50.682664</td>\n",
       "    </tr>\n",
       "  </tbody>\n",
       "</table>\n",
       "</div>"
      ],
      "text/plain": [
       "            total_hour\n",
       "month_year            \n",
       "2015-09      29.312418\n",
       "2015-10      57.885869\n",
       "2015-11      61.557343\n",
       "2015-12      50.682664"
      ]
     },
     "execution_count": 252,
     "metadata": {},
     "output_type": "execute_result"
    }
   ],
   "source": [
    "temp[['total_hour']]"
   ]
  },
  {
   "cell_type": "markdown",
   "metadata": {},
   "source": [
    "# + category"
   ]
  },
  {
   "cell_type": "code",
   "execution_count": 35,
   "metadata": {},
   "outputs": [
    {
     "data": {
      "text/html": [
       "<div>\n",
       "<style scoped>\n",
       "    .dataframe tbody tr th:only-of-type {\n",
       "        vertical-align: middle;\n",
       "    }\n",
       "\n",
       "    .dataframe tbody tr th {\n",
       "        vertical-align: top;\n",
       "    }\n",
       "\n",
       "    .dataframe thead th {\n",
       "        text-align: right;\n",
       "    }\n",
       "</style>\n",
       "<table border=\"1\" class=\"dataframe\">\n",
       "  <thead>\n",
       "    <tr style=\"text-align: right;\">\n",
       "      <th></th>\n",
       "      <th>user_id</th>\n",
       "      <th>ticket_category</th>\n",
       "      <th>ticket_subcategory</th>\n",
       "      <th>current_state</th>\n",
       "      <th>request_id</th>\n",
       "      <th>activity_start_dt</th>\n",
       "      <th>fact_reaction_dt</th>\n",
       "      <th>result_mentioned_by_user</th>\n",
       "      <th>time_answer</th>\n",
       "      <th>time_answer_days</th>\n",
       "      <th>...</th>\n",
       "      <th>array_count_tickets</th>\n",
       "      <th>is_holyday</th>\n",
       "      <th>Не удовлетворительно</th>\n",
       "      <th>Удовлетворительно</th>\n",
       "      <th>Нейтрально</th>\n",
       "      <th>Хорошо</th>\n",
       "      <th>Отлично</th>\n",
       "      <th>Нет отзыва</th>\n",
       "      <th>time_answer_standart</th>\n",
       "      <th>month_year</th>\n",
       "    </tr>\n",
       "  </thead>\n",
       "  <tbody>\n",
       "    <tr>\n",
       "      <th>0</th>\n",
       "      <td>370 518 212</td>\n",
       "      <td>Технические вопросы</td>\n",
       "      <td>Доступ к сайту</td>\n",
       "      <td>Решено</td>\n",
       "      <td>045be6ac-d532-4c20-b1c9-fb82c1737464</td>\n",
       "      <td>2015-11-26 22:56:00</td>\n",
       "      <td>2015-12-03 12:11:00</td>\n",
       "      <td>Хорошо</td>\n",
       "      <td>6 days 13:15:00</td>\n",
       "      <td>7</td>\n",
       "      <td>...</td>\n",
       "      <td>2</td>\n",
       "      <td>False</td>\n",
       "      <td>0</td>\n",
       "      <td>0</td>\n",
       "      <td>0</td>\n",
       "      <td>0</td>\n",
       "      <td>0</td>\n",
       "      <td>1</td>\n",
       "      <td>1.128340</td>\n",
       "      <td>2015-11</td>\n",
       "    </tr>\n",
       "    <tr>\n",
       "      <th>1</th>\n",
       "      <td>2 138 799</td>\n",
       "      <td>Технические вопросы</td>\n",
       "      <td>Доступ к сайту</td>\n",
       "      <td>Решено</td>\n",
       "      <td>8ebbb8c6-7abb-4fad-a83b-35a71a83a186</td>\n",
       "      <td>2015-12-18 08:52:00</td>\n",
       "      <td>2015-12-23 06:40:00</td>\n",
       "      <td>Нет отзыва</td>\n",
       "      <td>4 days 21:48:00</td>\n",
       "      <td>5</td>\n",
       "      <td>...</td>\n",
       "      <td>1</td>\n",
       "      <td>False</td>\n",
       "      <td>0</td>\n",
       "      <td>0</td>\n",
       "      <td>0</td>\n",
       "      <td>0</td>\n",
       "      <td>0</td>\n",
       "      <td>0</td>\n",
       "      <td>0.713697</td>\n",
       "      <td>2015-12</td>\n",
       "    </tr>\n",
       "    <tr>\n",
       "      <th>2</th>\n",
       "      <td>2 033 101</td>\n",
       "      <td>Технические вопросы</td>\n",
       "      <td>Доступ к сайту</td>\n",
       "      <td>Решено</td>\n",
       "      <td>ee303751-4a21-4544-a4c3-56924c088028</td>\n",
       "      <td>2015-12-16 19:06:00</td>\n",
       "      <td>2015-12-26 07:46:00</td>\n",
       "      <td>Нет отзыва</td>\n",
       "      <td>9 days 12:40:00</td>\n",
       "      <td>9</td>\n",
       "      <td>...</td>\n",
       "      <td>1</td>\n",
       "      <td>False</td>\n",
       "      <td>0</td>\n",
       "      <td>0</td>\n",
       "      <td>0</td>\n",
       "      <td>0</td>\n",
       "      <td>0</td>\n",
       "      <td>0</td>\n",
       "      <td>1.878974</td>\n",
       "      <td>2015-12</td>\n",
       "    </tr>\n",
       "    <tr>\n",
       "      <th>3</th>\n",
       "      <td>177 122 000 003</td>\n",
       "      <td>Мобильный Avito</td>\n",
       "      <td>Android приложение</td>\n",
       "      <td>Решено</td>\n",
       "      <td>bb989fcb-277a-41bd-aaa2-f131333b629e</td>\n",
       "      <td>2015-12-01 17:08:00</td>\n",
       "      <td>2015-12-09 11:19:00</td>\n",
       "      <td>Нет отзыва</td>\n",
       "      <td>7 days 18:11:00</td>\n",
       "      <td>7</td>\n",
       "      <td>...</td>\n",
       "      <td>1</td>\n",
       "      <td>False</td>\n",
       "      <td>0</td>\n",
       "      <td>0</td>\n",
       "      <td>0</td>\n",
       "      <td>0</td>\n",
       "      <td>0</td>\n",
       "      <td>0</td>\n",
       "      <td>1.432448</td>\n",
       "      <td>2015-12</td>\n",
       "    </tr>\n",
       "    <tr>\n",
       "      <th>4</th>\n",
       "      <td>37 340 500 064</td>\n",
       "      <td>Технические вопросы</td>\n",
       "      <td>Доступ к сайту</td>\n",
       "      <td>Решено</td>\n",
       "      <td>e742d172-0ef1-47d8-b862-25be082d8bc0</td>\n",
       "      <td>2015-12-14 10:08:00</td>\n",
       "      <td>2015-12-15 16:14:00</td>\n",
       "      <td>Нет отзыва</td>\n",
       "      <td>1 days 06:06:00</td>\n",
       "      <td>2</td>\n",
       "      <td>...</td>\n",
       "      <td>1</td>\n",
       "      <td>False</td>\n",
       "      <td>0</td>\n",
       "      <td>0</td>\n",
       "      <td>0</td>\n",
       "      <td>0</td>\n",
       "      <td>0</td>\n",
       "      <td>0</td>\n",
       "      <td>-0.208085</td>\n",
       "      <td>2015-12</td>\n",
       "    </tr>\n",
       "  </tbody>\n",
       "</table>\n",
       "<p>5 rows × 21 columns</p>\n",
       "</div>"
      ],
      "text/plain": [
       "           user_id      ticket_category  ticket_subcategory current_state  \\\n",
       "0      370 518 212  Технические вопросы      Доступ к сайту        Решено   \n",
       "1        2 138 799  Технические вопросы      Доступ к сайту        Решено   \n",
       "2        2 033 101  Технические вопросы      Доступ к сайту        Решено   \n",
       "3  177 122 000 003      Мобильный Avito  Android приложение        Решено   \n",
       "4   37 340 500 064  Технические вопросы      Доступ к сайту        Решено   \n",
       "\n",
       "                             request_id   activity_start_dt  \\\n",
       "0  045be6ac-d532-4c20-b1c9-fb82c1737464 2015-11-26 22:56:00   \n",
       "1  8ebbb8c6-7abb-4fad-a83b-35a71a83a186 2015-12-18 08:52:00   \n",
       "2  ee303751-4a21-4544-a4c3-56924c088028 2015-12-16 19:06:00   \n",
       "3  bb989fcb-277a-41bd-aaa2-f131333b629e 2015-12-01 17:08:00   \n",
       "4  e742d172-0ef1-47d8-b862-25be082d8bc0 2015-12-14 10:08:00   \n",
       "\n",
       "     fact_reaction_dt result_mentioned_by_user     time_answer  \\\n",
       "0 2015-12-03 12:11:00                   Хорошо 6 days 13:15:00   \n",
       "1 2015-12-23 06:40:00               Нет отзыва 4 days 21:48:00   \n",
       "2 2015-12-26 07:46:00               Нет отзыва 9 days 12:40:00   \n",
       "3 2015-12-09 11:19:00               Нет отзыва 7 days 18:11:00   \n",
       "4 2015-12-15 16:14:00               Нет отзыва 1 days 06:06:00   \n",
       "\n",
       "   time_answer_days  ...  array_count_tickets  is_holyday  \\\n",
       "0                 7  ...                    2       False   \n",
       "1                 5  ...                    1       False   \n",
       "2                 9  ...                    1       False   \n",
       "3                 7  ...                    1       False   \n",
       "4                 2  ...                    1       False   \n",
       "\n",
       "   Не удовлетворительно  Удовлетворительно  Нейтрально  Хорошо  Отлично  \\\n",
       "0                     0                  0           0       0        0   \n",
       "1                     0                  0           0       0        0   \n",
       "2                     0                  0           0       0        0   \n",
       "3                     0                  0           0       0        0   \n",
       "4                     0                  0           0       0        0   \n",
       "\n",
       "   Нет отзыва  time_answer_standart  month_year  \n",
       "0           1              1.128340     2015-11  \n",
       "1           0              0.713697     2015-12  \n",
       "2           0              1.878974     2015-12  \n",
       "3           0              1.432448     2015-12  \n",
       "4           0             -0.208085     2015-12  \n",
       "\n",
       "[5 rows x 21 columns]"
      ]
     },
     "execution_count": 35,
     "metadata": {},
     "output_type": "execute_result"
    }
   ],
   "source": [
    "tickets.head()"
   ]
  },
  {
   "cell_type": "code",
   "execution_count": 137,
   "metadata": {},
   "outputs": [],
   "source": [
    "temp = tickets[tickets['activity_start_dt']>='2015-09-01'][['time_answer_standart', 'month_year', 'ticket_category']].groupby(['month_year', 'ticket_category']).mean()\n",
    "#temp"
   ]
  },
  {
   "cell_type": "code",
   "execution_count": 138,
   "metadata": {},
   "outputs": [],
   "source": [
    "temp['time_answer_avg']=temp['time_answer_standart'].apply(lambda x: pd.Timedelta(seconds=scaler.inverse_transform([x])[0]))"
   ]
  },
  {
   "cell_type": "code",
   "execution_count": 139,
   "metadata": {},
   "outputs": [],
   "source": [
    "temp['total_hour']=temp['time_answer_avg'].apply(lambda x: x.total_seconds()/60/60)"
   ]
  },
  {
   "cell_type": "code",
   "execution_count": 140,
   "metadata": {},
   "outputs": [
    {
     "data": {
      "text/html": [
       "<div>\n",
       "<style scoped>\n",
       "    .dataframe tbody tr th:only-of-type {\n",
       "        vertical-align: middle;\n",
       "    }\n",
       "\n",
       "    .dataframe tbody tr th {\n",
       "        vertical-align: top;\n",
       "    }\n",
       "\n",
       "    .dataframe thead th {\n",
       "        text-align: right;\n",
       "    }\n",
       "</style>\n",
       "<table border=\"1\" class=\"dataframe\">\n",
       "  <thead>\n",
       "    <tr style=\"text-align: right;\">\n",
       "      <th></th>\n",
       "      <th></th>\n",
       "      <th>total_hour</th>\n",
       "    </tr>\n",
       "    <tr>\n",
       "      <th>month_year</th>\n",
       "      <th>ticket_category</th>\n",
       "      <th></th>\n",
       "    </tr>\n",
       "  </thead>\n",
       "  <tbody>\n",
       "    <tr>\n",
       "      <th rowspan=\"8\" valign=\"top\">2015-09</th>\n",
       "      <th>Безопасность на Avito</th>\n",
       "      <td>22.820971</td>\n",
       "    </tr>\n",
       "    <tr>\n",
       "      <th>Блокировки и отклонения</th>\n",
       "      <td>26.963143</td>\n",
       "    </tr>\n",
       "    <tr>\n",
       "      <th>Магазины, Автозагрузка и юридические лица</th>\n",
       "      <td>42.384318</td>\n",
       "    </tr>\n",
       "    <tr>\n",
       "      <th>Мобильный Avito</th>\n",
       "      <td>41.563850</td>\n",
       "    </tr>\n",
       "    <tr>\n",
       "      <th>Платные услуги и сервисы</th>\n",
       "      <td>42.757551</td>\n",
       "    </tr>\n",
       "    <tr>\n",
       "      <th>Работа с объявлениями и личным кабинетом</th>\n",
       "      <td>26.454631</td>\n",
       "    </tr>\n",
       "    <tr>\n",
       "      <th>Рекламные сервисы Avito</th>\n",
       "      <td>41.513010</td>\n",
       "    </tr>\n",
       "    <tr>\n",
       "      <th>Технические вопросы</th>\n",
       "      <td>37.966041</td>\n",
       "    </tr>\n",
       "    <tr>\n",
       "      <th rowspan=\"8\" valign=\"top\">2015-10</th>\n",
       "      <th>Безопасность на Avito</th>\n",
       "      <td>23.177660</td>\n",
       "    </tr>\n",
       "    <tr>\n",
       "      <th>Блокировки и отклонения</th>\n",
       "      <td>45.549426</td>\n",
       "    </tr>\n",
       "    <tr>\n",
       "      <th>Магазины, Автозагрузка и юридические лица</th>\n",
       "      <td>58.198239</td>\n",
       "    </tr>\n",
       "    <tr>\n",
       "      <th>Мобильный Avito</th>\n",
       "      <td>108.554784</td>\n",
       "    </tr>\n",
       "    <tr>\n",
       "      <th>Платные услуги и сервисы</th>\n",
       "      <td>106.340325</td>\n",
       "    </tr>\n",
       "    <tr>\n",
       "      <th>Работа с объявлениями и личным кабинетом</th>\n",
       "      <td>65.953433</td>\n",
       "    </tr>\n",
       "    <tr>\n",
       "      <th>Рекламные сервисы Avito</th>\n",
       "      <td>53.955072</td>\n",
       "    </tr>\n",
       "    <tr>\n",
       "      <th>Технические вопросы</th>\n",
       "      <td>79.863718</td>\n",
       "    </tr>\n",
       "    <tr>\n",
       "      <th rowspan=\"8\" valign=\"top\">2015-11</th>\n",
       "      <th>Безопасность на Avito</th>\n",
       "      <td>17.700822</td>\n",
       "    </tr>\n",
       "    <tr>\n",
       "      <th>Блокировки и отклонения</th>\n",
       "      <td>38.553786</td>\n",
       "    </tr>\n",
       "    <tr>\n",
       "      <th>Магазины, Автозагрузка и юридические лица</th>\n",
       "      <td>42.087961</td>\n",
       "    </tr>\n",
       "    <tr>\n",
       "      <th>Мобильный Avito</th>\n",
       "      <td>137.737221</td>\n",
       "    </tr>\n",
       "    <tr>\n",
       "      <th>Платные услуги и сервисы</th>\n",
       "      <td>140.967716</td>\n",
       "    </tr>\n",
       "    <tr>\n",
       "      <th>Работа с объявлениями и личным кабинетом</th>\n",
       "      <td>54.939942</td>\n",
       "    </tr>\n",
       "    <tr>\n",
       "      <th>Рекламные сервисы Avito</th>\n",
       "      <td>47.795631</td>\n",
       "    </tr>\n",
       "    <tr>\n",
       "      <th>Технические вопросы</th>\n",
       "      <td>105.004331</td>\n",
       "    </tr>\n",
       "    <tr>\n",
       "      <th rowspan=\"8\" valign=\"top\">2015-12</th>\n",
       "      <th>Безопасность на Avito</th>\n",
       "      <td>16.455434</td>\n",
       "    </tr>\n",
       "    <tr>\n",
       "      <th>Блокировки и отклонения</th>\n",
       "      <td>45.121346</td>\n",
       "    </tr>\n",
       "    <tr>\n",
       "      <th>Магазины, Автозагрузка и юридические лица</th>\n",
       "      <td>26.332327</td>\n",
       "    </tr>\n",
       "    <tr>\n",
       "      <th>Мобильный Avito</th>\n",
       "      <td>85.962042</td>\n",
       "    </tr>\n",
       "    <tr>\n",
       "      <th>Платные услуги и сервисы</th>\n",
       "      <td>78.835762</td>\n",
       "    </tr>\n",
       "    <tr>\n",
       "      <th>Работа с объявлениями и личным кабинетом</th>\n",
       "      <td>58.111975</td>\n",
       "    </tr>\n",
       "    <tr>\n",
       "      <th>Рекламные сервисы Avito</th>\n",
       "      <td>29.384649</td>\n",
       "    </tr>\n",
       "    <tr>\n",
       "      <th>Технические вопросы</th>\n",
       "      <td>56.366853</td>\n",
       "    </tr>\n",
       "  </tbody>\n",
       "</table>\n",
       "</div>"
      ],
      "text/plain": [
       "                                                      total_hour\n",
       "month_year ticket_category                                      \n",
       "2015-09    Безопасность на Avito                       22.820971\n",
       "           Блокировки и отклонения                     26.963143\n",
       "           Магазины, Автозагрузка и юридические лица   42.384318\n",
       "           Мобильный Avito                             41.563850\n",
       "           Платные услуги и сервисы                    42.757551\n",
       "           Работа с объявлениями и личным кабинетом    26.454631\n",
       "           Рекламные сервисы Avito                     41.513010\n",
       "           Технические вопросы                         37.966041\n",
       "2015-10    Безопасность на Avito                       23.177660\n",
       "           Блокировки и отклонения                     45.549426\n",
       "           Магазины, Автозагрузка и юридические лица   58.198239\n",
       "           Мобильный Avito                            108.554784\n",
       "           Платные услуги и сервисы                   106.340325\n",
       "           Работа с объявлениями и личным кабинетом    65.953433\n",
       "           Рекламные сервисы Avito                     53.955072\n",
       "           Технические вопросы                         79.863718\n",
       "2015-11    Безопасность на Avito                       17.700822\n",
       "           Блокировки и отклонения                     38.553786\n",
       "           Магазины, Автозагрузка и юридические лица   42.087961\n",
       "           Мобильный Avito                            137.737221\n",
       "           Платные услуги и сервисы                   140.967716\n",
       "           Работа с объявлениями и личным кабинетом    54.939942\n",
       "           Рекламные сервисы Avito                     47.795631\n",
       "           Технические вопросы                        105.004331\n",
       "2015-12    Безопасность на Avito                       16.455434\n",
       "           Блокировки и отклонения                     45.121346\n",
       "           Магазины, Автозагрузка и юридические лица   26.332327\n",
       "           Мобильный Avito                             85.962042\n",
       "           Платные услуги и сервисы                    78.835762\n",
       "           Работа с объявлениями и личным кабинетом    58.111975\n",
       "           Рекламные сервисы Avito                     29.384649\n",
       "           Технические вопросы                         56.366853"
      ]
     },
     "execution_count": 140,
     "metadata": {},
     "output_type": "execute_result"
    }
   ],
   "source": [
    "temp[['total_hour']]"
   ]
  },
  {
   "cell_type": "code",
   "execution_count": 141,
   "metadata": {},
   "outputs": [
    {
     "data": {
      "image/png": "[encoded data removed]",
      "text/plain": [
       "<Figure size 1080x576 with 1 Axes>"
      ]
     },
     "metadata": {
      "needs_background": "light"
     },
     "output_type": "display_data"
    }
   ],
   "source": [
    "ax = temp[['total_hour']].unstack().plot(kind='bar', legend=False)\n",
    "#plt.setp(ax.get_legend().get_texts(), fontsize='10')\n",
    "#plt.legend(bbox_to_anchor=(1.05, 1), loc=2, borderaxespad=0.)\n",
    "ax.set(xlabel='Месяц', ylabel='Среднее время обработки в часах')\n",
    "plt.show()"
   ]
  },
  {
   "cell_type": "markdown",
   "metadata": {},
   "source": [
    "# число заявок + категория"
   ]
  },
  {
   "cell_type": "code",
   "execution_count": 109,
   "metadata": {},
   "outputs": [],
   "source": [
    "temp = tickets[tickets['activity_start_dt']>='2015-09-01'][['ticket_category','month_year', 'request_id']].groupby(['month_year', 'ticket_category']).count()"
   ]
  },
  {
   "cell_type": "code",
   "execution_count": 112,
   "metadata": {},
   "outputs": [
    {
     "data": {
      "text/html": [
       "<div>\n",
       "<style scoped>\n",
       "    .dataframe tbody tr th:only-of-type {\n",
       "        vertical-align: middle;\n",
       "    }\n",
       "\n",
       "    .dataframe tbody tr th {\n",
       "        vertical-align: top;\n",
       "    }\n",
       "\n",
       "    .dataframe thead th {\n",
       "        text-align: right;\n",
       "    }\n",
       "</style>\n",
       "<table border=\"1\" class=\"dataframe\">\n",
       "  <thead>\n",
       "    <tr style=\"text-align: right;\">\n",
       "      <th></th>\n",
       "      <th>Unnamed: 0</th>\n",
       "      <th>count</th>\n",
       "    </tr>\n",
       "  </thead>\n",
       "  <tbody>\n",
       "    <tr>\n",
       "      <th>0</th>\n",
       "      <td>2015-09-30</td>\n",
       "      <td>30</td>\n",
       "    </tr>\n",
       "    <tr>\n",
       "      <th>1</th>\n",
       "      <td>2015-10-31</td>\n",
       "      <td>31</td>\n",
       "    </tr>\n",
       "    <tr>\n",
       "      <th>2</th>\n",
       "      <td>2015-11-30</td>\n",
       "      <td>30</td>\n",
       "    </tr>\n",
       "    <tr>\n",
       "      <th>3</th>\n",
       "      <td>2015-12-31</td>\n",
       "      <td>31</td>\n",
       "    </tr>\n",
       "    <tr>\n",
       "      <th>4</th>\n",
       "      <td>2016-01-31</td>\n",
       "      <td>1</td>\n",
       "    </tr>\n",
       "  </tbody>\n",
       "</table>\n",
       "</div>"
      ],
      "text/plain": [
       "   Unnamed: 0  count\n",
       "0  2015-09-30     30\n",
       "1  2015-10-31     31\n",
       "2  2015-11-30     30\n",
       "3  2015-12-31     31\n",
       "4  2016-01-31      1"
      ]
     },
     "execution_count": 112,
     "metadata": {},
     "output_type": "execute_result"
    }
   ],
   "source": [
    "count_days = pd.read_csv('count_days.csv')\n",
    "count_days.head()"
   ]
  },
  {
   "cell_type": "code",
   "execution_count": 115,
   "metadata": {},
   "outputs": [],
   "source": [
    "count_days.columns = ['month', 'count_days']"
   ]
  },
  {
   "cell_type": "code",
   "execution_count": 116,
   "metadata": {},
   "outputs": [
    {
     "data": {
      "text/html": [
       "<div>\n",
       "<style scoped>\n",
       "    .dataframe tbody tr th:only-of-type {\n",
       "        vertical-align: middle;\n",
       "    }\n",
       "\n",
       "    .dataframe tbody tr th {\n",
       "        vertical-align: top;\n",
       "    }\n",
       "\n",
       "    .dataframe thead th {\n",
       "        text-align: right;\n",
       "    }\n",
       "</style>\n",
       "<table border=\"1\" class=\"dataframe\">\n",
       "  <thead>\n",
       "    <tr style=\"text-align: right;\">\n",
       "      <th></th>\n",
       "      <th>month</th>\n",
       "      <th>count_days</th>\n",
       "    </tr>\n",
       "  </thead>\n",
       "  <tbody>\n",
       "    <tr>\n",
       "      <th>0</th>\n",
       "      <td>2015-09-30</td>\n",
       "      <td>30</td>\n",
       "    </tr>\n",
       "    <tr>\n",
       "      <th>1</th>\n",
       "      <td>2015-10-31</td>\n",
       "      <td>31</td>\n",
       "    </tr>\n",
       "    <tr>\n",
       "      <th>2</th>\n",
       "      <td>2015-11-30</td>\n",
       "      <td>30</td>\n",
       "    </tr>\n",
       "    <tr>\n",
       "      <th>3</th>\n",
       "      <td>2015-12-31</td>\n",
       "      <td>31</td>\n",
       "    </tr>\n",
       "    <tr>\n",
       "      <th>4</th>\n",
       "      <td>2016-01-31</td>\n",
       "      <td>1</td>\n",
       "    </tr>\n",
       "  </tbody>\n",
       "</table>\n",
       "</div>"
      ],
      "text/plain": [
       "        month  count_days\n",
       "0  2015-09-30          30\n",
       "1  2015-10-31          31\n",
       "2  2015-11-30          30\n",
       "3  2015-12-31          31\n",
       "4  2016-01-31           1"
      ]
     },
     "execution_count": 116,
     "metadata": {},
     "output_type": "execute_result"
    }
   ],
   "source": [
    "count_days"
   ]
  },
  {
   "cell_type": "code",
   "execution_count": 118,
   "metadata": {},
   "outputs": [],
   "source": [
    "count_days['month_year']=count_days['month'].apply(lambda x: pd.Timestamp(x)).dt.to_period('M')"
   ]
  },
  {
   "cell_type": "code",
   "execution_count": 121,
   "metadata": {},
   "outputs": [
    {
     "data": {
      "text/html": [
       "<div>\n",
       "<style scoped>\n",
       "    .dataframe tbody tr th:only-of-type {\n",
       "        vertical-align: middle;\n",
       "    }\n",
       "\n",
       "    .dataframe tbody tr th {\n",
       "        vertical-align: top;\n",
       "    }\n",
       "\n",
       "    .dataframe thead th {\n",
       "        text-align: right;\n",
       "    }\n",
       "</style>\n",
       "<table border=\"1\" class=\"dataframe\">\n",
       "  <thead>\n",
       "    <tr style=\"text-align: right;\">\n",
       "      <th></th>\n",
       "      <th>month</th>\n",
       "      <th>count_days</th>\n",
       "      <th>month_year</th>\n",
       "    </tr>\n",
       "  </thead>\n",
       "  <tbody>\n",
       "    <tr>\n",
       "      <th>0</th>\n",
       "      <td>2015-09-30</td>\n",
       "      <td>30</td>\n",
       "      <td>2015-09</td>\n",
       "    </tr>\n",
       "    <tr>\n",
       "      <th>1</th>\n",
       "      <td>2015-10-31</td>\n",
       "      <td>31</td>\n",
       "      <td>2015-10</td>\n",
       "    </tr>\n",
       "    <tr>\n",
       "      <th>2</th>\n",
       "      <td>2015-11-30</td>\n",
       "      <td>30</td>\n",
       "      <td>2015-11</td>\n",
       "    </tr>\n",
       "    <tr>\n",
       "      <th>3</th>\n",
       "      <td>2015-12-31</td>\n",
       "      <td>31</td>\n",
       "      <td>2015-12</td>\n",
       "    </tr>\n",
       "    <tr>\n",
       "      <th>4</th>\n",
       "      <td>2016-01-31</td>\n",
       "      <td>1</td>\n",
       "      <td>2016-01</td>\n",
       "    </tr>\n",
       "  </tbody>\n",
       "</table>\n",
       "</div>"
      ],
      "text/plain": [
       "        month  count_days month_year\n",
       "0  2015-09-30          30    2015-09\n",
       "1  2015-10-31          31    2015-10\n",
       "2  2015-11-30          30    2015-11\n",
       "3  2015-12-31          31    2015-12\n",
       "4  2016-01-31           1    2016-01"
      ]
     },
     "execution_count": 121,
     "metadata": {},
     "output_type": "execute_result"
    }
   ],
   "source": [
    "count_days"
   ]
  },
  {
   "cell_type": "code",
   "execution_count": 124,
   "metadata": {},
   "outputs": [
    {
     "data": {
      "text/html": [
       "<div>\n",
       "<style scoped>\n",
       "    .dataframe tbody tr th:only-of-type {\n",
       "        vertical-align: middle;\n",
       "    }\n",
       "\n",
       "    .dataframe tbody tr th {\n",
       "        vertical-align: top;\n",
       "    }\n",
       "\n",
       "    .dataframe thead tr th {\n",
       "        text-align: left;\n",
       "    }\n",
       "\n",
       "    .dataframe thead tr:last-of-type th {\n",
       "        text-align: right;\n",
       "    }\n",
       "</style>\n",
       "<table border=\"1\" class=\"dataframe\">\n",
       "  <thead>\n",
       "    <tr>\n",
       "      <th></th>\n",
       "      <th colspan=\"8\" halign=\"left\">request_id</th>\n",
       "    </tr>\n",
       "    <tr>\n",
       "      <th>ticket_category</th>\n",
       "      <th>Безопасность на Avito</th>\n",
       "      <th>Блокировки и отклонения</th>\n",
       "      <th>Магазины, Автозагрузка и юридические лица</th>\n",
       "      <th>Мобильный Avito</th>\n",
       "      <th>Платные услуги и сервисы</th>\n",
       "      <th>Работа с объявлениями и личным кабинетом</th>\n",
       "      <th>Рекламные сервисы Avito</th>\n",
       "      <th>Технические вопросы</th>\n",
       "    </tr>\n",
       "    <tr>\n",
       "      <th>month_year</th>\n",
       "      <th></th>\n",
       "      <th></th>\n",
       "      <th></th>\n",
       "      <th></th>\n",
       "      <th></th>\n",
       "      <th></th>\n",
       "      <th></th>\n",
       "      <th></th>\n",
       "    </tr>\n",
       "  </thead>\n",
       "  <tbody>\n",
       "    <tr>\n",
       "      <th>2015-09</th>\n",
       "      <td>2215</td>\n",
       "      <td>57524</td>\n",
       "      <td>694</td>\n",
       "      <td>361</td>\n",
       "      <td>5103</td>\n",
       "      <td>19192</td>\n",
       "      <td>825</td>\n",
       "      <td>12965</td>\n",
       "    </tr>\n",
       "    <tr>\n",
       "      <th>2015-10</th>\n",
       "      <td>3164</td>\n",
       "      <td>59742</td>\n",
       "      <td>1126</td>\n",
       "      <td>425</td>\n",
       "      <td>7914</td>\n",
       "      <td>20480</td>\n",
       "      <td>838</td>\n",
       "      <td>12719</td>\n",
       "    </tr>\n",
       "    <tr>\n",
       "      <th>2015-11</th>\n",
       "      <td>3732</td>\n",
       "      <td>45162</td>\n",
       "      <td>1329</td>\n",
       "      <td>403</td>\n",
       "      <td>7558</td>\n",
       "      <td>19074</td>\n",
       "      <td>866</td>\n",
       "      <td>16933</td>\n",
       "    </tr>\n",
       "    <tr>\n",
       "      <th>2015-12</th>\n",
       "      <td>3889</td>\n",
       "      <td>47584</td>\n",
       "      <td>1839</td>\n",
       "      <td>400</td>\n",
       "      <td>7740</td>\n",
       "      <td>17407</td>\n",
       "      <td>849</td>\n",
       "      <td>17463</td>\n",
       "    </tr>\n",
       "  </tbody>\n",
       "</table>\n",
       "</div>"
      ],
      "text/plain": [
       "                           request_id                          \\\n",
       "ticket_category Безопасность на Avito Блокировки и отклонения   \n",
       "month_year                                                      \n",
       "2015-09                          2215                   57524   \n",
       "2015-10                          3164                   59742   \n",
       "2015-11                          3732                   45162   \n",
       "2015-12                          3889                   47584   \n",
       "\n",
       "                                                                           \\\n",
       "ticket_category Магазины, Автозагрузка и юридические лица Мобильный Avito   \n",
       "month_year                                                                  \n",
       "2015-09                                               694             361   \n",
       "2015-10                                              1126             425   \n",
       "2015-11                                              1329             403   \n",
       "2015-12                                              1839             400   \n",
       "\n",
       "                                          \\\n",
       "ticket_category Платные услуги и сервисы   \n",
       "month_year                                 \n",
       "2015-09                             5103   \n",
       "2015-10                             7914   \n",
       "2015-11                             7558   \n",
       "2015-12                             7740   \n",
       "\n",
       "                                                          \\\n",
       "ticket_category Работа с объявлениями и личным кабинетом   \n",
       "month_year                                                 \n",
       "2015-09                                            19192   \n",
       "2015-10                                            20480   \n",
       "2015-11                                            19074   \n",
       "2015-12                                            17407   \n",
       "\n",
       "                                                             \n",
       "ticket_category Рекламные сервисы Avito Технические вопросы  \n",
       "month_year                                                   \n",
       "2015-09                             825               12965  \n",
       "2015-10                             838               12719  \n",
       "2015-11                             866               16933  \n",
       "2015-12                             849               17463  "
      ]
     },
     "execution_count": 124,
     "metadata": {},
     "output_type": "execute_result"
    }
   ],
   "source": [
    "temp.unstack()"
   ]
  },
  {
   "cell_type": "code",
   "execution_count": 129,
   "metadata": {},
   "outputs": [
    {
     "data": {
      "image/png": "[encoded data removed]",
      "text/plain": [
       "<Figure size 1080x576 with 1 Axes>"
      ]
     },
     "metadata": {
      "needs_background": "light"
     },
     "output_type": "display_data"
    }
   ],
   "source": [
    "ax = temp.unstack().plot(kind='bar', legend=False)\n",
    "#plt.setp(ax.get_legend().get_texts(), fontsize='10')\n",
    "#plt.legend(bbox_to_anchor=(1.05, 1), loc=2, borderaxespad=0.)\n",
    "ax.set(xlabel='Месяц', ylabel='Количество обращений')\n",
    "plt.show()"
   ]
  },
  {
   "cell_type": "code",
   "execution_count": 130,
   "metadata": {},
   "outputs": [
    {
     "data": {
      "text/html": [
       "<div>\n",
       "<style scoped>\n",
       "    .dataframe tbody tr th:only-of-type {\n",
       "        vertical-align: middle;\n",
       "    }\n",
       "\n",
       "    .dataframe tbody tr th {\n",
       "        vertical-align: top;\n",
       "    }\n",
       "\n",
       "    .dataframe thead th {\n",
       "        text-align: right;\n",
       "    }\n",
       "</style>\n",
       "<table border=\"1\" class=\"dataframe\">\n",
       "  <thead>\n",
       "    <tr style=\"text-align: right;\">\n",
       "      <th></th>\n",
       "      <th></th>\n",
       "      <th>request_id</th>\n",
       "    </tr>\n",
       "    <tr>\n",
       "      <th>month_year</th>\n",
       "      <th>ticket_category</th>\n",
       "      <th></th>\n",
       "    </tr>\n",
       "  </thead>\n",
       "  <tbody>\n",
       "    <tr>\n",
       "      <th rowspan=\"8\" valign=\"top\">2015-09</th>\n",
       "      <th>Безопасность на Avito</th>\n",
       "      <td>2215</td>\n",
       "    </tr>\n",
       "    <tr>\n",
       "      <th>Блокировки и отклонения</th>\n",
       "      <td>57524</td>\n",
       "    </tr>\n",
       "    <tr>\n",
       "      <th>Магазины, Автозагрузка и юридические лица</th>\n",
       "      <td>694</td>\n",
       "    </tr>\n",
       "    <tr>\n",
       "      <th>Мобильный Avito</th>\n",
       "      <td>361</td>\n",
       "    </tr>\n",
       "    <tr>\n",
       "      <th>Платные услуги и сервисы</th>\n",
       "      <td>5103</td>\n",
       "    </tr>\n",
       "    <tr>\n",
       "      <th>Работа с объявлениями и личным кабинетом</th>\n",
       "      <td>19192</td>\n",
       "    </tr>\n",
       "    <tr>\n",
       "      <th>Рекламные сервисы Avito</th>\n",
       "      <td>825</td>\n",
       "    </tr>\n",
       "    <tr>\n",
       "      <th>Технические вопросы</th>\n",
       "      <td>12965</td>\n",
       "    </tr>\n",
       "    <tr>\n",
       "      <th rowspan=\"8\" valign=\"top\">2015-10</th>\n",
       "      <th>Безопасность на Avito</th>\n",
       "      <td>3164</td>\n",
       "    </tr>\n",
       "    <tr>\n",
       "      <th>Блокировки и отклонения</th>\n",
       "      <td>59742</td>\n",
       "    </tr>\n",
       "    <tr>\n",
       "      <th>Магазины, Автозагрузка и юридические лица</th>\n",
       "      <td>1126</td>\n",
       "    </tr>\n",
       "    <tr>\n",
       "      <th>Мобильный Avito</th>\n",
       "      <td>425</td>\n",
       "    </tr>\n",
       "    <tr>\n",
       "      <th>Платные услуги и сервисы</th>\n",
       "      <td>7914</td>\n",
       "    </tr>\n",
       "    <tr>\n",
       "      <th>Работа с объявлениями и личным кабинетом</th>\n",
       "      <td>20480</td>\n",
       "    </tr>\n",
       "    <tr>\n",
       "      <th>Рекламные сервисы Avito</th>\n",
       "      <td>838</td>\n",
       "    </tr>\n",
       "    <tr>\n",
       "      <th>Технические вопросы</th>\n",
       "      <td>12719</td>\n",
       "    </tr>\n",
       "    <tr>\n",
       "      <th rowspan=\"8\" valign=\"top\">2015-11</th>\n",
       "      <th>Безопасность на Avito</th>\n",
       "      <td>3732</td>\n",
       "    </tr>\n",
       "    <tr>\n",
       "      <th>Блокировки и отклонения</th>\n",
       "      <td>45162</td>\n",
       "    </tr>\n",
       "    <tr>\n",
       "      <th>Магазины, Автозагрузка и юридические лица</th>\n",
       "      <td>1329</td>\n",
       "    </tr>\n",
       "    <tr>\n",
       "      <th>Мобильный Avito</th>\n",
       "      <td>403</td>\n",
       "    </tr>\n",
       "    <tr>\n",
       "      <th>Платные услуги и сервисы</th>\n",
       "      <td>7558</td>\n",
       "    </tr>\n",
       "    <tr>\n",
       "      <th>Работа с объявлениями и личным кабинетом</th>\n",
       "      <td>19074</td>\n",
       "    </tr>\n",
       "    <tr>\n",
       "      <th>Рекламные сервисы Avito</th>\n",
       "      <td>866</td>\n",
       "    </tr>\n",
       "    <tr>\n",
       "      <th>Технические вопросы</th>\n",
       "      <td>16933</td>\n",
       "    </tr>\n",
       "    <tr>\n",
       "      <th rowspan=\"8\" valign=\"top\">2015-12</th>\n",
       "      <th>Безопасность на Avito</th>\n",
       "      <td>3889</td>\n",
       "    </tr>\n",
       "    <tr>\n",
       "      <th>Блокировки и отклонения</th>\n",
       "      <td>47584</td>\n",
       "    </tr>\n",
       "    <tr>\n",
       "      <th>Магазины, Автозагрузка и юридические лица</th>\n",
       "      <td>1839</td>\n",
       "    </tr>\n",
       "    <tr>\n",
       "      <th>Мобильный Avito</th>\n",
       "      <td>400</td>\n",
       "    </tr>\n",
       "    <tr>\n",
       "      <th>Платные услуги и сервисы</th>\n",
       "      <td>7740</td>\n",
       "    </tr>\n",
       "    <tr>\n",
       "      <th>Работа с объявлениями и личным кабинетом</th>\n",
       "      <td>17407</td>\n",
       "    </tr>\n",
       "    <tr>\n",
       "      <th>Рекламные сервисы Avito</th>\n",
       "      <td>849</td>\n",
       "    </tr>\n",
       "    <tr>\n",
       "      <th>Технические вопросы</th>\n",
       "      <td>17463</td>\n",
       "    </tr>\n",
       "  </tbody>\n",
       "</table>\n",
       "</div>"
      ],
      "text/plain": [
       "                                                      request_id\n",
       "month_year ticket_category                                      \n",
       "2015-09    Безопасность на Avito                            2215\n",
       "           Блокировки и отклонения                         57524\n",
       "           Магазины, Автозагрузка и юридические лица         694\n",
       "           Мобильный Avito                                   361\n",
       "           Платные услуги и сервисы                         5103\n",
       "           Работа с объявлениями и личным кабинетом        19192\n",
       "           Рекламные сервисы Avito                           825\n",
       "           Технические вопросы                             12965\n",
       "2015-10    Безопасность на Avito                            3164\n",
       "           Блокировки и отклонения                         59742\n",
       "           Магазины, Автозагрузка и юридические лица        1126\n",
       "           Мобильный Avito                                   425\n",
       "           Платные услуги и сервисы                         7914\n",
       "           Работа с объявлениями и личным кабинетом        20480\n",
       "           Рекламные сервисы Avito                           838\n",
       "           Технические вопросы                             12719\n",
       "2015-11    Безопасность на Avito                            3732\n",
       "           Блокировки и отклонения                         45162\n",
       "           Магазины, Автозагрузка и юридические лица        1329\n",
       "           Мобильный Avito                                   403\n",
       "           Платные услуги и сервисы                         7558\n",
       "           Работа с объявлениями и личным кабинетом        19074\n",
       "           Рекламные сервисы Avito                           866\n",
       "           Технические вопросы                             16933\n",
       "2015-12    Безопасность на Avito                            3889\n",
       "           Блокировки и отклонения                         47584\n",
       "           Магазины, Автозагрузка и юридические лица        1839\n",
       "           Мобильный Avito                                   400\n",
       "           Платные услуги и сервисы                         7740\n",
       "           Работа с объявлениями и личным кабинетом        17407\n",
       "           Рекламные сервисы Avito                           849\n",
       "           Технические вопросы                             17463"
      ]
     },
     "execution_count": 130,
     "metadata": {},
     "output_type": "execute_result"
    }
   ],
   "source": [
    "temp"
   ]
  },
  {
   "cell_type": "markdown",
   "metadata": {},
   "source": [
    "# общее кол-во заявок"
   ]
  },
  {
   "cell_type": "code",
   "execution_count": 131,
   "metadata": {},
   "outputs": [],
   "source": [
    "temp = tickets[tickets['activity_start_dt']>='2015-09-01'][['month_year', 'request_id']].groupby(['month_year']).count()"
   ]
  },
  {
   "cell_type": "code",
   "execution_count": 135,
   "metadata": {},
   "outputs": [
    {
     "data": {
      "image/png": "[encoded data removed]",
      "text/plain": [
       "<Figure size 1080x576 with 1 Axes>"
      ]
     },
     "metadata": {
      "needs_background": "light"
     },
     "output_type": "display_data"
    }
   ],
   "source": [
    "temp.plot(kind='bar', legend=False)\n",
    "ax.set(xlabel='Месяц', ylabel='Количество обращений')\n",
    "plt.show()"
   ]
  },
  {
   "cell_type": "code",
   "execution_count": 136,
   "metadata": {},
   "outputs": [
    {
     "data": {
      "text/html": [
       "<div>\n",
       "<style scoped>\n",
       "    .dataframe tbody tr th:only-of-type {\n",
       "        vertical-align: middle;\n",
       "    }\n",
       "\n",
       "    .dataframe tbody tr th {\n",
       "        vertical-align: top;\n",
       "    }\n",
       "\n",
       "    .dataframe thead th {\n",
       "        text-align: right;\n",
       "    }\n",
       "</style>\n",
       "<table border=\"1\" class=\"dataframe\">\n",
       "  <thead>\n",
       "    <tr style=\"text-align: right;\">\n",
       "      <th></th>\n",
       "      <th>request_id</th>\n",
       "    </tr>\n",
       "    <tr>\n",
       "      <th>month_year</th>\n",
       "      <th></th>\n",
       "    </tr>\n",
       "  </thead>\n",
       "  <tbody>\n",
       "    <tr>\n",
       "      <th>2015-09</th>\n",
       "      <td>98879</td>\n",
       "    </tr>\n",
       "    <tr>\n",
       "      <th>2015-10</th>\n",
       "      <td>106408</td>\n",
       "    </tr>\n",
       "    <tr>\n",
       "      <th>2015-11</th>\n",
       "      <td>95057</td>\n",
       "    </tr>\n",
       "    <tr>\n",
       "      <th>2015-12</th>\n",
       "      <td>97171</td>\n",
       "    </tr>\n",
       "  </tbody>\n",
       "</table>\n",
       "</div>"
      ],
      "text/plain": [
       "            request_id\n",
       "month_year            \n",
       "2015-09          98879\n",
       "2015-10         106408\n",
       "2015-11          95057\n",
       "2015-12          97171"
      ]
     },
     "execution_count": 136,
     "metadata": {},
     "output_type": "execute_result"
    }
   ],
   "source": [
    "temp"
   ]
  },
  {
   "cell_type": "markdown",
   "metadata": {},
   "source": [
    "# CSAT"
   ]
  },
  {
   "cell_type": "code",
   "execution_count": 142,
   "metadata": {},
   "outputs": [],
   "source": [
    "tickets['month_year_answer']=tickets['fact_reaction_dt'].dt.to_period('M')"
   ]
  },
  {
   "cell_type": "code",
   "execution_count": 186,
   "metadata": {},
   "outputs": [
    {
     "data": {
      "text/html": [
       "<div>\n",
       "<style scoped>\n",
       "    .dataframe tbody tr th:only-of-type {\n",
       "        vertical-align: middle;\n",
       "    }\n",
       "\n",
       "    .dataframe tbody tr th {\n",
       "        vertical-align: top;\n",
       "    }\n",
       "\n",
       "    .dataframe thead th {\n",
       "        text-align: right;\n",
       "    }\n",
       "</style>\n",
       "<table border=\"1\" class=\"dataframe\">\n",
       "  <thead>\n",
       "    <tr style=\"text-align: right;\">\n",
       "      <th></th>\n",
       "      <th>user_id</th>\n",
       "      <th>ticket_category</th>\n",
       "      <th>ticket_subcategory</th>\n",
       "      <th>current_state</th>\n",
       "      <th>request_id</th>\n",
       "      <th>activity_start_dt</th>\n",
       "      <th>fact_reaction_dt</th>\n",
       "      <th>result_mentioned_by_user</th>\n",
       "      <th>time_answer</th>\n",
       "      <th>time_answer_days</th>\n",
       "      <th>...</th>\n",
       "      <th>is_holyday</th>\n",
       "      <th>Не удовлетворительно</th>\n",
       "      <th>Удовлетворительно</th>\n",
       "      <th>Нейтрально</th>\n",
       "      <th>Хорошо</th>\n",
       "      <th>Отлично</th>\n",
       "      <th>Нет отзыва</th>\n",
       "      <th>time_answer_standart</th>\n",
       "      <th>month_year</th>\n",
       "      <th>month_year_answer</th>\n",
       "    </tr>\n",
       "  </thead>\n",
       "  <tbody>\n",
       "    <tr>\n",
       "      <th>0</th>\n",
       "      <td>370 518 212</td>\n",
       "      <td>Технические вопросы</td>\n",
       "      <td>Доступ к сайту</td>\n",
       "      <td>Решено</td>\n",
       "      <td>045be6ac-d532-4c20-b1c9-fb82c1737464</td>\n",
       "      <td>2015-11-26 22:56:00</td>\n",
       "      <td>2015-12-03 12:11:00</td>\n",
       "      <td>Хорошо</td>\n",
       "      <td>6 days 13:15:00</td>\n",
       "      <td>7</td>\n",
       "      <td>...</td>\n",
       "      <td>False</td>\n",
       "      <td>0</td>\n",
       "      <td>0</td>\n",
       "      <td>0</td>\n",
       "      <td>0</td>\n",
       "      <td>0</td>\n",
       "      <td>1</td>\n",
       "      <td>1.128340</td>\n",
       "      <td>2015-11</td>\n",
       "      <td>2015-12</td>\n",
       "    </tr>\n",
       "    <tr>\n",
       "      <th>1</th>\n",
       "      <td>2 138 799</td>\n",
       "      <td>Технические вопросы</td>\n",
       "      <td>Доступ к сайту</td>\n",
       "      <td>Решено</td>\n",
       "      <td>8ebbb8c6-7abb-4fad-a83b-35a71a83a186</td>\n",
       "      <td>2015-12-18 08:52:00</td>\n",
       "      <td>2015-12-23 06:40:00</td>\n",
       "      <td>Нет отзыва</td>\n",
       "      <td>4 days 21:48:00</td>\n",
       "      <td>5</td>\n",
       "      <td>...</td>\n",
       "      <td>False</td>\n",
       "      <td>0</td>\n",
       "      <td>0</td>\n",
       "      <td>0</td>\n",
       "      <td>0</td>\n",
       "      <td>0</td>\n",
       "      <td>0</td>\n",
       "      <td>0.713697</td>\n",
       "      <td>2015-12</td>\n",
       "      <td>2015-12</td>\n",
       "    </tr>\n",
       "    <tr>\n",
       "      <th>2</th>\n",
       "      <td>2 033 101</td>\n",
       "      <td>Технические вопросы</td>\n",
       "      <td>Доступ к сайту</td>\n",
       "      <td>Решено</td>\n",
       "      <td>ee303751-4a21-4544-a4c3-56924c088028</td>\n",
       "      <td>2015-12-16 19:06:00</td>\n",
       "      <td>2015-12-26 07:46:00</td>\n",
       "      <td>Нет отзыва</td>\n",
       "      <td>9 days 12:40:00</td>\n",
       "      <td>9</td>\n",
       "      <td>...</td>\n",
       "      <td>False</td>\n",
       "      <td>0</td>\n",
       "      <td>0</td>\n",
       "      <td>0</td>\n",
       "      <td>0</td>\n",
       "      <td>0</td>\n",
       "      <td>0</td>\n",
       "      <td>1.878974</td>\n",
       "      <td>2015-12</td>\n",
       "      <td>2015-12</td>\n",
       "    </tr>\n",
       "    <tr>\n",
       "      <th>3</th>\n",
       "      <td>177 122 000 003</td>\n",
       "      <td>Мобильный Avito</td>\n",
       "      <td>Android приложение</td>\n",
       "      <td>Решено</td>\n",
       "      <td>bb989fcb-277a-41bd-aaa2-f131333b629e</td>\n",
       "      <td>2015-12-01 17:08:00</td>\n",
       "      <td>2015-12-09 11:19:00</td>\n",
       "      <td>Нет отзыва</td>\n",
       "      <td>7 days 18:11:00</td>\n",
       "      <td>7</td>\n",
       "      <td>...</td>\n",
       "      <td>False</td>\n",
       "      <td>0</td>\n",
       "      <td>0</td>\n",
       "      <td>0</td>\n",
       "      <td>0</td>\n",
       "      <td>0</td>\n",
       "      <td>0</td>\n",
       "      <td>1.432448</td>\n",
       "      <td>2015-12</td>\n",
       "      <td>2015-12</td>\n",
       "    </tr>\n",
       "    <tr>\n",
       "      <th>4</th>\n",
       "      <td>37 340 500 064</td>\n",
       "      <td>Технические вопросы</td>\n",
       "      <td>Доступ к сайту</td>\n",
       "      <td>Решено</td>\n",
       "      <td>e742d172-0ef1-47d8-b862-25be082d8bc0</td>\n",
       "      <td>2015-12-14 10:08:00</td>\n",
       "      <td>2015-12-15 16:14:00</td>\n",
       "      <td>Нет отзыва</td>\n",
       "      <td>1 days 06:06:00</td>\n",
       "      <td>2</td>\n",
       "      <td>...</td>\n",
       "      <td>False</td>\n",
       "      <td>0</td>\n",
       "      <td>0</td>\n",
       "      <td>0</td>\n",
       "      <td>0</td>\n",
       "      <td>0</td>\n",
       "      <td>0</td>\n",
       "      <td>-0.208085</td>\n",
       "      <td>2015-12</td>\n",
       "      <td>2015-12</td>\n",
       "    </tr>\n",
       "  </tbody>\n",
       "</table>\n",
       "<p>5 rows × 22 columns</p>\n",
       "</div>"
      ],
      "text/plain": [
       "           user_id      ticket_category  ticket_subcategory current_state  \\\n",
       "0      370 518 212  Технические вопросы      Доступ к сайту        Решено   \n",
       "1        2 138 799  Технические вопросы      Доступ к сайту        Решено   \n",
       "2        2 033 101  Технические вопросы      Доступ к сайту        Решено   \n",
       "3  177 122 000 003      Мобильный Avito  Android приложение        Решено   \n",
       "4   37 340 500 064  Технические вопросы      Доступ к сайту        Решено   \n",
       "\n",
       "                             request_id   activity_start_dt  \\\n",
       "0  045be6ac-d532-4c20-b1c9-fb82c1737464 2015-11-26 22:56:00   \n",
       "1  8ebbb8c6-7abb-4fad-a83b-35a71a83a186 2015-12-18 08:52:00   \n",
       "2  ee303751-4a21-4544-a4c3-56924c088028 2015-12-16 19:06:00   \n",
       "3  bb989fcb-277a-41bd-aaa2-f131333b629e 2015-12-01 17:08:00   \n",
       "4  e742d172-0ef1-47d8-b862-25be082d8bc0 2015-12-14 10:08:00   \n",
       "\n",
       "     fact_reaction_dt result_mentioned_by_user     time_answer  \\\n",
       "0 2015-12-03 12:11:00                   Хорошо 6 days 13:15:00   \n",
       "1 2015-12-23 06:40:00               Нет отзыва 4 days 21:48:00   \n",
       "2 2015-12-26 07:46:00               Нет отзыва 9 days 12:40:00   \n",
       "3 2015-12-09 11:19:00               Нет отзыва 7 days 18:11:00   \n",
       "4 2015-12-15 16:14:00               Нет отзыва 1 days 06:06:00   \n",
       "\n",
       "   time_answer_days  ...  is_holyday  Не удовлетворительно  Удовлетворительно  \\\n",
       "0                 7  ...       False                     0                  0   \n",
       "1                 5  ...       False                     0                  0   \n",
       "2                 9  ...       False                     0                  0   \n",
       "3                 7  ...       False                     0                  0   \n",
       "4                 2  ...       False                     0                  0   \n",
       "\n",
       "   Нейтрально  Хорошо  Отлично  Нет отзыва  time_answer_standart  month_year  \\\n",
       "0           0       0        0           1              1.128340     2015-11   \n",
       "1           0       0        0           0              0.713697     2015-12   \n",
       "2           0       0        0           0              1.878974     2015-12   \n",
       "3           0       0        0           0              1.432448     2015-12   \n",
       "4           0       0        0           0             -0.208085     2015-12   \n",
       "\n",
       "   month_year_answer  \n",
       "0            2015-12  \n",
       "1            2015-12  \n",
       "2            2015-12  \n",
       "3            2015-12  \n",
       "4            2015-12  \n",
       "\n",
       "[5 rows x 22 columns]"
      ]
     },
     "execution_count": 186,
     "metadata": {},
     "output_type": "execute_result"
    }
   ],
   "source": [
    "tickets.head()"
   ]
  },
  {
   "cell_type": "code",
   "execution_count": 187,
   "metadata": {},
   "outputs": [],
   "source": [
    "group = tickets[tickets['activity_start_dt']>='2015-09-01'][['result_mentioned_by_user', 'month_year', 'request_id']].groupby(['month_year','result_mentioned_by_user']).count()"
   ]
  },
  {
   "cell_type": "code",
   "execution_count": 188,
   "metadata": {},
   "outputs": [],
   "source": [
    "good_index = (tickets['activity_start_dt']>='2015-09-01') & ((tickets['result_mentioned_by_user'] == 'Хорошо') | (tickets['result_mentioned_by_user'] == 'Отлично'))"
   ]
  },
  {
   "cell_type": "code",
   "execution_count": 189,
   "metadata": {},
   "outputs": [],
   "source": [
    "good_df = tickets[good_index][['month_year', 'request_id']].groupby(['month_year']).count()"
   ]
  },
  {
   "cell_type": "code",
   "execution_count": 190,
   "metadata": {},
   "outputs": [],
   "source": [
    "all_index = (tickets['activity_start_dt']>='2015-09-01') & (tickets['result_mentioned_by_user'] != 'Нет отзыва')"
   ]
  },
  {
   "cell_type": "code",
   "execution_count": 191,
   "metadata": {},
   "outputs": [],
   "source": [
    "all_df = tickets[all_index][['month_year', 'request_id']].groupby(['month_year']).count()"
   ]
  },
  {
   "cell_type": "code",
   "execution_count": 192,
   "metadata": {},
   "outputs": [
    {
     "data": {
      "text/html": [
       "<div>\n",
       "<style scoped>\n",
       "    .dataframe tbody tr th:only-of-type {\n",
       "        vertical-align: middle;\n",
       "    }\n",
       "\n",
       "    .dataframe tbody tr th {\n",
       "        vertical-align: top;\n",
       "    }\n",
       "\n",
       "    .dataframe thead th {\n",
       "        text-align: right;\n",
       "    }\n",
       "</style>\n",
       "<table border=\"1\" class=\"dataframe\">\n",
       "  <thead>\n",
       "    <tr style=\"text-align: right;\">\n",
       "      <th></th>\n",
       "      <th>request_id</th>\n",
       "    </tr>\n",
       "    <tr>\n",
       "      <th>month_year</th>\n",
       "      <th></th>\n",
       "    </tr>\n",
       "  </thead>\n",
       "  <tbody>\n",
       "    <tr>\n",
       "      <th>2015-09</th>\n",
       "      <td>20470</td>\n",
       "    </tr>\n",
       "    <tr>\n",
       "      <th>2015-10</th>\n",
       "      <td>20342</td>\n",
       "    </tr>\n",
       "    <tr>\n",
       "      <th>2015-11</th>\n",
       "      <td>18581</td>\n",
       "    </tr>\n",
       "    <tr>\n",
       "      <th>2015-12</th>\n",
       "      <td>18909</td>\n",
       "    </tr>\n",
       "  </tbody>\n",
       "</table>\n",
       "</div>"
      ],
      "text/plain": [
       "            request_id\n",
       "month_year            \n",
       "2015-09          20470\n",
       "2015-10          20342\n",
       "2015-11          18581\n",
       "2015-12          18909"
      ]
     },
     "execution_count": 192,
     "metadata": {},
     "output_type": "execute_result"
    }
   ],
   "source": [
    "good_df"
   ]
  },
  {
   "cell_type": "code",
   "execution_count": 193,
   "metadata": {},
   "outputs": [
    {
     "data": {
      "text/html": [
       "<div>\n",
       "<style scoped>\n",
       "    .dataframe tbody tr th:only-of-type {\n",
       "        vertical-align: middle;\n",
       "    }\n",
       "\n",
       "    .dataframe tbody tr th {\n",
       "        vertical-align: top;\n",
       "    }\n",
       "\n",
       "    .dataframe thead th {\n",
       "        text-align: right;\n",
       "    }\n",
       "</style>\n",
       "<table border=\"1\" class=\"dataframe\">\n",
       "  <thead>\n",
       "    <tr style=\"text-align: right;\">\n",
       "      <th></th>\n",
       "      <th>request_id</th>\n",
       "    </tr>\n",
       "    <tr>\n",
       "      <th>month_year</th>\n",
       "      <th></th>\n",
       "    </tr>\n",
       "  </thead>\n",
       "  <tbody>\n",
       "    <tr>\n",
       "      <th>2015-09</th>\n",
       "      <td>29854</td>\n",
       "    </tr>\n",
       "    <tr>\n",
       "      <th>2015-10</th>\n",
       "      <td>32060</td>\n",
       "    </tr>\n",
       "    <tr>\n",
       "      <th>2015-11</th>\n",
       "      <td>28383</td>\n",
       "    </tr>\n",
       "    <tr>\n",
       "      <th>2015-12</th>\n",
       "      <td>30121</td>\n",
       "    </tr>\n",
       "  </tbody>\n",
       "</table>\n",
       "</div>"
      ],
      "text/plain": [
       "            request_id\n",
       "month_year            \n",
       "2015-09          29854\n",
       "2015-10          32060\n",
       "2015-11          28383\n",
       "2015-12          30121"
      ]
     },
     "execution_count": 193,
     "metadata": {},
     "output_type": "execute_result"
    }
   ],
   "source": [
    "all_df"
   ]
  },
  {
   "cell_type": "code",
   "execution_count": 194,
   "metadata": {},
   "outputs": [],
   "source": [
    "SCAT = []\n",
    "for i in good_df.index:\n",
    "    SCAT.append(good_df[str(i)].values[0][0]/all_df[str(i)].values[0][0]*100)"
   ]
  },
  {
   "cell_type": "code",
   "execution_count": 195,
   "metadata": {},
   "outputs": [
    {
     "data": {
      "text/plain": [
       "[68.56702619414484, 63.44978165938865, 65.46524327942784, 62.77680023903589]"
      ]
     },
     "execution_count": 195,
     "metadata": {},
     "output_type": "execute_result"
    }
   ],
   "source": [
    "SCAT"
   ]
  },
  {
   "cell_type": "code",
   "execution_count": 196,
   "metadata": {},
   "outputs": [
    {
     "data": {
      "image/png": "[encoded data removed]",
      "text/plain": [
       "<Figure size 1080x576 with 1 Axes>"
      ]
     },
     "metadata": {
      "needs_background": "light"
     },
     "output_type": "display_data"
    }
   ],
   "source": [
    "fig, ax = plt.subplots()\n",
    "ax.bar(list(map(str,list(good_df.index))), SCAT)\n",
    "ax.set_xlabel('Месяц')\n",
    "ax.set_ylabel('Процент положительных отзывов')\n",
    "plt.xticks(list(map(str,list(good_df.index))))\n",
    "plt.show()"
   ]
  },
  {
   "cell_type": "code",
   "execution_count": 197,
   "metadata": {},
   "outputs": [
    {
     "data": {
      "text/html": [
       "<div>\n",
       "<style scoped>\n",
       "    .dataframe tbody tr th:only-of-type {\n",
       "        vertical-align: middle;\n",
       "    }\n",
       "\n",
       "    .dataframe tbody tr th {\n",
       "        vertical-align: top;\n",
       "    }\n",
       "\n",
       "    .dataframe thead th {\n",
       "        text-align: right;\n",
       "    }\n",
       "</style>\n",
       "<table border=\"1\" class=\"dataframe\">\n",
       "  <thead>\n",
       "    <tr style=\"text-align: right;\">\n",
       "      <th></th>\n",
       "      <th>percent_of_positive</th>\n",
       "    </tr>\n",
       "  </thead>\n",
       "  <tbody>\n",
       "    <tr>\n",
       "      <th>2015-09</th>\n",
       "      <td>68.567026</td>\n",
       "    </tr>\n",
       "    <tr>\n",
       "      <th>2015-10</th>\n",
       "      <td>63.449782</td>\n",
       "    </tr>\n",
       "    <tr>\n",
       "      <th>2015-11</th>\n",
       "      <td>65.465243</td>\n",
       "    </tr>\n",
       "    <tr>\n",
       "      <th>2015-12</th>\n",
       "      <td>62.776800</td>\n",
       "    </tr>\n",
       "  </tbody>\n",
       "</table>\n",
       "</div>"
      ],
      "text/plain": [
       "         percent_of_positive\n",
       "2015-09            68.567026\n",
       "2015-10            63.449782\n",
       "2015-11            65.465243\n",
       "2015-12            62.776800"
      ]
     },
     "execution_count": 197,
     "metadata": {},
     "output_type": "execute_result"
    }
   ],
   "source": [
    "pd.DataFrame(data=SCAT, index=list(map(str,list(good_df.index))), columns=['percent_of_positive'])"
   ]
  },
  {
   "cell_type": "markdown",
   "metadata": {},
   "source": [
    "# + category"
   ]
  },
  {
   "cell_type": "code",
   "execution_count": 198,
   "metadata": {},
   "outputs": [],
   "source": [
    "good_index = (tickets['activity_start_dt']>='2015-09-01') & ((tickets['result_mentioned_by_user'] == 'Хорошо') | (tickets['result_mentioned_by_user'] == 'Отлично'))"
   ]
  },
  {
   "cell_type": "code",
   "execution_count": 199,
   "metadata": {},
   "outputs": [],
   "source": [
    "good_df = tickets[good_index][['month_year', 'ticket_category', 'request_id']].groupby(['month_year','ticket_category']).count()"
   ]
  },
  {
   "cell_type": "code",
   "execution_count": 200,
   "metadata": {},
   "outputs": [],
   "source": [
    "all_df = tickets[all_index][['month_year', 'ticket_category', 'request_id']].groupby(['month_year', 'ticket_category']).count()"
   ]
  },
  {
   "cell_type": "code",
   "execution_count": 201,
   "metadata": {},
   "outputs": [],
   "source": [
    "temp = good_df.reset_index()"
   ]
  },
  {
   "cell_type": "code",
   "execution_count": 202,
   "metadata": {},
   "outputs": [],
   "source": [
    "temp1 = good_df.reset_index()['request_id'] / all_df.reset_index()['request_id']*100"
   ]
  },
  {
   "cell_type": "code",
   "execution_count": 203,
   "metadata": {},
   "outputs": [],
   "source": [
    "temp['positive'] = temp1"
   ]
  },
  {
   "cell_type": "code",
   "execution_count": 204,
   "metadata": {},
   "outputs": [],
   "source": [
    "temp = temp[['month_year', 'ticket_category', 'positive']].groupby(['month_year', 'ticket_category']).max()"
   ]
  },
  {
   "cell_type": "code",
   "execution_count": 205,
   "metadata": {},
   "outputs": [
    {
     "data": {
      "text/html": [
       "<div>\n",
       "<style scoped>\n",
       "    .dataframe tbody tr th:only-of-type {\n",
       "        vertical-align: middle;\n",
       "    }\n",
       "\n",
       "    .dataframe tbody tr th {\n",
       "        vertical-align: top;\n",
       "    }\n",
       "\n",
       "    .dataframe thead th {\n",
       "        text-align: right;\n",
       "    }\n",
       "</style>\n",
       "<table border=\"1\" class=\"dataframe\">\n",
       "  <thead>\n",
       "    <tr style=\"text-align: right;\">\n",
       "      <th></th>\n",
       "      <th></th>\n",
       "      <th>positive</th>\n",
       "    </tr>\n",
       "    <tr>\n",
       "      <th>month_year</th>\n",
       "      <th>ticket_category</th>\n",
       "      <th></th>\n",
       "    </tr>\n",
       "  </thead>\n",
       "  <tbody>\n",
       "    <tr>\n",
       "      <th rowspan=\"8\" valign=\"top\">2015-09</th>\n",
       "      <th>Безопасность на Avito</th>\n",
       "      <td>64.367816</td>\n",
       "    </tr>\n",
       "    <tr>\n",
       "      <th>Блокировки и отклонения</th>\n",
       "      <td>65.889867</td>\n",
       "    </tr>\n",
       "    <tr>\n",
       "      <th>Магазины, Автозагрузка и юридические лица</th>\n",
       "      <td>69.302326</td>\n",
       "    </tr>\n",
       "    <tr>\n",
       "      <th>Мобильный Avito</th>\n",
       "      <td>75.609756</td>\n",
       "    </tr>\n",
       "    <tr>\n",
       "      <th>Платные услуги и сервисы</th>\n",
       "      <td>58.884565</td>\n",
       "    </tr>\n",
       "    <tr>\n",
       "      <th>Работа с объявлениями и личным кабинетом</th>\n",
       "      <td>75.068046</td>\n",
       "    </tr>\n",
       "    <tr>\n",
       "      <th>Рекламные сервисы Avito</th>\n",
       "      <td>48.571429</td>\n",
       "    </tr>\n",
       "    <tr>\n",
       "      <th>Технические вопросы</th>\n",
       "      <td>76.386233</td>\n",
       "    </tr>\n",
       "    <tr>\n",
       "      <th rowspan=\"8\" valign=\"top\">2015-10</th>\n",
       "      <th>Безопасность на Avito</th>\n",
       "      <td>65.707134</td>\n",
       "    </tr>\n",
       "    <tr>\n",
       "      <th>Блокировки и отклонения</th>\n",
       "      <td>59.017740</td>\n",
       "    </tr>\n",
       "    <tr>\n",
       "      <th>Магазины, Автозагрузка и юридические лица</th>\n",
       "      <td>65.757576</td>\n",
       "    </tr>\n",
       "    <tr>\n",
       "      <th>Мобильный Avito</th>\n",
       "      <td>73.684211</td>\n",
       "    </tr>\n",
       "    <tr>\n",
       "      <th>Платные услуги и сервисы</th>\n",
       "      <td>56.804998</td>\n",
       "    </tr>\n",
       "    <tr>\n",
       "      <th>Работа с объявлениями и личным кабинетом</th>\n",
       "      <td>70.261657</td>\n",
       "    </tr>\n",
       "    <tr>\n",
       "      <th>Рекламные сервисы Avito</th>\n",
       "      <td>46.330275</td>\n",
       "    </tr>\n",
       "    <tr>\n",
       "      <th>Технические вопросы</th>\n",
       "      <td>76.800771</td>\n",
       "    </tr>\n",
       "    <tr>\n",
       "      <th rowspan=\"8\" valign=\"top\">2015-11</th>\n",
       "      <th>Безопасность на Avito</th>\n",
       "      <td>62.131519</td>\n",
       "    </tr>\n",
       "    <tr>\n",
       "      <th>Блокировки и отклонения</th>\n",
       "      <td>59.139291</td>\n",
       "    </tr>\n",
       "    <tr>\n",
       "      <th>Магазины, Автозагрузка и юридические лица</th>\n",
       "      <td>65.552699</td>\n",
       "    </tr>\n",
       "    <tr>\n",
       "      <th>Мобильный Avito</th>\n",
       "      <td>67.605634</td>\n",
       "    </tr>\n",
       "    <tr>\n",
       "      <th>Платные услуги и сервисы</th>\n",
       "      <td>51.246776</td>\n",
       "    </tr>\n",
       "    <tr>\n",
       "      <th>Работа с объявлениями и личным кабинетом</th>\n",
       "      <td>72.324793</td>\n",
       "    </tr>\n",
       "    <tr>\n",
       "      <th>Рекламные сервисы Avito</th>\n",
       "      <td>53.846154</td>\n",
       "    </tr>\n",
       "    <tr>\n",
       "      <th>Технические вопросы</th>\n",
       "      <td>79.380429</td>\n",
       "    </tr>\n",
       "    <tr>\n",
       "      <th rowspan=\"8\" valign=\"top\">2015-12</th>\n",
       "      <th>Безопасность на Avito</th>\n",
       "      <td>65.625000</td>\n",
       "    </tr>\n",
       "    <tr>\n",
       "      <th>Блокировки и отклонения</th>\n",
       "      <td>53.428054</td>\n",
       "    </tr>\n",
       "    <tr>\n",
       "      <th>Магазины, Автозагрузка и юридические лица</th>\n",
       "      <td>64.117647</td>\n",
       "    </tr>\n",
       "    <tr>\n",
       "      <th>Мобильный Avito</th>\n",
       "      <td>75.280899</td>\n",
       "    </tr>\n",
       "    <tr>\n",
       "      <th>Платные услуги и сервисы</th>\n",
       "      <td>58.025789</td>\n",
       "    </tr>\n",
       "    <tr>\n",
       "      <th>Работа с объявлениями и личным кабинетом</th>\n",
       "      <td>72.964489</td>\n",
       "    </tr>\n",
       "    <tr>\n",
       "      <th>Рекламные сервисы Avito</th>\n",
       "      <td>60.743802</td>\n",
       "    </tr>\n",
       "    <tr>\n",
       "      <th>Технические вопросы</th>\n",
       "      <td>78.757891</td>\n",
       "    </tr>\n",
       "  </tbody>\n",
       "</table>\n",
       "</div>"
      ],
      "text/plain": [
       "                                                       positive\n",
       "month_year ticket_category                                     \n",
       "2015-09    Безопасность на Avito                      64.367816\n",
       "           Блокировки и отклонения                    65.889867\n",
       "           Магазины, Автозагрузка и юридические лица  69.302326\n",
       "           Мобильный Avito                            75.609756\n",
       "           Платные услуги и сервисы                   58.884565\n",
       "           Работа с объявлениями и личным кабинетом   75.068046\n",
       "           Рекламные сервисы Avito                    48.571429\n",
       "           Технические вопросы                        76.386233\n",
       "2015-10    Безопасность на Avito                      65.707134\n",
       "           Блокировки и отклонения                    59.017740\n",
       "           Магазины, Автозагрузка и юридические лица  65.757576\n",
       "           Мобильный Avito                            73.684211\n",
       "           Платные услуги и сервисы                   56.804998\n",
       "           Работа с объявлениями и личным кабинетом   70.261657\n",
       "           Рекламные сервисы Avito                    46.330275\n",
       "           Технические вопросы                        76.800771\n",
       "2015-11    Безопасность на Avito                      62.131519\n",
       "           Блокировки и отклонения                    59.139291\n",
       "           Магазины, Автозагрузка и юридические лица  65.552699\n",
       "           Мобильный Avito                            67.605634\n",
       "           Платные услуги и сервисы                   51.246776\n",
       "           Работа с объявлениями и личным кабинетом   72.324793\n",
       "           Рекламные сервисы Avito                    53.846154\n",
       "           Технические вопросы                        79.380429\n",
       "2015-12    Безопасность на Avito                      65.625000\n",
       "           Блокировки и отклонения                    53.428054\n",
       "           Магазины, Автозагрузка и юридические лица  64.117647\n",
       "           Мобильный Avito                            75.280899\n",
       "           Платные услуги и сервисы                   58.025789\n",
       "           Работа с объявлениями и личным кабинетом   72.964489\n",
       "           Рекламные сервисы Avito                    60.743802\n",
       "           Технические вопросы                        78.757891"
      ]
     },
     "execution_count": 205,
     "metadata": {},
     "output_type": "execute_result"
    }
   ],
   "source": [
    "temp"
   ]
  },
  {
   "cell_type": "code",
   "execution_count": 206,
   "metadata": {},
   "outputs": [
    {
     "data": {
      "image/png": "[encoded data removed]",
      "text/plain": [
       "<Figure size 1080x576 with 1 Axes>"
      ]
     },
     "metadata": {
      "needs_background": "light"
     },
     "output_type": "display_data"
    }
   ],
   "source": [
    "ax = temp.unstack().plot(kind='bar', legend=False)\n",
    "#plt.setp(ax.get_legend().get_texts(), fontsize='10')\n",
    "#plt.legend(bbox_to_anchor=(1.05, 1), loc=2, borderaxespad=0.)\n",
    "ax.set(xlabel='Месяц', ylabel='Процент положительных отзывов')\n",
    "plt.show()"
   ]
  },
  {
   "cell_type": "markdown",
   "metadata": {},
   "source": [
    "# With predict"
   ]
  },
  {
   "cell_type": "code",
   "execution_count": 207,
   "metadata": {},
   "outputs": [],
   "source": [
    "from joblib import dump, load\n",
    "clf = load('rf4.joblib')"
   ]
  },
  {
   "cell_type": "code",
   "execution_count": 270,
   "metadata": {},
   "outputs": [
    {
     "data": {
      "text/html": [
       "<div>\n",
       "<style scoped>\n",
       "    .dataframe tbody tr th:only-of-type {\n",
       "        vertical-align: middle;\n",
       "    }\n",
       "\n",
       "    .dataframe tbody tr th {\n",
       "        vertical-align: top;\n",
       "    }\n",
       "\n",
       "    .dataframe thead th {\n",
       "        text-align: right;\n",
       "    }\n",
       "</style>\n",
       "<table border=\"1\" class=\"dataframe\">\n",
       "  <thead>\n",
       "    <tr style=\"text-align: right;\">\n",
       "      <th></th>\n",
       "      <th>Безопасность на Avito</th>\n",
       "      <th>Блокировки и отклонения</th>\n",
       "      <th>Магазины, Автозагрузка и юридические лица</th>\n",
       "      <th>Мобильный Avito</th>\n",
       "      <th>Платные услуги и сервисы</th>\n",
       "      <th>Работа с объявлениями и личным кабинетом</th>\n",
       "      <th>Рекламные сервисы Avito</th>\n",
       "      <th>Технические вопросы</th>\n",
       "      <th>result_mentioned_by_user</th>\n",
       "      <th>time_answer</th>\n",
       "      <th>...</th>\n",
       "      <th>Пополнение кошелька</th>\n",
       "      <th>Проблема с отправкой сообщений</th>\n",
       "      <th>Регистрация учетной записи</th>\n",
       "      <th>Редактирование объявления</th>\n",
       "      <th>Реквизиты организации</th>\n",
       "      <th>Снятие объявления с публикации</th>\n",
       "      <th>Создание кампании Avito Контекст</th>\n",
       "      <th>Создание кампании Avito Промо</th>\n",
       "      <th>Удаление учетной записи</th>\n",
       "      <th>Управление списками объявлений</th>\n",
       "    </tr>\n",
       "  </thead>\n",
       "  <tbody>\n",
       "    <tr>\n",
       "      <th>0</th>\n",
       "      <td>0</td>\n",
       "      <td>0</td>\n",
       "      <td>0</td>\n",
       "      <td>0</td>\n",
       "      <td>0</td>\n",
       "      <td>0</td>\n",
       "      <td>0</td>\n",
       "      <td>0</td>\n",
       "      <td>1</td>\n",
       "      <td>1.128340</td>\n",
       "      <td>...</td>\n",
       "      <td>0</td>\n",
       "      <td>0</td>\n",
       "      <td>0</td>\n",
       "      <td>0</td>\n",
       "      <td>0</td>\n",
       "      <td>0</td>\n",
       "      <td>0</td>\n",
       "      <td>0</td>\n",
       "      <td>0</td>\n",
       "      <td>0</td>\n",
       "    </tr>\n",
       "    <tr>\n",
       "      <th>1</th>\n",
       "      <td>0</td>\n",
       "      <td>0</td>\n",
       "      <td>0</td>\n",
       "      <td>0</td>\n",
       "      <td>0</td>\n",
       "      <td>0</td>\n",
       "      <td>0</td>\n",
       "      <td>0</td>\n",
       "      <td>-1</td>\n",
       "      <td>0.713697</td>\n",
       "      <td>...</td>\n",
       "      <td>0</td>\n",
       "      <td>0</td>\n",
       "      <td>0</td>\n",
       "      <td>0</td>\n",
       "      <td>0</td>\n",
       "      <td>0</td>\n",
       "      <td>0</td>\n",
       "      <td>0</td>\n",
       "      <td>0</td>\n",
       "      <td>0</td>\n",
       "    </tr>\n",
       "    <tr>\n",
       "      <th>2</th>\n",
       "      <td>0</td>\n",
       "      <td>0</td>\n",
       "      <td>0</td>\n",
       "      <td>0</td>\n",
       "      <td>0</td>\n",
       "      <td>0</td>\n",
       "      <td>0</td>\n",
       "      <td>0</td>\n",
       "      <td>-1</td>\n",
       "      <td>1.878974</td>\n",
       "      <td>...</td>\n",
       "      <td>0</td>\n",
       "      <td>0</td>\n",
       "      <td>0</td>\n",
       "      <td>0</td>\n",
       "      <td>0</td>\n",
       "      <td>0</td>\n",
       "      <td>0</td>\n",
       "      <td>0</td>\n",
       "      <td>0</td>\n",
       "      <td>0</td>\n",
       "    </tr>\n",
       "    <tr>\n",
       "      <th>3</th>\n",
       "      <td>0</td>\n",
       "      <td>0</td>\n",
       "      <td>0</td>\n",
       "      <td>1</td>\n",
       "      <td>0</td>\n",
       "      <td>0</td>\n",
       "      <td>0</td>\n",
       "      <td>0</td>\n",
       "      <td>-1</td>\n",
       "      <td>1.432448</td>\n",
       "      <td>...</td>\n",
       "      <td>0</td>\n",
       "      <td>0</td>\n",
       "      <td>0</td>\n",
       "      <td>0</td>\n",
       "      <td>0</td>\n",
       "      <td>0</td>\n",
       "      <td>0</td>\n",
       "      <td>0</td>\n",
       "      <td>0</td>\n",
       "      <td>0</td>\n",
       "    </tr>\n",
       "    <tr>\n",
       "      <th>4</th>\n",
       "      <td>0</td>\n",
       "      <td>0</td>\n",
       "      <td>0</td>\n",
       "      <td>0</td>\n",
       "      <td>0</td>\n",
       "      <td>0</td>\n",
       "      <td>0</td>\n",
       "      <td>0</td>\n",
       "      <td>-1</td>\n",
       "      <td>-0.208085</td>\n",
       "      <td>...</td>\n",
       "      <td>0</td>\n",
       "      <td>0</td>\n",
       "      <td>0</td>\n",
       "      <td>0</td>\n",
       "      <td>0</td>\n",
       "      <td>0</td>\n",
       "      <td>0</td>\n",
       "      <td>0</td>\n",
       "      <td>0</td>\n",
       "      <td>0</td>\n",
       "    </tr>\n",
       "  </tbody>\n",
       "</table>\n",
       "<p>5 rows × 65 columns</p>\n",
       "</div>"
      ],
      "text/plain": [
       "   Безопасность на Avito  Блокировки и отклонения  \\\n",
       "0                      0                        0   \n",
       "1                      0                        0   \n",
       "2                      0                        0   \n",
       "3                      0                        0   \n",
       "4                      0                        0   \n",
       "\n",
       "   Магазины, Автозагрузка и юридические лица  Мобильный Avito  \\\n",
       "0                                          0                0   \n",
       "1                                          0                0   \n",
       "2                                          0                0   \n",
       "3                                          0                1   \n",
       "4                                          0                0   \n",
       "\n",
       "   Платные услуги и сервисы  Работа с объявлениями и личным кабинетом  \\\n",
       "0                         0                                         0   \n",
       "1                         0                                         0   \n",
       "2                         0                                         0   \n",
       "3                         0                                         0   \n",
       "4                         0                                         0   \n",
       "\n",
       "   Рекламные сервисы Avito  Технические вопросы  result_mentioned_by_user  \\\n",
       "0                        0                    0                         1   \n",
       "1                        0                    0                        -1   \n",
       "2                        0                    0                        -1   \n",
       "3                        0                    0                        -1   \n",
       "4                        0                    0                        -1   \n",
       "\n",
       "   time_answer  ...  Пополнение кошелька  Проблема с отправкой сообщений  \\\n",
       "0     1.128340  ...                    0                               0   \n",
       "1     0.713697  ...                    0                               0   \n",
       "2     1.878974  ...                    0                               0   \n",
       "3     1.432448  ...                    0                               0   \n",
       "4    -0.208085  ...                    0                               0   \n",
       "\n",
       "   Регистрация учетной записи  Редактирование объявления  \\\n",
       "0                           0                          0   \n",
       "1                           0                          0   \n",
       "2                           0                          0   \n",
       "3                           0                          0   \n",
       "4                           0                          0   \n",
       "\n",
       "   Реквизиты организации  Снятие объявления с публикации  \\\n",
       "0                      0                               0   \n",
       "1                      0                               0   \n",
       "2                      0                               0   \n",
       "3                      0                               0   \n",
       "4                      0                               0   \n",
       "\n",
       "   Создание кампании Avito Контекст  Создание кампании Avito Промо  \\\n",
       "0                                 0                              0   \n",
       "1                                 0                              0   \n",
       "2                                 0                              0   \n",
       "3                                 0                              0   \n",
       "4                                 0                              0   \n",
       "\n",
       "   Удаление учетной записи  Управление списками объявлений  \n",
       "0                        0                               0  \n",
       "1                        0                               0  \n",
       "2                        0                               0  \n",
       "3                        0                               0  \n",
       "4                        0                               0  \n",
       "\n",
       "[5 rows x 65 columns]"
      ]
     },
     "execution_count": 270,
     "metadata": {},
     "output_type": "execute_result"
    }
   ],
   "source": [
    "tickets_binary = pd.read_csv('tickets_binary_full_another.csv')\n",
    "tickets_binary.head()"
   ]
  },
  {
   "cell_type": "code",
   "execution_count": 271,
   "metadata": {},
   "outputs": [],
   "source": [
    "X_control = tickets_binary[tickets_binary['result_mentioned_by_user'] == -1].drop('result_mentioned_by_user', axis=1)"
   ]
  },
  {
   "cell_type": "code",
   "execution_count": 210,
   "metadata": {},
   "outputs": [],
   "source": [
    "#y_pred = clf.predict(X_control)"
   ]
  },
  {
   "cell_type": "code",
   "execution_count": 272,
   "metadata": {},
   "outputs": [],
   "source": [
    "y_proba = clf.predict_proba(X_control)"
   ]
  },
  {
   "cell_type": "code",
   "execution_count": 273,
   "metadata": {},
   "outputs": [],
   "source": [
    "temp = [i for i in zip(y_proba[:,0], y_proba[:,1], y_pred)]"
   ]
  },
  {
   "cell_type": "code",
   "execution_count": 274,
   "metadata": {},
   "outputs": [
    {
     "data": {
      "text/html": [
       "<div>\n",
       "<style scoped>\n",
       "    .dataframe tbody tr th:only-of-type {\n",
       "        vertical-align: middle;\n",
       "    }\n",
       "\n",
       "    .dataframe tbody tr th {\n",
       "        vertical-align: top;\n",
       "    }\n",
       "\n",
       "    .dataframe thead th {\n",
       "        text-align: right;\n",
       "    }\n",
       "</style>\n",
       "<table border=\"1\" class=\"dataframe\">\n",
       "  <thead>\n",
       "    <tr style=\"text-align: right;\">\n",
       "      <th></th>\n",
       "      <th>proba_0</th>\n",
       "      <th>proba_1</th>\n",
       "      <th>y_pred</th>\n",
       "    </tr>\n",
       "  </thead>\n",
       "  <tbody>\n",
       "    <tr>\n",
       "      <th>0</th>\n",
       "      <td>0.353333</td>\n",
       "      <td>0.646667</td>\n",
       "      <td>1</td>\n",
       "    </tr>\n",
       "    <tr>\n",
       "      <th>1</th>\n",
       "      <td>0.410000</td>\n",
       "      <td>0.590000</td>\n",
       "      <td>1</td>\n",
       "    </tr>\n",
       "    <tr>\n",
       "      <th>2</th>\n",
       "      <td>0.370000</td>\n",
       "      <td>0.630000</td>\n",
       "      <td>1</td>\n",
       "    </tr>\n",
       "    <tr>\n",
       "      <th>3</th>\n",
       "      <td>0.366667</td>\n",
       "      <td>0.633333</td>\n",
       "      <td>1</td>\n",
       "    </tr>\n",
       "    <tr>\n",
       "      <th>4</th>\n",
       "      <td>0.023333</td>\n",
       "      <td>0.976667</td>\n",
       "      <td>1</td>\n",
       "    </tr>\n",
       "  </tbody>\n",
       "</table>\n",
       "</div>"
      ],
      "text/plain": [
       "    proba_0   proba_1  y_pred\n",
       "0  0.353333  0.646667       1\n",
       "1  0.410000  0.590000       1\n",
       "2  0.370000  0.630000       1\n",
       "3  0.366667  0.633333       1\n",
       "4  0.023333  0.976667       1"
      ]
     },
     "execution_count": 274,
     "metadata": {},
     "output_type": "execute_result"
    }
   ],
   "source": [
    "df = pd.DataFrame(temp, columns=['proba_0' , 'proba_1', 'y_pred'])\n",
    "df.head()"
   ]
  },
  {
   "cell_type": "code",
   "execution_count": 275,
   "metadata": {},
   "outputs": [],
   "source": [
    "df['predict_80_percent'] = np.copy(df['y_pred'])"
   ]
  },
  {
   "cell_type": "code",
   "execution_count": 276,
   "metadata": {},
   "outputs": [],
   "source": [
    "df['diff'] = abs(df['proba_0'] - df['proba_1'])"
   ]
  },
  {
   "cell_type": "code",
   "execution_count": 277,
   "metadata": {},
   "outputs": [
    {
     "data": {
      "text/html": [
       "<div>\n",
       "<style scoped>\n",
       "    .dataframe tbody tr th:only-of-type {\n",
       "        vertical-align: middle;\n",
       "    }\n",
       "\n",
       "    .dataframe tbody tr th {\n",
       "        vertical-align: top;\n",
       "    }\n",
       "\n",
       "    .dataframe thead th {\n",
       "        text-align: right;\n",
       "    }\n",
       "</style>\n",
       "<table border=\"1\" class=\"dataframe\">\n",
       "  <thead>\n",
       "    <tr style=\"text-align: right;\">\n",
       "      <th></th>\n",
       "      <th>proba_0</th>\n",
       "      <th>proba_1</th>\n",
       "      <th>y_pred</th>\n",
       "      <th>predict_80_percent</th>\n",
       "      <th>diff</th>\n",
       "    </tr>\n",
       "  </thead>\n",
       "  <tbody>\n",
       "    <tr>\n",
       "      <th>0</th>\n",
       "      <td>0.353333</td>\n",
       "      <td>0.646667</td>\n",
       "      <td>1</td>\n",
       "      <td>1</td>\n",
       "      <td>0.293333</td>\n",
       "    </tr>\n",
       "    <tr>\n",
       "      <th>1</th>\n",
       "      <td>0.410000</td>\n",
       "      <td>0.590000</td>\n",
       "      <td>1</td>\n",
       "      <td>1</td>\n",
       "      <td>0.180000</td>\n",
       "    </tr>\n",
       "    <tr>\n",
       "      <th>2</th>\n",
       "      <td>0.370000</td>\n",
       "      <td>0.630000</td>\n",
       "      <td>1</td>\n",
       "      <td>1</td>\n",
       "      <td>0.260000</td>\n",
       "    </tr>\n",
       "    <tr>\n",
       "      <th>3</th>\n",
       "      <td>0.366667</td>\n",
       "      <td>0.633333</td>\n",
       "      <td>1</td>\n",
       "      <td>1</td>\n",
       "      <td>0.266667</td>\n",
       "    </tr>\n",
       "    <tr>\n",
       "      <th>4</th>\n",
       "      <td>0.023333</td>\n",
       "      <td>0.976667</td>\n",
       "      <td>1</td>\n",
       "      <td>1</td>\n",
       "      <td>0.953333</td>\n",
       "    </tr>\n",
       "  </tbody>\n",
       "</table>\n",
       "</div>"
      ],
      "text/plain": [
       "    proba_0   proba_1  y_pred  predict_80_percent      diff\n",
       "0  0.353333  0.646667       1                   1  0.293333\n",
       "1  0.410000  0.590000       1                   1  0.180000\n",
       "2  0.370000  0.630000       1                   1  0.260000\n",
       "3  0.366667  0.633333       1                   1  0.266667\n",
       "4  0.023333  0.976667       1                   1  0.953333"
      ]
     },
     "execution_count": 277,
     "metadata": {},
     "output_type": "execute_result"
    }
   ],
   "source": [
    "df.head()"
   ]
  },
  {
   "cell_type": "code",
   "execution_count": 278,
   "metadata": {},
   "outputs": [],
   "source": [
    "df.loc[df[df['diff'] < 0.99].index] = -1"
   ]
  },
  {
   "cell_type": "code",
   "execution_count": 279,
   "metadata": {},
   "outputs": [
    {
     "data": {
      "text/plain": [
       "-1    260894\n",
       " 1     15117\n",
       " 0      1091\n",
       "Name: predict_80_percent, dtype: int64"
      ]
     },
     "execution_count": 279,
     "metadata": {},
     "output_type": "execute_result"
    }
   ],
   "source": [
    "df['predict_80_percent'].value_counts()"
   ]
  },
  {
   "cell_type": "code",
   "execution_count": 280,
   "metadata": {},
   "outputs": [
    {
     "data": {
      "text/html": [
       "<div>\n",
       "<style scoped>\n",
       "    .dataframe tbody tr th:only-of-type {\n",
       "        vertical-align: middle;\n",
       "    }\n",
       "\n",
       "    .dataframe tbody tr th {\n",
       "        vertical-align: top;\n",
       "    }\n",
       "\n",
       "    .dataframe thead th {\n",
       "        text-align: right;\n",
       "    }\n",
       "</style>\n",
       "<table border=\"1\" class=\"dataframe\">\n",
       "  <thead>\n",
       "    <tr style=\"text-align: right;\">\n",
       "      <th></th>\n",
       "      <th>proba_0</th>\n",
       "      <th>proba_1</th>\n",
       "      <th>y_pred</th>\n",
       "      <th>predict_80_percent</th>\n",
       "      <th>diff</th>\n",
       "    </tr>\n",
       "  </thead>\n",
       "  <tbody>\n",
       "  </tbody>\n",
       "</table>\n",
       "</div>"
      ],
      "text/plain": [
       "Empty DataFrame\n",
       "Columns: [proba_0, proba_1, y_pred, predict_80_percent, diff]\n",
       "Index: []"
      ]
     },
     "execution_count": 280,
     "metadata": {},
     "output_type": "execute_result"
    }
   ],
   "source": [
    "df[df['predict_80_percent'].isna()]"
   ]
  },
  {
   "cell_type": "code",
   "execution_count": 281,
   "metadata": {},
   "outputs": [],
   "source": [
    "predict_80_percent = df['predict_80_percent']"
   ]
  },
  {
   "cell_type": "code",
   "execution_count": 282,
   "metadata": {},
   "outputs": [
    {
     "data": {
      "text/plain": [
       "RangeIndex(start=0, stop=397522, step=1)"
      ]
     },
     "execution_count": 282,
     "metadata": {},
     "output_type": "execute_result"
    }
   ],
   "source": [
    "tickets_binary.index"
   ]
  },
  {
   "cell_type": "code",
   "execution_count": 283,
   "metadata": {},
   "outputs": [
    {
     "data": {
      "text/plain": [
       "RangeIndex(start=0, stop=397522, step=1)"
      ]
     },
     "execution_count": 283,
     "metadata": {},
     "output_type": "execute_result"
    }
   ],
   "source": [
    "tickets.index"
   ]
  },
  {
   "cell_type": "code",
   "execution_count": 284,
   "metadata": {},
   "outputs": [
    {
     "data": {
      "text/plain": [
       "-1    260894\n",
       " 1     15117\n",
       " 0      1091\n",
       "Name: predict_80_percent, dtype: int64"
      ]
     },
     "execution_count": 284,
     "metadata": {},
     "output_type": "execute_result"
    }
   ],
   "source": [
    "predict_80_percent.value_counts()"
   ]
  },
  {
   "cell_type": "code",
   "execution_count": 285,
   "metadata": {},
   "outputs": [],
   "source": [
    "X_control['result_mentioned_by_user']=list(predict_80_percent)"
   ]
  },
  {
   "cell_type": "code",
   "execution_count": 286,
   "metadata": {},
   "outputs": [
    {
     "data": {
      "text/plain": [
       "-1    260894\n",
       " 1     15117\n",
       " 0      1091\n",
       "Name: result_mentioned_by_user, dtype: int64"
      ]
     },
     "execution_count": 286,
     "metadata": {},
     "output_type": "execute_result"
    }
   ],
   "source": [
    "X_control['result_mentioned_by_user'].value_counts()"
   ]
  },
  {
   "cell_type": "code",
   "execution_count": 287,
   "metadata": {},
   "outputs": [],
   "source": [
    "X_control['result_mentioned_by_user'] = X_control['result_mentioned_by_user'].apply(lambda x: int(x))"
   ]
  },
  {
   "cell_type": "code",
   "execution_count": 288,
   "metadata": {},
   "outputs": [
    {
     "data": {
      "text/html": [
       "<div>\n",
       "<style scoped>\n",
       "    .dataframe tbody tr th:only-of-type {\n",
       "        vertical-align: middle;\n",
       "    }\n",
       "\n",
       "    .dataframe tbody tr th {\n",
       "        vertical-align: top;\n",
       "    }\n",
       "\n",
       "    .dataframe thead th {\n",
       "        text-align: right;\n",
       "    }\n",
       "</style>\n",
       "<table border=\"1\" class=\"dataframe\">\n",
       "  <thead>\n",
       "    <tr style=\"text-align: right;\">\n",
       "      <th></th>\n",
       "      <th>Безопасность на Avito</th>\n",
       "      <th>Блокировки и отклонения</th>\n",
       "      <th>Магазины, Автозагрузка и юридические лица</th>\n",
       "      <th>Мобильный Avito</th>\n",
       "      <th>Платные услуги и сервисы</th>\n",
       "      <th>Работа с объявлениями и личным кабинетом</th>\n",
       "      <th>Рекламные сервисы Avito</th>\n",
       "      <th>Технические вопросы</th>\n",
       "      <th>time_answer</th>\n",
       "      <th>hour_of_start</th>\n",
       "      <th>...</th>\n",
       "      <th>Проблема с отправкой сообщений</th>\n",
       "      <th>Регистрация учетной записи</th>\n",
       "      <th>Редактирование объявления</th>\n",
       "      <th>Реквизиты организации</th>\n",
       "      <th>Снятие объявления с публикации</th>\n",
       "      <th>Создание кампании Avito Контекст</th>\n",
       "      <th>Создание кампании Avito Промо</th>\n",
       "      <th>Удаление учетной записи</th>\n",
       "      <th>Управление списками объявлений</th>\n",
       "      <th>result_mentioned_by_user</th>\n",
       "    </tr>\n",
       "  </thead>\n",
       "  <tbody>\n",
       "    <tr>\n",
       "      <th>1</th>\n",
       "      <td>0</td>\n",
       "      <td>0</td>\n",
       "      <td>0</td>\n",
       "      <td>0</td>\n",
       "      <td>0</td>\n",
       "      <td>0</td>\n",
       "      <td>0</td>\n",
       "      <td>0</td>\n",
       "      <td>0.713697</td>\n",
       "      <td>8</td>\n",
       "      <td>...</td>\n",
       "      <td>0</td>\n",
       "      <td>0</td>\n",
       "      <td>0</td>\n",
       "      <td>0</td>\n",
       "      <td>0</td>\n",
       "      <td>0</td>\n",
       "      <td>0</td>\n",
       "      <td>0</td>\n",
       "      <td>0</td>\n",
       "      <td>-1</td>\n",
       "    </tr>\n",
       "    <tr>\n",
       "      <th>2</th>\n",
       "      <td>0</td>\n",
       "      <td>0</td>\n",
       "      <td>0</td>\n",
       "      <td>0</td>\n",
       "      <td>0</td>\n",
       "      <td>0</td>\n",
       "      <td>0</td>\n",
       "      <td>0</td>\n",
       "      <td>1.878974</td>\n",
       "      <td>19</td>\n",
       "      <td>...</td>\n",
       "      <td>0</td>\n",
       "      <td>0</td>\n",
       "      <td>0</td>\n",
       "      <td>0</td>\n",
       "      <td>0</td>\n",
       "      <td>0</td>\n",
       "      <td>0</td>\n",
       "      <td>0</td>\n",
       "      <td>0</td>\n",
       "      <td>-1</td>\n",
       "    </tr>\n",
       "    <tr>\n",
       "      <th>3</th>\n",
       "      <td>0</td>\n",
       "      <td>0</td>\n",
       "      <td>0</td>\n",
       "      <td>1</td>\n",
       "      <td>0</td>\n",
       "      <td>0</td>\n",
       "      <td>0</td>\n",
       "      <td>0</td>\n",
       "      <td>1.432448</td>\n",
       "      <td>17</td>\n",
       "      <td>...</td>\n",
       "      <td>0</td>\n",
       "      <td>0</td>\n",
       "      <td>0</td>\n",
       "      <td>0</td>\n",
       "      <td>0</td>\n",
       "      <td>0</td>\n",
       "      <td>0</td>\n",
       "      <td>0</td>\n",
       "      <td>0</td>\n",
       "      <td>-1</td>\n",
       "    </tr>\n",
       "    <tr>\n",
       "      <th>4</th>\n",
       "      <td>0</td>\n",
       "      <td>0</td>\n",
       "      <td>0</td>\n",
       "      <td>0</td>\n",
       "      <td>0</td>\n",
       "      <td>0</td>\n",
       "      <td>0</td>\n",
       "      <td>0</td>\n",
       "      <td>-0.208085</td>\n",
       "      <td>10</td>\n",
       "      <td>...</td>\n",
       "      <td>0</td>\n",
       "      <td>0</td>\n",
       "      <td>0</td>\n",
       "      <td>0</td>\n",
       "      <td>0</td>\n",
       "      <td>0</td>\n",
       "      <td>0</td>\n",
       "      <td>0</td>\n",
       "      <td>0</td>\n",
       "      <td>-1</td>\n",
       "    </tr>\n",
       "    <tr>\n",
       "      <th>5</th>\n",
       "      <td>0</td>\n",
       "      <td>0</td>\n",
       "      <td>0</td>\n",
       "      <td>0</td>\n",
       "      <td>0</td>\n",
       "      <td>0</td>\n",
       "      <td>0</td>\n",
       "      <td>0</td>\n",
       "      <td>-0.391670</td>\n",
       "      <td>6</td>\n",
       "      <td>...</td>\n",
       "      <td>0</td>\n",
       "      <td>0</td>\n",
       "      <td>0</td>\n",
       "      <td>0</td>\n",
       "      <td>0</td>\n",
       "      <td>0</td>\n",
       "      <td>0</td>\n",
       "      <td>0</td>\n",
       "      <td>0</td>\n",
       "      <td>-1</td>\n",
       "    </tr>\n",
       "  </tbody>\n",
       "</table>\n",
       "<p>5 rows × 65 columns</p>\n",
       "</div>"
      ],
      "text/plain": [
       "   Безопасность на Avito  Блокировки и отклонения  \\\n",
       "1                      0                        0   \n",
       "2                      0                        0   \n",
       "3                      0                        0   \n",
       "4                      0                        0   \n",
       "5                      0                        0   \n",
       "\n",
       "   Магазины, Автозагрузка и юридические лица  Мобильный Avito  \\\n",
       "1                                          0                0   \n",
       "2                                          0                0   \n",
       "3                                          0                1   \n",
       "4                                          0                0   \n",
       "5                                          0                0   \n",
       "\n",
       "   Платные услуги и сервисы  Работа с объявлениями и личным кабинетом  \\\n",
       "1                         0                                         0   \n",
       "2                         0                                         0   \n",
       "3                         0                                         0   \n",
       "4                         0                                         0   \n",
       "5                         0                                         0   \n",
       "\n",
       "   Рекламные сервисы Avito  Технические вопросы  time_answer  hour_of_start  \\\n",
       "1                        0                    0     0.713697              8   \n",
       "2                        0                    0     1.878974             19   \n",
       "3                        0                    0     1.432448             17   \n",
       "4                        0                    0    -0.208085             10   \n",
       "5                        0                    0    -0.391670              6   \n",
       "\n",
       "   ...  Проблема с отправкой сообщений  Регистрация учетной записи  \\\n",
       "1  ...                               0                           0   \n",
       "2  ...                               0                           0   \n",
       "3  ...                               0                           0   \n",
       "4  ...                               0                           0   \n",
       "5  ...                               0                           0   \n",
       "\n",
       "   Редактирование объявления  Реквизиты организации  \\\n",
       "1                          0                      0   \n",
       "2                          0                      0   \n",
       "3                          0                      0   \n",
       "4                          0                      0   \n",
       "5                          0                      0   \n",
       "\n",
       "   Снятие объявления с публикации  Создание кампании Avito Контекст  \\\n",
       "1                               0                                 0   \n",
       "2                               0                                 0   \n",
       "3                               0                                 0   \n",
       "4                               0                                 0   \n",
       "5                               0                                 0   \n",
       "\n",
       "   Создание кампании Avito Промо  Удаление учетной записи  \\\n",
       "1                              0                        0   \n",
       "2                              0                        0   \n",
       "3                              0                        0   \n",
       "4                              0                        0   \n",
       "5                              0                        0   \n",
       "\n",
       "   Управление списками объявлений  result_mentioned_by_user  \n",
       "1                               0                        -1  \n",
       "2                               0                        -1  \n",
       "3                               0                        -1  \n",
       "4                               0                        -1  \n",
       "5                               0                        -1  \n",
       "\n",
       "[5 rows x 65 columns]"
      ]
     },
     "execution_count": 288,
     "metadata": {},
     "output_type": "execute_result"
    }
   ],
   "source": [
    "X_control.head()"
   ]
  },
  {
   "cell_type": "code",
   "execution_count": 289,
   "metadata": {},
   "outputs": [
    {
     "data": {
      "text/plain": [
       "-1    260894\n",
       " 1     15117\n",
       " 0      1091\n",
       "Name: result_mentioned_by_user, dtype: int64"
      ]
     },
     "execution_count": 289,
     "metadata": {},
     "output_type": "execute_result"
    }
   ],
   "source": [
    "X_control['result_mentioned_by_user'].value_counts()"
   ]
  },
  {
   "cell_type": "code",
   "execution_count": 290,
   "metadata": {},
   "outputs": [],
   "source": [
    "to_binary ={'Хорошо': 'Положительный', 1: 'Положительный', 'Отлично': 'Положительный', 'Нейтрально': 'неположительный',\n",
    "       'Не удовлетворительно': 'неположительный', 'Удовлетворительно': 'неположительный', 0: 'неположительный', -1:'Нет отзыва'}"
   ]
  },
  {
   "cell_type": "code",
   "execution_count": 291,
   "metadata": {},
   "outputs": [],
   "source": [
    "tickets['negative'] = np.copy(tickets['result_mentioned_by_user'])"
   ]
  },
  {
   "cell_type": "code",
   "execution_count": 292,
   "metadata": {},
   "outputs": [
    {
     "name": "stderr",
     "output_type": "stream",
     "text": [
      "c:\\users\\kiril\\pycharmprojects\\avito_test\\venv\\lib\\site-packages\\pandas\\core\\indexing.py:671: SettingWithCopyWarning: \n",
      "A value is trying to be set on a copy of a slice from a DataFrame\n",
      "\n",
      "See the caveats in the documentation: https://pandas.pydata.org/pandas-docs/stable/user_guide/indexing.html#returning-a-view-versus-a-copy\n",
      "  self._setitem_with_indexer(indexer, value)\n"
     ]
    }
   ],
   "source": [
    "tickets['negative'].iloc[X_control.index] = np.copy(X_control['result_mentioned_by_user'])"
   ]
  },
  {
   "cell_type": "code",
   "execution_count": 293,
   "metadata": {},
   "outputs": [],
   "source": [
    "tickets['negative']=tickets['negative'].apply(lambda x: to_binary[x])"
   ]
  },
  {
   "cell_type": "code",
   "execution_count": 294,
   "metadata": {},
   "outputs": [
    {
     "data": {
      "text/html": [
       "<div>\n",
       "<style scoped>\n",
       "    .dataframe tbody tr th:only-of-type {\n",
       "        vertical-align: middle;\n",
       "    }\n",
       "\n",
       "    .dataframe tbody tr th {\n",
       "        vertical-align: top;\n",
       "    }\n",
       "\n",
       "    .dataframe thead th {\n",
       "        text-align: right;\n",
       "    }\n",
       "</style>\n",
       "<table border=\"1\" class=\"dataframe\">\n",
       "  <thead>\n",
       "    <tr style=\"text-align: right;\">\n",
       "      <th></th>\n",
       "      <th>user_id</th>\n",
       "      <th>ticket_category</th>\n",
       "      <th>ticket_subcategory</th>\n",
       "      <th>current_state</th>\n",
       "      <th>request_id</th>\n",
       "      <th>activity_start_dt</th>\n",
       "      <th>fact_reaction_dt</th>\n",
       "      <th>result_mentioned_by_user</th>\n",
       "      <th>time_answer</th>\n",
       "      <th>time_answer_days</th>\n",
       "      <th>...</th>\n",
       "      <th>Не удовлетворительно</th>\n",
       "      <th>Удовлетворительно</th>\n",
       "      <th>Нейтрально</th>\n",
       "      <th>Хорошо</th>\n",
       "      <th>Отлично</th>\n",
       "      <th>Нет отзыва</th>\n",
       "      <th>time_answer_standart</th>\n",
       "      <th>month_year</th>\n",
       "      <th>month_year_answer</th>\n",
       "      <th>negative</th>\n",
       "    </tr>\n",
       "  </thead>\n",
       "  <tbody>\n",
       "    <tr>\n",
       "      <th>0</th>\n",
       "      <td>370 518 212</td>\n",
       "      <td>Технические вопросы</td>\n",
       "      <td>Доступ к сайту</td>\n",
       "      <td>Решено</td>\n",
       "      <td>045be6ac-d532-4c20-b1c9-fb82c1737464</td>\n",
       "      <td>2015-11-26 22:56:00</td>\n",
       "      <td>2015-12-03 12:11:00</td>\n",
       "      <td>Хорошо</td>\n",
       "      <td>6 days 13:15:00</td>\n",
       "      <td>7</td>\n",
       "      <td>...</td>\n",
       "      <td>0</td>\n",
       "      <td>0</td>\n",
       "      <td>0</td>\n",
       "      <td>0</td>\n",
       "      <td>0</td>\n",
       "      <td>1</td>\n",
       "      <td>1.128340</td>\n",
       "      <td>2015-11</td>\n",
       "      <td>2015-12</td>\n",
       "      <td>Положительный</td>\n",
       "    </tr>\n",
       "    <tr>\n",
       "      <th>1</th>\n",
       "      <td>2 138 799</td>\n",
       "      <td>Технические вопросы</td>\n",
       "      <td>Доступ к сайту</td>\n",
       "      <td>Решено</td>\n",
       "      <td>8ebbb8c6-7abb-4fad-a83b-35a71a83a186</td>\n",
       "      <td>2015-12-18 08:52:00</td>\n",
       "      <td>2015-12-23 06:40:00</td>\n",
       "      <td>Нет отзыва</td>\n",
       "      <td>4 days 21:48:00</td>\n",
       "      <td>5</td>\n",
       "      <td>...</td>\n",
       "      <td>0</td>\n",
       "      <td>0</td>\n",
       "      <td>0</td>\n",
       "      <td>0</td>\n",
       "      <td>0</td>\n",
       "      <td>0</td>\n",
       "      <td>0.713697</td>\n",
       "      <td>2015-12</td>\n",
       "      <td>2015-12</td>\n",
       "      <td>Нет отзыва</td>\n",
       "    </tr>\n",
       "    <tr>\n",
       "      <th>2</th>\n",
       "      <td>2 033 101</td>\n",
       "      <td>Технические вопросы</td>\n",
       "      <td>Доступ к сайту</td>\n",
       "      <td>Решено</td>\n",
       "      <td>ee303751-4a21-4544-a4c3-56924c088028</td>\n",
       "      <td>2015-12-16 19:06:00</td>\n",
       "      <td>2015-12-26 07:46:00</td>\n",
       "      <td>Нет отзыва</td>\n",
       "      <td>9 days 12:40:00</td>\n",
       "      <td>9</td>\n",
       "      <td>...</td>\n",
       "      <td>0</td>\n",
       "      <td>0</td>\n",
       "      <td>0</td>\n",
       "      <td>0</td>\n",
       "      <td>0</td>\n",
       "      <td>0</td>\n",
       "      <td>1.878974</td>\n",
       "      <td>2015-12</td>\n",
       "      <td>2015-12</td>\n",
       "      <td>Нет отзыва</td>\n",
       "    </tr>\n",
       "    <tr>\n",
       "      <th>3</th>\n",
       "      <td>177 122 000 003</td>\n",
       "      <td>Мобильный Avito</td>\n",
       "      <td>Android приложение</td>\n",
       "      <td>Решено</td>\n",
       "      <td>bb989fcb-277a-41bd-aaa2-f131333b629e</td>\n",
       "      <td>2015-12-01 17:08:00</td>\n",
       "      <td>2015-12-09 11:19:00</td>\n",
       "      <td>Нет отзыва</td>\n",
       "      <td>7 days 18:11:00</td>\n",
       "      <td>7</td>\n",
       "      <td>...</td>\n",
       "      <td>0</td>\n",
       "      <td>0</td>\n",
       "      <td>0</td>\n",
       "      <td>0</td>\n",
       "      <td>0</td>\n",
       "      <td>0</td>\n",
       "      <td>1.432448</td>\n",
       "      <td>2015-12</td>\n",
       "      <td>2015-12</td>\n",
       "      <td>Нет отзыва</td>\n",
       "    </tr>\n",
       "    <tr>\n",
       "      <th>4</th>\n",
       "      <td>37 340 500 064</td>\n",
       "      <td>Технические вопросы</td>\n",
       "      <td>Доступ к сайту</td>\n",
       "      <td>Решено</td>\n",
       "      <td>e742d172-0ef1-47d8-b862-25be082d8bc0</td>\n",
       "      <td>2015-12-14 10:08:00</td>\n",
       "      <td>2015-12-15 16:14:00</td>\n",
       "      <td>Нет отзыва</td>\n",
       "      <td>1 days 06:06:00</td>\n",
       "      <td>2</td>\n",
       "      <td>...</td>\n",
       "      <td>0</td>\n",
       "      <td>0</td>\n",
       "      <td>0</td>\n",
       "      <td>0</td>\n",
       "      <td>0</td>\n",
       "      <td>0</td>\n",
       "      <td>-0.208085</td>\n",
       "      <td>2015-12</td>\n",
       "      <td>2015-12</td>\n",
       "      <td>Нет отзыва</td>\n",
       "    </tr>\n",
       "  </tbody>\n",
       "</table>\n",
       "<p>5 rows × 23 columns</p>\n",
       "</div>"
      ],
      "text/plain": [
       "           user_id      ticket_category  ticket_subcategory current_state  \\\n",
       "0      370 518 212  Технические вопросы      Доступ к сайту        Решено   \n",
       "1        2 138 799  Технические вопросы      Доступ к сайту        Решено   \n",
       "2        2 033 101  Технические вопросы      Доступ к сайту        Решено   \n",
       "3  177 122 000 003      Мобильный Avito  Android приложение        Решено   \n",
       "4   37 340 500 064  Технические вопросы      Доступ к сайту        Решено   \n",
       "\n",
       "                             request_id   activity_start_dt  \\\n",
       "0  045be6ac-d532-4c20-b1c9-fb82c1737464 2015-11-26 22:56:00   \n",
       "1  8ebbb8c6-7abb-4fad-a83b-35a71a83a186 2015-12-18 08:52:00   \n",
       "2  ee303751-4a21-4544-a4c3-56924c088028 2015-12-16 19:06:00   \n",
       "3  bb989fcb-277a-41bd-aaa2-f131333b629e 2015-12-01 17:08:00   \n",
       "4  e742d172-0ef1-47d8-b862-25be082d8bc0 2015-12-14 10:08:00   \n",
       "\n",
       "     fact_reaction_dt result_mentioned_by_user     time_answer  \\\n",
       "0 2015-12-03 12:11:00                   Хорошо 6 days 13:15:00   \n",
       "1 2015-12-23 06:40:00               Нет отзыва 4 days 21:48:00   \n",
       "2 2015-12-26 07:46:00               Нет отзыва 9 days 12:40:00   \n",
       "3 2015-12-09 11:19:00               Нет отзыва 7 days 18:11:00   \n",
       "4 2015-12-15 16:14:00               Нет отзыва 1 days 06:06:00   \n",
       "\n",
       "   time_answer_days  ...  Не удовлетворительно  Удовлетворительно  Нейтрально  \\\n",
       "0                 7  ...                     0                  0           0   \n",
       "1                 5  ...                     0                  0           0   \n",
       "2                 9  ...                     0                  0           0   \n",
       "3                 7  ...                     0                  0           0   \n",
       "4                 2  ...                     0                  0           0   \n",
       "\n",
       "   Хорошо  Отлично  Нет отзыва  time_answer_standart  month_year  \\\n",
       "0       0        0           1              1.128340     2015-11   \n",
       "1       0        0           0              0.713697     2015-12   \n",
       "2       0        0           0              1.878974     2015-12   \n",
       "3       0        0           0              1.432448     2015-12   \n",
       "4       0        0           0             -0.208085     2015-12   \n",
       "\n",
       "   month_year_answer       negative  \n",
       "0            2015-12  Положительный  \n",
       "1            2015-12     Нет отзыва  \n",
       "2            2015-12     Нет отзыва  \n",
       "3            2015-12     Нет отзыва  \n",
       "4            2015-12     Нет отзыва  \n",
       "\n",
       "[5 rows x 23 columns]"
      ]
     },
     "execution_count": 294,
     "metadata": {},
     "output_type": "execute_result"
    }
   ],
   "source": [
    "tickets.head()"
   ]
  },
  {
   "cell_type": "code",
   "execution_count": 295,
   "metadata": {},
   "outputs": [
    {
     "data": {
      "text/plain": [
       "Нет отзыва         260894\n",
       "Положительный       93421\n",
       "неположительный     43207\n",
       "Name: negative, dtype: int64"
      ]
     },
     "execution_count": 295,
     "metadata": {},
     "output_type": "execute_result"
    }
   ],
   "source": [
    "tickets['negative'].value_counts()"
   ]
  },
  {
   "cell_type": "code",
   "execution_count": 296,
   "metadata": {},
   "outputs": [
    {
     "data": {
      "text/plain": [
       "Нет отзыва              277102\n",
       "Отлично                  59749\n",
       "Не удовлетворительно     24509\n",
       "Хорошо                   18555\n",
       "Нейтрально               10578\n",
       "Удовлетворительно         7029\n",
       "Name: result_mentioned_by_user, dtype: int64"
      ]
     },
     "execution_count": 296,
     "metadata": {},
     "output_type": "execute_result"
    }
   ],
   "source": [
    "tickets['result_mentioned_by_user'].value_counts()"
   ]
  },
  {
   "cell_type": "code",
   "execution_count": 297,
   "metadata": {},
   "outputs": [],
   "source": [
    "good_index = (tickets['activity_start_dt']>='2015-09-01') & (tickets['negative'] == 'Положительный')\n",
    "good_df = tickets[good_index][['month_year', 'request_id']].groupby(['month_year']).count()"
   ]
  },
  {
   "cell_type": "code",
   "execution_count": 298,
   "metadata": {},
   "outputs": [],
   "source": [
    "all_index = (tickets['activity_start_dt']>='2015-09-01') & (tickets['negative'] != 'Нет отзыва')\n",
    "all_df = tickets[all_index][['month_year', 'request_id']].groupby(['month_year']).count()"
   ]
  },
  {
   "cell_type": "code",
   "execution_count": 299,
   "metadata": {},
   "outputs": [
    {
     "data": {
      "text/html": [
       "<div>\n",
       "<style scoped>\n",
       "    .dataframe tbody tr th:only-of-type {\n",
       "        vertical-align: middle;\n",
       "    }\n",
       "\n",
       "    .dataframe tbody tr th {\n",
       "        vertical-align: top;\n",
       "    }\n",
       "\n",
       "    .dataframe thead th {\n",
       "        text-align: right;\n",
       "    }\n",
       "</style>\n",
       "<table border=\"1\" class=\"dataframe\">\n",
       "  <thead>\n",
       "    <tr style=\"text-align: right;\">\n",
       "      <th></th>\n",
       "      <th>request_id</th>\n",
       "    </tr>\n",
       "    <tr>\n",
       "      <th>month_year</th>\n",
       "      <th></th>\n",
       "    </tr>\n",
       "  </thead>\n",
       "  <tbody>\n",
       "    <tr>\n",
       "      <th>2015-09</th>\n",
       "      <td>26287</td>\n",
       "    </tr>\n",
       "    <tr>\n",
       "      <th>2015-10</th>\n",
       "      <td>23926</td>\n",
       "    </tr>\n",
       "    <tr>\n",
       "      <th>2015-11</th>\n",
       "      <td>21461</td>\n",
       "    </tr>\n",
       "    <tr>\n",
       "      <th>2015-12</th>\n",
       "      <td>21745</td>\n",
       "    </tr>\n",
       "  </tbody>\n",
       "</table>\n",
       "</div>"
      ],
      "text/plain": [
       "            request_id\n",
       "month_year            \n",
       "2015-09          26287\n",
       "2015-10          23926\n",
       "2015-11          21461\n",
       "2015-12          21745"
      ]
     },
     "execution_count": 299,
     "metadata": {},
     "output_type": "execute_result"
    }
   ],
   "source": [
    "good_df"
   ]
  },
  {
   "cell_type": "code",
   "execution_count": 300,
   "metadata": {},
   "outputs": [],
   "source": [
    "SCAT = []\n",
    "for i in good_df.index:\n",
    "    SCAT.append(good_df[str(i)].values[0][0]/all_df[str(i)].values[0][0]*100)"
   ]
  },
  {
   "cell_type": "code",
   "execution_count": 301,
   "metadata": {},
   "outputs": [
    {
     "data": {
      "text/plain": [
       "[73.3761339846476, 66.42052079284882, 68.05670070400203, 65.40833208001203]"
      ]
     },
     "execution_count": 301,
     "metadata": {},
     "output_type": "execute_result"
    }
   ],
   "source": [
    "SCAT"
   ]
  },
  {
   "cell_type": "code",
   "execution_count": 302,
   "metadata": {},
   "outputs": [
    {
     "data": {
      "image/png": "[encoded data removed]",
      "text/plain": [
       "<Figure size 1080x576 with 1 Axes>"
      ]
     },
     "metadata": {
      "needs_background": "light"
     },
     "output_type": "display_data"
    }
   ],
   "source": [
    "fig, ax = plt.subplots()\n",
    "ax.bar(list(map(str,list(good_df.index))), SCAT)\n",
    "ax.set_xlabel('Месяц')\n",
    "ax.set_ylabel('Процент положительных отзывов')\n",
    "plt.xticks(list(map(str,list(good_df.index))))\n",
    "plt.show()"
   ]
  },
  {
   "cell_type": "code",
   "execution_count": 303,
   "metadata": {},
   "outputs": [],
   "source": [
    "index_add = (tickets['result_mentioned_by_user'] == 'Нет отзыва') & (tickets['negative'] != 'Нет отзыва')"
   ]
  },
  {
   "cell_type": "code",
   "execution_count": 304,
   "metadata": {},
   "outputs": [
    {
     "data": {
      "text/html": [
       "<div>\n",
       "<style scoped>\n",
       "    .dataframe tbody tr th:only-of-type {\n",
       "        vertical-align: middle;\n",
       "    }\n",
       "\n",
       "    .dataframe tbody tr th {\n",
       "        vertical-align: top;\n",
       "    }\n",
       "\n",
       "    .dataframe thead th {\n",
       "        text-align: right;\n",
       "    }\n",
       "</style>\n",
       "<table border=\"1\" class=\"dataframe\">\n",
       "  <thead>\n",
       "    <tr style=\"text-align: right;\">\n",
       "      <th></th>\n",
       "      <th>percent_of_positive</th>\n",
       "    </tr>\n",
       "  </thead>\n",
       "  <tbody>\n",
       "    <tr>\n",
       "      <th>2015-09</th>\n",
       "      <td>73.376134</td>\n",
       "    </tr>\n",
       "    <tr>\n",
       "      <th>2015-10</th>\n",
       "      <td>66.420521</td>\n",
       "    </tr>\n",
       "    <tr>\n",
       "      <th>2015-11</th>\n",
       "      <td>68.056701</td>\n",
       "    </tr>\n",
       "    <tr>\n",
       "      <th>2015-12</th>\n",
       "      <td>65.408332</td>\n",
       "    </tr>\n",
       "  </tbody>\n",
       "</table>\n",
       "</div>"
      ],
      "text/plain": [
       "         percent_of_positive\n",
       "2015-09            73.376134\n",
       "2015-10            66.420521\n",
       "2015-11            68.056701\n",
       "2015-12            65.408332"
      ]
     },
     "execution_count": 304,
     "metadata": {},
     "output_type": "execute_result"
    }
   ],
   "source": [
    "pd.DataFrame(data=SCAT, index=list(map(str,list(good_df.index))), columns=['percent_of_positive'])"
   ]
  },
  {
   "cell_type": "code",
   "execution_count": 258,
   "metadata": {},
   "outputs": [
    {
     "data": {
      "text/html": [
       "<div>\n",
       "<style scoped>\n",
       "    .dataframe tbody tr th:only-of-type {\n",
       "        vertical-align: middle;\n",
       "    }\n",
       "\n",
       "    .dataframe tbody tr th {\n",
       "        vertical-align: top;\n",
       "    }\n",
       "\n",
       "    .dataframe thead th {\n",
       "        text-align: right;\n",
       "    }\n",
       "</style>\n",
       "<table border=\"1\" class=\"dataframe\">\n",
       "  <thead>\n",
       "    <tr style=\"text-align: right;\">\n",
       "      <th></th>\n",
       "      <th>request_id</th>\n",
       "    </tr>\n",
       "    <tr>\n",
       "      <th>month_year_answer</th>\n",
       "      <th></th>\n",
       "    </tr>\n",
       "  </thead>\n",
       "  <tbody>\n",
       "    <tr>\n",
       "      <th>2015-09</th>\n",
       "      <td>66558</td>\n",
       "    </tr>\n",
       "    <tr>\n",
       "      <th>2015-10</th>\n",
       "      <td>70370</td>\n",
       "    </tr>\n",
       "    <tr>\n",
       "      <th>2015-11</th>\n",
       "      <td>67555</td>\n",
       "    </tr>\n",
       "    <tr>\n",
       "      <th>2015-12</th>\n",
       "      <td>72619</td>\n",
       "    </tr>\n",
       "  </tbody>\n",
       "</table>\n",
       "</div>"
      ],
      "text/plain": [
       "                   request_id\n",
       "month_year_answer            \n",
       "2015-09                 66558\n",
       "2015-10                 70370\n",
       "2015-11                 67555\n",
       "2015-12                 72619"
      ]
     },
     "execution_count": 258,
     "metadata": {},
     "output_type": "execute_result"
    }
   ],
   "source": [
    "tickets[tickets['result_mentioned_by_user'] == 'Нет отзыва'][['month_year_answer','request_id']].groupby('month_year_answer').count()"
   ]
  },
  {
   "cell_type": "code",
   "execution_count": 260,
   "metadata": {},
   "outputs": [
    {
     "data": {
      "text/html": [
       "<div>\n",
       "<style scoped>\n",
       "    .dataframe tbody tr th:only-of-type {\n",
       "        vertical-align: middle;\n",
       "    }\n",
       "\n",
       "    .dataframe tbody tr th {\n",
       "        vertical-align: top;\n",
       "    }\n",
       "\n",
       "    .dataframe thead th {\n",
       "        text-align: right;\n",
       "    }\n",
       "</style>\n",
       "<table border=\"1\" class=\"dataframe\">\n",
       "  <thead>\n",
       "    <tr style=\"text-align: right;\">\n",
       "      <th></th>\n",
       "      <th></th>\n",
       "      <th>request_id</th>\n",
       "    </tr>\n",
       "    <tr>\n",
       "      <th>month_year</th>\n",
       "      <th>negative</th>\n",
       "      <th></th>\n",
       "    </tr>\n",
       "  </thead>\n",
       "  <tbody>\n",
       "    <tr>\n",
       "      <th rowspan=\"2\" valign=\"top\">2015-09</th>\n",
       "      <th>Положительный</th>\n",
       "      <td>5817</td>\n",
       "    </tr>\n",
       "    <tr>\n",
       "      <th>неположительный</th>\n",
       "      <td>154</td>\n",
       "    </tr>\n",
       "    <tr>\n",
       "      <th rowspan=\"2\" valign=\"top\">2015-10</th>\n",
       "      <th>Положительный</th>\n",
       "      <td>3584</td>\n",
       "    </tr>\n",
       "    <tr>\n",
       "      <th>неположительный</th>\n",
       "      <td>378</td>\n",
       "    </tr>\n",
       "    <tr>\n",
       "      <th rowspan=\"2\" valign=\"top\">2015-11</th>\n",
       "      <th>Положительный</th>\n",
       "      <td>2880</td>\n",
       "    </tr>\n",
       "    <tr>\n",
       "      <th>неположительный</th>\n",
       "      <td>271</td>\n",
       "    </tr>\n",
       "    <tr>\n",
       "      <th rowspan=\"2\" valign=\"top\">2015-12</th>\n",
       "      <th>Положительный</th>\n",
       "      <td>2836</td>\n",
       "    </tr>\n",
       "    <tr>\n",
       "      <th>неположительный</th>\n",
       "      <td>288</td>\n",
       "    </tr>\n",
       "  </tbody>\n",
       "</table>\n",
       "</div>"
      ],
      "text/plain": [
       "                            request_id\n",
       "month_year negative                   \n",
       "2015-09    Положительный          5817\n",
       "           неположительный         154\n",
       "2015-10    Положительный          3584\n",
       "           неположительный         378\n",
       "2015-11    Положительный          2880\n",
       "           неположительный         271\n",
       "2015-12    Положительный          2836\n",
       "           неположительный         288"
      ]
     },
     "execution_count": 260,
     "metadata": {},
     "output_type": "execute_result"
    }
   ],
   "source": [
    "tickets[index_add][['month_year','request_id','negative']].groupby(['month_year', 'negative']).count()"
   ]
  },
  {
   "cell_type": "markdown",
   "metadata": {},
   "source": [
    "# Оценка средней лояльности пользователей по кол-ву отзывов"
   ]
  },
  {
   "cell_type": "code",
   "execution_count": 309,
   "metadata": {},
   "outputs": [],
   "source": [
    "to_scale ={'Хорошо': 4, 'Отлично': 5, 'Нейтрально': 3,\n",
    "       'Не удовлетворительно': 1, 'Удовлетворительно': 2}"
   ]
  },
  {
   "cell_type": "code",
   "execution_count": 308,
   "metadata": {},
   "outputs": [],
   "source": [
    "tickets_with_score = tickets[tickets['result_mentioned_by_user'] != 'Нет отзыва']"
   ]
  },
  {
   "cell_type": "code",
   "execution_count": 310,
   "metadata": {},
   "outputs": [
    {
     "name": "stderr",
     "output_type": "stream",
     "text": [
      "c:\\users\\kiril\\pycharmprojects\\avito_test\\venv\\lib\\site-packages\\ipykernel_launcher.py:1: SettingWithCopyWarning: \n",
      "A value is trying to be set on a copy of a slice from a DataFrame.\n",
      "Try using .loc[row_indexer,col_indexer] = value instead\n",
      "\n",
      "See the caveats in the documentation: https://pandas.pydata.org/pandas-docs/stable/user_guide/indexing.html#returning-a-view-versus-a-copy\n",
      "  \"\"\"Entry point for launching an IPython kernel.\n"
     ]
    }
   ],
   "source": [
    "tickets_with_score['scale'] = tickets_with_score['result_mentioned_by_user'].apply(lambda x: to_scale[x])"
   ]
  },
  {
   "cell_type": "code",
   "execution_count": 313,
   "metadata": {},
   "outputs": [
    {
     "data": {
      "text/html": [
       "<div>\n",
       "<style scoped>\n",
       "    .dataframe tbody tr th:only-of-type {\n",
       "        vertical-align: middle;\n",
       "    }\n",
       "\n",
       "    .dataframe tbody tr th {\n",
       "        vertical-align: top;\n",
       "    }\n",
       "\n",
       "    .dataframe thead th {\n",
       "        text-align: right;\n",
       "    }\n",
       "</style>\n",
       "<table border=\"1\" class=\"dataframe\">\n",
       "  <thead>\n",
       "    <tr style=\"text-align: right;\">\n",
       "      <th></th>\n",
       "      <th>user_id</th>\n",
       "      <th>ticket_category</th>\n",
       "      <th>ticket_subcategory</th>\n",
       "      <th>current_state</th>\n",
       "      <th>request_id</th>\n",
       "      <th>activity_start_dt</th>\n",
       "      <th>fact_reaction_dt</th>\n",
       "      <th>result_mentioned_by_user</th>\n",
       "      <th>time_answer</th>\n",
       "      <th>time_answer_days</th>\n",
       "      <th>...</th>\n",
       "      <th>Удовлетворительно</th>\n",
       "      <th>Нейтрально</th>\n",
       "      <th>Хорошо</th>\n",
       "      <th>Отлично</th>\n",
       "      <th>Нет отзыва</th>\n",
       "      <th>time_answer_standart</th>\n",
       "      <th>month_year</th>\n",
       "      <th>month_year_answer</th>\n",
       "      <th>negative</th>\n",
       "      <th>scale</th>\n",
       "    </tr>\n",
       "  </thead>\n",
       "  <tbody>\n",
       "    <tr>\n",
       "      <th>0</th>\n",
       "      <td>370 518 212</td>\n",
       "      <td>Технические вопросы</td>\n",
       "      <td>Доступ к сайту</td>\n",
       "      <td>Решено</td>\n",
       "      <td>045be6ac-d532-4c20-b1c9-fb82c1737464</td>\n",
       "      <td>2015-11-26 22:56:00</td>\n",
       "      <td>2015-12-03 12:11:00</td>\n",
       "      <td>Хорошо</td>\n",
       "      <td>6 days 13:15:00</td>\n",
       "      <td>7</td>\n",
       "      <td>...</td>\n",
       "      <td>0</td>\n",
       "      <td>0</td>\n",
       "      <td>0</td>\n",
       "      <td>0</td>\n",
       "      <td>1</td>\n",
       "      <td>1.128340</td>\n",
       "      <td>2015-11</td>\n",
       "      <td>2015-12</td>\n",
       "      <td>Положительный</td>\n",
       "      <td>4</td>\n",
       "    </tr>\n",
       "    <tr>\n",
       "      <th>7</th>\n",
       "      <td>372 546 513</td>\n",
       "      <td>Технические вопросы</td>\n",
       "      <td>Загрузка фото</td>\n",
       "      <td>Решено</td>\n",
       "      <td>280bf0e6-6c0c-4eb1-b093-ac2eadd20cdb</td>\n",
       "      <td>2015-12-11 13:39:00</td>\n",
       "      <td>2015-12-16 05:20:00</td>\n",
       "      <td>Отлично</td>\n",
       "      <td>4 days 15:41:00</td>\n",
       "      <td>4</td>\n",
       "      <td>...</td>\n",
       "      <td>0</td>\n",
       "      <td>1</td>\n",
       "      <td>0</td>\n",
       "      <td>2</td>\n",
       "      <td>7</td>\n",
       "      <td>0.649407</td>\n",
       "      <td>2015-12</td>\n",
       "      <td>2015-12</td>\n",
       "      <td>Положительный</td>\n",
       "      <td>5</td>\n",
       "    </tr>\n",
       "    <tr>\n",
       "      <th>18</th>\n",
       "      <td>369 694 997</td>\n",
       "      <td>Технические вопросы</td>\n",
       "      <td>Доступ к сайту</td>\n",
       "      <td>Решено</td>\n",
       "      <td>045a97f4-4747-45e0-a3a9-441081e06c08</td>\n",
       "      <td>2015-12-17 22:46:00</td>\n",
       "      <td>2015-12-20 20:59:00</td>\n",
       "      <td>Отлично</td>\n",
       "      <td>2 days 22:13:00</td>\n",
       "      <td>3</td>\n",
       "      <td>...</td>\n",
       "      <td>0</td>\n",
       "      <td>0</td>\n",
       "      <td>0</td>\n",
       "      <td>0</td>\n",
       "      <td>0</td>\n",
       "      <td>0.213566</td>\n",
       "      <td>2015-12</td>\n",
       "      <td>2015-12</td>\n",
       "      <td>Положительный</td>\n",
       "      <td>5</td>\n",
       "    </tr>\n",
       "    <tr>\n",
       "      <th>25</th>\n",
       "      <td>3 254 820</td>\n",
       "      <td>Технические вопросы</td>\n",
       "      <td>Доступ к сайту</td>\n",
       "      <td>Решено</td>\n",
       "      <td>6d12e450-7aee-4842-b9cf-ee9a2824f892</td>\n",
       "      <td>2015-09-04 12:20:00</td>\n",
       "      <td>2015-09-05 10:02:00</td>\n",
       "      <td>Отлично</td>\n",
       "      <td>0 days 21:42:00</td>\n",
       "      <td>0</td>\n",
       "      <td>...</td>\n",
       "      <td>0</td>\n",
       "      <td>0</td>\n",
       "      <td>0</td>\n",
       "      <td>0</td>\n",
       "      <td>0</td>\n",
       "      <td>-0.296374</td>\n",
       "      <td>2015-09</td>\n",
       "      <td>2015-09</td>\n",
       "      <td>Положительный</td>\n",
       "      <td>5</td>\n",
       "    </tr>\n",
       "    <tr>\n",
       "      <th>26</th>\n",
       "      <td>366 077 368</td>\n",
       "      <td>Технические вопросы</td>\n",
       "      <td>Доступ к сайту</td>\n",
       "      <td>Решено</td>\n",
       "      <td>f25c8846-9e55-4b15-9a27-6e24ca9e7922</td>\n",
       "      <td>2015-11-11 10:54:00</td>\n",
       "      <td>2015-11-14 08:53:00</td>\n",
       "      <td>Хорошо</td>\n",
       "      <td>2 days 21:59:00</td>\n",
       "      <td>3</td>\n",
       "      <td>...</td>\n",
       "      <td>0</td>\n",
       "      <td>0</td>\n",
       "      <td>0</td>\n",
       "      <td>0</td>\n",
       "      <td>0</td>\n",
       "      <td>0.211114</td>\n",
       "      <td>2015-11</td>\n",
       "      <td>2015-11</td>\n",
       "      <td>Положительный</td>\n",
       "      <td>4</td>\n",
       "    </tr>\n",
       "  </tbody>\n",
       "</table>\n",
       "<p>5 rows × 24 columns</p>\n",
       "</div>"
      ],
      "text/plain": [
       "        user_id      ticket_category ticket_subcategory current_state  \\\n",
       "0   370 518 212  Технические вопросы     Доступ к сайту        Решено   \n",
       "7   372 546 513  Технические вопросы      Загрузка фото        Решено   \n",
       "18  369 694 997  Технические вопросы     Доступ к сайту        Решено   \n",
       "25    3 254 820  Технические вопросы     Доступ к сайту        Решено   \n",
       "26  366 077 368  Технические вопросы     Доступ к сайту        Решено   \n",
       "\n",
       "                              request_id   activity_start_dt  \\\n",
       "0   045be6ac-d532-4c20-b1c9-fb82c1737464 2015-11-26 22:56:00   \n",
       "7   280bf0e6-6c0c-4eb1-b093-ac2eadd20cdb 2015-12-11 13:39:00   \n",
       "18  045a97f4-4747-45e0-a3a9-441081e06c08 2015-12-17 22:46:00   \n",
       "25  6d12e450-7aee-4842-b9cf-ee9a2824f892 2015-09-04 12:20:00   \n",
       "26  f25c8846-9e55-4b15-9a27-6e24ca9e7922 2015-11-11 10:54:00   \n",
       "\n",
       "      fact_reaction_dt result_mentioned_by_user     time_answer  \\\n",
       "0  2015-12-03 12:11:00                   Хорошо 6 days 13:15:00   \n",
       "7  2015-12-16 05:20:00                  Отлично 4 days 15:41:00   \n",
       "18 2015-12-20 20:59:00                  Отлично 2 days 22:13:00   \n",
       "25 2015-09-05 10:02:00                  Отлично 0 days 21:42:00   \n",
       "26 2015-11-14 08:53:00                   Хорошо 2 days 21:59:00   \n",
       "\n",
       "    time_answer_days  ...  Удовлетворительно  Нейтрально  Хорошо  Отлично  \\\n",
       "0                  7  ...                  0           0       0        0   \n",
       "7                  4  ...                  0           1       0        2   \n",
       "18                 3  ...                  0           0       0        0   \n",
       "25                 0  ...                  0           0       0        0   \n",
       "26                 3  ...                  0           0       0        0   \n",
       "\n",
       "    Нет отзыва  time_answer_standart  month_year  month_year_answer  \\\n",
       "0            1              1.128340     2015-11            2015-12   \n",
       "7            7              0.649407     2015-12            2015-12   \n",
       "18           0              0.213566     2015-12            2015-12   \n",
       "25           0             -0.296374     2015-09            2015-09   \n",
       "26           0              0.211114     2015-11            2015-11   \n",
       "\n",
       "         negative  scale  \n",
       "0   Положительный      4  \n",
       "7   Положительный      5  \n",
       "18  Положительный      5  \n",
       "25  Положительный      5  \n",
       "26  Положительный      4  \n",
       "\n",
       "[5 rows x 24 columns]"
      ]
     },
     "execution_count": 313,
     "metadata": {},
     "output_type": "execute_result"
    }
   ],
   "source": [
    "tickets_with_score.head()"
   ]
  },
  {
   "cell_type": "code",
   "execution_count": 315,
   "metadata": {},
   "outputs": [],
   "source": [
    "need_loyal_users = tickets_with_score[['user_id','scale']].groupby('user_id').mean().reset_index()"
   ]
  },
  {
   "cell_type": "code",
   "execution_count": 319,
   "metadata": {},
   "outputs": [],
   "source": [
    "need_loyal_users['round_scale'] = need_loyal_users['scale'].apply(lambda x: np.round(x))"
   ]
  },
  {
   "cell_type": "code",
   "execution_count": 321,
   "metadata": {},
   "outputs": [],
   "source": [
    "need_loyal_users.to_csv('need_loyal_users.csv', index=False)"
   ]
  }
 ],
 "metadata": {
  "kernelspec": {
   "display_name": "Python 3",
   "language": "python",
   "name": "python3"
  },
  "language_info": {
   "codemirror_mode": {
    "name": "ipython",
    "version": 3
   },
   "file_extension": ".py",
   "mimetype": "text/x-python",
   "name": "python",
   "nbconvert_exporter": "python",
   "pygments_lexer": "ipython3",
   "version": "3.7.6"
  }
 },
 "nbformat": 4,
 "nbformat_minor": 4
}
